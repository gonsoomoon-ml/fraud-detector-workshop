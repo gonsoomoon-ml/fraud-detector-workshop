{
 "cells": [
  {
   "cell_type": "markdown",
   "id": "6826efe2",
   "metadata": {},
   "source": [
    "# Fraud Detection with XGBoost\n",
    "_**Using Gradient Boosted Trees to detect fraud activities**_\n",
    "\n",
    "---\n",
    "\n",
    "---\n",
    "\n",
    "### Setup\n",
    "_이 노트북은 ml.m5.4xlarge 에서 만들어지고 실행되었습니다._"
   ]
  },
  {
   "cell_type": "code",
   "execution_count": 1,
   "id": "b2cf2620",
   "metadata": {},
   "outputs": [
    {
     "name": "stdout",
     "output_type": "stream",
     "text": [
      "CPU times: user 3.53 s, sys: 3.34 s, total: 6.87 s\n",
      "Wall time: 589 ms\n"
     ]
    }
   ],
   "source": [
    "%%time\n",
    "import sagemaker\n",
    "from sagemaker import get_execution_role\n",
    "\n",
    "\n",
    "role = get_execution_role()"
   ]
  },
  {
   "cell_type": "code",
   "execution_count": 2,
   "id": "fb0964d8",
   "metadata": {},
   "outputs": [
    {
     "data": {
      "text/plain": [
       "'arn:aws:iam::806174985048:role/service-role/AmazonSageMaker-ExecutionRole-20201218T151409'"
      ]
     },
     "execution_count": 2,
     "metadata": {},
     "output_type": "execute_result"
    }
   ],
   "source": [
    "import boto3\n",
    "import os\n",
    "role"
   ]
  },
  {
   "cell_type": "code",
   "execution_count": 3,
   "id": "16c01943",
   "metadata": {},
   "outputs": [
    {
     "data": {
      "text/plain": [
       "'306986355934.dkr.ecr.ap-northeast-2.amazonaws.com/xgboost:1'"
      ]
     },
     "execution_count": 3,
     "metadata": {},
     "output_type": "execute_result"
    }
   ],
   "source": [
    "container = sagemaker.image_uris.retrieve(\"xgboost\", boto3.Session().region_name, \"1\")\n",
    "container"
   ]
  },
  {
   "cell_type": "markdown",
   "id": "c6f55611",
   "metadata": {},
   "source": [
    "#### XGBoost는 무엇일까요?\n",
    "\n",
    "XGBoost (익스트림 그래디언트 부스팅) 는 그라데이션 부스트 트리 알고리즘의 인기 있고 효율적인 오픈 소스 알고리즘입니다. 기울기 부스팅 (Gradient boosting) 은 더 단순하고 약한 모델 집합의 추정치를 결합하여 목표 변수를 정확하게 예측하려고 시도하는 기계 학습 알고리즘입니다. 확장성이 뛰어난 방식으로 의사 결정 트리 모델에 그라디언트 부스팅을 적용함으로써 XGBoost는 다양한 기계 학습 경쟁에서 현저하게 뛰어난 성능을 보여줍니다. 또한, 다양한 데이터 유형, 관계 및 분포를 강력하게 처리합니다. XGBoost는 모델 성능을 향상시키기 위해 조정할 수 있는 변수인 많은 하이퍼파라미터를 제공합니다. 이러한 유연성 덕분에 XGBoost는 다양한 기계 학습 문제를 해결할 수 있는 확실한 선택입니다.\n",
    "\n",
    "#### XGBoost로 해결되는 문제 및 사용 사례\n",
    "\n",
    "XGBoost가 가장 일반적으로 해결하는 세 가지 문제는 분류, 회귀 및 랭킹입니다.\n",
    "\n",
    "##### 분류\n",
    "\n",
    "분류의 목표는 입력 값을 가져와 둘 이상의 범주로 구성하는 것입니다. 분류 사용 사례의 예로는 Fraud Detector 가 있습니다. Fraud Detector 의 목표는 거래에 대한 정보를 가져와 거래가 사기인지 사기인지 아닌지를 판단하는 데 사용하는 것입니다. XGBoost에 과거 트랜잭션의 데이터 세트가 제공되고 사기인지 여부는 입력 트랜잭션 데이터를 트랜잭션이 사기성 확률에 매핑하는 함수를 배울 수 있습니다.\n",
    "\n",
    "#### 회귀\n",
    "\n",
    "회귀 분석에서는 입력값을 개별 개수의 클래스에 매핑하는 대신 숫자를 출력하는 것이 목표입니다. 회귀 문제의 예로는 주택이 판매될 가격을 예측하는 것입니다. 이 경우 XGBoost에 주택 및 판매 가격에 대한 과거 데이터가 제공되면 주택에 대한 해당 메타 데이터를 통해 주택의 판매 가격을 예측하는 함수를 배울 수 있습니다.\n",
    "\n",
    "#### 랭킹 \n",
    "\n",
    "쿼리와 문서 세트가 제공된다고 가정합니다. 랭킹에서의 목표는 문서의 상대적 중요도를 찾고 관련성에 따라 순서를 지정하는 것입니다. 랭킹의 사용 사례는 전자 상거래 웹 사이트에 대한 제품 검색입니다. 검색 결과, 클릭 수 및 성공적인 구매에 대한 데이터를 활용한 다음 학습에 XGBoost를 적용할 수 있습니다.이렇게 하면 검색된 제품에 대한 관련성 점수를 제공하는 모델이 생성됩니다.\n",
    "\n"
   ]
  },
  {
   "cell_type": "markdown",
   "id": "3c8ad0c6",
   "metadata": {},
   "source": [
    "_참조: https://aws.amazon.com/ko/blogs/machine-learning/simplify-machine-learning-with-xgboost-and-amazon-sagemaker/_\n"
   ]
  },
  {
   "cell_type": "markdown",
   "id": "8dc25791",
   "metadata": {},
   "source": [
    "_https://docs.aws.amazon.com/sagemaker/latest/dg/xgboost-HowItWorks.html_"
   ]
  },
  {
   "cell_type": "markdown",
   "id": "0b23c3e9",
   "metadata": {},
   "source": [
    "#### Data Bucket 설정"
   ]
  },
  {
   "cell_type": "code",
   "execution_count": 4,
   "id": "8af0bdaa",
   "metadata": {},
   "outputs": [],
   "source": [
    "bucket = 'yudong-data'\n",
    "prefix = 'afd/xgboost'\n",
    "raw_prefix = 'afd/raw'"
   ]
  },
  {
   "cell_type": "markdown",
   "id": "9e00ce2a",
   "metadata": {},
   "source": [
    "### Data check and set up\n",
    "\n",
    "데이터가 다운로드 받아지고 adTalking 이라는 폴더에 저장되어 있어야 하위 셀이 실행될 수 있습니다."
   ]
  },
  {
   "cell_type": "code",
   "execution_count": 5,
   "id": "5be79cd5",
   "metadata": {},
   "outputs": [],
   "source": [
    "import pandas as pd"
   ]
  },
  {
   "cell_type": "code",
   "execution_count": 6,
   "id": "b67ee88a",
   "metadata": {},
   "outputs": [
    {
     "name": "stdout",
     "output_type": "stream",
     "text": [
      "CPU times: user 1min 32s, sys: 16.4 s, total: 1min 49s\n",
      "Wall time: 2min 5s\n"
     ]
    },
    {
     "data": {
      "text/html": [
       "<div>\n",
       "<style scoped>\n",
       "    .dataframe tbody tr th:only-of-type {\n",
       "        vertical-align: middle;\n",
       "    }\n",
       "\n",
       "    .dataframe tbody tr th {\n",
       "        vertical-align: top;\n",
       "    }\n",
       "\n",
       "    .dataframe thead th {\n",
       "        text-align: right;\n",
       "    }\n",
       "</style>\n",
       "<table border=\"1\" class=\"dataframe\">\n",
       "  <thead>\n",
       "    <tr style=\"text-align: right;\">\n",
       "      <th></th>\n",
       "      <th>ip</th>\n",
       "      <th>app</th>\n",
       "      <th>device</th>\n",
       "      <th>os</th>\n",
       "      <th>channel</th>\n",
       "      <th>click_time</th>\n",
       "      <th>attributed_time</th>\n",
       "      <th>is_attributed</th>\n",
       "    </tr>\n",
       "  </thead>\n",
       "  <tbody>\n",
       "    <tr>\n",
       "      <th>0</th>\n",
       "      <td>83230</td>\n",
       "      <td>3</td>\n",
       "      <td>1</td>\n",
       "      <td>13</td>\n",
       "      <td>379</td>\n",
       "      <td>2017-11-06 14:32:21</td>\n",
       "      <td>NaN</td>\n",
       "      <td>0</td>\n",
       "    </tr>\n",
       "    <tr>\n",
       "      <th>1</th>\n",
       "      <td>17357</td>\n",
       "      <td>3</td>\n",
       "      <td>1</td>\n",
       "      <td>19</td>\n",
       "      <td>379</td>\n",
       "      <td>2017-11-06 14:33:34</td>\n",
       "      <td>NaN</td>\n",
       "      <td>0</td>\n",
       "    </tr>\n",
       "    <tr>\n",
       "      <th>2</th>\n",
       "      <td>35810</td>\n",
       "      <td>3</td>\n",
       "      <td>1</td>\n",
       "      <td>13</td>\n",
       "      <td>379</td>\n",
       "      <td>2017-11-06 14:34:12</td>\n",
       "      <td>NaN</td>\n",
       "      <td>0</td>\n",
       "    </tr>\n",
       "    <tr>\n",
       "      <th>3</th>\n",
       "      <td>45745</td>\n",
       "      <td>14</td>\n",
       "      <td>1</td>\n",
       "      <td>13</td>\n",
       "      <td>478</td>\n",
       "      <td>2017-11-06 14:34:52</td>\n",
       "      <td>NaN</td>\n",
       "      <td>0</td>\n",
       "    </tr>\n",
       "    <tr>\n",
       "      <th>4</th>\n",
       "      <td>161007</td>\n",
       "      <td>3</td>\n",
       "      <td>1</td>\n",
       "      <td>13</td>\n",
       "      <td>379</td>\n",
       "      <td>2017-11-06 14:35:08</td>\n",
       "      <td>NaN</td>\n",
       "      <td>0</td>\n",
       "    </tr>\n",
       "    <tr>\n",
       "      <th>...</th>\n",
       "      <td>...</td>\n",
       "      <td>...</td>\n",
       "      <td>...</td>\n",
       "      <td>...</td>\n",
       "      <td>...</td>\n",
       "      <td>...</td>\n",
       "      <td>...</td>\n",
       "      <td>...</td>\n",
       "    </tr>\n",
       "    <tr>\n",
       "      <th>184903885</th>\n",
       "      <td>121312</td>\n",
       "      <td>12</td>\n",
       "      <td>1</td>\n",
       "      <td>10</td>\n",
       "      <td>340</td>\n",
       "      <td>2017-11-09 16:00:00</td>\n",
       "      <td>NaN</td>\n",
       "      <td>0</td>\n",
       "    </tr>\n",
       "    <tr>\n",
       "      <th>184903886</th>\n",
       "      <td>46894</td>\n",
       "      <td>3</td>\n",
       "      <td>1</td>\n",
       "      <td>19</td>\n",
       "      <td>211</td>\n",
       "      <td>2017-11-09 16:00:00</td>\n",
       "      <td>NaN</td>\n",
       "      <td>0</td>\n",
       "    </tr>\n",
       "    <tr>\n",
       "      <th>184903887</th>\n",
       "      <td>320126</td>\n",
       "      <td>1</td>\n",
       "      <td>1</td>\n",
       "      <td>13</td>\n",
       "      <td>274</td>\n",
       "      <td>2017-11-09 16:00:00</td>\n",
       "      <td>NaN</td>\n",
       "      <td>0</td>\n",
       "    </tr>\n",
       "    <tr>\n",
       "      <th>184903888</th>\n",
       "      <td>189286</td>\n",
       "      <td>12</td>\n",
       "      <td>1</td>\n",
       "      <td>37</td>\n",
       "      <td>259</td>\n",
       "      <td>2017-11-09 16:00:00</td>\n",
       "      <td>NaN</td>\n",
       "      <td>0</td>\n",
       "    </tr>\n",
       "    <tr>\n",
       "      <th>184903889</th>\n",
       "      <td>106485</td>\n",
       "      <td>11</td>\n",
       "      <td>1</td>\n",
       "      <td>19</td>\n",
       "      <td>137</td>\n",
       "      <td>2017-11-09 16:00:00</td>\n",
       "      <td>NaN</td>\n",
       "      <td>0</td>\n",
       "    </tr>\n",
       "  </tbody>\n",
       "</table>\n",
       "<p>184903890 rows × 8 columns</p>\n",
       "</div>"
      ],
      "text/plain": [
       "               ip  app  device  os  channel          click_time  \\\n",
       "0           83230    3       1  13      379 2017-11-06 14:32:21   \n",
       "1           17357    3       1  19      379 2017-11-06 14:33:34   \n",
       "2           35810    3       1  13      379 2017-11-06 14:34:12   \n",
       "3           45745   14       1  13      478 2017-11-06 14:34:52   \n",
       "4          161007    3       1  13      379 2017-11-06 14:35:08   \n",
       "...           ...  ...     ...  ..      ...                 ...   \n",
       "184903885  121312   12       1  10      340 2017-11-09 16:00:00   \n",
       "184903886   46894    3       1  19      211 2017-11-09 16:00:00   \n",
       "184903887  320126    1       1  13      274 2017-11-09 16:00:00   \n",
       "184903888  189286   12       1  37      259 2017-11-09 16:00:00   \n",
       "184903889  106485   11       1  19      137 2017-11-09 16:00:00   \n",
       "\n",
       "          attributed_time  is_attributed  \n",
       "0                     NaN              0  \n",
       "1                     NaN              0  \n",
       "2                     NaN              0  \n",
       "3                     NaN              0  \n",
       "4                     NaN              0  \n",
       "...                   ...            ...  \n",
       "184903885             NaN              0  \n",
       "184903886             NaN              0  \n",
       "184903887             NaN              0  \n",
       "184903888             NaN              0  \n",
       "184903889             NaN              0  \n",
       "\n",
       "[184903890 rows x 8 columns]"
      ]
     },
     "execution_count": 6,
     "metadata": {},
     "output_type": "execute_result"
    }
   ],
   "source": [
    "%%time\n",
    "file = 'train.csv'\n",
    "data_folder = '../../../../data/AdTalking'\n",
    "\n",
    "file_path = os.path.join(data_folder, file)\n",
    "\n",
    "df = pd.read_csv(file_path, parse_dates=['click_time'])\n",
    "df"
   ]
  },
  {
   "cell_type": "code",
   "execution_count": 7,
   "id": "8396b777",
   "metadata": {},
   "outputs": [],
   "source": [
    "def drop_column(raw_df, col):\n",
    "    df = raw_df.drop(columns=[col])\n",
    "    return df\n",
    "\n",
    "df = drop_column(df, col='attributed_time')"
   ]
  },
  {
   "cell_type": "code",
   "execution_count": 8,
   "id": "76088862",
   "metadata": {},
   "outputs": [
    {
     "data": {
      "text/html": [
       "<div>\n",
       "<style scoped>\n",
       "    .dataframe tbody tr th:only-of-type {\n",
       "        vertical-align: middle;\n",
       "    }\n",
       "\n",
       "    .dataframe tbody tr th {\n",
       "        vertical-align: top;\n",
       "    }\n",
       "\n",
       "    .dataframe thead th {\n",
       "        text-align: right;\n",
       "    }\n",
       "</style>\n",
       "<table border=\"1\" class=\"dataframe\">\n",
       "  <thead>\n",
       "    <tr style=\"text-align: right;\">\n",
       "      <th></th>\n",
       "      <th>ip</th>\n",
       "      <th>app</th>\n",
       "      <th>device</th>\n",
       "      <th>os</th>\n",
       "      <th>channel</th>\n",
       "      <th>click_time</th>\n",
       "      <th>is_attributed</th>\n",
       "    </tr>\n",
       "  </thead>\n",
       "  <tbody>\n",
       "    <tr>\n",
       "      <th>0</th>\n",
       "      <td>83230</td>\n",
       "      <td>3</td>\n",
       "      <td>1</td>\n",
       "      <td>13</td>\n",
       "      <td>379</td>\n",
       "      <td>2017-11-06 14:32:21</td>\n",
       "      <td>0</td>\n",
       "    </tr>\n",
       "    <tr>\n",
       "      <th>1</th>\n",
       "      <td>17357</td>\n",
       "      <td>3</td>\n",
       "      <td>1</td>\n",
       "      <td>19</td>\n",
       "      <td>379</td>\n",
       "      <td>2017-11-06 14:33:34</td>\n",
       "      <td>0</td>\n",
       "    </tr>\n",
       "    <tr>\n",
       "      <th>2</th>\n",
       "      <td>35810</td>\n",
       "      <td>3</td>\n",
       "      <td>1</td>\n",
       "      <td>13</td>\n",
       "      <td>379</td>\n",
       "      <td>2017-11-06 14:34:12</td>\n",
       "      <td>0</td>\n",
       "    </tr>\n",
       "    <tr>\n",
       "      <th>3</th>\n",
       "      <td>45745</td>\n",
       "      <td>14</td>\n",
       "      <td>1</td>\n",
       "      <td>13</td>\n",
       "      <td>478</td>\n",
       "      <td>2017-11-06 14:34:52</td>\n",
       "      <td>0</td>\n",
       "    </tr>\n",
       "    <tr>\n",
       "      <th>4</th>\n",
       "      <td>161007</td>\n",
       "      <td>3</td>\n",
       "      <td>1</td>\n",
       "      <td>13</td>\n",
       "      <td>379</td>\n",
       "      <td>2017-11-06 14:35:08</td>\n",
       "      <td>0</td>\n",
       "    </tr>\n",
       "  </tbody>\n",
       "</table>\n",
       "</div>"
      ],
      "text/plain": [
       "       ip  app  device  os  channel          click_time  is_attributed\n",
       "0   83230    3       1  13      379 2017-11-06 14:32:21              0\n",
       "1   17357    3       1  19      379 2017-11-06 14:33:34              0\n",
       "2   35810    3       1  13      379 2017-11-06 14:34:12              0\n",
       "3   45745   14       1  13      478 2017-11-06 14:34:52              0\n",
       "4  161007    3       1  13      379 2017-11-06 14:35:08              0"
      ]
     },
     "execution_count": 8,
     "metadata": {},
     "output_type": "execute_result"
    }
   ],
   "source": [
    "df.head()"
   ]
  },
  {
   "cell_type": "code",
   "execution_count": 9,
   "id": "5b0a6cf8",
   "metadata": {},
   "outputs": [],
   "source": [
    "df = df.rename(columns={'is_attributed':'EVENT_LABEL'})    \n",
    "df = df.rename(columns={'click_time':'EVENT_TIMESTAMP'})"
   ]
  },
  {
   "cell_type": "code",
   "execution_count": 10,
   "id": "596b1441",
   "metadata": {},
   "outputs": [
    {
     "name": "stdout",
     "output_type": "stream",
     "text": [
      "min time:  2017-11-06 14:32:21\n",
      "max time:  2017-11-09 16:00:00\n"
     ]
    }
   ],
   "source": [
    "print(\"min time: \", df.EVENT_TIMESTAMP.min())\n",
    "print(\"max time: \", df.EVENT_TIMESTAMP.max())"
   ]
  },
  {
   "cell_type": "code",
   "execution_count": 11,
   "id": "d0933320",
   "metadata": {},
   "outputs": [
    {
     "name": "stdout",
     "output_type": "stream",
     "text": [
      "train sample shape:  (180000, 7)\n",
      "train min time:  2017-11-06 15:08:24\n",
      "train max time:  2017-11-08 23:58:58\n",
      "Train fraud ratio:  0.00242\n",
      "# of Train frauds:  435\n",
      "\n",
      "test sample shape:  (20000, 7)\n",
      "test min time:  2017-11-09 00:00:01\n",
      "test max time:  2017-11-09 15:59:58\n",
      "Test fraud ratio:  0.00275\n",
      "# of test frauds:  55\n"
     ]
    }
   ],
   "source": [
    "def split_data_by_time(df, target_col, label_col, total_samples, split_rate, train_end, test_start, verbose=False):\n",
    "    '''\n",
    "    시간 관점으로 번반부튼 훈련, 후반부는 테스트 데이터로 해서 샘블링 함.\n",
    "    '''\n",
    "    \n",
    "    # 훈련 데이터 셋\n",
    "    train_df = df[df[target_col] <= train_end]   \n",
    "    train_num = int(total_samples * (1 - split_rate))    # 훈련 샘플 데이터 수\n",
    "    train_sample = train_df.sample(n = train_num, random_state=100)    # 샘플링    \n",
    "\n",
    "    print(\"train sample shape: \", train_sample.shape)\n",
    "    print(\"train min time: \", train_sample[target_col].min())\n",
    "    print(\"train max time: \", train_sample[target_col].max())\n",
    "    print(\"Train fraud ratio: \", round(train_sample[label_col].value_counts()[1] / train_sample.shape[0],5))\n",
    "    print(\"# of Train frauds: \", train_sample[label_col].value_counts()[1])     \n",
    "\n",
    "\n",
    "    # 테스트 데이터 셋    \n",
    "    test_df = df[df[target_col] >= test_start]    \n",
    "    test_num = int(total_samples * (split_rate))    # 테스트 샘플 데이터 수\n",
    "    test_sample = test_df.sample(n = test_num, random_state=100)    \n",
    "    \n",
    "\n",
    "    print(\"\\ntest sample shape: \", test_sample.shape)    \n",
    "    print(\"test min time: \", test_sample[target_col].min())\n",
    "    print(\"test max time: \", test_sample[target_col].max())\n",
    "    print(\"Test fraud ratio: \", round(test_sample[label_col].value_counts()[1] / test_sample.shape[0],5))    \n",
    "    print(\"# of test frauds: \", test_sample[label_col].value_counts()[1])         \n",
    "    \n",
    "    \n",
    "    return train_sample, test_sample\n",
    "    \n",
    "train_df, test_df = split_data_by_time(\n",
    "                       df=df, \n",
    "                       target_col='EVENT_TIMESTAMP', \n",
    "                       label_col = 'EVENT_LABEL',\n",
    "                       total_samples=200000, \n",
    "                       split_rate=0.1, \n",
    "                       train_end='2017-11-08 23:59', \n",
    "                       test_start='2017-11-09 00:00',    \n",
    "                       verbose = True,\n",
    "                  )    "
   ]
  },
  {
   "cell_type": "code",
   "execution_count": 12,
   "id": "e56ed7b8",
   "metadata": {},
   "outputs": [
    {
     "data": {
      "text/html": [
       "<div>\n",
       "<style scoped>\n",
       "    .dataframe tbody tr th:only-of-type {\n",
       "        vertical-align: middle;\n",
       "    }\n",
       "\n",
       "    .dataframe tbody tr th {\n",
       "        vertical-align: top;\n",
       "    }\n",
       "\n",
       "    .dataframe thead th {\n",
       "        text-align: right;\n",
       "    }\n",
       "</style>\n",
       "<table border=\"1\" class=\"dataframe\">\n",
       "  <thead>\n",
       "    <tr style=\"text-align: right;\">\n",
       "      <th></th>\n",
       "      <th>ip</th>\n",
       "      <th>app</th>\n",
       "      <th>device</th>\n",
       "      <th>os</th>\n",
       "      <th>channel</th>\n",
       "      <th>EVENT_TIMESTAMP</th>\n",
       "      <th>EVENT_LABEL</th>\n",
       "    </tr>\n",
       "  </thead>\n",
       "  <tbody>\n",
       "    <tr>\n",
       "      <th>37517593</th>\n",
       "      <td>62184</td>\n",
       "      <td>13</td>\n",
       "      <td>1</td>\n",
       "      <td>19</td>\n",
       "      <td>477</td>\n",
       "      <td>2017-11-07 08:48:38</td>\n",
       "      <td>0</td>\n",
       "    </tr>\n",
       "    <tr>\n",
       "      <th>35544931</th>\n",
       "      <td>117038</td>\n",
       "      <td>11</td>\n",
       "      <td>1</td>\n",
       "      <td>19</td>\n",
       "      <td>173</td>\n",
       "      <td>2017-11-07 08:05:49</td>\n",
       "      <td>0</td>\n",
       "    </tr>\n",
       "    <tr>\n",
       "      <th>75642661</th>\n",
       "      <td>111102</td>\n",
       "      <td>27</td>\n",
       "      <td>1</td>\n",
       "      <td>13</td>\n",
       "      <td>153</td>\n",
       "      <td>2017-11-08 02:02:42</td>\n",
       "      <td>0</td>\n",
       "    </tr>\n",
       "    <tr>\n",
       "      <th>47714028</th>\n",
       "      <td>118315</td>\n",
       "      <td>3</td>\n",
       "      <td>1</td>\n",
       "      <td>19</td>\n",
       "      <td>205</td>\n",
       "      <td>2017-11-07 12:05:08</td>\n",
       "      <td>0</td>\n",
       "    </tr>\n",
       "    <tr>\n",
       "      <th>26703479</th>\n",
       "      <td>42280</td>\n",
       "      <td>32</td>\n",
       "      <td>1</td>\n",
       "      <td>13</td>\n",
       "      <td>376</td>\n",
       "      <td>2017-11-07 05:08:52</td>\n",
       "      <td>0</td>\n",
       "    </tr>\n",
       "  </tbody>\n",
       "</table>\n",
       "</div>"
      ],
      "text/plain": [
       "              ip  app  device  os  channel     EVENT_TIMESTAMP  EVENT_LABEL\n",
       "37517593   62184   13       1  19      477 2017-11-07 08:48:38            0\n",
       "35544931  117038   11       1  19      173 2017-11-07 08:05:49            0\n",
       "75642661  111102   27       1  13      153 2017-11-08 02:02:42            0\n",
       "47714028  118315    3       1  19      205 2017-11-07 12:05:08            0\n",
       "26703479   42280   32       1  13      376 2017-11-07 05:08:52            0"
      ]
     },
     "execution_count": 12,
     "metadata": {},
     "output_type": "execute_result"
    }
   ],
   "source": [
    "train_df.head()"
   ]
  },
  {
   "cell_type": "code",
   "execution_count": 13,
   "id": "c12d1684",
   "metadata": {},
   "outputs": [],
   "source": [
    "train = drop_column(train_df, col='EVENT_TIMESTAMP')"
   ]
  },
  {
   "cell_type": "code",
   "execution_count": 14,
   "id": "075e0a2b",
   "metadata": {},
   "outputs": [
    {
     "data": {
      "text/html": [
       "<div>\n",
       "<style scoped>\n",
       "    .dataframe tbody tr th:only-of-type {\n",
       "        vertical-align: middle;\n",
       "    }\n",
       "\n",
       "    .dataframe tbody tr th {\n",
       "        vertical-align: top;\n",
       "    }\n",
       "\n",
       "    .dataframe thead th {\n",
       "        text-align: right;\n",
       "    }\n",
       "</style>\n",
       "<table border=\"1\" class=\"dataframe\">\n",
       "  <thead>\n",
       "    <tr style=\"text-align: right;\">\n",
       "      <th></th>\n",
       "      <th>ip</th>\n",
       "      <th>app</th>\n",
       "      <th>device</th>\n",
       "      <th>os</th>\n",
       "      <th>channel</th>\n",
       "      <th>EVENT_LABEL</th>\n",
       "    </tr>\n",
       "  </thead>\n",
       "  <tbody>\n",
       "    <tr>\n",
       "      <th>37517593</th>\n",
       "      <td>62184</td>\n",
       "      <td>13</td>\n",
       "      <td>1</td>\n",
       "      <td>19</td>\n",
       "      <td>477</td>\n",
       "      <td>0</td>\n",
       "    </tr>\n",
       "    <tr>\n",
       "      <th>35544931</th>\n",
       "      <td>117038</td>\n",
       "      <td>11</td>\n",
       "      <td>1</td>\n",
       "      <td>19</td>\n",
       "      <td>173</td>\n",
       "      <td>0</td>\n",
       "    </tr>\n",
       "    <tr>\n",
       "      <th>75642661</th>\n",
       "      <td>111102</td>\n",
       "      <td>27</td>\n",
       "      <td>1</td>\n",
       "      <td>13</td>\n",
       "      <td>153</td>\n",
       "      <td>0</td>\n",
       "    </tr>\n",
       "    <tr>\n",
       "      <th>47714028</th>\n",
       "      <td>118315</td>\n",
       "      <td>3</td>\n",
       "      <td>1</td>\n",
       "      <td>19</td>\n",
       "      <td>205</td>\n",
       "      <td>0</td>\n",
       "    </tr>\n",
       "    <tr>\n",
       "      <th>26703479</th>\n",
       "      <td>42280</td>\n",
       "      <td>32</td>\n",
       "      <td>1</td>\n",
       "      <td>13</td>\n",
       "      <td>376</td>\n",
       "      <td>0</td>\n",
       "    </tr>\n",
       "  </tbody>\n",
       "</table>\n",
       "</div>"
      ],
      "text/plain": [
       "              ip  app  device  os  channel  EVENT_LABEL\n",
       "37517593   62184   13       1  19      477            0\n",
       "35544931  117038   11       1  19      173            0\n",
       "75642661  111102   27       1  13      153            0\n",
       "47714028  118315    3       1  19      205            0\n",
       "26703479   42280   32       1  13      376            0"
      ]
     },
     "execution_count": 14,
     "metadata": {},
     "output_type": "execute_result"
    }
   ],
   "source": [
    "train.head()"
   ]
  },
  {
   "cell_type": "code",
   "execution_count": 15,
   "id": "90847111",
   "metadata": {},
   "outputs": [],
   "source": [
    "test = drop_column(test_df, col='EVENT_TIMESTAMP')"
   ]
  },
  {
   "cell_type": "code",
   "execution_count": 16,
   "id": "072b6778",
   "metadata": {},
   "outputs": [
    {
     "data": {
      "text/html": [
       "<div>\n",
       "<style scoped>\n",
       "    .dataframe tbody tr th:only-of-type {\n",
       "        vertical-align: middle;\n",
       "    }\n",
       "\n",
       "    .dataframe tbody tr th {\n",
       "        vertical-align: top;\n",
       "    }\n",
       "\n",
       "    .dataframe thead th {\n",
       "        text-align: right;\n",
       "    }\n",
       "</style>\n",
       "<table border=\"1\" class=\"dataframe\">\n",
       "  <thead>\n",
       "    <tr style=\"text-align: right;\">\n",
       "      <th></th>\n",
       "      <th>ip</th>\n",
       "      <th>app</th>\n",
       "      <th>device</th>\n",
       "      <th>os</th>\n",
       "      <th>channel</th>\n",
       "      <th>EVENT_LABEL</th>\n",
       "    </tr>\n",
       "  </thead>\n",
       "  <tbody>\n",
       "    <tr>\n",
       "      <th>149521552</th>\n",
       "      <td>12461</td>\n",
       "      <td>9</td>\n",
       "      <td>1</td>\n",
       "      <td>13</td>\n",
       "      <td>244</td>\n",
       "      <td>0</td>\n",
       "    </tr>\n",
       "    <tr>\n",
       "      <th>175483793</th>\n",
       "      <td>108341</td>\n",
       "      <td>2</td>\n",
       "      <td>1</td>\n",
       "      <td>18</td>\n",
       "      <td>205</td>\n",
       "      <td>0</td>\n",
       "    </tr>\n",
       "    <tr>\n",
       "      <th>166366187</th>\n",
       "      <td>42699</td>\n",
       "      <td>12</td>\n",
       "      <td>1</td>\n",
       "      <td>19</td>\n",
       "      <td>178</td>\n",
       "      <td>0</td>\n",
       "    </tr>\n",
       "    <tr>\n",
       "      <th>174813045</th>\n",
       "      <td>91988</td>\n",
       "      <td>18</td>\n",
       "      <td>1</td>\n",
       "      <td>19</td>\n",
       "      <td>121</td>\n",
       "      <td>0</td>\n",
       "    </tr>\n",
       "    <tr>\n",
       "      <th>150467630</th>\n",
       "      <td>284677</td>\n",
       "      <td>12</td>\n",
       "      <td>1</td>\n",
       "      <td>18</td>\n",
       "      <td>481</td>\n",
       "      <td>0</td>\n",
       "    </tr>\n",
       "  </tbody>\n",
       "</table>\n",
       "</div>"
      ],
      "text/plain": [
       "               ip  app  device  os  channel  EVENT_LABEL\n",
       "149521552   12461    9       1  13      244            0\n",
       "175483793  108341    2       1  18      205            0\n",
       "166366187   42699   12       1  19      178            0\n",
       "174813045   91988   18       1  19      121            0\n",
       "150467630  284677   12       1  18      481            0"
      ]
     },
     "execution_count": 16,
     "metadata": {},
     "output_type": "execute_result"
    }
   ],
   "source": [
    "test.head()"
   ]
  },
  {
   "cell_type": "code",
   "execution_count": 17,
   "id": "ae0daae7",
   "metadata": {},
   "outputs": [],
   "source": [
    "import sys\n",
    "\n",
    "module_path = os.path.abspath(os.path.join('../../'))"
   ]
  },
  {
   "cell_type": "code",
   "execution_count": 18,
   "id": "5fded2b1",
   "metadata": {},
   "outputs": [],
   "source": [
    "if module_path not in sys.path:\n",
    "    sys.path.append(module_path+\"/afd\")"
   ]
  },
  {
   "cell_type": "code",
   "execution_count": 19,
   "id": "ab3f2ce3",
   "metadata": {},
   "outputs": [
    {
     "name": "stderr",
     "output_type": "stream",
     "text": [
      "Matplotlib is building the font cache; this may take a moment.\n"
     ]
    },
    {
     "name": "stdout",
     "output_type": "stream",
     "text": [
      "data/train/train-180000.csv is saved\n",
      "train_local_path:  data/train/train-180000.csv\n",
      "data/test/test-20000.csv is saved\n",
      "test_local_path:  data/test/test-20000.csv\n"
     ]
    }
   ],
   "source": [
    "from src.p_utils import save_csv_local\n",
    "\n",
    "train_file_name = 'train-' + str(train.shape[0]) + \".csv\"\n",
    "train_local_path = save_csv_local(raw_df=train, preproc_folder='data/train', \n",
    "                                  label='EVENT_LABEL', file_name=train_file_name)\n",
    "print(\"train_local_path: \", train_local_path)\n",
    "\n",
    "test_file_name = 'test-' + str(test.shape[0]) + \".csv\"\n",
    "test_local_path = save_csv_local(raw_df=test, preproc_folder='data/test', \n",
    "                                  label='EVENT_LABEL', file_name=test_file_name)\n",
    "print(\"test_local_path: \", test_local_path)"
   ]
  },
  {
   "cell_type": "code",
   "execution_count": 20,
   "id": "287d2e6e",
   "metadata": {},
   "outputs": [],
   "source": [
    "boto3.Session().resource(\"s3\").Bucket(bucket).Object(\n",
    "    os.path.join(raw_prefix, \"train/train.csv\")\n",
    ").upload_file(train_local_path)\n",
    "boto3.Session().resource(\"s3\").Bucket(bucket).Object(\n",
    "    os.path.join(raw_prefix, \"validation/validation.csv\")\n",
    ").upload_file(test_local_path)"
   ]
  },
  {
   "cell_type": "code",
   "execution_count": 21,
   "id": "3301015a",
   "metadata": {},
   "outputs": [],
   "source": [
    "train_raw_df = pd.read_csv('s3://yudong-data/afd/raw/train/train.csv')"
   ]
  },
  {
   "cell_type": "code",
   "execution_count": 22,
   "id": "88c65d31",
   "metadata": {},
   "outputs": [],
   "source": [
    "test_raw_df = pd.read_csv('s3://yudong-data/afd/raw/validation/validation.csv')"
   ]
  },
  {
   "cell_type": "code",
   "execution_count": 23,
   "id": "446188fd",
   "metadata": {},
   "outputs": [],
   "source": [
    "train_raw_df.to_csv(\"train.csv\", header=False, index=False)\n",
    "test_raw_df.to_csv(\"validation.csv\", header=False, index=False)"
   ]
  },
  {
   "cell_type": "code",
   "execution_count": 24,
   "id": "0bbdc2c0",
   "metadata": {},
   "outputs": [],
   "source": [
    "boto3.Session().resource(\"s3\").Bucket(bucket).Object(\n",
    "    os.path.join(prefix, \"train/train.csv\")\n",
    ").upload_file('train.csv')\n",
    "boto3.Session().resource(\"s3\").Bucket(bucket).Object(\n",
    "    os.path.join(prefix, \"validation/validation.csv\")\n",
    ").upload_file('validation.csv')"
   ]
  },
  {
   "cell_type": "code",
   "execution_count": 25,
   "id": "a3836fb9",
   "metadata": {},
   "outputs": [],
   "source": [
    "from sagemaker.inputs import TrainingInput"
   ]
  },
  {
   "cell_type": "code",
   "execution_count": 26,
   "id": "1bf5fef1",
   "metadata": {},
   "outputs": [],
   "source": [
    "s3_input_train = TrainingInput(\n",
    "    s3_data=\"s3://{}/{}/train\".format(bucket, prefix), content_type=\"text/csv\"\n",
    ")\n",
    "s3_input_validation = TrainingInput(\n",
    "    s3_data=\"s3://{}/{}/validation/\".format(bucket, prefix), content_type=\"text/csv\"\n",
    ")"
   ]
  },
  {
   "cell_type": "code",
   "execution_count": 27,
   "id": "8e25bf4a",
   "metadata": {},
   "outputs": [],
   "source": [
    "data_channels = {\"train\": s3_input_train}"
   ]
  },
  {
   "cell_type": "code",
   "execution_count": 28,
   "id": "485fea81",
   "metadata": {},
   "outputs": [],
   "source": [
    "sess = sagemaker.Session()\n",
    "\n",
    "xgb = sagemaker.estimator.Estimator(\n",
    "    container,\n",
    "    role,\n",
    "    instance_count=1,\n",
    "    instance_type=\"ml.m4.xlarge\",\n",
    "    output_path=\"s3://{}/{}/output\".format(bucket, prefix),\n",
    "    sagemaker_session=sess,\n",
    ")"
   ]
  },
  {
   "cell_type": "code",
   "execution_count": 29,
   "id": "dd4eb7f1",
   "metadata": {},
   "outputs": [],
   "source": [
    "xgb.set_hyperparameters(\n",
    "    max_depth=5,\n",
    "    eta=0.2,\n",
    "    gamma=4,\n",
    "    min_child_weight=6,\n",
    "    subsample=0.8,\n",
    "    silent=0,\n",
    "    objective=\"binary:logistic\",\n",
    "    num_round=100,\n",
    ")"
   ]
  },
  {
   "cell_type": "code",
   "execution_count": 32,
   "id": "b2274f0b",
   "metadata": {},
   "outputs": [],
   "source": [
    "from sagemaker.tuner import IntegerParameter, ContinuousParameter, HyperparameterTuner\n",
    "\n",
    "xgb_hyperparameter_tuner = HyperparameterTuner(estimator = xgb, # The estimator object to use as the basis for the training jobs.\n",
    "                                               objective_metric_name = 'validation:auc', # The metric used to compare trained models.\n",
    "                                               objective_type = 'Maximize', # Whether we wish to minimize or maximize the metric.\n",
    "                                               max_jobs = 20, # The total number of models to train\n",
    "                                               max_parallel_jobs = 3, # The number of models to train in parallel\n",
    "                                               hyperparameter_ranges = {\n",
    "                                                    'max_depth': IntegerParameter(1, 5),\n",
    "                                                    'eta'      : ContinuousParameter(0.2, 0.5),\n",
    "                                                    'min_child_weight': IntegerParameter(6, 8),\n",
    "                                                    'subsample': ContinuousParameter(0.8, 0.9),\n",
    "                                                    'gamma': ContinuousParameter(0, 5),\n",
    "                                               })"
   ]
  },
  {
   "cell_type": "code",
   "execution_count": null,
   "id": "d7933d6f",
   "metadata": {},
   "outputs": [],
   "source": [
    "xgb_hyperparameter_tuner.fit(inputs = data_channels)"
   ]
  },
  {
   "cell_type": "code",
   "execution_count": null,
   "id": "5e3f03ba",
   "metadata": {},
   "outputs": [],
   "source": [
    "xgb_hyperparameter_tuner.wait()"
   ]
  },
  {
   "cell_type": "code",
   "execution_count": null,
   "id": "4abfd6ae",
   "metadata": {},
   "outputs": [],
   "source": [
    "xgb_hyperparameter_tuner.best_training_job()"
   ]
  },
  {
   "cell_type": "code",
   "execution_count": 43,
   "id": "6b70bd62",
   "metadata": {},
   "outputs": [],
   "source": [
    "from sagemaker.serializers import CSVSerializer"
   ]
  },
  {
   "cell_type": "code",
   "execution_count": null,
   "id": "8083bd58",
   "metadata": {},
   "outputs": [],
   "source": [
    "xgb_attached = sagemaker.estimator.Estimator.attach(xgb_hyperparameter_tuner.best_training_job())"
   ]
  },
  {
   "cell_type": "code",
   "execution_count": null,
   "id": "d9245b71",
   "metadata": {},
   "outputs": [],
   "source": [
    "xgb_predictor = xgb_attached.deploy(initial_instance_count=1, instance_type='ml.m4.xlarge', serializer=CSVSerializer())"
   ]
  },
  {
   "cell_type": "markdown",
   "id": "b5a42c30",
   "metadata": {},
   "source": [
    "### Evaluate"
   ]
  },
  {
   "cell_type": "code",
   "execution_count": 45,
   "id": "87794f16",
   "metadata": {},
   "outputs": [],
   "source": [
    "import numpy as np"
   ]
  },
  {
   "cell_type": "code",
   "execution_count": 46,
   "id": "8c4bf0c3",
   "metadata": {},
   "outputs": [],
   "source": [
    "test_data = pd.read_csv('validation.csv')"
   ]
  },
  {
   "cell_type": "code",
   "execution_count": 47,
   "id": "4b056be9",
   "metadata": {},
   "outputs": [
    {
     "data": {
      "text/plain": [
       "array([0.00015702, 0.00027032, 0.00043463, ..., 0.00019873, 0.00207294,\n",
       "       0.00040536])"
      ]
     },
     "execution_count": 47,
     "metadata": {},
     "output_type": "execute_result"
    }
   ],
   "source": [
    "def predict(data, rows=500):\n",
    "    split_array = np.array_split(data, int(data.shape[0] / float(rows) + 1))\n",
    "    predictions = ''\n",
    "    for array in split_array:\n",
    "        predictions = ','.join([predictions, xgb_predictor.predict(array).decode('utf-8')])\n",
    "\n",
    "    return np.fromstring(predictions[1:], sep=',')\n",
    "\n",
    "predictions = predict(test_data.to_numpy()[:,1:])\n",
    "predictions"
   ]
  },
  {
   "cell_type": "code",
   "execution_count": 48,
   "id": "39d2706a",
   "metadata": {},
   "outputs": [
    {
     "data": {
      "text/html": [
       "<div>\n",
       "<style scoped>\n",
       "    .dataframe tbody tr th:only-of-type {\n",
       "        vertical-align: middle;\n",
       "    }\n",
       "\n",
       "    .dataframe tbody tr th {\n",
       "        vertical-align: top;\n",
       "    }\n",
       "\n",
       "    .dataframe thead th {\n",
       "        text-align: right;\n",
       "    }\n",
       "</style>\n",
       "<table border=\"1\" class=\"dataframe\">\n",
       "  <thead>\n",
       "    <tr style=\"text-align: right;\">\n",
       "      <th>predictions</th>\n",
       "      <th>0.0</th>\n",
       "      <th>1.0</th>\n",
       "    </tr>\n",
       "    <tr>\n",
       "      <th>actual</th>\n",
       "      <th></th>\n",
       "      <th></th>\n",
       "    </tr>\n",
       "  </thead>\n",
       "  <tbody>\n",
       "    <tr>\n",
       "      <th>0</th>\n",
       "      <td>19932</td>\n",
       "      <td>12</td>\n",
       "    </tr>\n",
       "    <tr>\n",
       "      <th>1</th>\n",
       "      <td>41</td>\n",
       "      <td>14</td>\n",
       "    </tr>\n",
       "  </tbody>\n",
       "</table>\n",
       "</div>"
      ],
      "text/plain": [
       "predictions    0.0  1.0\n",
       "actual                 \n",
       "0            19932   12\n",
       "1               41   14"
      ]
     },
     "execution_count": 48,
     "metadata": {},
     "output_type": "execute_result"
    }
   ],
   "source": [
    "pd.crosstab(\n",
    "    index=test_data.iloc[:, 0],\n",
    "    columns=np.round(predictions),\n",
    "    rownames=[\"actual\"],\n",
    "    colnames=[\"predictions\"],\n",
    ")"
   ]
  },
  {
   "cell_type": "markdown",
   "id": "b5689ebd",
   "metadata": {},
   "source": [
    "### (Optional) Clean-up\n",
    "\n",
    "이 노트북을 다 사용하였다면 아래 셀을 실행하십시오. 이렇게 하면 생성한 호스팅 엔드포인트가 제거되고 생성된 인스턴스로 인한 요금이 발생하지 않습니다."
   ]
  },
  {
   "cell_type": "code",
   "execution_count": 49,
   "id": "aa25a301",
   "metadata": {},
   "outputs": [],
   "source": [
    "xgb_predictor.delete_endpoint()"
   ]
  },
  {
   "cell_type": "code",
   "execution_count": null,
   "id": "eabe7679",
   "metadata": {},
   "outputs": [],
   "source": []
  }
 ],
 "metadata": {
  "kernelspec": {
   "display_name": "conda_python3",
   "language": "python",
   "name": "conda_python3"
  },
  "language_info": {
   "codemirror_mode": {
    "name": "ipython",
    "version": 3
   },
   "file_extension": ".py",
   "mimetype": "text/x-python",
   "name": "python",
   "nbconvert_exporter": "python",
   "pygments_lexer": "ipython3",
   "version": "3.6.13"
  }
 },
 "nbformat": 4,
 "nbformat_minor": 5
}

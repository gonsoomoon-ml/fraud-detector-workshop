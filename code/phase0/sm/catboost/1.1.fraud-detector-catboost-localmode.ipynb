{
 "cells": [
  {
   "cell_type": "markdown",
   "id": "1ef389ad",
   "metadata": {},
   "source": [
    "# [Module] CatBoost 로 훈련 및 추론\n",
    "\n",
    "이 노트북은 주로 아래와 같은 작업을 합니다.\n",
    "\n",
    "---\n"
   ]
  },
  {
   "cell_type": "markdown",
   "id": "58377022",
   "metadata": {},
   "source": [
    "# 1. 환경 셋업\n",
    "- 아래는 파이썬 캐키지를 임포트할때에 캐싱된 것을 사용하지 않고, 매번 리로딩 하는 세팅 입니다."
   ]
  },
  {
   "cell_type": "code",
   "execution_count": 1,
   "id": "b423b653",
   "metadata": {},
   "outputs": [],
   "source": [
    "%load_ext autoreload\n",
    "%autoreload 2"
   ]
  },
  {
   "cell_type": "code",
   "execution_count": 2,
   "id": "92ed55db",
   "metadata": {},
   "outputs": [],
   "source": [
    "%store -r"
   ]
  },
  {
   "cell_type": "code",
   "execution_count": 3,
   "id": "dfa27e9c",
   "metadata": {},
   "outputs": [],
   "source": [
    "import pandas as pd\n",
    "pd.options.display.max_rows=200\n",
    "from IPython.display import display as dp\n",
    "\n",
    "import os, sys\n",
    "import boto3\n",
    "import sagemaker\n",
    "\n",
    "from sagemaker import get_execution_role\n",
    "\n",
    "role = get_execution_role()\n",
    "\n"
   ]
  },
  {
   "cell_type": "markdown",
   "id": "6a5c8f1a",
   "metadata": {},
   "source": [
    "# 2. 훈련 데이터 로딩 및 데이터 정리\n",
    "- 아래는 데이터 로딩을 위해서 9.6 GB 가 필요합니다. 메모리 할당 에러가 나면 다른 노트북의 커널 세션을 삭제하고 해보세요. 그래도 안되면 메모리가 많은 노트북 인스턴스에서 다시 하시기 바랍니다."
   ]
  },
  {
   "cell_type": "code",
   "execution_count": 4,
   "id": "0f2e3024",
   "metadata": {},
   "outputs": [],
   "source": [
    "full_local_path = '../../prepare_data/data/full/full-1849039.pkl'"
   ]
  },
  {
   "cell_type": "code",
   "execution_count": 5,
   "id": "bb94890b",
   "metadata": {},
   "outputs": [
    {
     "name": "stdout",
     "output_type": "stream",
     "text": [
      "CPU times: user 823 ms, sys: 367 ms, total: 1.19 s\n",
      "Wall time: 1.19 s\n"
     ]
    },
    {
     "data": {
      "text/html": [
       "<div>\n",
       "<style scoped>\n",
       "    .dataframe tbody tr th:only-of-type {\n",
       "        vertical-align: middle;\n",
       "    }\n",
       "\n",
       "    .dataframe tbody tr th {\n",
       "        vertical-align: top;\n",
       "    }\n",
       "\n",
       "    .dataframe thead th {\n",
       "        text-align: right;\n",
       "    }\n",
       "</style>\n",
       "<table border=\"1\" class=\"dataframe\">\n",
       "  <thead>\n",
       "    <tr style=\"text-align: right;\">\n",
       "      <th></th>\n",
       "      <th>EVENT_LABEL</th>\n",
       "      <th>str_ip</th>\n",
       "      <th>str_app</th>\n",
       "      <th>str_device</th>\n",
       "      <th>str_os</th>\n",
       "      <th>str_channel</th>\n",
       "      <th>EVENT_TIMESTAMP</th>\n",
       "      <th>EVENT_TIMESTAMP_SIMPLE</th>\n",
       "    </tr>\n",
       "  </thead>\n",
       "  <tbody>\n",
       "    <tr>\n",
       "      <th>71816445</th>\n",
       "      <td>0</td>\n",
       "      <td>str_103106</td>\n",
       "      <td>str_3</td>\n",
       "      <td>str_1</td>\n",
       "      <td>str_13</td>\n",
       "      <td>str_371</td>\n",
       "      <td>2017-11-08 00:49:06</td>\n",
       "      <td>2017-11-08 00:00:00</td>\n",
       "    </tr>\n",
       "    <tr>\n",
       "      <th>118420665</th>\n",
       "      <td>0</td>\n",
       "      <td>str_83928</td>\n",
       "      <td>str_3</td>\n",
       "      <td>str_1</td>\n",
       "      <td>str_19</td>\n",
       "      <td>str_417</td>\n",
       "      <td>2017-11-08 14:54:59</td>\n",
       "      <td>2017-11-08 14:00:00</td>\n",
       "    </tr>\n",
       "    <tr>\n",
       "      <th>2983188</th>\n",
       "      <td>0</td>\n",
       "      <td>str_36150</td>\n",
       "      <td>str_15</td>\n",
       "      <td>str_2</td>\n",
       "      <td>str_49</td>\n",
       "      <td>str_3</td>\n",
       "      <td>2017-11-06 17:27:10</td>\n",
       "      <td>2017-11-06 17:00:00</td>\n",
       "    </tr>\n",
       "    <tr>\n",
       "      <th>111499266</th>\n",
       "      <td>0</td>\n",
       "      <td>str_40056</td>\n",
       "      <td>str_26</td>\n",
       "      <td>str_1</td>\n",
       "      <td>str_18</td>\n",
       "      <td>str_477</td>\n",
       "      <td>2017-11-08 13:00:46</td>\n",
       "      <td>2017-11-08 13:00:00</td>\n",
       "    </tr>\n",
       "    <tr>\n",
       "      <th>1598682</th>\n",
       "      <td>0</td>\n",
       "      <td>str_39081</td>\n",
       "      <td>str_18</td>\n",
       "      <td>str_1</td>\n",
       "      <td>str_8</td>\n",
       "      <td>str_107</td>\n",
       "      <td>2017-11-06 16:37:52</td>\n",
       "      <td>2017-11-06 16:00:00</td>\n",
       "    </tr>\n",
       "  </tbody>\n",
       "</table>\n",
       "</div>"
      ],
      "text/plain": [
       "           EVENT_LABEL      str_ip str_app str_device  str_os str_channel  \\\n",
       "71816445             0  str_103106   str_3      str_1  str_13     str_371   \n",
       "118420665            0   str_83928   str_3      str_1  str_19     str_417   \n",
       "2983188              0   str_36150  str_15      str_2  str_49       str_3   \n",
       "111499266            0   str_40056  str_26      str_1  str_18     str_477   \n",
       "1598682              0   str_39081  str_18      str_1   str_8     str_107   \n",
       "\n",
       "              EVENT_TIMESTAMP EVENT_TIMESTAMP_SIMPLE  \n",
       "71816445  2017-11-08 00:49:06    2017-11-08 00:00:00  \n",
       "118420665 2017-11-08 14:54:59    2017-11-08 14:00:00  \n",
       "2983188   2017-11-06 17:27:10    2017-11-06 17:00:00  \n",
       "111499266 2017-11-08 13:00:46    2017-11-08 13:00:00  \n",
       "1598682   2017-11-06 16:37:52    2017-11-06 16:00:00  "
      ]
     },
     "execution_count": 5,
     "metadata": {},
     "output_type": "execute_result"
    }
   ],
   "source": [
    "%%time\n",
    "file_path = full_local_path\n",
    "\n",
    "df = pd.read_pickle(file_path)\n",
    "df.head()"
   ]
  },
  {
   "cell_type": "code",
   "execution_count": 6,
   "id": "2bafb256",
   "metadata": {},
   "outputs": [],
   "source": [
    "sys.path.append('../../prepare_data/src')\n",
    "from p_utils import drop_column, change_code_to_string"
   ]
  },
  {
   "cell_type": "code",
   "execution_count": 7,
   "id": "391c32da",
   "metadata": {},
   "outputs": [],
   "source": [
    "def create_hour_feature(df, src_col, new_col):\n",
    "    fdf = df.copy()\n",
    "    fdf.insert(len(fdf.columns),column=new_col, value=fdf[src_col].apply(lambda x: x.hour))        \n",
    "    \n",
    "    return fdf\n",
    "    \n",
    "df = create_hour_feature(df, src_col='EVENT_TIMESTAMP_SIMPLE', \n",
    "                         new_col='EVENT_HOUR')    \n",
    "df = change_code_to_string(df, col='EVENT_HOUR', new_col='STR_EVENT_HOUR', verbose=False)\n"
   ]
  },
  {
   "cell_type": "code",
   "execution_count": 8,
   "id": "0a3c9e88",
   "metadata": {},
   "outputs": [
    {
     "data": {
      "text/html": [
       "<div>\n",
       "<style scoped>\n",
       "    .dataframe tbody tr th:only-of-type {\n",
       "        vertical-align: middle;\n",
       "    }\n",
       "\n",
       "    .dataframe tbody tr th {\n",
       "        vertical-align: top;\n",
       "    }\n",
       "\n",
       "    .dataframe thead th {\n",
       "        text-align: right;\n",
       "    }\n",
       "</style>\n",
       "<table border=\"1\" class=\"dataframe\">\n",
       "  <thead>\n",
       "    <tr style=\"text-align: right;\">\n",
       "      <th></th>\n",
       "      <th>EVENT_LABEL</th>\n",
       "      <th>str_ip</th>\n",
       "      <th>str_app</th>\n",
       "      <th>str_device</th>\n",
       "      <th>str_os</th>\n",
       "      <th>str_channel</th>\n",
       "      <th>EVENT_TIMESTAMP</th>\n",
       "      <th>EVENT_TIMESTAMP_SIMPLE</th>\n",
       "      <th>STR_EVENT_HOUR</th>\n",
       "    </tr>\n",
       "  </thead>\n",
       "  <tbody>\n",
       "    <tr>\n",
       "      <th>9889166</th>\n",
       "      <td>0</td>\n",
       "      <td>str_10</td>\n",
       "      <td>str_1</td>\n",
       "      <td>str_1</td>\n",
       "      <td>str_11</td>\n",
       "      <td>str_118</td>\n",
       "      <td>2017-11-07 00:10:14</td>\n",
       "      <td>2017-11-07 00:00:00</td>\n",
       "      <td>str_0</td>\n",
       "    </tr>\n",
       "    <tr>\n",
       "      <th>9905499</th>\n",
       "      <td>0</td>\n",
       "      <td>str_10</td>\n",
       "      <td>str_8</td>\n",
       "      <td>str_1</td>\n",
       "      <td>str_11</td>\n",
       "      <td>str_145</td>\n",
       "      <td>2017-11-07 00:10:30</td>\n",
       "      <td>2017-11-07 00:00:00</td>\n",
       "      <td>str_0</td>\n",
       "    </tr>\n",
       "    <tr>\n",
       "      <th>14494365</th>\n",
       "      <td>0</td>\n",
       "      <td>str_10</td>\n",
       "      <td>str_12</td>\n",
       "      <td>str_1</td>\n",
       "      <td>str_11</td>\n",
       "      <td>str_265</td>\n",
       "      <td>2017-11-07 01:28:03</td>\n",
       "      <td>2017-11-07 01:00:00</td>\n",
       "      <td>str_1</td>\n",
       "    </tr>\n",
       "    <tr>\n",
       "      <th>14939653</th>\n",
       "      <td>0</td>\n",
       "      <td>str_10</td>\n",
       "      <td>str_15</td>\n",
       "      <td>str_1</td>\n",
       "      <td>str_22</td>\n",
       "      <td>str_278</td>\n",
       "      <td>2017-11-07 01:36:08</td>\n",
       "      <td>2017-11-07 01:00:00</td>\n",
       "      <td>str_1</td>\n",
       "    </tr>\n",
       "    <tr>\n",
       "      <th>15005081</th>\n",
       "      <td>0</td>\n",
       "      <td>str_10</td>\n",
       "      <td>str_11</td>\n",
       "      <td>str_1</td>\n",
       "      <td>str_22</td>\n",
       "      <td>str_319</td>\n",
       "      <td>2017-11-07 01:37:19</td>\n",
       "      <td>2017-11-07 01:00:00</td>\n",
       "      <td>str_1</td>\n",
       "    </tr>\n",
       "    <tr>\n",
       "      <th>15453752</th>\n",
       "      <td>0</td>\n",
       "      <td>str_10</td>\n",
       "      <td>str_8</td>\n",
       "      <td>str_1</td>\n",
       "      <td>str_11</td>\n",
       "      <td>str_145</td>\n",
       "      <td>2017-11-07 01:45:20</td>\n",
       "      <td>2017-11-07 01:00:00</td>\n",
       "      <td>str_1</td>\n",
       "    </tr>\n",
       "    <tr>\n",
       "      <th>15746142</th>\n",
       "      <td>0</td>\n",
       "      <td>str_10</td>\n",
       "      <td>str_15</td>\n",
       "      <td>str_1</td>\n",
       "      <td>str_11</td>\n",
       "      <td>str_140</td>\n",
       "      <td>2017-11-07 01:50:53</td>\n",
       "      <td>2017-11-07 01:00:00</td>\n",
       "      <td>str_1</td>\n",
       "    </tr>\n",
       "    <tr>\n",
       "      <th>17928835</th>\n",
       "      <td>0</td>\n",
       "      <td>str_10</td>\n",
       "      <td>str_1</td>\n",
       "      <td>str_1</td>\n",
       "      <td>str_9</td>\n",
       "      <td>str_452</td>\n",
       "      <td>2017-11-07 02:32:45</td>\n",
       "      <td>2017-11-07 02:00:00</td>\n",
       "      <td>str_2</td>\n",
       "    </tr>\n",
       "    <tr>\n",
       "      <th>39616896</th>\n",
       "      <td>0</td>\n",
       "      <td>str_10</td>\n",
       "      <td>str_3</td>\n",
       "      <td>str_1</td>\n",
       "      <td>str_28</td>\n",
       "      <td>str_280</td>\n",
       "      <td>2017-11-07 09:31:51</td>\n",
       "      <td>2017-11-07 09:00:00</td>\n",
       "      <td>str_9</td>\n",
       "    </tr>\n",
       "    <tr>\n",
       "      <th>45593329</th>\n",
       "      <td>0</td>\n",
       "      <td>str_10</td>\n",
       "      <td>str_3</td>\n",
       "      <td>str_1</td>\n",
       "      <td>str_49</td>\n",
       "      <td>str_417</td>\n",
       "      <td>2017-11-07 11:23:38</td>\n",
       "      <td>2017-11-07 11:00:00</td>\n",
       "      <td>str_11</td>\n",
       "    </tr>\n",
       "  </tbody>\n",
       "</table>\n",
       "</div>"
      ],
      "text/plain": [
       "          EVENT_LABEL  str_ip str_app str_device  str_os str_channel  \\\n",
       "9889166             0  str_10   str_1      str_1  str_11     str_118   \n",
       "9905499             0  str_10   str_8      str_1  str_11     str_145   \n",
       "14494365            0  str_10  str_12      str_1  str_11     str_265   \n",
       "14939653            0  str_10  str_15      str_1  str_22     str_278   \n",
       "15005081            0  str_10  str_11      str_1  str_22     str_319   \n",
       "15453752            0  str_10   str_8      str_1  str_11     str_145   \n",
       "15746142            0  str_10  str_15      str_1  str_11     str_140   \n",
       "17928835            0  str_10   str_1      str_1   str_9     str_452   \n",
       "39616896            0  str_10   str_3      str_1  str_28     str_280   \n",
       "45593329            0  str_10   str_3      str_1  str_49     str_417   \n",
       "\n",
       "             EVENT_TIMESTAMP EVENT_TIMESTAMP_SIMPLE STR_EVENT_HOUR  \n",
       "9889166  2017-11-07 00:10:14    2017-11-07 00:00:00          str_0  \n",
       "9905499  2017-11-07 00:10:30    2017-11-07 00:00:00          str_0  \n",
       "14494365 2017-11-07 01:28:03    2017-11-07 01:00:00          str_1  \n",
       "14939653 2017-11-07 01:36:08    2017-11-07 01:00:00          str_1  \n",
       "15005081 2017-11-07 01:37:19    2017-11-07 01:00:00          str_1  \n",
       "15453752 2017-11-07 01:45:20    2017-11-07 01:00:00          str_1  \n",
       "15746142 2017-11-07 01:50:53    2017-11-07 01:00:00          str_1  \n",
       "17928835 2017-11-07 02:32:45    2017-11-07 02:00:00          str_2  \n",
       "39616896 2017-11-07 09:31:51    2017-11-07 09:00:00          str_9  \n",
       "45593329 2017-11-07 11:23:38    2017-11-07 11:00:00         str_11  "
      ]
     },
     "execution_count": 8,
     "metadata": {},
     "output_type": "execute_result"
    }
   ],
   "source": [
    "df = drop_column(df, col='EVENT_HOUR')\n",
    "df = df.sort_values(by= ['str_ip', 'EVENT_TIMESTAMP'])\n",
    "df.head(10)"
   ]
  },
  {
   "cell_type": "markdown",
   "id": "7431293d",
   "metadata": {},
   "source": [
    "## 데이터의 훈련, 테스트 샘플링"
   ]
  },
  {
   "cell_type": "code",
   "execution_count": 9,
   "id": "5fc70982",
   "metadata": {},
   "outputs": [
    {
     "name": "stdout",
     "output_type": "stream",
     "text": [
      "train sample shape:  (180000, 9)\n",
      "train min time:  2017-11-06 15:46:38\n",
      "train max time:  2017-11-08 23:59:00\n",
      "Train fraud ratio:  0.00264\n",
      "# of Train frauds:  475\n",
      "\n",
      "test sample shape:  (20000, 9)\n",
      "test min time:  2017-11-09 00:00:01\n",
      "test max time:  2017-11-09 15:59:55\n",
      "Test fraud ratio:  0.00275\n",
      "# of test frauds:  55\n"
     ]
    }
   ],
   "source": [
    "from p_utils import split_data_by_time, save_csv_local\n",
    "train_df, test_df = split_data_by_time(\n",
    "                       df=df, \n",
    "                       target_col='EVENT_TIMESTAMP', \n",
    "                       label_col = 'EVENT_LABEL',\n",
    "                       total_samples=200000, \n",
    "                       split_rate=0.1, \n",
    "                       train_end='2017-11-08 23:59', \n",
    "                       test_start='2017-11-09 00:00',    \n",
    "                       verbose = True,\n",
    "                  )"
   ]
  },
  {
   "cell_type": "code",
   "execution_count": 10,
   "id": "35837cce",
   "metadata": {},
   "outputs": [
    {
     "data": {
      "text/html": [
       "<div>\n",
       "<style scoped>\n",
       "    .dataframe tbody tr th:only-of-type {\n",
       "        vertical-align: middle;\n",
       "    }\n",
       "\n",
       "    .dataframe tbody tr th {\n",
       "        vertical-align: top;\n",
       "    }\n",
       "\n",
       "    .dataframe thead th {\n",
       "        text-align: right;\n",
       "    }\n",
       "</style>\n",
       "<table border=\"1\" class=\"dataframe\">\n",
       "  <thead>\n",
       "    <tr style=\"text-align: right;\">\n",
       "      <th></th>\n",
       "      <th>EVENT_LABEL</th>\n",
       "      <th>str_ip</th>\n",
       "      <th>str_app</th>\n",
       "      <th>str_device</th>\n",
       "      <th>str_os</th>\n",
       "      <th>str_channel</th>\n",
       "      <th>EVENT_TIMESTAMP</th>\n",
       "      <th>EVENT_TIMESTAMP_SIMPLE</th>\n",
       "      <th>STR_EVENT_HOUR</th>\n",
       "    </tr>\n",
       "  </thead>\n",
       "  <tbody>\n",
       "    <tr>\n",
       "      <th>69402732</th>\n",
       "      <td>0</td>\n",
       "      <td>str_78173</td>\n",
       "      <td>str_12</td>\n",
       "      <td>str_1</td>\n",
       "      <td>str_15</td>\n",
       "      <td>str_259</td>\n",
       "      <td>2017-11-08 00:08:02</td>\n",
       "      <td>2017-11-08 00:00:00</td>\n",
       "      <td>str_0</td>\n",
       "    </tr>\n",
       "    <tr>\n",
       "      <th>88909993</th>\n",
       "      <td>0</td>\n",
       "      <td>str_56188</td>\n",
       "      <td>str_3</td>\n",
       "      <td>str_1</td>\n",
       "      <td>str_19</td>\n",
       "      <td>str_280</td>\n",
       "      <td>2017-11-08 05:58:52</td>\n",
       "      <td>2017-11-08 05:00:00</td>\n",
       "      <td>str_5</td>\n",
       "    </tr>\n",
       "    <tr>\n",
       "      <th>52057252</th>\n",
       "      <td>0</td>\n",
       "      <td>str_62464</td>\n",
       "      <td>str_29</td>\n",
       "      <td>str_2</td>\n",
       "      <td>str_9</td>\n",
       "      <td>str_343</td>\n",
       "      <td>2017-11-07 13:30:21</td>\n",
       "      <td>2017-11-07 13:00:00</td>\n",
       "      <td>str_13</td>\n",
       "    </tr>\n",
       "    <tr>\n",
       "      <th>36751384</th>\n",
       "      <td>0</td>\n",
       "      <td>str_17310</td>\n",
       "      <td>str_32</td>\n",
       "      <td>str_1</td>\n",
       "      <td>str_19</td>\n",
       "      <td>str_376</td>\n",
       "      <td>2017-11-07 08:32:01</td>\n",
       "      <td>2017-11-07 08:00:00</td>\n",
       "      <td>str_8</td>\n",
       "    </tr>\n",
       "    <tr>\n",
       "      <th>28433179</th>\n",
       "      <td>0</td>\n",
       "      <td>str_2944</td>\n",
       "      <td>str_14</td>\n",
       "      <td>str_1</td>\n",
       "      <td>str_13</td>\n",
       "      <td>str_442</td>\n",
       "      <td>2017-11-07 05:41:03</td>\n",
       "      <td>2017-11-07 05:00:00</td>\n",
       "      <td>str_5</td>\n",
       "    </tr>\n",
       "  </tbody>\n",
       "</table>\n",
       "</div>"
      ],
      "text/plain": [
       "          EVENT_LABEL     str_ip str_app str_device  str_os str_channel  \\\n",
       "69402732            0  str_78173  str_12      str_1  str_15     str_259   \n",
       "88909993            0  str_56188   str_3      str_1  str_19     str_280   \n",
       "52057252            0  str_62464  str_29      str_2   str_9     str_343   \n",
       "36751384            0  str_17310  str_32      str_1  str_19     str_376   \n",
       "28433179            0   str_2944  str_14      str_1  str_13     str_442   \n",
       "\n",
       "             EVENT_TIMESTAMP EVENT_TIMESTAMP_SIMPLE STR_EVENT_HOUR  \n",
       "69402732 2017-11-08 00:08:02    2017-11-08 00:00:00          str_0  \n",
       "88909993 2017-11-08 05:58:52    2017-11-08 05:00:00          str_5  \n",
       "52057252 2017-11-07 13:30:21    2017-11-07 13:00:00         str_13  \n",
       "36751384 2017-11-07 08:32:01    2017-11-07 08:00:00          str_8  \n",
       "28433179 2017-11-07 05:41:03    2017-11-07 05:00:00          str_5  "
      ]
     },
     "execution_count": 10,
     "metadata": {},
     "output_type": "execute_result"
    }
   ],
   "source": [
    "train_df.head()"
   ]
  },
  {
   "cell_type": "code",
   "execution_count": 11,
   "id": "78210077",
   "metadata": {},
   "outputs": [
    {
     "data": {
      "text/html": [
       "<div>\n",
       "<style scoped>\n",
       "    .dataframe tbody tr th:only-of-type {\n",
       "        vertical-align: middle;\n",
       "    }\n",
       "\n",
       "    .dataframe tbody tr th {\n",
       "        vertical-align: top;\n",
       "    }\n",
       "\n",
       "    .dataframe thead th {\n",
       "        text-align: right;\n",
       "    }\n",
       "</style>\n",
       "<table border=\"1\" class=\"dataframe\">\n",
       "  <thead>\n",
       "    <tr style=\"text-align: right;\">\n",
       "      <th></th>\n",
       "      <th>EVENT_LABEL</th>\n",
       "      <th>str_ip</th>\n",
       "      <th>str_app</th>\n",
       "      <th>str_device</th>\n",
       "      <th>str_os</th>\n",
       "      <th>str_channel</th>\n",
       "      <th>EVENT_TIMESTAMP</th>\n",
       "      <th>EVENT_TIMESTAMP_SIMPLE</th>\n",
       "      <th>STR_EVENT_HOUR</th>\n",
       "    </tr>\n",
       "  </thead>\n",
       "  <tbody>\n",
       "    <tr>\n",
       "      <th>136336890</th>\n",
       "      <td>0</td>\n",
       "      <td>str_171877</td>\n",
       "      <td>str_3</td>\n",
       "      <td>str_1</td>\n",
       "      <td>str_26</td>\n",
       "      <td>str_280</td>\n",
       "      <td>2017-11-09 01:21:38</td>\n",
       "      <td>2017-11-09 01:00:00</td>\n",
       "      <td>str_1</td>\n",
       "    </tr>\n",
       "    <tr>\n",
       "      <th>141848554</th>\n",
       "      <td>0</td>\n",
       "      <td>str_102999</td>\n",
       "      <td>str_18</td>\n",
       "      <td>str_1</td>\n",
       "      <td>str_13</td>\n",
       "      <td>str_121</td>\n",
       "      <td>2017-11-09 03:09:12</td>\n",
       "      <td>2017-11-09 03:00:00</td>\n",
       "      <td>str_3</td>\n",
       "    </tr>\n",
       "    <tr>\n",
       "      <th>165441931</th>\n",
       "      <td>0</td>\n",
       "      <td>str_35096</td>\n",
       "      <td>str_8</td>\n",
       "      <td>str_1</td>\n",
       "      <td>str_25</td>\n",
       "      <td>str_145</td>\n",
       "      <td>2017-11-09 10:08:50</td>\n",
       "      <td>2017-11-09 10:00:00</td>\n",
       "      <td>str_10</td>\n",
       "    </tr>\n",
       "    <tr>\n",
       "      <th>177292494</th>\n",
       "      <td>0</td>\n",
       "      <td>str_17149</td>\n",
       "      <td>str_3</td>\n",
       "      <td>str_2</td>\n",
       "      <td>str_27</td>\n",
       "      <td>str_137</td>\n",
       "      <td>2017-11-09 13:40:25</td>\n",
       "      <td>2017-11-09 13:00:00</td>\n",
       "      <td>str_13</td>\n",
       "    </tr>\n",
       "    <tr>\n",
       "      <th>147459346</th>\n",
       "      <td>0</td>\n",
       "      <td>str_83735</td>\n",
       "      <td>str_12</td>\n",
       "      <td>str_1</td>\n",
       "      <td>str_13</td>\n",
       "      <td>str_328</td>\n",
       "      <td>2017-11-09 04:41:19</td>\n",
       "      <td>2017-11-09 04:00:00</td>\n",
       "      <td>str_4</td>\n",
       "    </tr>\n",
       "  </tbody>\n",
       "</table>\n",
       "</div>"
      ],
      "text/plain": [
       "           EVENT_LABEL      str_ip str_app str_device  str_os str_channel  \\\n",
       "136336890            0  str_171877   str_3      str_1  str_26     str_280   \n",
       "141848554            0  str_102999  str_18      str_1  str_13     str_121   \n",
       "165441931            0   str_35096   str_8      str_1  str_25     str_145   \n",
       "177292494            0   str_17149   str_3      str_2  str_27     str_137   \n",
       "147459346            0   str_83735  str_12      str_1  str_13     str_328   \n",
       "\n",
       "              EVENT_TIMESTAMP EVENT_TIMESTAMP_SIMPLE STR_EVENT_HOUR  \n",
       "136336890 2017-11-09 01:21:38    2017-11-09 01:00:00          str_1  \n",
       "141848554 2017-11-09 03:09:12    2017-11-09 03:00:00          str_3  \n",
       "165441931 2017-11-09 10:08:50    2017-11-09 10:00:00         str_10  \n",
       "177292494 2017-11-09 13:40:25    2017-11-09 13:00:00         str_13  \n",
       "147459346 2017-11-09 04:41:19    2017-11-09 04:00:00          str_4  "
      ]
     },
     "execution_count": 11,
     "metadata": {},
     "output_type": "execute_result"
    }
   ],
   "source": [
    "test_df.head()"
   ]
  },
  {
   "cell_type": "markdown",
   "id": "259bf2e1",
   "metadata": {},
   "source": [
    "## CatBoost 알고리즘에 사용되지 않는 Timestamp 제거"
   ]
  },
  {
   "cell_type": "code",
   "execution_count": 12,
   "id": "af4b3a9f",
   "metadata": {},
   "outputs": [],
   "source": [
    "train_df = drop_column(train_df, col='EVENT_TIMESTAMP')\n",
    "train_df = drop_column(train_df, col='EVENT_TIMESTAMP_SIMPLE')"
   ]
  },
  {
   "cell_type": "code",
   "execution_count": 13,
   "id": "de23fb17",
   "metadata": {},
   "outputs": [
    {
     "data": {
      "text/html": [
       "<div>\n",
       "<style scoped>\n",
       "    .dataframe tbody tr th:only-of-type {\n",
       "        vertical-align: middle;\n",
       "    }\n",
       "\n",
       "    .dataframe tbody tr th {\n",
       "        vertical-align: top;\n",
       "    }\n",
       "\n",
       "    .dataframe thead th {\n",
       "        text-align: right;\n",
       "    }\n",
       "</style>\n",
       "<table border=\"1\" class=\"dataframe\">\n",
       "  <thead>\n",
       "    <tr style=\"text-align: right;\">\n",
       "      <th></th>\n",
       "      <th>EVENT_LABEL</th>\n",
       "      <th>str_ip</th>\n",
       "      <th>str_app</th>\n",
       "      <th>str_device</th>\n",
       "      <th>str_os</th>\n",
       "      <th>str_channel</th>\n",
       "      <th>STR_EVENT_HOUR</th>\n",
       "    </tr>\n",
       "  </thead>\n",
       "  <tbody>\n",
       "    <tr>\n",
       "      <th>69402732</th>\n",
       "      <td>0</td>\n",
       "      <td>str_78173</td>\n",
       "      <td>str_12</td>\n",
       "      <td>str_1</td>\n",
       "      <td>str_15</td>\n",
       "      <td>str_259</td>\n",
       "      <td>str_0</td>\n",
       "    </tr>\n",
       "    <tr>\n",
       "      <th>88909993</th>\n",
       "      <td>0</td>\n",
       "      <td>str_56188</td>\n",
       "      <td>str_3</td>\n",
       "      <td>str_1</td>\n",
       "      <td>str_19</td>\n",
       "      <td>str_280</td>\n",
       "      <td>str_5</td>\n",
       "    </tr>\n",
       "    <tr>\n",
       "      <th>52057252</th>\n",
       "      <td>0</td>\n",
       "      <td>str_62464</td>\n",
       "      <td>str_29</td>\n",
       "      <td>str_2</td>\n",
       "      <td>str_9</td>\n",
       "      <td>str_343</td>\n",
       "      <td>str_13</td>\n",
       "    </tr>\n",
       "    <tr>\n",
       "      <th>36751384</th>\n",
       "      <td>0</td>\n",
       "      <td>str_17310</td>\n",
       "      <td>str_32</td>\n",
       "      <td>str_1</td>\n",
       "      <td>str_19</td>\n",
       "      <td>str_376</td>\n",
       "      <td>str_8</td>\n",
       "    </tr>\n",
       "    <tr>\n",
       "      <th>28433179</th>\n",
       "      <td>0</td>\n",
       "      <td>str_2944</td>\n",
       "      <td>str_14</td>\n",
       "      <td>str_1</td>\n",
       "      <td>str_13</td>\n",
       "      <td>str_442</td>\n",
       "      <td>str_5</td>\n",
       "    </tr>\n",
       "  </tbody>\n",
       "</table>\n",
       "</div>"
      ],
      "text/plain": [
       "          EVENT_LABEL     str_ip str_app str_device  str_os str_channel  \\\n",
       "69402732            0  str_78173  str_12      str_1  str_15     str_259   \n",
       "88909993            0  str_56188   str_3      str_1  str_19     str_280   \n",
       "52057252            0  str_62464  str_29      str_2   str_9     str_343   \n",
       "36751384            0  str_17310  str_32      str_1  str_19     str_376   \n",
       "28433179            0   str_2944  str_14      str_1  str_13     str_442   \n",
       "\n",
       "         STR_EVENT_HOUR  \n",
       "69402732          str_0  \n",
       "88909993          str_5  \n",
       "52057252         str_13  \n",
       "36751384          str_8  \n",
       "28433179          str_5  "
      ]
     },
     "execution_count": 13,
     "metadata": {},
     "output_type": "execute_result"
    }
   ],
   "source": [
    "train_df.head()"
   ]
  },
  {
   "cell_type": "code",
   "execution_count": 14,
   "id": "a28c20b3",
   "metadata": {},
   "outputs": [],
   "source": [
    "test_df = drop_column(test_df, col='EVENT_TIMESTAMP')\n",
    "test_df = drop_column(test_df, col='EVENT_TIMESTAMP_SIMPLE')"
   ]
  },
  {
   "cell_type": "code",
   "execution_count": 15,
   "id": "a1cf2e60",
   "metadata": {},
   "outputs": [
    {
     "data": {
      "text/html": [
       "<div>\n",
       "<style scoped>\n",
       "    .dataframe tbody tr th:only-of-type {\n",
       "        vertical-align: middle;\n",
       "    }\n",
       "\n",
       "    .dataframe tbody tr th {\n",
       "        vertical-align: top;\n",
       "    }\n",
       "\n",
       "    .dataframe thead th {\n",
       "        text-align: right;\n",
       "    }\n",
       "</style>\n",
       "<table border=\"1\" class=\"dataframe\">\n",
       "  <thead>\n",
       "    <tr style=\"text-align: right;\">\n",
       "      <th></th>\n",
       "      <th>EVENT_LABEL</th>\n",
       "      <th>str_ip</th>\n",
       "      <th>str_app</th>\n",
       "      <th>str_device</th>\n",
       "      <th>str_os</th>\n",
       "      <th>str_channel</th>\n",
       "      <th>STR_EVENT_HOUR</th>\n",
       "    </tr>\n",
       "  </thead>\n",
       "  <tbody>\n",
       "    <tr>\n",
       "      <th>136336890</th>\n",
       "      <td>0</td>\n",
       "      <td>str_171877</td>\n",
       "      <td>str_3</td>\n",
       "      <td>str_1</td>\n",
       "      <td>str_26</td>\n",
       "      <td>str_280</td>\n",
       "      <td>str_1</td>\n",
       "    </tr>\n",
       "    <tr>\n",
       "      <th>141848554</th>\n",
       "      <td>0</td>\n",
       "      <td>str_102999</td>\n",
       "      <td>str_18</td>\n",
       "      <td>str_1</td>\n",
       "      <td>str_13</td>\n",
       "      <td>str_121</td>\n",
       "      <td>str_3</td>\n",
       "    </tr>\n",
       "    <tr>\n",
       "      <th>165441931</th>\n",
       "      <td>0</td>\n",
       "      <td>str_35096</td>\n",
       "      <td>str_8</td>\n",
       "      <td>str_1</td>\n",
       "      <td>str_25</td>\n",
       "      <td>str_145</td>\n",
       "      <td>str_10</td>\n",
       "    </tr>\n",
       "    <tr>\n",
       "      <th>177292494</th>\n",
       "      <td>0</td>\n",
       "      <td>str_17149</td>\n",
       "      <td>str_3</td>\n",
       "      <td>str_2</td>\n",
       "      <td>str_27</td>\n",
       "      <td>str_137</td>\n",
       "      <td>str_13</td>\n",
       "    </tr>\n",
       "    <tr>\n",
       "      <th>147459346</th>\n",
       "      <td>0</td>\n",
       "      <td>str_83735</td>\n",
       "      <td>str_12</td>\n",
       "      <td>str_1</td>\n",
       "      <td>str_13</td>\n",
       "      <td>str_328</td>\n",
       "      <td>str_4</td>\n",
       "    </tr>\n",
       "  </tbody>\n",
       "</table>\n",
       "</div>"
      ],
      "text/plain": [
       "           EVENT_LABEL      str_ip str_app str_device  str_os str_channel  \\\n",
       "136336890            0  str_171877   str_3      str_1  str_26     str_280   \n",
       "141848554            0  str_102999  str_18      str_1  str_13     str_121   \n",
       "165441931            0   str_35096   str_8      str_1  str_25     str_145   \n",
       "177292494            0   str_17149   str_3      str_2  str_27     str_137   \n",
       "147459346            0   str_83735  str_12      str_1  str_13     str_328   \n",
       "\n",
       "          STR_EVENT_HOUR  \n",
       "136336890          str_1  \n",
       "141848554          str_3  \n",
       "165441931         str_10  \n",
       "177292494         str_13  \n",
       "147459346          str_4  "
      ]
     },
     "execution_count": 15,
     "metadata": {},
     "output_type": "execute_result"
    }
   ],
   "source": [
    "test_df.head()"
   ]
  },
  {
   "cell_type": "markdown",
   "id": "92caac54",
   "metadata": {},
   "source": [
    "# 3. 훈련 및 테스트 데이터 저장"
   ]
  },
  {
   "cell_type": "code",
   "execution_count": 16,
   "id": "7ae3001c",
   "metadata": {},
   "outputs": [
    {
     "name": "stdout",
     "output_type": "stream",
     "text": [
      "data/train/train-180000.csv is saved\n",
      "train_local_path:  data/train/train-180000.csv\n",
      "data/test/test-20000.csv is saved\n",
      "test_local_path:  data/test/test-20000.csv\n"
     ]
    }
   ],
   "source": [
    "train_file_name = 'train-' + str(train_df.shape[0]) + \".csv\"\n",
    "train_local_path = save_csv_local(raw_df=train_df, preproc_folder='data/train', \n",
    "                                  label='EVENT_LABEL', file_name=train_file_name)\n",
    "print(\"train_local_path: \", train_local_path)\n",
    "\n",
    "test_file_name = 'test-' + str(test_df.shape[0]) + \".csv\"\n",
    "test_local_path = save_csv_local(raw_df=test_df, preproc_folder='data/test', \n",
    "                                  label='EVENT_LABEL', file_name=test_file_name)\n",
    "print(\"test_local_path: \", test_local_path)"
   ]
  },
  {
   "cell_type": "code",
   "execution_count": 17,
   "id": "b864924a",
   "metadata": {},
   "outputs": [],
   "source": [
    "import sagemaker\n",
    "\n",
    "bucket = sagemaker.Session().default_bucket()\n",
    "# 프로젝트 변수\n",
    "project_prefix = 'adtalking_fraud_phase0'\n",
    "\n",
    "# S3에 저장되는 데이터의 기본 폴더 위치\n",
    "s3_train_data_uri = f\"s3://{bucket}/{project_prefix}/train\"\n",
    "s3_test_data_uri = f\"s3://{bucket}/{project_prefix}/test\""
   ]
  },
  {
   "cell_type": "code",
   "execution_count": 18,
   "id": "19b814ff",
   "metadata": {},
   "outputs": [
    {
     "name": "stdout",
     "output_type": "stream",
     "text": [
      "s3_train_data_uri: \n",
      " s3://sagemaker-us-east-1-057716757052/adtalking_fraud_phase0/train/train-180000.csv\n",
      "s3_test_data_uri: \n",
      " s3://sagemaker-us-east-1-057716757052/adtalking_fraud_phase0/test/test-20000.csv\n"
     ]
    }
   ],
   "source": [
    "s3_train_data_uri = sagemaker.s3.S3Uploader.upload(\n",
    "    local_path=train_local_path, \n",
    "    desired_s3_uri=s3_train_data_uri,    \n",
    ")\n",
    "print(\"s3_train_data_uri: \\n\", s3_train_data_uri)\n",
    "\n",
    "s3_test_data_uri = sagemaker.s3.S3Uploader.upload(\n",
    "    local_path=test_local_path, \n",
    "    desired_s3_uri=s3_test_data_uri,    \n",
    ")\n",
    "print(\"s3_test_data_uri: \\n\", s3_test_data_uri)"
   ]
  },
  {
   "cell_type": "markdown",
   "id": "e6cd67b9",
   "metadata": {},
   "source": [
    "# 4. 로컬모드로 모델 훈련"
   ]
  },
  {
   "cell_type": "code",
   "execution_count": 21,
   "id": "c5c452f9",
   "metadata": {},
   "outputs": [],
   "source": [
    "from sagemaker.sklearn.estimator import SKLearn\n",
    "\n",
    "FRAMEWORK_VERSION = \"0.23-1\"\n",
    "\n",
    "local_sklearn = SKLearn(\n",
    "    base_job_name = \"catboost-training\",\n",
    "    entry_point=\"catboost_training.py\",    \n",
    "    source_dir='source', \n",
    "    framework_version=FRAMEWORK_VERSION,\n",
    "    instance_type=\"local\",    \n",
    "    role=role,\n",
    "    hyperparameters={'cat-features': 'str_ip str_app str_device str_os str_channel STR_EVENT_HOUR',\n",
    "                     'target': 'EVENT_LABEL',\n",
    "                    'train-file': 'train-180000.csv'},\n",
    ")"
   ]
  },
  {
   "cell_type": "code",
   "execution_count": 22,
   "id": "0ae30967",
   "metadata": {},
   "outputs": [
    {
     "name": "stdout",
     "output_type": "stream",
     "text": [
      "Creating ascg5a06vn-algo-1-2vtfq ... \n",
      "Creating ascg5a06vn-algo-1-2vtfq ... done\n",
      "Attaching to ascg5a06vn-algo-1-2vtfq\n",
      "\u001b[36mascg5a06vn-algo-1-2vtfq |\u001b[0m 2021-11-10 01:40:40,470 sagemaker-containers INFO     Imported framework sagemaker_sklearn_container.training\n",
      "\u001b[36mascg5a06vn-algo-1-2vtfq |\u001b[0m 2021-11-10 01:40:40,472 sagemaker-training-toolkit INFO     No GPUs detected (normal if no gpus installed)\n",
      "\u001b[36mascg5a06vn-algo-1-2vtfq |\u001b[0m 2021-11-10 01:40:40,481 sagemaker_sklearn_container.training INFO     Invoking user training script.\n",
      "\u001b[36mascg5a06vn-algo-1-2vtfq |\u001b[0m 2021-11-10 01:40:40,607 sagemaker-training-toolkit INFO     Installing dependencies from requirements.txt:\n",
      "\u001b[36mascg5a06vn-algo-1-2vtfq |\u001b[0m /miniconda3/bin/python -m pip install -r requirements.txt\n",
      "\u001b[36mascg5a06vn-algo-1-2vtfq |\u001b[0m Collecting catboost==0.26\n",
      "\u001b[36mascg5a06vn-algo-1-2vtfq |\u001b[0m   Downloading catboost-0.26-cp37-none-manylinux1_x86_64.whl (69.2 MB)\n",
      "\u001b[K     |████████████████████████████████| 69.2 MB 18.4 MB/s eta 0:00:01\n",
      "\u001b[36mascg5a06vn-algo-1-2vtfq |\u001b[0m \u001b[?25hRequirement already satisfied: six in /miniconda3/lib/python3.7/site-packages (from catboost==0.26->-r requirements.txt (line 1)) (1.15.0)\n",
      "\u001b[36mascg5a06vn-algo-1-2vtfq |\u001b[0m Collecting plotly\n",
      "\u001b[36mascg5a06vn-algo-1-2vtfq |\u001b[0m   Downloading plotly-5.3.1-py2.py3-none-any.whl (23.9 MB)\n",
      "\u001b[K     |████████████████████████████████| 23.9 MB 59.9 MB/s eta 0:00:01\n",
      "\u001b[36mascg5a06vn-algo-1-2vtfq |\u001b[0m \u001b[?25hRequirement already satisfied: pandas>=0.24.0 in /miniconda3/lib/python3.7/site-packages (from catboost==0.26->-r requirements.txt (line 1)) (1.1.3)\n",
      "\u001b[36mascg5a06vn-algo-1-2vtfq |\u001b[0m Requirement already satisfied: scipy in /miniconda3/lib/python3.7/site-packages (from catboost==0.26->-r requirements.txt (line 1)) (1.5.3)\n",
      "\u001b[36mascg5a06vn-algo-1-2vtfq |\u001b[0m Collecting graphviz\n",
      "\u001b[36mascg5a06vn-algo-1-2vtfq |\u001b[0m   Downloading graphviz-0.18-py3-none-any.whl (38 kB)\n",
      "\u001b[36mascg5a06vn-algo-1-2vtfq |\u001b[0m Collecting matplotlib\n",
      "\u001b[36mascg5a06vn-algo-1-2vtfq |\u001b[0m   Downloading matplotlib-3.4.3-cp37-cp37m-manylinux1_x86_64.whl (10.3 MB)\n",
      "\u001b[K     |████████████████████████████████| 10.3 MB 63.9 MB/s eta 0:00:01\n",
      "\u001b[36mascg5a06vn-algo-1-2vtfq |\u001b[0m \u001b[?25hRequirement already satisfied: numpy>=1.16.0 in /miniconda3/lib/python3.7/site-packages (from catboost==0.26->-r requirements.txt (line 1)) (1.19.2)\n",
      "\u001b[36mascg5a06vn-algo-1-2vtfq |\u001b[0m Requirement already satisfied: python-dateutil>=2.7.3 in /miniconda3/lib/python3.7/site-packages (from pandas>=0.24.0->catboost==0.26->-r requirements.txt (line 1)) (2.8.1)\n",
      "\u001b[36mascg5a06vn-algo-1-2vtfq |\u001b[0m Requirement already satisfied: pytz>=2017.2 in /miniconda3/lib/python3.7/site-packages (from pandas>=0.24.0->catboost==0.26->-r requirements.txt (line 1)) (2021.1)\n",
      "\u001b[36mascg5a06vn-algo-1-2vtfq |\u001b[0m Collecting cycler>=0.10\n",
      "\u001b[36mascg5a06vn-algo-1-2vtfq |\u001b[0m   Downloading cycler-0.11.0-py3-none-any.whl (6.4 kB)\n",
      "\u001b[36mascg5a06vn-algo-1-2vtfq |\u001b[0m Collecting kiwisolver>=1.0.1\n",
      "\u001b[36mascg5a06vn-algo-1-2vtfq |\u001b[0m   Downloading kiwisolver-1.3.2-cp37-cp37m-manylinux_2_5_x86_64.manylinux1_x86_64.whl (1.1 MB)\n",
      "\u001b[K     |████████████████████████████████| 1.1 MB 69.9 MB/s eta 0:00:01\n",
      "\u001b[36mascg5a06vn-algo-1-2vtfq |\u001b[0m \u001b[?25hCollecting pyparsing>=2.2.1\n",
      "\u001b[36mascg5a06vn-algo-1-2vtfq |\u001b[0m   Downloading pyparsing-3.0.5-py3-none-any.whl (97 kB)\n",
      "\u001b[K     |████████████████████████████████| 97 kB 12.4 MB/s  eta 0:00:01\n",
      "\u001b[36mascg5a06vn-algo-1-2vtfq |\u001b[0m \u001b[?25hRequirement already satisfied: pillow>=6.2.0 in /miniconda3/lib/python3.7/site-packages (from matplotlib->catboost==0.26->-r requirements.txt (line 1)) (8.3.1)\n",
      "\u001b[36mascg5a06vn-algo-1-2vtfq |\u001b[0m Collecting tenacity>=6.2.0\n",
      "\u001b[36mascg5a06vn-algo-1-2vtfq |\u001b[0m   Downloading tenacity-8.0.1-py3-none-any.whl (24 kB)\n",
      "\u001b[36mascg5a06vn-algo-1-2vtfq |\u001b[0m Installing collected packages: tenacity, pyparsing, kiwisolver, cycler, plotly, matplotlib, graphviz, catboost\n",
      "\u001b[36mascg5a06vn-algo-1-2vtfq |\u001b[0m Successfully installed catboost-0.26 cycler-0.11.0 graphviz-0.18 kiwisolver-1.3.2 matplotlib-3.4.3 plotly-5.3.1 pyparsing-3.0.5 tenacity-8.0.1\n",
      "\u001b[36mascg5a06vn-algo-1-2vtfq |\u001b[0m \u001b[33mWARNING: Running pip as the 'root' user can result in broken permissions and conflicting behaviour with the system package manager. It is recommended to use a virtual environment instead: https://pip.pypa.io/warnings/venv\u001b[0m\n",
      "\u001b[36mascg5a06vn-algo-1-2vtfq |\u001b[0m \u001b[33mWARNING: You are using pip version 21.2.4; however, version 21.3.1 is available.\n",
      "\u001b[36mascg5a06vn-algo-1-2vtfq |\u001b[0m You should consider upgrading via the '/miniconda3/bin/python -m pip install --upgrade pip' command.\u001b[0m\n",
      "\u001b[36mascg5a06vn-algo-1-2vtfq |\u001b[0m 2021-11-10 01:40:51,649 sagemaker-training-toolkit INFO     No GPUs detected (normal if no gpus installed)\n",
      "\u001b[36mascg5a06vn-algo-1-2vtfq |\u001b[0m 2021-11-10 01:40:51,662 sagemaker-training-toolkit INFO     No GPUs detected (normal if no gpus installed)\n",
      "\u001b[36mascg5a06vn-algo-1-2vtfq |\u001b[0m 2021-11-10 01:40:51,676 sagemaker-training-toolkit INFO     No GPUs detected (normal if no gpus installed)\n",
      "\u001b[36mascg5a06vn-algo-1-2vtfq |\u001b[0m 2021-11-10 01:40:51,684 sagemaker-training-toolkit INFO     Invoking user script\n",
      "\u001b[36mascg5a06vn-algo-1-2vtfq |\u001b[0m \n",
      "\u001b[36mascg5a06vn-algo-1-2vtfq |\u001b[0m Training Env:\n",
      "\u001b[36mascg5a06vn-algo-1-2vtfq |\u001b[0m \n",
      "\u001b[36mascg5a06vn-algo-1-2vtfq |\u001b[0m {\n",
      "\u001b[36mascg5a06vn-algo-1-2vtfq |\u001b[0m     \"additional_framework_parameters\": {},\n",
      "\u001b[36mascg5a06vn-algo-1-2vtfq |\u001b[0m     \"channel_input_dirs\": {\n",
      "\u001b[36mascg5a06vn-algo-1-2vtfq |\u001b[0m         \"train\": \"/opt/ml/input/data/train\"\n",
      "\u001b[36mascg5a06vn-algo-1-2vtfq |\u001b[0m     },\n",
      "\u001b[36mascg5a06vn-algo-1-2vtfq |\u001b[0m     \"current_host\": \"algo-1-2vtfq\",\n",
      "\u001b[36mascg5a06vn-algo-1-2vtfq |\u001b[0m     \"framework_module\": \"sagemaker_sklearn_container.training:main\",\n",
      "\u001b[36mascg5a06vn-algo-1-2vtfq |\u001b[0m     \"hosts\": [\n",
      "\u001b[36mascg5a06vn-algo-1-2vtfq |\u001b[0m         \"algo-1-2vtfq\"\n",
      "\u001b[36mascg5a06vn-algo-1-2vtfq |\u001b[0m     ],\n",
      "\u001b[36mascg5a06vn-algo-1-2vtfq |\u001b[0m     \"hyperparameters\": {\n",
      "\u001b[36mascg5a06vn-algo-1-2vtfq |\u001b[0m         \"cat-features\": \"str_ip str_app str_device str_os str_channel STR_EVENT_HOUR\",\n",
      "\u001b[36mascg5a06vn-algo-1-2vtfq |\u001b[0m         \"target\": \"EVENT_LABEL\",\n",
      "\u001b[36mascg5a06vn-algo-1-2vtfq |\u001b[0m         \"train-file\": \"train-180000.csv\"\n",
      "\u001b[36mascg5a06vn-algo-1-2vtfq |\u001b[0m     },\n",
      "\u001b[36mascg5a06vn-algo-1-2vtfq |\u001b[0m     \"input_config_dir\": \"/opt/ml/input/config\",\n",
      "\u001b[36mascg5a06vn-algo-1-2vtfq |\u001b[0m     \"input_data_config\": {\n",
      "\u001b[36mascg5a06vn-algo-1-2vtfq |\u001b[0m         \"train\": {\n",
      "\u001b[36mascg5a06vn-algo-1-2vtfq |\u001b[0m             \"TrainingInputMode\": \"File\"\n",
      "\u001b[36mascg5a06vn-algo-1-2vtfq |\u001b[0m         }\n",
      "\u001b[36mascg5a06vn-algo-1-2vtfq |\u001b[0m     },\n",
      "\u001b[36mascg5a06vn-algo-1-2vtfq |\u001b[0m     \"input_dir\": \"/opt/ml/input\",\n",
      "\u001b[36mascg5a06vn-algo-1-2vtfq |\u001b[0m     \"is_master\": true,\n",
      "\u001b[36mascg5a06vn-algo-1-2vtfq |\u001b[0m     \"job_name\": \"catboost-training-2021-11-10-01-40-37-755\",\n",
      "\u001b[36mascg5a06vn-algo-1-2vtfq |\u001b[0m     \"log_level\": 20,\n",
      "\u001b[36mascg5a06vn-algo-1-2vtfq |\u001b[0m     \"master_hostname\": \"algo-1-2vtfq\",\n",
      "\u001b[36mascg5a06vn-algo-1-2vtfq |\u001b[0m     \"model_dir\": \"/opt/ml/model\",\n",
      "\u001b[36mascg5a06vn-algo-1-2vtfq |\u001b[0m     \"module_dir\": \"s3://sagemaker-us-east-1-057716757052/catboost-training-2021-11-10-01-40-37-755/source/sourcedir.tar.gz\",\n",
      "\u001b[36mascg5a06vn-algo-1-2vtfq |\u001b[0m     \"module_name\": \"catboost_training\",\n",
      "\u001b[36mascg5a06vn-algo-1-2vtfq |\u001b[0m     \"network_interface_name\": \"eth0\",\n",
      "\u001b[36mascg5a06vn-algo-1-2vtfq |\u001b[0m     \"num_cpus\": 72,\n",
      "\u001b[36mascg5a06vn-algo-1-2vtfq |\u001b[0m     \"num_gpus\": 0,\n",
      "\u001b[36mascg5a06vn-algo-1-2vtfq |\u001b[0m     \"output_data_dir\": \"/opt/ml/output/data\",\n",
      "\u001b[36mascg5a06vn-algo-1-2vtfq |\u001b[0m     \"output_dir\": \"/opt/ml/output\",\n",
      "\u001b[36mascg5a06vn-algo-1-2vtfq |\u001b[0m     \"output_intermediate_dir\": \"/opt/ml/output/intermediate\",\n",
      "\u001b[36mascg5a06vn-algo-1-2vtfq |\u001b[0m     \"resource_config\": {\n",
      "\u001b[36mascg5a06vn-algo-1-2vtfq |\u001b[0m         \"current_host\": \"algo-1-2vtfq\",\n",
      "\u001b[36mascg5a06vn-algo-1-2vtfq |\u001b[0m         \"hosts\": [\n",
      "\u001b[36mascg5a06vn-algo-1-2vtfq |\u001b[0m             \"algo-1-2vtfq\"\n",
      "\u001b[36mascg5a06vn-algo-1-2vtfq |\u001b[0m         ]\n",
      "\u001b[36mascg5a06vn-algo-1-2vtfq |\u001b[0m     },\n",
      "\u001b[36mascg5a06vn-algo-1-2vtfq |\u001b[0m     \"user_entry_point\": \"catboost_training.py\"\n",
      "\u001b[36mascg5a06vn-algo-1-2vtfq |\u001b[0m }\n",
      "\u001b[36mascg5a06vn-algo-1-2vtfq |\u001b[0m \n",
      "\u001b[36mascg5a06vn-algo-1-2vtfq |\u001b[0m Environment variables:\n",
      "\u001b[36mascg5a06vn-algo-1-2vtfq |\u001b[0m \n",
      "\u001b[36mascg5a06vn-algo-1-2vtfq |\u001b[0m SM_HOSTS=[\"algo-1-2vtfq\"]\n",
      "\u001b[36mascg5a06vn-algo-1-2vtfq |\u001b[0m SM_NETWORK_INTERFACE_NAME=eth0\n",
      "\u001b[36mascg5a06vn-algo-1-2vtfq |\u001b[0m SM_HPS={\"cat-features\":\"str_ip str_app str_device str_os str_channel STR_EVENT_HOUR\",\"target\":\"EVENT_LABEL\",\"train-file\":\"train-180000.csv\"}\n",
      "\u001b[36mascg5a06vn-algo-1-2vtfq |\u001b[0m SM_USER_ENTRY_POINT=catboost_training.py\n",
      "\u001b[36mascg5a06vn-algo-1-2vtfq |\u001b[0m SM_FRAMEWORK_PARAMS={}\n",
      "\u001b[36mascg5a06vn-algo-1-2vtfq |\u001b[0m SM_RESOURCE_CONFIG={\"current_host\":\"algo-1-2vtfq\",\"hosts\":[\"algo-1-2vtfq\"]}\n",
      "\u001b[36mascg5a06vn-algo-1-2vtfq |\u001b[0m SM_INPUT_DATA_CONFIG={\"train\":{\"TrainingInputMode\":\"File\"}}\n",
      "\u001b[36mascg5a06vn-algo-1-2vtfq |\u001b[0m SM_OUTPUT_DATA_DIR=/opt/ml/output/data\n",
      "\u001b[36mascg5a06vn-algo-1-2vtfq |\u001b[0m SM_CHANNELS=[\"train\"]\n",
      "\u001b[36mascg5a06vn-algo-1-2vtfq |\u001b[0m SM_CURRENT_HOST=algo-1-2vtfq\n",
      "\u001b[36mascg5a06vn-algo-1-2vtfq |\u001b[0m SM_MODULE_NAME=catboost_training\n",
      "\u001b[36mascg5a06vn-algo-1-2vtfq |\u001b[0m SM_LOG_LEVEL=20\n",
      "\u001b[36mascg5a06vn-algo-1-2vtfq |\u001b[0m SM_FRAMEWORK_MODULE=sagemaker_sklearn_container.training:main\n",
      "\u001b[36mascg5a06vn-algo-1-2vtfq |\u001b[0m SM_INPUT_DIR=/opt/ml/input\n",
      "\u001b[36mascg5a06vn-algo-1-2vtfq |\u001b[0m SM_INPUT_CONFIG_DIR=/opt/ml/input/config\n",
      "\u001b[36mascg5a06vn-algo-1-2vtfq |\u001b[0m SM_OUTPUT_DIR=/opt/ml/output\n",
      "\u001b[36mascg5a06vn-algo-1-2vtfq |\u001b[0m SM_NUM_CPUS=72\n",
      "\u001b[36mascg5a06vn-algo-1-2vtfq |\u001b[0m SM_NUM_GPUS=0\n",
      "\u001b[36mascg5a06vn-algo-1-2vtfq |\u001b[0m SM_MODEL_DIR=/opt/ml/model\n",
      "\u001b[36mascg5a06vn-algo-1-2vtfq |\u001b[0m SM_MODULE_DIR=s3://sagemaker-us-east-1-057716757052/catboost-training-2021-11-10-01-40-37-755/source/sourcedir.tar.gz\n",
      "\u001b[36mascg5a06vn-algo-1-2vtfq |\u001b[0m SM_TRAINING_ENV={\"additional_framework_parameters\":{},\"channel_input_dirs\":{\"train\":\"/opt/ml/input/data/train\"},\"current_host\":\"algo-1-2vtfq\",\"framework_module\":\"sagemaker_sklearn_container.training:main\",\"hosts\":[\"algo-1-2vtfq\"],\"hyperparameters\":{\"cat-features\":\"str_ip str_app str_device str_os str_channel STR_EVENT_HOUR\",\"target\":\"EVENT_LABEL\",\"train-file\":\"train-180000.csv\"},\"input_config_dir\":\"/opt/ml/input/config\",\"input_data_config\":{\"train\":{\"TrainingInputMode\":\"File\"}},\"input_dir\":\"/opt/ml/input\",\"is_master\":true,\"job_name\":\"catboost-training-2021-11-10-01-40-37-755\",\"log_level\":20,\"master_hostname\":\"algo-1-2vtfq\",\"model_dir\":\"/opt/ml/model\",\"module_dir\":\"s3://sagemaker-us-east-1-057716757052/catboost-training-2021-11-10-01-40-37-755/source/sourcedir.tar.gz\",\"module_name\":\"catboost_training\",\"network_interface_name\":\"eth0\",\"num_cpus\":72,\"num_gpus\":0,\"output_data_dir\":\"/opt/ml/output/data\",\"output_dir\":\"/opt/ml/output\",\"output_intermediate_dir\":\"/opt/ml/output/intermediate\",\"resource_config\":{\"current_host\":\"algo-1-2vtfq\",\"hosts\":[\"algo-1-2vtfq\"]},\"user_entry_point\":\"catboost_training.py\"}\n",
      "\u001b[36mascg5a06vn-algo-1-2vtfq |\u001b[0m SM_USER_ARGS=[\"--cat-features\",\"str_ip str_app str_device str_os str_channel STR_EVENT_HOUR\",\"--target\",\"EVENT_LABEL\",\"--train-file\",\"train-180000.csv\"]\n",
      "\u001b[36mascg5a06vn-algo-1-2vtfq |\u001b[0m SM_OUTPUT_INTERMEDIATE_DIR=/opt/ml/output/intermediate\n",
      "\u001b[36mascg5a06vn-algo-1-2vtfq |\u001b[0m SM_CHANNEL_TRAIN=/opt/ml/input/data/train\n",
      "\u001b[36mascg5a06vn-algo-1-2vtfq |\u001b[0m SM_HP_CAT-FEATURES=str_ip str_app str_device str_os str_channel STR_EVENT_HOUR\n",
      "\u001b[36mascg5a06vn-algo-1-2vtfq |\u001b[0m SM_HP_TARGET=EVENT_LABEL\n",
      "\u001b[36mascg5a06vn-algo-1-2vtfq |\u001b[0m SM_HP_TRAIN-FILE=train-180000.csv\n",
      "\u001b[36mascg5a06vn-algo-1-2vtfq |\u001b[0m PYTHONPATH=/opt/ml/code:/miniconda3/bin:/miniconda3/lib/python37.zip:/miniconda3/lib/python3.7:/miniconda3/lib/python3.7/lib-dynload:/miniconda3/lib/python3.7/site-packages\n",
      "\u001b[36mascg5a06vn-algo-1-2vtfq |\u001b[0m \n",
      "\u001b[36mascg5a06vn-algo-1-2vtfq |\u001b[0m Invoking script with the following command:\n",
      "\u001b[36mascg5a06vn-algo-1-2vtfq |\u001b[0m \n",
      "\u001b[36mascg5a06vn-algo-1-2vtfq |\u001b[0m /miniconda3/bin/python catboost_training.py --cat-features str_ip str_app str_device str_os str_channel STR_EVENT_HOUR --target EVENT_LABEL --train-file train-180000.csv\n",
      "\u001b[36mascg5a06vn-algo-1-2vtfq |\u001b[0m \n",
      "\u001b[36mascg5a06vn-algo-1-2vtfq |\u001b[0m \n",
      "\u001b[36mascg5a06vn-algo-1-2vtfq |\u001b[0m joblib version:  1.0.1\n",
      "\u001b[36mascg5a06vn-algo-1-2vtfq |\u001b[0m extracting arguments\n",
      "\u001b[36mascg5a06vn-algo-1-2vtfq |\u001b[0m INFO:root:reading data\n",
      "\u001b[36mascg5a06vn-algo-1-2vtfq |\u001b[0m INFO:root:building training and testing datasets\n",
      "\u001b[36mascg5a06vn-algo-1-2vtfq |\u001b[0m 0:\tlearn: 0.5991390\ttest: 0.5991268\tbest: 0.5991268 (0)\ttotal: 87ms\tremaining: 783ms\n",
      "\u001b[36mascg5a06vn-algo-1-2vtfq |\u001b[0m 1:\tlearn: 0.5220286\ttest: 0.5219738\tbest: 0.5219738 (1)\ttotal: 107ms\tremaining: 427ms\n",
      "\u001b[36mascg5a06vn-algo-1-2vtfq |\u001b[0m 2:\tlearn: 0.4578236\ttest: 0.4577781\tbest: 0.4577781 (2)\ttotal: 126ms\tremaining: 295ms\n",
      "\u001b[36mascg5a06vn-algo-1-2vtfq |\u001b[0m 3:\tlearn: 0.4035784\ttest: 0.4035219\tbest: 0.4035219 (3)\ttotal: 132ms\tremaining: 198ms\n",
      "\u001b[36mascg5a06vn-algo-1-2vtfq |\u001b[0m 4:\tlearn: 0.3572529\ttest: 0.3571761\tbest: 0.3571761 (4)\ttotal: 136ms\tremaining: 136ms\n",
      "\u001b[36mascg5a06vn-algo-1-2vtfq |\u001b[0m 5:\tlearn: 0.3172644\ttest: 0.3171564\tbest: 0.3171564 (5)\ttotal: 147ms\tremaining: 97.7ms\n",
      "\u001b[36mascg5a06vn-algo-1-2vtfq |\u001b[0m 6:\tlearn: 0.2826218\ttest: 0.2824950\tbest: 0.2824950 (6)\ttotal: 153ms\tremaining: 65.4ms\n",
      "\u001b[36mascg5a06vn-algo-1-2vtfq |\u001b[0m 7:\tlearn: 0.2525312\ttest: 0.2524118\tbest: 0.2524118 (7)\ttotal: 158ms\tremaining: 39.4ms\n",
      "\u001b[36mascg5a06vn-algo-1-2vtfq |\u001b[0m 8:\tlearn: 0.2260751\ttest: 0.2259412\tbest: 0.2259412 (8)\ttotal: 166ms\tremaining: 18.4ms\n",
      "\u001b[36mascg5a06vn-algo-1-2vtfq |\u001b[0m 9:\tlearn: 0.2029235\ttest: 0.2028018\tbest: 0.2028018 (9)\ttotal: 169ms\tremaining: 0us\n",
      "\u001b[36mascg5a06vn-algo-1-2vtfq |\u001b[0m \n",
      "\u001b[36mascg5a06vn-algo-1-2vtfq |\u001b[0m bestTest = 0.2028018078\n",
      "\u001b[36mascg5a06vn-algo-1-2vtfq |\u001b[0m bestIteration = 9\n",
      "\u001b[36mascg5a06vn-algo-1-2vtfq |\u001b[0m \n",
      "\u001b[36mascg5a06vn-algo-1-2vtfq |\u001b[0m INFO:root:saving to /opt/ml/model/model.joblib\n",
      "\u001b[36mascg5a06vn-algo-1-2vtfq |\u001b[0m 2021-11-10 01:40:53,209 sagemaker-containers INFO     Reporting training SUCCESS\n",
      "\u001b[36mascg5a06vn-algo-1-2vtfq exited with code 0\n",
      "\u001b[0mAborting on container exit...\n",
      "===== Job Complete =====\n"
     ]
    }
   ],
   "source": [
    "local_sklearn.fit({'train':s3_train_data_uri}, wait=True)"
   ]
  },
  {
   "cell_type": "markdown",
   "id": "62dfacfc",
   "metadata": {},
   "source": [
    "# 5. 호스트 모드로 훈련"
   ]
  },
  {
   "cell_type": "code",
   "execution_count": 23,
   "id": "84d671b2",
   "metadata": {},
   "outputs": [],
   "source": [
    "from sagemaker.sklearn.estimator import SKLearn\n",
    "\n",
    "FRAMEWORK_VERSION = \"0.23-1\"\n",
    "sess = sagemaker.session.Session()\n",
    "\n",
    "sklearn = SKLearn(\n",
    "    base_job_name = \"catboost-training\",\n",
    "    entry_point=\"catboost_training.py\",    \n",
    "    source_dir='source', \n",
    "    framework_version=FRAMEWORK_VERSION,\n",
    "    instance_type=\"ml.c5.2xlarge\",    \n",
    "    role=role,\n",
    "    sagemaker_session=sess,    \n",
    "    hyperparameters={'cat-features': 'str_ip str_app str_device str_os str_channel STR_EVENT_HOUR',\n",
    "                     'target': 'EVENT_LABEL',\n",
    "                    'train-file': 'train-180000.csv'},\n",
    ")\n",
    "\n",
    "sklearn.fit({'train':s3_train_data_uri}, wait=False)"
   ]
  },
  {
   "cell_type": "code",
   "execution_count": 24,
   "id": "4143ed7f",
   "metadata": {},
   "outputs": [
    {
     "name": "stdout",
     "output_type": "stream",
     "text": [
      "2021-11-10 01:40:56 Starting - Starting the training job...\n",
      "2021-11-10 01:41:24 Starting - Launching requested ML instancesProfilerReport-1636508456: InProgress\n",
      "......\n",
      "2021-11-10 01:42:25 Starting - Preparing the instances for training.........\n",
      "2021-11-10 01:43:52 Downloading - Downloading input data\n",
      "2021-11-10 01:43:52 Training - Downloading the training image..\u001b[34m2021-11-10 01:44:08,049 sagemaker-containers INFO     Imported framework sagemaker_sklearn_container.training\u001b[0m\n",
      "\u001b[34m2021-11-10 01:44:08,051 sagemaker-training-toolkit INFO     No GPUs detected (normal if no gpus installed)\u001b[0m\n",
      "\u001b[34m2021-11-10 01:44:08,060 sagemaker_sklearn_container.training INFO     Invoking user training script.\u001b[0m\n",
      "\n",
      "2021-11-10 01:44:25 Training - Training image download completed. Training in progress.\u001b[34m2021-11-10 01:45:08,436 sagemaker-training-toolkit INFO     Installing dependencies from requirements.txt:\u001b[0m\n",
      "\u001b[34m/miniconda3/bin/python -m pip install -r requirements.txt\u001b[0m\n",
      "\u001b[34mCollecting catboost==0.26\n",
      "  Downloading catboost-0.26-cp37-none-manylinux1_x86_64.whl (69.2 MB)\u001b[0m\n",
      "\u001b[34mRequirement already satisfied: numpy>=1.16.0 in /miniconda3/lib/python3.7/site-packages (from catboost==0.26->-r requirements.txt (line 1)) (1.19.2)\u001b[0m\n",
      "\u001b[34mCollecting plotly\n",
      "  Downloading plotly-5.3.1-py2.py3-none-any.whl (23.9 MB)\u001b[0m\n",
      "\u001b[34mRequirement already satisfied: scipy in /miniconda3/lib/python3.7/site-packages (from catboost==0.26->-r requirements.txt (line 1)) (1.5.3)\u001b[0m\n",
      "\u001b[34mCollecting matplotlib\n",
      "  Downloading matplotlib-3.4.3-cp37-cp37m-manylinux1_x86_64.whl (10.3 MB)\u001b[0m\n",
      "\u001b[34mRequirement already satisfied: pandas>=0.24.0 in /miniconda3/lib/python3.7/site-packages (from catboost==0.26->-r requirements.txt (line 1)) (1.1.3)\u001b[0m\n",
      "\u001b[34mRequirement already satisfied: six in /miniconda3/lib/python3.7/site-packages (from catboost==0.26->-r requirements.txt (line 1)) (1.15.0)\u001b[0m\n",
      "\u001b[34mCollecting graphviz\n",
      "  Downloading graphviz-0.18-py3-none-any.whl (38 kB)\u001b[0m\n",
      "\u001b[34mRequirement already satisfied: pytz>=2017.2 in /miniconda3/lib/python3.7/site-packages (from pandas>=0.24.0->catboost==0.26->-r requirements.txt (line 1)) (2021.1)\u001b[0m\n",
      "\u001b[34mRequirement already satisfied: python-dateutil>=2.7.3 in /miniconda3/lib/python3.7/site-packages (from pandas>=0.24.0->catboost==0.26->-r requirements.txt (line 1)) (2.8.1)\u001b[0m\n",
      "\u001b[34mRequirement already satisfied: pillow>=6.2.0 in /miniconda3/lib/python3.7/site-packages (from matplotlib->catboost==0.26->-r requirements.txt (line 1)) (8.3.1)\u001b[0m\n",
      "\u001b[34mCollecting pyparsing>=2.2.1\n",
      "  Downloading pyparsing-3.0.5-py3-none-any.whl (97 kB)\u001b[0m\n",
      "\u001b[34mCollecting kiwisolver>=1.0.1\n",
      "  Downloading kiwisolver-1.3.2-cp37-cp37m-manylinux_2_5_x86_64.manylinux1_x86_64.whl (1.1 MB)\u001b[0m\n",
      "\u001b[34mCollecting cycler>=0.10\n",
      "  Downloading cycler-0.11.0-py3-none-any.whl (6.4 kB)\u001b[0m\n",
      "\u001b[34mCollecting tenacity>=6.2.0\n",
      "  Downloading tenacity-8.0.1-py3-none-any.whl (24 kB)\u001b[0m\n",
      "\u001b[34mInstalling collected packages: tenacity, pyparsing, kiwisolver, cycler, plotly, matplotlib, graphviz, catboost\u001b[0m\n",
      "\u001b[34mSuccessfully installed catboost-0.26 cycler-0.11.0 graphviz-0.18 kiwisolver-1.3.2 matplotlib-3.4.3 plotly-5.3.1 pyparsing-3.0.5 tenacity-8.0.1\u001b[0m\n",
      "\u001b[34mWARNING: Running pip as the 'root' user can result in broken permissions and conflicting behaviour with the system package manager. It is recommended to use a virtual environment instead: https://pip.pypa.io/warnings/venv\u001b[0m\n",
      "\u001b[34mWARNING: You are using pip version 21.2.4; however, version 21.3.1 is available.\u001b[0m\n",
      "\u001b[34mYou should consider upgrading via the '/miniconda3/bin/python -m pip install --upgrade pip' command.\u001b[0m\n",
      "\u001b[34m2021-11-10 01:45:19,540 sagemaker-training-toolkit INFO     No GPUs detected (normal if no gpus installed)\u001b[0m\n",
      "\u001b[34m2021-11-10 01:45:19,550 sagemaker-training-toolkit INFO     No GPUs detected (normal if no gpus installed)\u001b[0m\n",
      "\u001b[34m2021-11-10 01:45:19,562 sagemaker-training-toolkit INFO     No GPUs detected (normal if no gpus installed)\u001b[0m\n",
      "\u001b[34m2021-11-10 01:45:19,569 sagemaker-training-toolkit INFO     Invoking user script\u001b[0m\n",
      "\u001b[34mTraining Env:\u001b[0m\n",
      "\u001b[34m{\n",
      "    \"additional_framework_parameters\": {},\n",
      "    \"channel_input_dirs\": {\n",
      "        \"train\": \"/opt/ml/input/data/train\"\n",
      "    },\n",
      "    \"current_host\": \"algo-1\",\n",
      "    \"framework_module\": \"sagemaker_sklearn_container.training:main\",\n",
      "    \"hosts\": [\n",
      "        \"algo-1\"\n",
      "    ],\n",
      "    \"hyperparameters\": {\n",
      "        \"train-file\": \"train-180000.csv\",\n",
      "        \"cat-features\": \"str_ip str_app str_device str_os str_channel STR_EVENT_HOUR\",\n",
      "        \"target\": \"EVENT_LABEL\"\n",
      "    },\n",
      "    \"input_config_dir\": \"/opt/ml/input/config\",\n",
      "    \"input_data_config\": {\n",
      "        \"train\": {\n",
      "            \"TrainingInputMode\": \"File\",\n",
      "            \"S3DistributionType\": \"FullyReplicated\",\n",
      "            \"RecordWrapperType\": \"None\"\n",
      "        }\n",
      "    },\n",
      "    \"input_dir\": \"/opt/ml/input\",\n",
      "    \"is_master\": true,\n",
      "    \"job_name\": \"catboost-training-2021-11-10-01-40-56-178\",\n",
      "    \"log_level\": 20,\n",
      "    \"master_hostname\": \"algo-1\",\n",
      "    \"model_dir\": \"/opt/ml/model\",\n",
      "    \"module_dir\": \"s3://sagemaker-us-east-1-057716757052/catboost-training-2021-11-10-01-40-56-178/source/sourcedir.tar.gz\",\n",
      "    \"module_name\": \"catboost_training\",\n",
      "    \"network_interface_name\": \"eth0\",\n",
      "    \"num_cpus\": 8,\n",
      "    \"num_gpus\": 0,\n",
      "    \"output_data_dir\": \"/opt/ml/output/data\",\n",
      "    \"output_dir\": \"/opt/ml/output\",\n",
      "    \"output_intermediate_dir\": \"/opt/ml/output/intermediate\",\n",
      "    \"resource_config\": {\n",
      "        \"current_host\": \"algo-1\",\n",
      "        \"hosts\": [\n",
      "            \"algo-1\"\n",
      "        ],\n",
      "        \"network_interface_name\": \"eth0\"\n",
      "    },\n",
      "    \"user_entry_point\": \"catboost_training.py\"\u001b[0m\n",
      "\u001b[34m}\u001b[0m\n",
      "\u001b[34mEnvironment variables:\u001b[0m\n",
      "\u001b[34mSM_HOSTS=[\"algo-1\"]\u001b[0m\n",
      "\u001b[34mSM_NETWORK_INTERFACE_NAME=eth0\u001b[0m\n",
      "\u001b[34mSM_HPS={\"cat-features\":\"str_ip str_app str_device str_os str_channel STR_EVENT_HOUR\",\"target\":\"EVENT_LABEL\",\"train-file\":\"train-180000.csv\"}\u001b[0m\n",
      "\u001b[34mSM_USER_ENTRY_POINT=catboost_training.py\u001b[0m\n",
      "\u001b[34mSM_FRAMEWORK_PARAMS={}\u001b[0m\n",
      "\u001b[34mSM_RESOURCE_CONFIG={\"current_host\":\"algo-1\",\"hosts\":[\"algo-1\"],\"network_interface_name\":\"eth0\"}\u001b[0m\n",
      "\u001b[34mSM_INPUT_DATA_CONFIG={\"train\":{\"RecordWrapperType\":\"None\",\"S3DistributionType\":\"FullyReplicated\",\"TrainingInputMode\":\"File\"}}\u001b[0m\n",
      "\u001b[34mSM_OUTPUT_DATA_DIR=/opt/ml/output/data\u001b[0m\n",
      "\u001b[34mSM_CHANNELS=[\"train\"]\u001b[0m\n",
      "\u001b[34mSM_CURRENT_HOST=algo-1\u001b[0m\n",
      "\u001b[34mSM_MODULE_NAME=catboost_training\u001b[0m\n",
      "\u001b[34mSM_LOG_LEVEL=20\u001b[0m\n",
      "\u001b[34mSM_FRAMEWORK_MODULE=sagemaker_sklearn_container.training:main\u001b[0m\n",
      "\u001b[34mSM_INPUT_DIR=/opt/ml/input\u001b[0m\n",
      "\u001b[34mSM_INPUT_CONFIG_DIR=/opt/ml/input/config\u001b[0m\n",
      "\u001b[34mSM_OUTPUT_DIR=/opt/ml/output\u001b[0m\n",
      "\u001b[34mSM_NUM_CPUS=8\u001b[0m\n",
      "\u001b[34mSM_NUM_GPUS=0\u001b[0m\n",
      "\u001b[34mSM_MODEL_DIR=/opt/ml/model\u001b[0m\n",
      "\u001b[34mSM_MODULE_DIR=s3://sagemaker-us-east-1-057716757052/catboost-training-2021-11-10-01-40-56-178/source/sourcedir.tar.gz\u001b[0m\n",
      "\u001b[34mSM_TRAINING_ENV={\"additional_framework_parameters\":{},\"channel_input_dirs\":{\"train\":\"/opt/ml/input/data/train\"},\"current_host\":\"algo-1\",\"framework_module\":\"sagemaker_sklearn_container.training:main\",\"hosts\":[\"algo-1\"],\"hyperparameters\":{\"cat-features\":\"str_ip str_app str_device str_os str_channel STR_EVENT_HOUR\",\"target\":\"EVENT_LABEL\",\"train-file\":\"train-180000.csv\"},\"input_config_dir\":\"/opt/ml/input/config\",\"input_data_config\":{\"train\":{\"RecordWrapperType\":\"None\",\"S3DistributionType\":\"FullyReplicated\",\"TrainingInputMode\":\"File\"}},\"input_dir\":\"/opt/ml/input\",\"is_master\":true,\"job_name\":\"catboost-training-2021-11-10-01-40-56-178\",\"log_level\":20,\"master_hostname\":\"algo-1\",\"model_dir\":\"/opt/ml/model\",\"module_dir\":\"s3://sagemaker-us-east-1-057716757052/catboost-training-2021-11-10-01-40-56-178/source/sourcedir.tar.gz\",\"module_name\":\"catboost_training\",\"network_interface_name\":\"eth0\",\"num_cpus\":8,\"num_gpus\":0,\"output_data_dir\":\"/opt/ml/output/data\",\"output_dir\":\"/opt/ml/output\",\"output_intermediate_dir\":\"/opt/ml/output/intermediate\",\"resource_config\":{\"current_host\":\"algo-1\",\"hosts\":[\"algo-1\"],\"network_interface_name\":\"eth0\"},\"user_entry_point\":\"catboost_training.py\"}\u001b[0m\n",
      "\u001b[34mSM_USER_ARGS=[\"--cat-features\",\"str_ip str_app str_device str_os str_channel STR_EVENT_HOUR\",\"--target\",\"EVENT_LABEL\",\"--train-file\",\"train-180000.csv\"]\u001b[0m\n",
      "\u001b[34mSM_OUTPUT_INTERMEDIATE_DIR=/opt/ml/output/intermediate\u001b[0m\n",
      "\u001b[34mSM_CHANNEL_TRAIN=/opt/ml/input/data/train\u001b[0m\n",
      "\u001b[34mSM_HP_TRAIN-FILE=train-180000.csv\u001b[0m\n",
      "\u001b[34mSM_HP_CAT-FEATURES=str_ip str_app str_device str_os str_channel STR_EVENT_HOUR\u001b[0m\n",
      "\u001b[34mSM_HP_TARGET=EVENT_LABEL\u001b[0m\n",
      "\u001b[34mPYTHONPATH=/opt/ml/code:/miniconda3/bin:/miniconda3/lib/python37.zip:/miniconda3/lib/python3.7:/miniconda3/lib/python3.7/lib-dynload:/miniconda3/lib/python3.7/site-packages\u001b[0m\n",
      "\u001b[34mInvoking script with the following command:\u001b[0m\n",
      "\u001b[34m/miniconda3/bin/python catboost_training.py --cat-features str_ip str_app str_device str_os str_channel STR_EVENT_HOUR --target EVENT_LABEL --train-file train-180000.csv\u001b[0m\n",
      "\u001b[34mjoblib version:  1.0.1\u001b[0m\n",
      "\u001b[34mextracting arguments\u001b[0m\n",
      "\u001b[34mINFO:root:reading data\u001b[0m\n",
      "\u001b[34mINFO:root:building training and testing datasets\u001b[0m\n",
      "\u001b[34m0:#011learn: 0.5991390#011test: 0.5991268#011best: 0.5991268 (0)#011total: 70.5ms#011remaining: 635ms\u001b[0m\n",
      "\u001b[34m1:#011learn: 0.5220286#011test: 0.5219738#011best: 0.5219738 (1)#011total: 93.3ms#011remaining: 373ms\u001b[0m\n",
      "\u001b[34m2:#011learn: 0.4578236#011test: 0.4577781#011best: 0.4577781 (2)#011total: 112ms#011remaining: 262ms\u001b[0m\n",
      "\u001b[34m3:#011learn: 0.4035784#011test: 0.4035219#011best: 0.4035219 (3)#011total: 127ms#011remaining: 190ms\u001b[0m\n",
      "\u001b[34m4:#011learn: 0.3572529#011test: 0.3571761#011best: 0.3571761 (4)#011total: 136ms#011remaining: 136ms\u001b[0m\n",
      "\u001b[34m5:#011learn: 0.3172644#011test: 0.3171564#011best: 0.3171564 (5)#011total: 153ms#011remaining: 102ms\u001b[0m\n",
      "\u001b[34m6:#011learn: 0.2826218#011test: 0.2824950#011best: 0.2824950 (6)#011total: 163ms#011remaining: 70ms\u001b[0m\n",
      "\u001b[34m7:#011learn: 0.2525312#011test: 0.2524118#011best: 0.2524118 (7)#011total: 173ms#011remaining: 43.2ms\u001b[0m\n",
      "\u001b[34m8:#011learn: 0.2260751#011test: 0.2259412#011best: 0.2259412 (8)#011total: 187ms#011remaining: 20.8ms\u001b[0m\n",
      "\u001b[34m9:#011learn: 0.2029235#011test: 0.2028018#011best: 0.2028018 (9)#011total: 193ms#011remaining: 0us\u001b[0m\n",
      "\u001b[34mbestTest = 0.2028018078\u001b[0m\n",
      "\u001b[34mbestIteration = 9\u001b[0m\n",
      "\u001b[34mINFO:root:saving to /opt/ml/model/model.joblib\u001b[0m\n",
      "\u001b[34m2021-11-10 01:45:21,645 sagemaker-containers INFO     Reporting training SUCCESS\u001b[0m\n",
      "\n",
      "2021-11-10 01:45:33 Uploading - Uploading generated training model\n",
      "2021-11-10 01:45:33 Completed - Training job completed\n",
      "Training seconds: 115\n",
      "Billable seconds: 115\n"
     ]
    }
   ],
   "source": [
    "sklearn.logs()"
   ]
  },
  {
   "cell_type": "markdown",
   "id": "afd62089",
   "metadata": {},
   "source": [
    "# 6. 추론 함수 테스트"
   ]
  },
  {
   "cell_type": "markdown",
   "id": "064de3aa",
   "metadata": {},
   "source": [
    "## 모델 아티펙트 다운로드 및 압축해제\n",
    "- 모델 아티펙트를 다운로드 합니다.\n",
    "- 다운로드 받은 모델 아티펙트의 압축을 해제하고 모델 가중치인 model.pth 파일을 얻습니다."
   ]
  },
  {
   "cell_type": "code",
   "execution_count": 25,
   "id": "3be8d51a",
   "metadata": {},
   "outputs": [
    {
     "name": "stdout",
     "output_type": "stream",
     "text": [
      "artifact_path:  s3://sagemaker-us-east-1-057716757052/catboost-training-2021-11-10-01-40-37-755/model.tar.gz\n"
     ]
    }
   ],
   "source": [
    "artifact_path = local_sklearn.model_data\n",
    "print(\"artifact_path: \", artifact_path)"
   ]
  },
  {
   "cell_type": "code",
   "execution_count": 26,
   "id": "15c474b1",
   "metadata": {},
   "outputs": [],
   "source": [
    "import os\n",
    "\n",
    "model_data_dir = 'model/script'\n",
    "os.makedirs(model_data_dir, exist_ok=True)\n"
   ]
  },
  {
   "cell_type": "code",
   "execution_count": 27,
   "id": "fc5fdcf2",
   "metadata": {},
   "outputs": [
    {
     "name": "stdout",
     "output_type": "stream",
     "text": [
      "s3://sagemaker-us-east-1-057716757052/catboost-training-2021-11-10-01-40-37-755/model.tar.gz\n",
      "model/script\n",
      "download: s3://sagemaker-us-east-1-057716757052/catboost-training-2021-11-10-01-40-37-755/model.tar.gz to model/script/model.tar.gz\n",
      "model.joblib\n"
     ]
    }
   ],
   "source": [
    "%%sh -s {artifact_path} {model_data_dir}\n",
    "\n",
    "echo $1\n",
    "echo $2\n",
    "\n",
    "aws s3 cp $1 $2\n",
    "cd $2\n",
    "tar -xvf model.tar.gz  "
   ]
  },
  {
   "cell_type": "markdown",
   "id": "c9b76bdd",
   "metadata": {},
   "source": [
    "## 모델 로딩 함수 테스트"
   ]
  },
  {
   "cell_type": "code",
   "execution_count": 28,
   "id": "3ae8fb71",
   "metadata": {},
   "outputs": [
    {
     "name": "stdout",
     "output_type": "stream",
     "text": [
      "joblib version:  1.0.1\n"
     ]
    }
   ],
   "source": [
    "import sys, os\n",
    "from source.catboost_training  import model_fn , input_fn, predict_fn"
   ]
  },
  {
   "cell_type": "code",
   "execution_count": 29,
   "id": "efdf9554",
   "metadata": {},
   "outputs": [
    {
     "name": "stdout",
     "output_type": "stream",
     "text": [
      "############### Model_FN() ###################\n",
      "### Model loaded \n"
     ]
    }
   ],
   "source": [
    "model = model_fn(model_data_dir)"
   ]
  },
  {
   "cell_type": "markdown",
   "id": "1e1e8f62",
   "metadata": {},
   "source": [
    "## Input 함수 테스트"
   ]
  },
  {
   "cell_type": "markdown",
   "id": "3ada7426",
   "metadata": {},
   "source": [
    "## 테스트 데이터 로딩"
   ]
  },
  {
   "cell_type": "code",
   "execution_count": 30,
   "id": "1378b4b8",
   "metadata": {},
   "outputs": [],
   "source": [
    "from src.sm_utils import get_payload"
   ]
  },
  {
   "cell_type": "code",
   "execution_count": 31,
   "id": "1cc4e791",
   "metadata": {},
   "outputs": [],
   "source": [
    "sample_df = test_df.head(5)"
   ]
  },
  {
   "cell_type": "code",
   "execution_count": 33,
   "id": "708a043f",
   "metadata": {},
   "outputs": [
    {
     "data": {
      "text/plain": [
       "'str_171877,str_3,str_1,str_26,str_280,str_1\\nstr_102999,str_18,str_1,str_13,str_121,str_3\\nstr_35096,str_8,str_1,str_25,str_145,str_10\\nstr_17149,str_3,str_2,str_27,str_137,str_13\\nstr_83735,str_12,str_1,str_13,str_328,str_4\\n'"
      ]
     },
     "execution_count": 33,
     "metadata": {},
     "output_type": "execute_result"
    }
   ],
   "source": [
    "payload = get_payload(sample_df, label_col = 'EVENT_LABEL', verbose=False)\n",
    "payload\n",
    "\n"
   ]
  },
  {
   "cell_type": "code",
   "execution_count": 34,
   "id": "11f9dc1b",
   "metadata": {},
   "outputs": [
    {
     "name": "stdout",
     "output_type": "stream",
     "text": [
      "#### input_fn starting ######\n",
      "data type: <class 'str'>\n",
      "input is \n",
      " str_171877,str_3,str_1,str_26,str_280,str_1\n",
      "str_102999,str_18,str_1,str_13,str_121,str_3\n",
      "str_35096,str_8,str_1,str_25,str_145,str_10\n",
      "str_17149,str_3,str_2,str_27,str_137,str_13\n",
      "str_83735,str_12,str_1,str_13,str_328,str_4\n",
      "\n",
      "After tansformation, data type: <class 'numpy.ndarray'>\n",
      "input is \n",
      " [['str_171877' 'str_3' 'str_1' 'str_26' 'str_280' 'str_1']\n",
      " ['str_102999' 'str_18' 'str_1' 'str_13' 'str_121' 'str_3']\n",
      " ['str_35096' 'str_8' 'str_1' 'str_25' 'str_145' 'str_10']\n",
      " ['str_17149' 'str_3' 'str_2' 'str_27' 'str_137' 'str_13']\n",
      " ['str_83735' 'str_12' 'str_1' 'str_13' 'str_328' 'str_4']]\n",
      "result_input_fn:  (5, 6)\n"
     ]
    }
   ],
   "source": [
    "result_input_fn = input_fn(payload, content_type='text/csv')\n",
    "print(\"result_input_fn: \", result_input_fn.shape)\n",
    "\n"
   ]
  },
  {
   "cell_type": "markdown",
   "id": "b9691aed",
   "metadata": {},
   "source": [
    "## Predict 함수 테스트"
   ]
  },
  {
   "cell_type": "code",
   "execution_count": 35,
   "id": "a015fe20",
   "metadata": {},
   "outputs": [
    {
     "name": "stdout",
     "output_type": "stream",
     "text": [
      "############### predict_FN() ###################\n",
      "type:  <class 'numpy.ndarray'>\n",
      "input: \n",
      " [['str_171877' 'str_3' 'str_1' 'str_26' 'str_280' 'str_1']\n",
      " ['str_102999' 'str_18' 'str_1' 'str_13' 'str_121' 'str_3']\n",
      " ['str_35096' 'str_8' 'str_1' 'str_25' 'str_145' 'str_10']\n",
      " ['str_17149' 'str_3' 'str_2' 'str_27' 'str_137' 'str_13']\n",
      " ['str_83735' 'str_12' 'str_1' 'str_13' 'str_328' 'str_4']]\n"
     ]
    },
    {
     "data": {
      "text/plain": [
       "array([[0.81956982, 0.18043018],\n",
       "       [0.81956982, 0.18043018],\n",
       "       [0.81956982, 0.18043018],\n",
       "       [0.81869713, 0.18130287],\n",
       "       [0.81956982, 0.18043018]])"
      ]
     },
     "execution_count": 35,
     "metadata": {},
     "output_type": "execute_result"
    }
   ],
   "source": [
    "output = predict_fn(result_input_fn, model)\n",
    "#output = predict_fn(images, model)\n",
    "output"
   ]
  },
  {
   "cell_type": "markdown",
   "id": "e5ea1c61",
   "metadata": {},
   "source": [
    "# 7. 로컬 엔드포인트에서 추론 "
   ]
  },
  {
   "cell_type": "code",
   "execution_count": 36,
   "id": "fafdcefe",
   "metadata": {},
   "outputs": [
    {
     "name": "stdout",
     "output_type": "stream",
     "text": [
      "local_endpoint_name:  local-endpoint-68739\n"
     ]
    }
   ],
   "source": [
    "from datetime import datetime\n",
    "suffix = datetime.now().microsecond\n",
    "\n",
    "instance_type='local'\n",
    "local_endpoint_name = 'local-endpoint-' + str(suffix)\n",
    "print(\"local_endpoint_name: \", local_endpoint_name)\n"
   ]
  },
  {
   "cell_type": "code",
   "execution_count": 37,
   "id": "c1807762",
   "metadata": {},
   "outputs": [],
   "source": [
    "# 로컬 노트북 인스턴스에서 사용할 로컬 세션\n",
    "local_session = sagemaker.local.LocalSession()\n",
    "local_session.config = {'local' : {'local_code':True}}"
   ]
  },
  {
   "cell_type": "code",
   "execution_count": 38,
   "id": "b5a20251",
   "metadata": {},
   "outputs": [
    {
     "name": "stdout",
     "output_type": "stream",
     "text": [
      "Attaching to zjbmhkpbn8-algo-1-559cq\n",
      "\u001b[36mzjbmhkpbn8-algo-1-559cq |\u001b[0m 2021-11-10 01:48:07,377 INFO - sagemaker-containers - No GPUs detected (normal if no gpus installed)\n",
      "\u001b[36mzjbmhkpbn8-algo-1-559cq |\u001b[0m 2021-11-10 01:48:07,381 INFO - sagemaker-containers - No GPUs detected (normal if no gpus installed)\n",
      "\u001b[36mzjbmhkpbn8-algo-1-559cq |\u001b[0m 2021-11-10 01:48:07,382 INFO - sagemaker-containers - nginx config: \n",
      "\u001b[36mzjbmhkpbn8-algo-1-559cq |\u001b[0m worker_processes auto;\n",
      "\u001b[36mzjbmhkpbn8-algo-1-559cq |\u001b[0m daemon off;\n",
      "\u001b[36mzjbmhkpbn8-algo-1-559cq |\u001b[0m pid /tmp/nginx.pid;\n",
      "\u001b[36mzjbmhkpbn8-algo-1-559cq |\u001b[0m error_log  /dev/stderr;\n",
      "\u001b[36mzjbmhkpbn8-algo-1-559cq |\u001b[0m \n",
      "\u001b[36mzjbmhkpbn8-algo-1-559cq |\u001b[0m worker_rlimit_nofile 4096;\n",
      "\u001b[36mzjbmhkpbn8-algo-1-559cq |\u001b[0m \n",
      "\u001b[36mzjbmhkpbn8-algo-1-559cq |\u001b[0m events {\n",
      "\u001b[36mzjbmhkpbn8-algo-1-559cq |\u001b[0m   worker_connections 2048;\n",
      "\u001b[36mzjbmhkpbn8-algo-1-559cq |\u001b[0m }\n",
      "\u001b[36mzjbmhkpbn8-algo-1-559cq |\u001b[0m \n",
      "\u001b[36mzjbmhkpbn8-algo-1-559cq |\u001b[0m http {\n",
      "\u001b[36mzjbmhkpbn8-algo-1-559cq |\u001b[0m   include /etc/nginx/mime.types;\n",
      "\u001b[36mzjbmhkpbn8-algo-1-559cq |\u001b[0m   default_type application/octet-stream;\n",
      "\u001b[36mzjbmhkpbn8-algo-1-559cq |\u001b[0m   access_log /dev/stdout combined;\n",
      "\u001b[36mzjbmhkpbn8-algo-1-559cq |\u001b[0m \n",
      "\u001b[36mzjbmhkpbn8-algo-1-559cq |\u001b[0m   upstream gunicorn {\n",
      "\u001b[36mzjbmhkpbn8-algo-1-559cq |\u001b[0m     server unix:/tmp/gunicorn.sock;\n",
      "\u001b[36mzjbmhkpbn8-algo-1-559cq |\u001b[0m   }\n",
      "\u001b[36mzjbmhkpbn8-algo-1-559cq |\u001b[0m \n",
      "\u001b[36mzjbmhkpbn8-algo-1-559cq |\u001b[0m   server {\n",
      "\u001b[36mzjbmhkpbn8-algo-1-559cq |\u001b[0m     listen 8080 deferred;\n",
      "\u001b[36mzjbmhkpbn8-algo-1-559cq |\u001b[0m     client_max_body_size 0;\n",
      "\u001b[36mzjbmhkpbn8-algo-1-559cq |\u001b[0m \n",
      "\u001b[36mzjbmhkpbn8-algo-1-559cq |\u001b[0m     keepalive_timeout 3;\n",
      "\u001b[36mzjbmhkpbn8-algo-1-559cq |\u001b[0m \n",
      "\u001b[36mzjbmhkpbn8-algo-1-559cq |\u001b[0m     location ~ ^/(ping|invocations|execution-parameters) {\n",
      "\u001b[36mzjbmhkpbn8-algo-1-559cq |\u001b[0m       proxy_set_header X-Forwarded-For $proxy_add_x_forwarded_for;\n",
      "\u001b[36mzjbmhkpbn8-algo-1-559cq |\u001b[0m       proxy_set_header Host $http_host;\n",
      "\u001b[36mzjbmhkpbn8-algo-1-559cq |\u001b[0m       proxy_redirect off;\n",
      "\u001b[36mzjbmhkpbn8-algo-1-559cq |\u001b[0m       proxy_read_timeout 60s;\n",
      "\u001b[36mzjbmhkpbn8-algo-1-559cq |\u001b[0m       proxy_pass http://gunicorn;\n",
      "\u001b[36mzjbmhkpbn8-algo-1-559cq |\u001b[0m     }\n",
      "\u001b[36mzjbmhkpbn8-algo-1-559cq |\u001b[0m \n",
      "\u001b[36mzjbmhkpbn8-algo-1-559cq |\u001b[0m     location / {\n",
      "\u001b[36mzjbmhkpbn8-algo-1-559cq |\u001b[0m       return 404 \"{}\";\n",
      "\u001b[36mzjbmhkpbn8-algo-1-559cq |\u001b[0m     }\n",
      "\u001b[36mzjbmhkpbn8-algo-1-559cq |\u001b[0m \n",
      "\u001b[36mzjbmhkpbn8-algo-1-559cq |\u001b[0m   }\n",
      "\u001b[36mzjbmhkpbn8-algo-1-559cq |\u001b[0m }\n",
      "\u001b[36mzjbmhkpbn8-algo-1-559cq |\u001b[0m \n",
      "\u001b[36mzjbmhkpbn8-algo-1-559cq |\u001b[0m \n",
      "\u001b[36mzjbmhkpbn8-algo-1-559cq |\u001b[0m 2021-11-10 01:48:07,526 INFO - sagemaker-containers - Module catboost_training does not provide a setup.py. \n",
      "\u001b[36mzjbmhkpbn8-algo-1-559cq |\u001b[0m Generating setup.py\n",
      "\u001b[36mzjbmhkpbn8-algo-1-559cq |\u001b[0m 2021-11-10 01:48:07,527 INFO - sagemaker-containers - Generating setup.cfg\n",
      "\u001b[36mzjbmhkpbn8-algo-1-559cq |\u001b[0m 2021-11-10 01:48:07,527 INFO - sagemaker-containers - Generating MANIFEST.in\n",
      "\u001b[36mzjbmhkpbn8-algo-1-559cq |\u001b[0m 2021-11-10 01:48:07,527 INFO - sagemaker-containers - Installing module with the following command:\n",
      "\u001b[36mzjbmhkpbn8-algo-1-559cq |\u001b[0m /miniconda3/bin/python3 -m pip install . -r requirements.txt\n",
      "\u001b[36mzjbmhkpbn8-algo-1-559cq |\u001b[0m Processing /opt/ml/code\n",
      "\u001b[36mzjbmhkpbn8-algo-1-559cq |\u001b[0m \u001b[33m  DEPRECATION: A future pip version will change local packages to be built in-place without first copying to a temporary directory. We recommend you use --use-feature=in-tree-build to test your packages with this new behavior before it becomes the default.\n",
      "\u001b[36mzjbmhkpbn8-algo-1-559cq |\u001b[0m    pip 21.3 will remove support for this functionality. You can find discussion regarding this at https://github.com/pypa/pip/issues/7555.\u001b[0m\n",
      "\u001b[36mzjbmhkpbn8-algo-1-559cq |\u001b[0m Collecting catboost==0.26\n",
      "\u001b[36mzjbmhkpbn8-algo-1-559cq |\u001b[0m   Downloading catboost-0.26-cp37-none-manylinux1_x86_64.whl (69.2 MB)\n",
      "\u001b[K     |████████████████████████████████| 69.2 MB 64.4 MB/s eta 0:00:01\n",
      "\u001b[36mzjbmhkpbn8-algo-1-559cq |\u001b[0m \u001b[?25hRequirement already satisfied: scipy in /miniconda3/lib/python3.7/site-packages (from catboost==0.26->-r requirements.txt (line 1)) (1.5.3)\n",
      "\u001b[36mzjbmhkpbn8-algo-1-559cq |\u001b[0m Collecting plotly\n",
      "\u001b[36mzjbmhkpbn8-algo-1-559cq |\u001b[0m   Downloading plotly-5.3.1-py2.py3-none-any.whl (23.9 MB)\n",
      "\u001b[K     |████████████████████████████████| 23.9 MB 59.4 MB/s eta 0:00:01\n",
      "\u001b[36mzjbmhkpbn8-algo-1-559cq |\u001b[0m \u001b[?25hRequirement already satisfied: six in /miniconda3/lib/python3.7/site-packages (from catboost==0.26->-r requirements.txt (line 1)) (1.15.0)\n",
      "\u001b[36mzjbmhkpbn8-algo-1-559cq |\u001b[0m Requirement already satisfied: numpy>=1.16.0 in /miniconda3/lib/python3.7/site-packages (from catboost==0.26->-r requirements.txt (line 1)) (1.19.2)\n",
      "\u001b[36mzjbmhkpbn8-algo-1-559cq |\u001b[0m Requirement already satisfied: pandas>=0.24.0 in /miniconda3/lib/python3.7/site-packages (from catboost==0.26->-r requirements.txt (line 1)) (1.1.3)\n",
      "\u001b[36mzjbmhkpbn8-algo-1-559cq |\u001b[0m Collecting matplotlib\n",
      "\u001b[36mzjbmhkpbn8-algo-1-559cq |\u001b[0m   Downloading matplotlib-3.4.3-cp37-cp37m-manylinux1_x86_64.whl (10.3 MB)\n",
      "\u001b[K     |████████████████████████████████| 10.3 MB 75.1 MB/s eta 0:00:01\n",
      "\u001b[36mzjbmhkpbn8-algo-1-559cq |\u001b[0m \u001b[?25h2021/11/10 01:48:10 [crit] 76#76: *1 connect() to unix:/tmp/gunicorn.sock failed (2: No such file or directory) while connecting to upstream, client: 172.18.0.1, server: , request: \"GET /ping HTTP/1.1\", upstream: \"http://unix:/tmp/gunicorn.sock:/ping\", host: \"localhost:8080\"\n",
      "\u001b[36mzjbmhkpbn8-algo-1-559cq |\u001b[0m 172.18.0.1 - - [10/Nov/2021:01:48:10 +0000] \"GET /ping HTTP/1.1\" 502 182 \"-\" \"python-urllib3/1.26.7\"\n",
      "\u001b[36mzjbmhkpbn8-algo-1-559cq |\u001b[0m Collecting graphviz\n",
      "\u001b[36mzjbmhkpbn8-algo-1-559cq |\u001b[0m   Downloading graphviz-0.18-py3-none-any.whl (38 kB)\n",
      "\u001b[36mzjbmhkpbn8-algo-1-559cq |\u001b[0m Requirement already satisfied: pytz>=2017.2 in /miniconda3/lib/python3.7/site-packages (from pandas>=0.24.0->catboost==0.26->-r requirements.txt (line 1)) (2021.1)\n",
      "\u001b[36mzjbmhkpbn8-algo-1-559cq |\u001b[0m Requirement already satisfied: python-dateutil>=2.7.3 in /miniconda3/lib/python3.7/site-packages (from pandas>=0.24.0->catboost==0.26->-r requirements.txt (line 1)) (2.8.1)\n",
      "\u001b[36mzjbmhkpbn8-algo-1-559cq |\u001b[0m Collecting kiwisolver>=1.0.1\n",
      "\u001b[36mzjbmhkpbn8-algo-1-559cq |\u001b[0m   Downloading kiwisolver-1.3.2-cp37-cp37m-manylinux_2_5_x86_64.manylinux1_x86_64.whl (1.1 MB)\n",
      "\u001b[K     |████████████████████████████████| 1.1 MB 101.4 MB/s eta 0:00:01\n",
      "\u001b[36mzjbmhkpbn8-algo-1-559cq |\u001b[0m \u001b[?25hRequirement already satisfied: pillow>=6.2.0 in /miniconda3/lib/python3.7/site-packages (from matplotlib->catboost==0.26->-r requirements.txt (line 1)) (8.3.1)\n",
      "\u001b[36mzjbmhkpbn8-algo-1-559cq |\u001b[0m Collecting cycler>=0.10\n",
      "\u001b[36mzjbmhkpbn8-algo-1-559cq |\u001b[0m   Downloading cycler-0.11.0-py3-none-any.whl (6.4 kB)\n",
      "\u001b[36mzjbmhkpbn8-algo-1-559cq |\u001b[0m Collecting pyparsing>=2.2.1\n",
      "\u001b[36mzjbmhkpbn8-algo-1-559cq |\u001b[0m   Downloading pyparsing-3.0.5-py3-none-any.whl (97 kB)\n",
      "\u001b[K     |████████████████████████████████| 97 kB 13.7 MB/s  eta 0:00:01\n",
      "\u001b[36mzjbmhkpbn8-algo-1-559cq |\u001b[0m \u001b[?25hCollecting tenacity>=6.2.0\n",
      "\u001b[36mzjbmhkpbn8-algo-1-559cq |\u001b[0m   Downloading tenacity-8.0.1-py3-none-any.whl (24 kB)\n",
      "\u001b[36mzjbmhkpbn8-algo-1-559cq |\u001b[0m Building wheels for collected packages: catboost-training\n",
      "\u001b[36mzjbmhkpbn8-algo-1-559cq |\u001b[0m   Building wheel for catboost-training (setup.py) ... \u001b[?25ldone\n",
      "\u001b[36mzjbmhkpbn8-algo-1-559cq |\u001b[0m \u001b[?25h  Created wheel for catboost-training: filename=catboost_training-1.0.0-py2.py3-none-any.whl size=5776 sha256=89d21a3d7e1e026898d6977529b4c9bcb7a1bb2dc155bc162560116f2bb13485\n",
      "\u001b[36mzjbmhkpbn8-algo-1-559cq |\u001b[0m   Stored in directory: /home/model-server/tmp/pip-ephem-wheel-cache-ucoaur22/wheels/3e/0f/51/2f1df833dd0412c1bc2f5ee56baac195b5be563353d111dca6\n",
      "\u001b[36mzjbmhkpbn8-algo-1-559cq |\u001b[0m Successfully built catboost-training\n",
      "\u001b[36mzjbmhkpbn8-algo-1-559cq |\u001b[0m Installing collected packages: tenacity, pyparsing, kiwisolver, cycler, plotly, matplotlib, graphviz, catboost-training, catboost\n",
      "\u001b[36mzjbmhkpbn8-algo-1-559cq |\u001b[0m 2021/11/10 01:48:15 [crit] 76#76: *3 connect() to unix:/tmp/gunicorn.sock failed (2: No such file or directory) while connecting to upstream, client: 172.18.0.1, server: , request: \"GET /ping HTTP/1.1\", upstream: \"http://unix:/tmp/gunicorn.sock:/ping\", host: \"localhost:8080\"\n",
      "\u001b[36mzjbmhkpbn8-algo-1-559cq |\u001b[0m 172.18.0.1 - - [10/Nov/2021:01:48:15 +0000] \"GET /ping HTTP/1.1\" 502 182 \"-\" \"python-urllib3/1.26.7\"\n",
      "\u001b[36mzjbmhkpbn8-algo-1-559cq |\u001b[0m Successfully installed catboost-0.26 catboost-training-1.0.0 cycler-0.11.0 graphviz-0.18 kiwisolver-1.3.2 matplotlib-3.4.3 plotly-5.3.1 pyparsing-3.0.5 tenacity-8.0.1\n",
      "\u001b[36mzjbmhkpbn8-algo-1-559cq |\u001b[0m \u001b[33mWARNING: Running pip as the 'root' user can result in broken permissions and conflicting behaviour with the system package manager. It is recommended to use a virtual environment instead: https://pip.pypa.io/warnings/venv\u001b[0m\n",
      "\u001b[36mzjbmhkpbn8-algo-1-559cq |\u001b[0m \u001b[33mWARNING: You are using pip version 21.2.4; however, version 21.3.1 is available.\n",
      "\u001b[36mzjbmhkpbn8-algo-1-559cq |\u001b[0m You should consider upgrading via the '/miniconda3/bin/python3 -m pip install --upgrade pip' command.\u001b[0m\n",
      "\u001b[36mzjbmhkpbn8-algo-1-559cq |\u001b[0m joblib version:  1.0.1\n",
      "\u001b[36mzjbmhkpbn8-algo-1-559cq |\u001b[0m joblib version:  1.0.1\n",
      "\u001b[36mzjbmhkpbn8-algo-1-559cq |\u001b[0m [2021-11-10 01:48:19 +0000] [225] [INFO] Starting gunicorn 20.0.4\n",
      "\u001b[36mzjbmhkpbn8-algo-1-559cq |\u001b[0m [2021-11-10 01:48:19 +0000] [225] [INFO] Listening at: unix:/tmp/gunicorn.sock (225)\n",
      "\u001b[36mzjbmhkpbn8-algo-1-559cq |\u001b[0m [2021-11-10 01:48:19 +0000] [225] [INFO] Using worker: gevent\n",
      "\u001b[36mzjbmhkpbn8-algo-1-559cq |\u001b[0m [2021-11-10 01:48:19 +0000] [228] [INFO] Booting worker with pid: 228\n",
      "\u001b[36mzjbmhkpbn8-algo-1-559cq |\u001b[0m [2021-11-10 01:48:19 +0000] [292] [INFO] Booting worker with pid: 292\n",
      "\u001b[36mzjbmhkpbn8-algo-1-559cq |\u001b[0m [2021-11-10 01:48:19 +0000] [293] [INFO] Booting worker with pid: 293\n",
      "\u001b[36mzjbmhkpbn8-algo-1-559cq |\u001b[0m [2021-11-10 01:48:19 +0000] [357] [INFO] Booting worker with pid: 357\n",
      "\u001b[36mzjbmhkpbn8-algo-1-559cq |\u001b[0m [2021-11-10 01:48:19 +0000] [421] [INFO] Booting worker with pid: 421\n",
      "\u001b[36mzjbmhkpbn8-algo-1-559cq |\u001b[0m [2021-11-10 01:48:19 +0000] [422] [INFO] Booting worker with pid: 422\n",
      "\u001b[36mzjbmhkpbn8-algo-1-559cq |\u001b[0m [2021-11-10 01:48:20 +0000] [423] [INFO] Booting worker with pid: 423\n",
      "\u001b[36mzjbmhkpbn8-algo-1-559cq |\u001b[0m [2021-11-10 01:48:20 +0000] [550] [INFO] Booting worker with pid: 550\n",
      "\u001b[36mzjbmhkpbn8-algo-1-559cq |\u001b[0m [2021-11-10 01:48:20 +0000] [678] [INFO] Booting worker with pid: 678\n",
      "\u001b[36mzjbmhkpbn8-algo-1-559cq |\u001b[0m [2021-11-10 01:48:20 +0000] [679] [INFO] Booting worker with pid: 679\n",
      "\u001b[36mzjbmhkpbn8-algo-1-559cq |\u001b[0m 2021-11-10 01:48:20,285 INFO - sagemaker-containers - No GPUs detected (normal if no gpus installed)\n",
      "\u001b[36mzjbmhkpbn8-algo-1-559cq |\u001b[0m [2021-11-10 01:48:20 +0000] [807] [INFO] Booting worker with pid: 807\n",
      "\u001b[36mzjbmhkpbn8-algo-1-559cq |\u001b[0m [2021-11-10 01:48:20 +0000] [808] [INFO] Booting worker with pid: 808\n",
      "\u001b[36mzjbmhkpbn8-algo-1-559cq |\u001b[0m [2021-11-10 01:48:20 +0000] [935] [INFO] Booting worker with pid: 935\n",
      "\u001b[36mzjbmhkpbn8-algo-1-559cq |\u001b[0m [2021-11-10 01:48:20 +0000] [1000] [INFO] Booting worker with pid: 1000\n",
      "\u001b[36mzjbmhkpbn8-algo-1-559cq |\u001b[0m [2021-11-10 01:48:20 +0000] [1065] [INFO] Booting worker with pid: 1065\n",
      "\u001b[36mzjbmhkpbn8-algo-1-559cq |\u001b[0m [2021-11-10 01:48:20 +0000] [1001] [INFO] Booting worker with pid: 1001\n",
      "\u001b[36mzjbmhkpbn8-algo-1-559cq |\u001b[0m [2021-11-10 01:48:20 +0000] [1129] [INFO] Booting worker with pid: 1129\n",
      "\u001b[36mzjbmhkpbn8-algo-1-559cq |\u001b[0m [2021-11-10 01:48:20 +0000] [1261] [INFO] Booting worker with pid: 1261\n",
      "\u001b[36mzjbmhkpbn8-algo-1-559cq |\u001b[0m [2021-11-10 01:48:20 +0000] [1325] [INFO] Booting worker with pid: 1325\n",
      "\u001b[36mzjbmhkpbn8-algo-1-559cq |\u001b[0m [2021-11-10 01:48:20 +0000] [1391] [INFO] Booting worker with pid: 1391\n",
      "\u001b[36mzjbmhkpbn8-algo-1-559cq |\u001b[0m [2021-11-10 01:48:20 +0000] [1390] [INFO] Booting worker with pid: 1390\n",
      "\u001b[36mzjbmhkpbn8-algo-1-559cq |\u001b[0m [2021-11-10 01:48:20 +0000] [1457] [INFO] Booting worker with pid: 1457\n",
      "\u001b[36mzjbmhkpbn8-algo-1-559cq |\u001b[0m [2021-11-10 01:48:21 +0000] [1647] [INFO] Booting worker with pid: 1647\n",
      "\u001b[36mzjbmhkpbn8-algo-1-559cq |\u001b[0m [2021-11-10 01:48:21 +0000] [1711] [INFO] Booting worker with pid: 1711\n",
      "\u001b[36mzjbmhkpbn8-algo-1-559cq |\u001b[0m [2021-11-10 01:48:21 +0000] [1776] [INFO] Booting worker with pid: 1776\n",
      "\u001b[36mzjbmhkpbn8-algo-1-559cq |\u001b[0m joblib version:  1.0.1\n",
      "\u001b[36mzjbmhkpbn8-algo-1-559cq |\u001b[0m ############### Model_FN() ###################\n",
      "\u001b[36mzjbmhkpbn8-algo-1-559cq |\u001b[0m [2021-11-10 01:48:21 +0000] [1778] [INFO] Booting worker with pid: 1778\n",
      "\u001b[36mzjbmhkpbn8-algo-1-559cq |\u001b[0m ### Model loaded \n",
      "!\u001b[36mzjbmhkpbn8-algo-1-559cq |\u001b[0m 172.18.0.1 - - [10/Nov/2021:01:48:21 +0000] \"GET /ping HTTP/1.1\" 200 0 \"-\" \"python-urllib3/1.26.7\"\n"
     ]
    }
   ],
   "source": [
    "dummy_endpont = local_sklearn.deploy(\n",
    "    initial_instance_count=1, \n",
    "#     instance_type=\"ml.c5.xlarge\"\n",
    "    instance_type=\"local\",    \n",
    "    endpoint_name = local_endpoint_name    \n",
    ")"
   ]
  },
  {
   "cell_type": "markdown",
   "id": "5f5aea0c",
   "metadata": {},
   "source": [
    "## 프리딕터 생성"
   ]
  },
  {
   "cell_type": "code",
   "execution_count": 39,
   "id": "2233de66",
   "metadata": {},
   "outputs": [
    {
     "name": "stdout",
     "output_type": "stream",
     "text": [
      "\u001b[36mzjbmhkpbn8-algo-1-559cq |\u001b[0m [2021-11-10 01:48:21 +0000] [1781] [INFO] Booting worker with pid: 1781\n"
     ]
    }
   ],
   "source": [
    "from sagemaker.deserializers import CSVDeserializer\n",
    "csv_deserializer = CSVDeserializer(accept='text/csv') # 디폴트가 accept가 'text/csv' 이지만 직관적 이유로 기술함.\n",
    "\n",
    "from src.sm_utils import get_predictor\n",
    "\n",
    "predictor = get_predictor(local_endpoint_name, local_session, csv_deserializer)\n",
    "\n"
   ]
  },
  {
   "cell_type": "markdown",
   "id": "66748db1",
   "metadata": {},
   "source": [
    "## 로컬 프리딕터에서 추론"
   ]
  },
  {
   "cell_type": "code",
   "execution_count": 40,
   "id": "a94ab5cc",
   "metadata": {},
   "outputs": [
    {
     "name": "stdout",
     "output_type": "stream",
     "text": [
      "\u001b[36mzjbmhkpbn8-algo-1-559cq |\u001b[0m [2021-11-10 01:48:21 +0000] [1912] [INFO] Booting worker with pid: 1912\n",
      "\u001b[36mzjbmhkpbn8-algo-1-559cq |\u001b[0m [2021-11-10 01:48:21 +0000] [1909] [INFO] Booting worker with pid: 1909\n",
      "\u001b[36mzjbmhkpbn8-algo-1-559cq |\u001b[0m 2021-11-10 01:48:21,392 INFO - sagemaker-containers - No GPUs detected (normal if no gpus installed)\n",
      "\u001b[36mzjbmhkpbn8-algo-1-559cq |\u001b[0m [2021-11-10 01:48:21 +0000] [1977] [INFO] Booting worker with pid: 1977\n",
      "\u001b[36mzjbmhkpbn8-algo-1-559cq |\u001b[0m [2021-11-10 01:48:21 +0000] [2104] [INFO] Booting worker with pid: 2104\n",
      "\u001b[36mzjbmhkpbn8-algo-1-559cq |\u001b[0m [2021-11-10 01:48:21 +0000] [2105] [INFO] Booting worker with pid: 2105\n",
      "\u001b[36mzjbmhkpbn8-algo-1-559cq |\u001b[0m [2021-11-10 01:48:21 +0000] [2234] [INFO] Booting worker with pid: 2234\n",
      "\u001b[36mzjbmhkpbn8-algo-1-559cq |\u001b[0m [2021-11-10 01:48:21 +0000] [2362] [INFO] Booting worker with pid: 2362\n",
      "\u001b[36mzjbmhkpbn8-algo-1-559cq |\u001b[0m [2021-11-10 01:48:21 +0000] [2363] [INFO] Booting worker with pid: 2363\n",
      "\u001b[36mzjbmhkpbn8-algo-1-559cq |\u001b[0m [2021-11-10 01:48:21 +0000] [2364] [INFO] Booting worker with pid: 2364\n",
      "\u001b[36mzjbmhkpbn8-algo-1-559cq |\u001b[0m [2021-11-10 01:48:21 +0000] [2366] [INFO] Booting worker with pid: 2366\n",
      "\u001b[36mzjbmhkpbn8-algo-1-559cq |\u001b[0m [2021-11-10 01:48:21 +0000] [2367] [INFO] Booting worker with pid: 2367\n",
      "\u001b[36mzjbmhkpbn8-algo-1-559cq |\u001b[0m [2021-11-10 01:48:21 +0000] [2495] [INFO] Booting worker with pid: 2495\n",
      "\u001b[36mzjbmhkpbn8-algo-1-559cq |\u001b[0m [2021-11-10 01:48:21 +0000] [2622] [INFO] Booting worker with pid: 2622\n",
      "\u001b[36mzjbmhkpbn8-algo-1-559cq |\u001b[0m [2021-11-10 01:48:22 +0000] [2814] [INFO] Booting worker with pid: 2814\n",
      "\u001b[36mzjbmhkpbn8-algo-1-559cq |\u001b[0m [2021-11-10 01:48:22 +0000] [2815] [INFO] Booting worker with pid: 2815\n",
      "\u001b[36mzjbmhkpbn8-algo-1-559cq |\u001b[0m [2021-11-10 01:48:22 +0000] [2880] [INFO] Booting worker with pid: 2880\n",
      "\u001b[36mzjbmhkpbn8-algo-1-559cq |\u001b[0m [2021-11-10 01:48:22 +0000] [2881] [INFO] Booting worker with pid: 2881\n",
      "\u001b[36mzjbmhkpbn8-algo-1-559cq |\u001b[0m joblib version:  1.0.1\n",
      "\u001b[36mzjbmhkpbn8-algo-1-559cq |\u001b[0m ############### Model_FN() ###################\n",
      "\u001b[36mzjbmhkpbn8-algo-1-559cq |\u001b[0m [2021-11-10 01:48:22 +0000] [2945] [INFO] Booting worker with pid: 2945\n",
      "\u001b[36mzjbmhkpbn8-algo-1-559cq |\u001b[0m ### Model loaded \n",
      "\u001b[36mzjbmhkpbn8-algo-1-559cq |\u001b[0m #### input_fn starting ######\n",
      "\u001b[36mzjbmhkpbn8-algo-1-559cq |\u001b[0m data type: <class 'str'>\n",
      "\u001b[36mzjbmhkpbn8-algo-1-559cq |\u001b[0m input is \n",
      "\u001b[36mzjbmhkpbn8-algo-1-559cq |\u001b[0m  str_171877,str_3,str_1,str_26,str_280,str_1\n",
      "\u001b[36mzjbmhkpbn8-algo-1-559cq |\u001b[0m str_102999,str_18,str_1,str_13,str_121,str_3\n",
      "\u001b[36mzjbmhkpbn8-algo-1-559cq |\u001b[0m str_35096,str_8,str_1,str_25,str_145,str_10\n",
      "\u001b[36mzjbmhkpbn8-algo-1-559cq |\u001b[0m str_17149,str_3,str_2,str_27,str_137,str_13\n",
      "\u001b[36mzjbmhkpbn8-algo-1-559cq |\u001b[0m str_83735,str_12,str_1,str_13,str_328,str_4\n",
      "\u001b[36mzjbmhkpbn8-algo-1-559cq |\u001b[0m \n",
      "\u001b[36mzjbmhkpbn8-algo-1-559cq |\u001b[0m After tansformation, data type: <class 'numpy.ndarray'>\n",
      "\u001b[36mzjbmhkpbn8-algo-1-559cq |\u001b[0m input is \n",
      "\u001b[36mzjbmhkpbn8-algo-1-559cq |\u001b[0m  [['str_171877' 'str_3' 'str_1' 'str_26' 'str_280' 'str_1']\n",
      "\u001b[36mzjbmhkpbn8-algo-1-559cq |\u001b[0m  ['str_102999' 'str_18' 'str_1' 'str_13' 'str_121' 'str_3']\n",
      "\u001b[36mzjbmhkpbn8-algo-1-559cq |\u001b[0m  ['str_35096' 'str_8' 'str_1' 'str_25' 'str_145' 'str_10']\n",
      "\u001b[36mzjbmhkpbn8-algo-1-559cq |\u001b[0m  ['str_17149' 'str_3' 'str_2' 'str_27' 'str_137' 'str_13']\n",
      "\u001b[36mzjbmhkpbn8-algo-1-559cq |\u001b[0m  ['str_83735' 'str_12' 'str_1' 'str_13' 'str_328' 'str_4']]\n",
      "\u001b[36mzjbmhkpbn8-algo-1-559cq |\u001b[0m ############### predict_FN() ###################\n",
      "\u001b[36mzjbmhkpbn8-algo-1-559cq |\u001b[0m type:  <class 'numpy.ndarray'>\n",
      "\u001b[36mzjbmhkpbn8-algo-1-559cq |\u001b[0m input: \n",
      "\u001b[36mzjbmhkpbn8-algo-1-559cq |\u001b[0m  [['str_171877' 'str_3' 'str_1' 'str_26' 'str_280' 'str_1']\n",
      "\u001b[36mzjbmhkpbn8-algo-1-559cq |\u001b[0m  ['str_102999' 'str_18' 'str_1' 'str_13' 'str_121' 'str_3']\n",
      "\u001b[36mzjbmhkpbn8-algo-1-559cq |\u001b[0m  ['str_35096' 'str_8' 'str_1' 'str_25' 'str_145' 'str_10']\n",
      "\u001b[36mzjbmhkpbn8-algo-1-559cq |\u001b[0m  ['str_17149' 'str_3' 'str_2' 'str_27' 'str_137' 'str_13']\n",
      "\u001b[36mzjbmhkpbn8-algo-1-559cq |\u001b[0m  ['str_83735' 'str_12' 'str_1' 'str_13' 'str_328' 'str_4']]\n"
     ]
    },
    {
     "data": {
      "text/plain": [
       "[['0.8195698233560474', '0.18043017664395256'],\n",
       " ['0.8195698233560474', '0.18043017664395256'],\n",
       " ['0.8195698233560474', '0.18043017664395256'],\n",
       " ['0.8186971275661173', '0.18130287243388263'],\n",
       " ['0.8195698233560474', '0.18043017664395256']]"
      ]
     },
     "execution_count": 40,
     "metadata": {},
     "output_type": "execute_result"
    },
    {
     "name": "stdout",
     "output_type": "stream",
     "text": [
      "\u001b[36mzjbmhkpbn8-algo-1-559cq |\u001b[0m 172.18.0.1 - - [10/Nov/2021:01:48:22 +0000] \"POST /invocations HTTP/1.1\" 200 195 \"-\" \"python-urllib3/1.26.7\"\n"
     ]
    }
   ],
   "source": [
    "result = predictor.predict(payload, initial_args = {\"ContentType\": \"text/csv\"})\n",
    "result\n"
   ]
  },
  {
   "cell_type": "code",
   "execution_count": 41,
   "id": "07f50444",
   "metadata": {},
   "outputs": [
    {
     "name": "stdout",
     "output_type": "stream",
     "text": [
      "\u001b[36mzjbmhkpbn8-algo-1-559cq |\u001b[0m [2021-11-10 01:48:22 +0000] [3018] [INFO] Booting worker with pid: 3018\n",
      "Gracefully stopping... (press Ctrl+C again to force)\n"
     ]
    }
   ],
   "source": [
    "dummy_endpont.delete_endpoint()"
   ]
  },
  {
   "cell_type": "markdown",
   "id": "0d4c095b",
   "metadata": {},
   "source": [
    "# 8. 호스트 엔드포인트에서 추론 "
   ]
  },
  {
   "cell_type": "code",
   "execution_count": 42,
   "id": "faee4710",
   "metadata": {},
   "outputs": [
    {
     "name": "stdout",
     "output_type": "stream",
     "text": [
      "endpoint_name:  host-endpoint-68739\n"
     ]
    }
   ],
   "source": [
    "endpoint_name = 'host-endpoint-' + str(suffix)\n",
    "print(\"endpoint_name: \", endpoint_name)\n"
   ]
  },
  {
   "cell_type": "code",
   "execution_count": 43,
   "id": "1925d1c0",
   "metadata": {},
   "outputs": [
    {
     "name": "stdout",
     "output_type": "stream",
     "text": [
      "-----!CPU times: user 112 ms, sys: 4.2 ms, total: 116 ms\n",
      "Wall time: 2min 32s\n"
     ]
    }
   ],
   "source": [
    "%%time \n",
    "\n",
    "catboost_endpont = sklearn.deploy(\n",
    "    initial_instance_count=1, \n",
    "    instance_type=\"ml.c5.xlarge\",\n",
    "    endpoint_name = endpoint_name    \n",
    ")"
   ]
  },
  {
   "cell_type": "markdown",
   "id": "1197abe9",
   "metadata": {},
   "source": [
    "## 호스트 프리딕터 생성"
   ]
  },
  {
   "cell_type": "code",
   "execution_count": 44,
   "id": "83ab3d8c",
   "metadata": {},
   "outputs": [],
   "source": [
    "host_predictor = get_predictor(endpoint_name, sess, csv_deserializer)"
   ]
  },
  {
   "cell_type": "code",
   "execution_count": 45,
   "id": "db8ad965",
   "metadata": {},
   "outputs": [],
   "source": [
    "num_inference = 1000\n",
    "full_payload = get_payload(test_df[0:num_inference], label_col = 'EVENT_LABEL', verbose=False)\n",
    "#dp(full_payload)"
   ]
  },
  {
   "cell_type": "code",
   "execution_count": 46,
   "id": "f2ce0be4",
   "metadata": {},
   "outputs": [
    {
     "data": {
      "text/plain": [
       "[['0.8195698233560474', '0.18043017664395256'],\n",
       " ['0.8195698233560474', '0.18043017664395256'],\n",
       " ['0.8195698233560474', '0.18043017664395256'],\n",
       " ['0.8186971275661173', '0.18130287243388263'],\n",
       " ['0.8195698233560474', '0.18043017664395256'],\n",
       " ['0.8195698233560474', '0.18043017664395256'],\n",
       " ['0.8195698233560474', '0.18043017664395256'],\n",
       " ['0.8195698233560474', '0.18043017664395256'],\n",
       " ['0.8195698233560474', '0.18043017664395256'],\n",
       " ['0.8195698233560474', '0.18043017664395256']]"
      ]
     },
     "execution_count": 46,
     "metadata": {},
     "output_type": "execute_result"
    }
   ],
   "source": [
    "result = host_predictor.predict(full_payload, initial_args = {\"ContentType\": \"text/csv\"})\n",
    "result[0:10]    "
   ]
  },
  {
   "cell_type": "markdown",
   "id": "4a09c7b6",
   "metadata": {},
   "source": [
    "# 9. 호스트 앤드포인트 제거"
   ]
  },
  {
   "cell_type": "code",
   "execution_count": 47,
   "id": "c721bb88",
   "metadata": {},
   "outputs": [],
   "source": [
    "# host_predictor.delete_endpoint()"
   ]
  },
  {
   "cell_type": "code",
   "execution_count": null,
   "id": "4d998319",
   "metadata": {},
   "outputs": [],
   "source": []
  }
 ],
 "metadata": {
  "kernelspec": {
   "display_name": "conda_python3",
   "language": "python",
   "name": "conda_python3"
  },
  "language_info": {
   "codemirror_mode": {
    "name": "ipython",
    "version": 3
   },
   "file_extension": ".py",
   "mimetype": "text/x-python",
   "name": "python",
   "nbconvert_exporter": "python",
   "pygments_lexer": "ipython3",
   "version": "3.6.13"
  }
 },
 "nbformat": 4,
 "nbformat_minor": 5
}

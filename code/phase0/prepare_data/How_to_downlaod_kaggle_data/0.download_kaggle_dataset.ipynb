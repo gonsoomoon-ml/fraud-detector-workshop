{
 "cells": [
  {
   "cell_type": "markdown",
   "metadata": {},
   "source": [
    "# Kaggle Dataset 다운로드 방법\n",
    "\n",
    "여기의 가이드는 아래 참조 페이지를 바탕으로 작성 했습니다.\n",
    "#### 이 워크샵의 커널은 `conda_python3` 로 진행 합니다. 다른 커널일 경우에 바꾸어 주세요.\n",
    "\n",
    "참조\n",
    "- https://github.com/Kaggle/kaggle-api\n",
    "\n",
    "---"
   ]
  },
  {
   "cell_type": "markdown",
   "metadata": {},
   "source": [
    "## Kaggle Python 패키지 다운로드\n",
    "kaggle 패키지를 다운로드 받습니다."
   ]
  },
  {
   "cell_type": "code",
   "execution_count": 1,
   "metadata": {},
   "outputs": [
    {
     "name": "stdout",
     "output_type": "stream",
     "text": [
      "Collecting kaggle\n",
      "  Downloading kaggle-1.5.12.tar.gz (58 kB)\n",
      "\u001b[K     |████████████████████████████████| 58 kB 11.2 MB/s eta 0:00:01\n",
      "\u001b[?25hRequirement already satisfied: six>=1.10 in /home/ec2-user/anaconda3/envs/python3/lib/python3.6/site-packages (from kaggle) (1.15.0)\n",
      "Requirement already satisfied: certifi in /home/ec2-user/anaconda3/envs/python3/lib/python3.6/site-packages (from kaggle) (2021.5.30)\n",
      "Requirement already satisfied: python-dateutil in /home/ec2-user/anaconda3/envs/python3/lib/python3.6/site-packages (from kaggle) (2.8.1)\n",
      "Requirement already satisfied: requests in /home/ec2-user/anaconda3/envs/python3/lib/python3.6/site-packages (from kaggle) (2.25.1)\n",
      "Requirement already satisfied: tqdm in /home/ec2-user/anaconda3/envs/python3/lib/python3.6/site-packages (from kaggle) (4.61.2)\n",
      "Collecting python-slugify\n",
      "  Downloading python_slugify-5.0.2-py2.py3-none-any.whl (6.7 kB)\n",
      "Requirement already satisfied: urllib3 in /home/ec2-user/anaconda3/envs/python3/lib/python3.6/site-packages (from kaggle) (1.26.6)\n",
      "Collecting text-unidecode>=1.3\n",
      "  Downloading text_unidecode-1.3-py2.py3-none-any.whl (78 kB)\n",
      "\u001b[K     |████████████████████████████████| 78 kB 13.0 MB/s  eta 0:00:01\n",
      "\u001b[?25hRequirement already satisfied: chardet<5,>=3.0.2 in /home/ec2-user/anaconda3/envs/python3/lib/python3.6/site-packages (from requests->kaggle) (3.0.4)\n",
      "Requirement already satisfied: idna<3,>=2.5 in /home/ec2-user/anaconda3/envs/python3/lib/python3.6/site-packages (from requests->kaggle) (2.10)\n",
      "Building wheels for collected packages: kaggle\n",
      "  Building wheel for kaggle (setup.py) ... \u001b[?25ldone\n",
      "\u001b[?25h  Created wheel for kaggle: filename=kaggle-1.5.12-py3-none-any.whl size=73053 sha256=89eaec9821dc46d2a129220c25d9014e3b442746ec066c1cb8c9f290a057480e\n",
      "  Stored in directory: /home/ec2-user/.cache/pip/wheels/77/47/e4/44a4ba1b7dfd53faaa35f59f1175e123b213ff401a8a56876b\n",
      "Successfully built kaggle\n",
      "Installing collected packages: text-unidecode, python-slugify, kaggle\n",
      "\u001b[33m  WARNING: The script slugify is installed in '/home/ec2-user/.local/bin' which is not on PATH.\n",
      "  Consider adding this directory to PATH or, if you prefer to suppress this warning, use --no-warn-script-location.\u001b[0m\n",
      "\u001b[33m  WARNING: The script kaggle is installed in '/home/ec2-user/.local/bin' which is not on PATH.\n",
      "  Consider adding this directory to PATH or, if you prefer to suppress this warning, use --no-warn-script-location.\u001b[0m\n",
      "Successfully installed kaggle-1.5.12 python-slugify-5.0.2 text-unidecode-1.3\n",
      "\u001b[33mWARNING: You are using pip version 21.1.3; however, version 21.2.4 is available.\n",
      "You should consider upgrading via the '/home/ec2-user/anaconda3/envs/python3/bin/python -m pip install --upgrade pip' command.\u001b[0m\n"
     ]
    }
   ],
   "source": [
    "! pip install --user kaggle"
   ]
  },
  {
   "cell_type": "markdown",
   "metadata": {},
   "source": [
    "## kaggle.json 다운로드 및 업로드\n",
    "- 케글 홈페이지 이동 ( https://www.kaggle.com )\n",
    "- 계정 로그인 (없으면 생성하세요)\n",
    "- 개인 Profile 로 이동 (페이지 오른쪽 상단에 본인 사진 클릭)\n",
    "- Account 탭에서 Create New API Token 클릭\n",
    "    - ![create_kaggle_json.png](img/create_kaggle_json.png)\n"
   ]
  },
  {
   "cell_type": "markdown",
   "metadata": {},
   "source": [
    "위의 작업 이후에 kaggle.json 이 로컬 컴퓨터에 다운로드 됩니다. \n",
    "- kaggle.json 은 kaggle에 접속하기 위한 인증 정보가 있습니다.\n",
    "- 이후 kaggle.json 파일 다운로드 후에 노트북 인스턴스에 업로드\n",
    "    - 이후 현재 폴더 위치 ( ~/MLBootCamp/banking-fraud/ ) 에 업로드 함\n",
    "        - ![kaggle_json_file.png](img/kaggle_json_file.png)\n",
    "\n"
   ]
  },
  {
   "cell_type": "markdown",
   "metadata": {},
   "source": [
    "## Kaggle Dataset API 카피\n",
    "아래 처럼 다운로드 받고자 하는 Kaggle 페이지로 이동하신 후에 클릭 하시면 API 명령어가 복사 됩니다. ( ```kaggle datasets download -d ntnu-testimon/paysim1``` )\n",
    "- ![Kaggle_API_New.png](img/Kaggle_API.png)\n",
    "    - "
   ]
  },
  {
   "cell_type": "markdown",
   "metadata": {},
   "source": [
    "## 업로딩한 kaggle.json 파일 카피 및 다운로드\n",
    "- 로컬 노트북에 업로딩한 kaggle.json 를 이동\n",
    "- `kaggle competitions download -c talkingdata-adtracking-fraud-detection` 실행하여 다운로드\n"
   ]
  },
  {
   "cell_type": "code",
   "execution_count": 2,
   "metadata": {},
   "outputs": [],
   "source": [
    "downlaod_dir = 'download_data' # 다운로드 폴더\n",
    "data_dir = 'data' # 다운로드 한 파일을 압축한 후에 저장할 폴더"
   ]
  },
  {
   "cell_type": "markdown",
   "metadata": {},
   "source": [
    "아래 셀을 실행해서 403 Forbidden 에러가 발생하면, Kaggle 해당 페이지에 들어가서 약관에 동의 (Understand and Agree) 를 클릭 하시면 됩니다."
   ]
  },
  {
   "cell_type": "code",
   "execution_count": 4,
   "metadata": {},
   "outputs": [
    {
     "name": "stdout",
     "output_type": "stream",
     "text": [
      "Downloading talkingdata-adtracking-fraud-detection.zip to download_data\n",
      "\n"
     ]
    },
    {
     "name": "stderr",
     "output_type": "stream",
     "text": [
      "100%|██████████| 1.94G/1.94G [00:18<00:00, 114MB/s] \n"
     ]
    }
   ],
   "source": [
    "%%sh -s {downlaod_dir} # Shell 에 downlaod_dir 폴더 인자로 넘김\n",
    "mkdir -p ~/.kaggle # 유저의 홈디렉토리에 .kaggle 폴더 생성\n",
    "cp kaggle.json ~/.kaggle/kaggle.json # 현재 폴더의 kaggle.json 파일을 복사\n",
    "chmod 600 ~/.kaggle/kaggle.json # kaggle.json을 오너만 읽기, 쓰기 권한 할당\n",
    "\n",
    "export PATH=$PATH:/home/ec2-user/.local/bin # kaggle 명령어를 실행어를 어디서나 실행하기 위해 Path 설정\n",
    "# 아래 명령어는 위에서 Kaggle Dataset API 복사 된 것을 붙이기 하세요\n",
    "# 그리고 $1 만 붙여 주세요\n",
    "kaggle competitions download -c talkingdata-adtracking-fraud-detection -p $1 # kaggle 명령어 실행해서 다운로드\n"
   ]
  },
  {
   "cell_type": "markdown",
   "metadata": {},
   "source": [
    "## 데이터 압축 해제"
   ]
  },
  {
   "cell_type": "code",
   "execution_count": 6,
   "metadata": {},
   "outputs": [
    {
     "name": "stdout",
     "output_type": "stream",
     "text": [
      "Archive:  download_data/talkingdata-adtracking-fraud-detection.zip\n",
      "  inflating: data/sample_submission.csv  \n",
      "  inflating: data/test.csv           \n",
      "  inflating: data/test_supplement.csv  \n",
      "  inflating: data/train.csv          \n",
      "  inflating: data/train_sample.csv   \n"
     ]
    }
   ],
   "source": [
    "%%sh -s {downlaod_dir}  {data_dir}\n",
    "mkdir -p $2 # data_dir 폴더 생성\n",
    "unzip  $1/talkingdata-adtracking-fraud-detection.zip -d $2 \n",
    "rm -rf $1 # downlaod_dir 폴더 제거"
   ]
  },
  {
   "cell_type": "markdown",
   "metadata": {},
   "source": [
    "## (옵션) 데이터 다운로드 완료 및 메인 데이터 폴더로 이동\n",
    "- data 폴더에 가셔서 데이터가 있는지 확인 하세요\n",
    "- 아래와 같은 \"move_folder\" 로 옭기고 data 폴더 삭제 "
   ]
  },
  {
   "cell_type": "code",
   "execution_count": 7,
   "metadata": {},
   "outputs": [],
   "source": [
    "move_folder = '../../../../data/AdTalking'"
   ]
  },
  {
   "cell_type": "code",
   "execution_count": 9,
   "metadata": {},
   "outputs": [],
   "source": [
    "! mv  data/* {move_folder}"
   ]
  },
  {
   "cell_type": "code",
   "execution_count": 12,
   "metadata": {},
   "outputs": [],
   "source": [
    "! rm -rf data"
   ]
  },
  {
   "cell_type": "code",
   "execution_count": null,
   "metadata": {},
   "outputs": [],
   "source": []
  }
 ],
 "metadata": {
  "kernelspec": {
   "display_name": "conda_python3",
   "language": "python",
   "name": "conda_python3"
  },
  "language_info": {
   "codemirror_mode": {
    "name": "ipython",
    "version": 3
   },
   "file_extension": ".py",
   "mimetype": "text/x-python",
   "name": "python",
   "nbconvert_exporter": "python",
   "pygments_lexer": "ipython3",
   "version": "3.6.13"
  }
 },
 "nbformat": 4,
 "nbformat_minor": 4
}

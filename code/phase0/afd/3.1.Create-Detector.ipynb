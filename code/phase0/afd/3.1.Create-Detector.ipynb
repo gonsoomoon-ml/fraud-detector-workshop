{
 "cells": [
  {
   "cell_type": "markdown",
   "metadata": {},
   "source": [
    "#  [모듈 3.1] Detector 생성\n",
    "이 노트북은 아래의 원본 노트북의 내용을 기반으로 하였습니다.\n",
    "\n"
   ]
  },
  {
   "cell_type": "markdown",
   "metadata": {},
   "source": [
    "# 0. 개념"
   ]
  },
  {
   "cell_type": "markdown",
   "metadata": {},
   "source": [
    "![detector_dependencies.png](img/detector_dependencies.png)"
   ]
  },
  {
   "cell_type": "markdown",
   "metadata": {},
   "source": [
    "# 1. 환경 셋업"
   ]
  },
  {
   "cell_type": "code",
   "execution_count": 22,
   "metadata": {},
   "outputs": [],
   "source": [
    "%store -r project_prefix\n",
    "%store -r ENTITY_TYPE\n",
    "%store -r EVENT_TYPE\n",
    "%store -r MODEL_NAME\n",
    "%store -r ARN_ROLE\n",
    "%store -r modelVersionNumber"
   ]
  },
  {
   "cell_type": "code",
   "execution_count": 23,
   "metadata": {},
   "outputs": [
    {
     "name": "stdout",
     "output_type": "stream",
     "text": [
      "project_prefix:  adtaking_fraud_phase0\n",
      "ENTITY_TYPE:  cf_customer_20210912\n",
      "EVENT_TYPE:  adtaking_fraud_phase0_20210912\n",
      "MODEL_NAME:  adtaking_fraud_phase0_model_20210912\n",
      "modelVersionNumber:  1.0\n",
      "ARN_ROLE:  arn:aws:iam::057716757052:role/AFD-gsmoon\n"
     ]
    }
   ],
   "source": [
    "print(\"project_prefix: \", project_prefix)\n",
    "print(\"ENTITY_TYPE: \", ENTITY_TYPE)\n",
    "print(\"EVENT_TYPE: \", EVENT_TYPE)\n",
    "print(\"MODEL_NAME: \", MODEL_NAME)\n",
    "print(\"modelVersionNumber: \", modelVersionNumber)\n",
    "print(\"ARN_ROLE: \", ARN_ROLE)"
   ]
  },
  {
   "cell_type": "code",
   "execution_count": 24,
   "metadata": {},
   "outputs": [
    {
     "data": {
      "text/html": [
       "<style>.container { width:90% }</style>"
      ],
      "text/plain": [
       "<IPython.core.display.HTML object>"
      ]
     },
     "metadata": {},
     "output_type": "display_data"
    }
   ],
   "source": [
    "from IPython.core.display import display, HTML\n",
    "from IPython.display import clear_output\n",
    "display(HTML(\"<style>.container { width:90% }</style>\"))\n",
    "# ------------------------------------------------------------------\n",
    "\n",
    "import numpy as np\n",
    "import matplotlib.pyplot as plt\n",
    "import pandas as pd\n",
    "pd.set_option('display.max_rows', 500)\n",
    "pd.set_option('display.max_columns', 500)\n",
    "pd.set_option('display.width', 1000)\n",
    "pd.set_option('display.max_colwidth', 200)\n",
    "\n",
    "import os\n",
    "import sys\n",
    "import time\n",
    "import json\n",
    "import uuid \n",
    "from datetime import datetime\n",
    "from IPython.display import display as dp\n",
    "\n",
    "# -- AWS stuff -- \n",
    "import boto3\n",
    "import sagemaker\n",
    "\n",
    "# -- sklearn --\n",
    "from sklearn.metrics import roc_curve, roc_auc_score, auc, roc_auc_score\n",
    "%matplotlib inline "
   ]
  },
  {
   "cell_type": "code",
   "execution_count": 25,
   "metadata": {},
   "outputs": [],
   "source": [
    "# -- initialize the AFD client \n",
    "client = boto3.client('frauddetector')\n",
    "\n",
    "# -- suffix is appended to detector and model name for uniqueness  \n",
    "sufx   = datetime.now().strftime(\"%Y%m%d\")\n"
   ]
  },
  {
   "cell_type": "markdown",
   "metadata": {},
   "source": [
    "# 2. 훈련된 모델의 성능 평가"
   ]
  },
  {
   "cell_type": "markdown",
   "metadata": {},
   "source": [
    "## 모델 성능 데이터 가져오기\n"
   ]
  },
  {
   "cell_type": "code",
   "execution_count": 27,
   "metadata": {},
   "outputs": [],
   "source": [
    "# -- model performance summary -- \n",
    "auc = client.describe_model_versions(\n",
    "    modelId= MODEL_NAME,\n",
    "    modelVersionNumber= modelVersionNumber,\n",
    "    modelType='ONLINE_FRAUD_INSIGHTS',\n",
    "    maxResults=10\n",
    ")['modelVersionDetails'][0]['trainingResult']['trainingMetrics']['auc']\n",
    "\n",
    "\n",
    "df_model = pd.DataFrame(client.describe_model_versions(\n",
    "    modelId= MODEL_NAME,\n",
    "    modelVersionNumber= modelVersionNumber,\n",
    "    modelType='ONLINE_FRAUD_INSIGHTS',\n",
    "    maxResults=10\n",
    ")['modelVersionDetails'][0]['trainingResult']['trainingMetrics']['metricDataPoints'])\n",
    "\n",
    "\n",
    "model_stat = df_model.round(decimals=2)  \n",
    "\n"
   ]
  },
  {
   "cell_type": "code",
   "execution_count": 31,
   "metadata": {},
   "outputs": [
    {
     "data": {
      "text/html": [
       "<div>\n",
       "<style scoped>\n",
       "    .dataframe tbody tr th:only-of-type {\n",
       "        vertical-align: middle;\n",
       "    }\n",
       "\n",
       "    .dataframe tbody tr th {\n",
       "        vertical-align: top;\n",
       "    }\n",
       "\n",
       "    .dataframe thead th {\n",
       "        text-align: right;\n",
       "    }\n",
       "</style>\n",
       "<table border=\"1\" class=\"dataframe\">\n",
       "  <thead>\n",
       "    <tr style=\"text-align: right;\">\n",
       "      <th></th>\n",
       "      <th>fpr</th>\n",
       "      <th>precision</th>\n",
       "      <th>tpr</th>\n",
       "      <th>threshold</th>\n",
       "    </tr>\n",
       "  </thead>\n",
       "  <tbody>\n",
       "    <tr>\n",
       "      <th>191</th>\n",
       "      <td>0.01</td>\n",
       "      <td>0.20</td>\n",
       "      <td>0.71</td>\n",
       "      <td>955.0</td>\n",
       "    </tr>\n",
       "    <tr>\n",
       "      <th>192</th>\n",
       "      <td>0.01</td>\n",
       "      <td>0.20</td>\n",
       "      <td>0.71</td>\n",
       "      <td>960.0</td>\n",
       "    </tr>\n",
       "    <tr>\n",
       "      <th>193</th>\n",
       "      <td>0.01</td>\n",
       "      <td>0.19</td>\n",
       "      <td>0.59</td>\n",
       "      <td>965.0</td>\n",
       "    </tr>\n",
       "    <tr>\n",
       "      <th>194</th>\n",
       "      <td>0.00</td>\n",
       "      <td>0.21</td>\n",
       "      <td>0.48</td>\n",
       "      <td>970.0</td>\n",
       "    </tr>\n",
       "    <tr>\n",
       "      <th>195</th>\n",
       "      <td>0.00</td>\n",
       "      <td>0.20</td>\n",
       "      <td>0.43</td>\n",
       "      <td>975.0</td>\n",
       "    </tr>\n",
       "    <tr>\n",
       "      <th>196</th>\n",
       "      <td>0.00</td>\n",
       "      <td>0.22</td>\n",
       "      <td>0.38</td>\n",
       "      <td>980.0</td>\n",
       "    </tr>\n",
       "    <tr>\n",
       "      <th>197</th>\n",
       "      <td>0.00</td>\n",
       "      <td>0.22</td>\n",
       "      <td>0.38</td>\n",
       "      <td>985.0</td>\n",
       "    </tr>\n",
       "    <tr>\n",
       "      <th>198</th>\n",
       "      <td>0.00</td>\n",
       "      <td>0.26</td>\n",
       "      <td>0.18</td>\n",
       "      <td>990.0</td>\n",
       "    </tr>\n",
       "    <tr>\n",
       "      <th>199</th>\n",
       "      <td>0.00</td>\n",
       "      <td>0.26</td>\n",
       "      <td>0.18</td>\n",
       "      <td>995.0</td>\n",
       "    </tr>\n",
       "    <tr>\n",
       "      <th>200</th>\n",
       "      <td>0.00</td>\n",
       "      <td>1.00</td>\n",
       "      <td>0.00</td>\n",
       "      <td>1000.0</td>\n",
       "    </tr>\n",
       "  </tbody>\n",
       "</table>\n",
       "</div>"
      ],
      "text/plain": [
       "      fpr  precision   tpr  threshold\n",
       "191  0.01       0.20  0.71      955.0\n",
       "192  0.01       0.20  0.71      960.0\n",
       "193  0.01       0.19  0.59      965.0\n",
       "194  0.00       0.21  0.48      970.0\n",
       "195  0.00       0.20  0.43      975.0\n",
       "196  0.00       0.22  0.38      980.0\n",
       "197  0.00       0.22  0.38      985.0\n",
       "198  0.00       0.26  0.18      990.0\n",
       "199  0.00       0.26  0.18      995.0\n",
       "200  0.00       1.00  0.00     1000.0"
      ]
     },
     "execution_count": 31,
     "metadata": {},
     "output_type": "execute_result"
    }
   ],
   "source": [
    "model_stat.tail(10)"
   ]
  },
  {
   "cell_type": "markdown",
   "metadata": {},
   "source": [
    "## TPR, FPR 의 해석\n",
    "\n",
    "#### 지표의 의미\n",
    "- threshold (fraud score)\n",
    "    - 추론을 하면 fraud score 가 제공이 됩니다. 이를 threshold 로 설정했을 경우에 FPR, Precision, TPR을 계산 합니다.\n",
    "- FPR (Fasle Positive Rate): Fraud를 잘못 검출하는 비율. 에러라고 보시면 됩니다.\n",
    "    - threshold 를 낮게 설정하면 이 값이 높아 집니다. 즉 기준을 완화 하였기에 Fraud 를 잘못 검출하는 비율이 늘어나게 됩니다.\n",
    "- TPR (True Positive Rate): 실제 Fraud 를 검출하는 비율\n",
    "    - threshold 를 낮게 설정하면 이 값은 늘어 납니다. 즉 기준을 완화 하였기에 Fraud 의 검출은 늘어 나게 됩니다.\n",
    "- Precision\n",
    "    - 모델 Fraud 라고 추론 한 것에서 실제 참값이 Fraud 인 것의 비율입니다. \n",
    "    - threshold 가 높을 수록 기준이 엄격하기에 Precision 는 높아지고, threshold 가 낮아지면 기준이 낮아져서 Precision는 낮아지게 됩니다.\n",
    "    \n",
    "    \n",
    "#### 아래 성능 해석 의 예시\n",
    "\n",
    "\n",
    "- threshold 가 980 일 경우\n",
    "    - TPR (True Positive Rate)\n",
    "        - 0.71 (71% 임) \n",
    "    - FPR (Fasle Positive Rate):\n",
    "        - 0.01 (1% 임)\n",
    "        \n",
    "        \n",
    "- threshold 가 985 일 경우\n",
    "    - TPR: 실제 Fraud 를 검출하는 비율\n",
    "        - 0.47 (47% 임) : 프로드의 기준을 높였기 때문에 프로드의 검출 비율은 낮아짐.\n",
    "    - FPR:  Fraud를 잘못 검출하는 비율\n",
    "        - 0.00 (0% 임): 프로드의 검출 기준이 높기 때문에 \"에러\"는 작아집니다.\n",
    "\n",
    "\n",
    "\n",
    "```\n",
    "    fpr\tprecision\ttpr\tthreshold\n",
    "194\t0.01\t0.18\t0.76\t970.0\n",
    "195\t0.01\t0.21\t0.76\t975.0\n",
    "196\t0.01\t0.21\t0.71\t980.0\n",
    "197\t0.00\t0.21\t0.47\t985.0\n",
    "198\t0.00\t0.25\t0.31\t990.0\n",
    "199\t0.00\t0.57\t0.09\t995.0\n",
    "200\t0.00\t1.00\t0.00\t1000.0\n",
    "\n",
    "```\n",
    "\n",
    "- 참고: ROC Curve의 의미 --> [ROC Curve 정의](https://nittaku.tistory.com/297)"
   ]
  },
  {
   "cell_type": "markdown",
   "metadata": {},
   "source": [
    "## Roc Curve 보이기"
   ]
  },
  {
   "cell_type": "code",
   "execution_count": 32,
   "metadata": {},
   "outputs": [
    {
     "data": {
      "image/png": "[encoded data removed]",
      "text/plain": [
       "<Figure size 720x720 with 1 Axes>"
      ]
     },
     "metadata": {
      "needs_background": "light"
     },
     "output_type": "display_data"
    }
   ],
   "source": [
    "def display_roc_curve(df_model):\n",
    "    plt.figure(figsize=(10,10))\n",
    "    plt.plot(df_model[\"fpr\"], df_model[\"tpr\"], color='darkorange',\n",
    "             lw=2, label='ROC curve (area = %0.3f)' % auc)\n",
    "    plt.plot([0, 1], [0, 1], color='navy', lw=2, linestyle='--')\n",
    "    plt.xlabel('False Positive Rate')\n",
    "    plt.ylabel('True Positive Rate')\n",
    "    plt.title( MODEL_NAME + ' ROC Chart')\n",
    "    plt.legend(loc=\"lower right\",fontsize=12)\n",
    "    plt.axvline(x = 0.02 ,linewidth=2, color='r')\n",
    "    plt.axhline(y = 0.73 ,linewidth=2, color='r')\n",
    "    plt.show()\n",
    "    \n",
    "display_roc_curve(df_model)    "
   ]
  },
  {
   "cell_type": "markdown",
   "metadata": {},
   "source": [
    "# 3. Rule 생성 작업"
   ]
  },
  {
   "cell_type": "markdown",
   "metadata": {},
   "source": [
    "## FPR 기준으로 threshold(Score) 높은 값 가져오기\n",
    "\n",
    "- fpr 이 같은 것으로 그룹을 생성하고, 그룹중에서 가장 Id 값이 큰 것을 가져옴.\n",
    "    - 아래 예에서는 fpr 0.00 에 대해서 idmax 200번을 선택함\n",
    "- fpr 의 값이 여러개에서 1개의 값으로 표현이 됨    \n",
    "\n",
    "`model_stat.groupby([\"fpr\"])[\"threshold\"].idxmax()]`\n",
    "```\n",
    "\tfpr\tprecision\ttpr\tthreshold\n",
    "196\t0.01\t0.21\t0.71\t980.0\n",
    "197\t0.00\t0.21\t0.47\t985.0\n",
    "198\t0.00\t0.25\t0.31\t990.0\n",
    "199\t0.00\t0.57\t0.09\t995.0\n",
    "200\t0.00\t1.00\t0.00\t1000.0\n",
    "```"
   ]
  },
  {
   "cell_type": "code",
   "execution_count": 33,
   "metadata": {},
   "outputs": [
    {
     "data": {
      "text/html": [
       "<div>\n",
       "<style scoped>\n",
       "    .dataframe tbody tr th:only-of-type {\n",
       "        vertical-align: middle;\n",
       "    }\n",
       "\n",
       "    .dataframe tbody tr th {\n",
       "        vertical-align: top;\n",
       "    }\n",
       "\n",
       "    .dataframe thead th {\n",
       "        text-align: right;\n",
       "    }\n",
       "</style>\n",
       "<table border=\"1\" class=\"dataframe\">\n",
       "  <thead>\n",
       "    <tr style=\"text-align: right;\">\n",
       "      <th></th>\n",
       "      <th>fpr</th>\n",
       "      <th>precision</th>\n",
       "      <th>tpr</th>\n",
       "      <th>threshold</th>\n",
       "    </tr>\n",
       "  </thead>\n",
       "  <tbody>\n",
       "    <tr>\n",
       "      <th>200</th>\n",
       "      <td>0.00</td>\n",
       "      <td>1.00</td>\n",
       "      <td>0.00</td>\n",
       "      <td>1000.0</td>\n",
       "    </tr>\n",
       "    <tr>\n",
       "      <th>193</th>\n",
       "      <td>0.01</td>\n",
       "      <td>0.19</td>\n",
       "      <td>0.59</td>\n",
       "      <td>965.0</td>\n",
       "    </tr>\n",
       "    <tr>\n",
       "      <th>182</th>\n",
       "      <td>0.02</td>\n",
       "      <td>0.11</td>\n",
       "      <td>0.79</td>\n",
       "      <td>910.0</td>\n",
       "    </tr>\n",
       "    <tr>\n",
       "      <th>159</th>\n",
       "      <td>0.04</td>\n",
       "      <td>0.04</td>\n",
       "      <td>0.80</td>\n",
       "      <td>795.0</td>\n",
       "    </tr>\n",
       "    <tr>\n",
       "      <th>154</th>\n",
       "      <td>0.05</td>\n",
       "      <td>0.04</td>\n",
       "      <td>0.80</td>\n",
       "      <td>770.0</td>\n",
       "    </tr>\n",
       "    <tr>\n",
       "      <th>151</th>\n",
       "      <td>0.06</td>\n",
       "      <td>0.03</td>\n",
       "      <td>0.80</td>\n",
       "      <td>755.0</td>\n",
       "    </tr>\n",
       "    <tr>\n",
       "      <th>141</th>\n",
       "      <td>0.07</td>\n",
       "      <td>0.03</td>\n",
       "      <td>0.82</td>\n",
       "      <td>705.0</td>\n",
       "    </tr>\n",
       "    <tr>\n",
       "      <th>124</th>\n",
       "      <td>0.10</td>\n",
       "      <td>0.02</td>\n",
       "      <td>0.82</td>\n",
       "      <td>620.0</td>\n",
       "    </tr>\n",
       "    <tr>\n",
       "      <th>0</th>\n",
       "      <td>1.00</td>\n",
       "      <td>0.00</td>\n",
       "      <td>1.00</td>\n",
       "      <td>0.0</td>\n",
       "    </tr>\n",
       "  </tbody>\n",
       "</table>\n",
       "</div>"
      ],
      "text/plain": [
       "      fpr  precision   tpr  threshold\n",
       "200  0.00       1.00  0.00     1000.0\n",
       "193  0.01       0.19  0.59      965.0\n",
       "182  0.02       0.11  0.79      910.0\n",
       "159  0.04       0.04  0.80      795.0\n",
       "154  0.05       0.04  0.80      770.0\n",
       "151  0.06       0.03  0.80      755.0\n",
       "141  0.07       0.03  0.82      705.0\n",
       "124  0.10       0.02  0.82      620.0\n",
       "0    1.00       0.00  1.00        0.0"
      ]
     },
     "execution_count": 33,
     "metadata": {},
     "output_type": "execute_result"
    }
   ],
   "source": [
    "m = model_stat.loc[model_stat.groupby([\"fpr\"])[\"threshold\"].idxmax()] \n",
    "m.head(100)"
   ]
  },
  {
   "cell_type": "markdown",
   "metadata": {},
   "source": [
    "## threshold_prev 값을 추가\n",
    "- Rule 조건식을 만들기 위해서 이전 threshold 의 값을 가져와서 컬럼에 추가"
   ]
  },
  {
   "cell_type": "code",
   "execution_count": 34,
   "metadata": {},
   "outputs": [
    {
     "data": {
      "text/html": [
       "<div>\n",
       "<style scoped>\n",
       "    .dataframe tbody tr th:only-of-type {\n",
       "        vertical-align: middle;\n",
       "    }\n",
       "\n",
       "    .dataframe tbody tr th {\n",
       "        vertical-align: top;\n",
       "    }\n",
       "\n",
       "    .dataframe thead th {\n",
       "        text-align: right;\n",
       "    }\n",
       "</style>\n",
       "<table border=\"1\" class=\"dataframe\">\n",
       "  <thead>\n",
       "    <tr style=\"text-align: right;\">\n",
       "      <th></th>\n",
       "      <th>fpr</th>\n",
       "      <th>precision</th>\n",
       "      <th>tpr</th>\n",
       "      <th>threshold</th>\n",
       "      <th>threshold_prev</th>\n",
       "    </tr>\n",
       "  </thead>\n",
       "  <tbody>\n",
       "    <tr>\n",
       "      <th>200</th>\n",
       "      <td>0.00</td>\n",
       "      <td>1.00</td>\n",
       "      <td>0.00</td>\n",
       "      <td>1000.0</td>\n",
       "      <td>NaN</td>\n",
       "    </tr>\n",
       "    <tr>\n",
       "      <th>193</th>\n",
       "      <td>0.01</td>\n",
       "      <td>0.19</td>\n",
       "      <td>0.59</td>\n",
       "      <td>965.0</td>\n",
       "      <td>1000.0</td>\n",
       "    </tr>\n",
       "    <tr>\n",
       "      <th>182</th>\n",
       "      <td>0.02</td>\n",
       "      <td>0.11</td>\n",
       "      <td>0.79</td>\n",
       "      <td>910.0</td>\n",
       "      <td>965.0</td>\n",
       "    </tr>\n",
       "    <tr>\n",
       "      <th>159</th>\n",
       "      <td>0.04</td>\n",
       "      <td>0.04</td>\n",
       "      <td>0.80</td>\n",
       "      <td>795.0</td>\n",
       "      <td>910.0</td>\n",
       "    </tr>\n",
       "    <tr>\n",
       "      <th>154</th>\n",
       "      <td>0.05</td>\n",
       "      <td>0.04</td>\n",
       "      <td>0.80</td>\n",
       "      <td>770.0</td>\n",
       "      <td>795.0</td>\n",
       "    </tr>\n",
       "    <tr>\n",
       "      <th>151</th>\n",
       "      <td>0.06</td>\n",
       "      <td>0.03</td>\n",
       "      <td>0.80</td>\n",
       "      <td>755.0</td>\n",
       "      <td>770.0</td>\n",
       "    </tr>\n",
       "    <tr>\n",
       "      <th>141</th>\n",
       "      <td>0.07</td>\n",
       "      <td>0.03</td>\n",
       "      <td>0.82</td>\n",
       "      <td>705.0</td>\n",
       "      <td>755.0</td>\n",
       "    </tr>\n",
       "    <tr>\n",
       "      <th>124</th>\n",
       "      <td>0.10</td>\n",
       "      <td>0.02</td>\n",
       "      <td>0.82</td>\n",
       "      <td>620.0</td>\n",
       "      <td>705.0</td>\n",
       "    </tr>\n",
       "    <tr>\n",
       "      <th>0</th>\n",
       "      <td>1.00</td>\n",
       "      <td>0.00</td>\n",
       "      <td>1.00</td>\n",
       "      <td>0.0</td>\n",
       "      <td>620.0</td>\n",
       "    </tr>\n",
       "  </tbody>\n",
       "</table>\n",
       "</div>"
      ],
      "text/plain": [
       "      fpr  precision   tpr  threshold  threshold_prev\n",
       "200  0.00       1.00  0.00     1000.0             NaN\n",
       "193  0.01       0.19  0.59      965.0          1000.0\n",
       "182  0.02       0.11  0.79      910.0           965.0\n",
       "159  0.04       0.04  0.80      795.0           910.0\n",
       "154  0.05       0.04  0.80      770.0           795.0\n",
       "151  0.06       0.03  0.80      755.0           770.0\n",
       "141  0.07       0.03  0.82      705.0           755.0\n",
       "124  0.10       0.02  0.82      620.0           705.0\n",
       "0    1.00       0.00  1.00        0.0           620.0"
      ]
     },
     "execution_count": 34,
     "metadata": {},
     "output_type": "execute_result"
    }
   ],
   "source": [
    "m[\"threshold_prev\"] = m['threshold'].shift(1)\n",
    "m.head(10)"
   ]
  },
  {
   "cell_type": "markdown",
   "metadata": {},
   "source": [
    "## threshold 파라미터 기준 값 설정\n",
    "\n",
    "- 모델 추론의 Score 결과를 'Fraud', 'investigate','approve'로 태킹을 하려고 함.\n",
    "- 이를 위해서 FPR 기준으로 세 개의 분류를 하려고 함.\n",
    "- 아래는 수치는 바꾸어서 사용하시면 됩니다. 하나의 예로 봐주세요.\n",
    "    - fraud의 기준을 fpr 기준으로 0.05 이하로 설정\n",
    "    - investigate 기준을 fpr 기준으로 0.05 보다 초과 하고 0.10 이하로 설정\n",
    "    - approve 의 기준을 0.11 보다 이상인 것으로 설정\n",
    "    \n",
    "#### 각 fpr 의 기준값에 따른 score 값을 확인, 실제 추론의 결과를 이 스코어 값으로 할당하여 세 개로 태킹 함.    \n",
    "\n"
   ]
  },
  {
   "cell_type": "code",
   "execution_count": 35,
   "metadata": {},
   "outputs": [],
   "source": [
    "fpr_fraud_threshold = 0.02 # <-- 에러시 수정\n",
    "fpr_investigate_threshold = 0.05 # <-- 에러시 수정\n",
    "fpr_approve_threshold = 0.06 # <-- 에러시 수정"
   ]
  },
  {
   "cell_type": "markdown",
   "metadata": {},
   "source": [
    "#### [에러시] 야래와 같은 에러가 발생할 경우에 위 테이블에서 fpr 이 있는 값으로 변경 해주세요.\n",
    "\n",
    "![fpr_index_error.png](img/fpr_index_error.png)\n",
    "\n"
   ]
  },
  {
   "cell_type": "code",
   "execution_count": 36,
   "metadata": {},
   "outputs": [
    {
     "name": "stdout",
     "output_type": "stream",
     "text": [
      "score_fraud_threshold:  910.0\n",
      "score_investigate_threshold:  770.0\n",
      "score_approve_threshold:  755.0\n"
     ]
    }
   ],
   "source": [
    "score_fraud_threshold = m[m['fpr'] == fpr_fraud_threshold]['threshold'].values[0]\n",
    "score_investigate_threshold = m[m['fpr'] == fpr_investigate_threshold]['threshold'].values[0]\n",
    "score_approve_threshold = m[m['fpr'] == fpr_approve_threshold]['threshold'].values[0]\n",
    "print(\"score_fraud_threshold: \", score_fraud_threshold)\n",
    "print(\"score_investigate_threshold: \", score_investigate_threshold)\n",
    "print(\"score_approve_threshold: \", score_approve_threshold)\n"
   ]
  },
  {
   "cell_type": "markdown",
   "metadata": {},
   "source": [
    "## 각각의 Threshold 에 일괄적으로 Rule Expression 생성\n",
    "- 위의 fpr_fraud_threshold, fpr_investigate_threshold, fpr_approve_threshold 의 기준에 따라서 Rule 조건식 생성"
   ]
  },
  {
   "cell_type": "code",
   "execution_count": 37,
   "metadata": {},
   "outputs": [
    {
     "data": {
      "text/html": [
       "<div>\n",
       "<style scoped>\n",
       "    .dataframe tbody tr th:only-of-type {\n",
       "        vertical-align: middle;\n",
       "    }\n",
       "\n",
       "    .dataframe tbody tr th {\n",
       "        vertical-align: top;\n",
       "    }\n",
       "\n",
       "    .dataframe thead th {\n",
       "        text-align: right;\n",
       "    }\n",
       "</style>\n",
       "<table border=\"1\" class=\"dataframe\">\n",
       "  <thead>\n",
       "    <tr style=\"text-align: right;\">\n",
       "      <th></th>\n",
       "      <th>fpr</th>\n",
       "      <th>precision</th>\n",
       "      <th>tpr</th>\n",
       "      <th>threshold</th>\n",
       "      <th>threshold_prev</th>\n",
       "      <th>rule</th>\n",
       "    </tr>\n",
       "  </thead>\n",
       "  <tbody>\n",
       "    <tr>\n",
       "      <th>200</th>\n",
       "      <td>0.00</td>\n",
       "      <td>1.00</td>\n",
       "      <td>0.00</td>\n",
       "      <td>1000.0</td>\n",
       "      <td>NaN</td>\n",
       "      <td>$adtaking_fraud_phase0_model_20210912_insightscore &gt; 1000.0</td>\n",
       "    </tr>\n",
       "    <tr>\n",
       "      <th>193</th>\n",
       "      <td>0.01</td>\n",
       "      <td>0.19</td>\n",
       "      <td>0.59</td>\n",
       "      <td>965.0</td>\n",
       "      <td>1000.0</td>\n",
       "      <td>$adtaking_fraud_phase0_model_20210912_insightscore &gt; 965.0</td>\n",
       "    </tr>\n",
       "    <tr>\n",
       "      <th>182</th>\n",
       "      <td>0.02</td>\n",
       "      <td>0.11</td>\n",
       "      <td>0.79</td>\n",
       "      <td>910.0</td>\n",
       "      <td>965.0</td>\n",
       "      <td>$adtaking_fraud_phase0_model_20210912_insightscore &gt; 910.0</td>\n",
       "    </tr>\n",
       "    <tr>\n",
       "      <th>159</th>\n",
       "      <td>0.04</td>\n",
       "      <td>0.04</td>\n",
       "      <td>0.80</td>\n",
       "      <td>795.0</td>\n",
       "      <td>910.0</td>\n",
       "      <td>795.0 &lt;= $adtaking_fraud_phase0_model_20210912_insightscore  and $adtaking_fraud_phase0_model_20210912_insightscore &lt;= 910.0</td>\n",
       "    </tr>\n",
       "    <tr>\n",
       "      <th>154</th>\n",
       "      <td>0.05</td>\n",
       "      <td>0.04</td>\n",
       "      <td>0.80</td>\n",
       "      <td>770.0</td>\n",
       "      <td>795.0</td>\n",
       "      <td>770.0 &lt;= $adtaking_fraud_phase0_model_20210912_insightscore  and $adtaking_fraud_phase0_model_20210912_insightscore &lt;= 795.0</td>\n",
       "    </tr>\n",
       "    <tr>\n",
       "      <th>151</th>\n",
       "      <td>0.06</td>\n",
       "      <td>0.03</td>\n",
       "      <td>0.80</td>\n",
       "      <td>755.0</td>\n",
       "      <td>770.0</td>\n",
       "      <td>$adtaking_fraud_phase0_model_20210912_insightscore &lt; 770.0</td>\n",
       "    </tr>\n",
       "    <tr>\n",
       "      <th>141</th>\n",
       "      <td>0.07</td>\n",
       "      <td>0.03</td>\n",
       "      <td>0.82</td>\n",
       "      <td>705.0</td>\n",
       "      <td>755.0</td>\n",
       "      <td>$adtaking_fraud_phase0_model_20210912_insightscore &lt; 755.0</td>\n",
       "    </tr>\n",
       "    <tr>\n",
       "      <th>124</th>\n",
       "      <td>0.10</td>\n",
       "      <td>0.02</td>\n",
       "      <td>0.82</td>\n",
       "      <td>620.0</td>\n",
       "      <td>705.0</td>\n",
       "      <td>$adtaking_fraud_phase0_model_20210912_insightscore &lt; 705.0</td>\n",
       "    </tr>\n",
       "    <tr>\n",
       "      <th>0</th>\n",
       "      <td>1.00</td>\n",
       "      <td>0.00</td>\n",
       "      <td>1.00</td>\n",
       "      <td>0.0</td>\n",
       "      <td>620.0</td>\n",
       "      <td>$adtaking_fraud_phase0_model_20210912_insightscore &lt; 620.0</td>\n",
       "    </tr>\n",
       "  </tbody>\n",
       "</table>\n",
       "</div>"
      ],
      "text/plain": [
       "      fpr  precision   tpr  threshold  threshold_prev                                                                                                                          rule\n",
       "200  0.00       1.00  0.00     1000.0             NaN                                                                   $adtaking_fraud_phase0_model_20210912_insightscore > 1000.0\n",
       "193  0.01       0.19  0.59      965.0          1000.0                                                                    $adtaking_fraud_phase0_model_20210912_insightscore > 965.0\n",
       "182  0.02       0.11  0.79      910.0           965.0                                                                    $adtaking_fraud_phase0_model_20210912_insightscore > 910.0\n",
       "159  0.04       0.04  0.80      795.0           910.0  795.0 <= $adtaking_fraud_phase0_model_20210912_insightscore  and $adtaking_fraud_phase0_model_20210912_insightscore <= 910.0\n",
       "154  0.05       0.04  0.80      770.0           795.0  770.0 <= $adtaking_fraud_phase0_model_20210912_insightscore  and $adtaking_fraud_phase0_model_20210912_insightscore <= 795.0\n",
       "151  0.06       0.03  0.80      755.0           770.0                                                                    $adtaking_fraud_phase0_model_20210912_insightscore < 770.0\n",
       "141  0.07       0.03  0.82      705.0           755.0                                                                    $adtaking_fraud_phase0_model_20210912_insightscore < 755.0\n",
       "124  0.10       0.02  0.82      620.0           705.0                                                                    $adtaking_fraud_phase0_model_20210912_insightscore < 705.0\n",
       "0    1.00       0.00  1.00        0.0           620.0                                                                    $adtaking_fraud_phase0_model_20210912_insightscore < 620.0"
      ]
     },
     "execution_count": 37,
     "metadata": {},
     "output_type": "execute_result"
    }
   ],
   "source": [
    "\n",
    "def make_rule(x, fraud_threshold, investigate_threshold, approve_threshold):\n",
    "    rule = \"\"\n",
    "    threshold_prev = x['threshold_prev']\n",
    "    threshold = x['threshold']        \n",
    "    #score_var = f'${MODEL_NAME}_insightscore'\n",
    "    if x['fpr'] <= fraud_threshold: \n",
    "        rule = \"${0}_insightscore > {1}\".format(MODEL_NAME,x['threshold'])\n",
    "    if  (x['fpr'] > fraud_threshold)  & (x['fpr'] <= investigate_threshold):\n",
    "\n",
    "        rule = f\"{threshold} <= ${MODEL_NAME}_insightscore  and ${MODEL_NAME}_insightscore <= {threshold_prev}\"\n",
    "        #print(rule)\n",
    "\n",
    "    if  x['fpr'] >= approve_threshold:\n",
    "        rule = \"${0}_insightscore < {1}\".format(MODEL_NAME,x['threshold_prev'])        \n",
    "        \n",
    "    return rule\n",
    "\n",
    "\n",
    "m['rule'] = m.apply(lambda x: make_rule(x, fpr_fraud_threshold, fpr_investigate_threshold, fpr_approve_threshold), axis=1)\n",
    "m.head(15)\n",
    "\n"
   ]
  },
  {
   "cell_type": "markdown",
   "metadata": {},
   "source": [
    "## Outcome 컬럼 생성\n",
    "- 세 가지 단계로 outcome 컬럼을 생성 합니다.\n",
    "    - (1) outcome 컬럼에 모두 'approve' 할당\n",
    "    - (2) fpr_fraud_threshold 기준으로 'fraud' 할당\n",
    "    - (3) fpr_fraud_threshold 및 fpr_investigate_threshold 기준으로 'investigate' 할당"
   ]
  },
  {
   "cell_type": "markdown",
   "metadata": {},
   "source": [
    "### (1) 전체를 Approve 할당"
   ]
  },
  {
   "cell_type": "code",
   "execution_count": 38,
   "metadata": {},
   "outputs": [
    {
     "data": {
      "text/html": [
       "<div>\n",
       "<style scoped>\n",
       "    .dataframe tbody tr th:only-of-type {\n",
       "        vertical-align: middle;\n",
       "    }\n",
       "\n",
       "    .dataframe tbody tr th {\n",
       "        vertical-align: top;\n",
       "    }\n",
       "\n",
       "    .dataframe thead th {\n",
       "        text-align: right;\n",
       "    }\n",
       "</style>\n",
       "<table border=\"1\" class=\"dataframe\">\n",
       "  <thead>\n",
       "    <tr style=\"text-align: right;\">\n",
       "      <th></th>\n",
       "      <th>fpr</th>\n",
       "      <th>precision</th>\n",
       "      <th>tpr</th>\n",
       "      <th>threshold</th>\n",
       "      <th>threshold_prev</th>\n",
       "      <th>rule</th>\n",
       "      <th>outcome</th>\n",
       "    </tr>\n",
       "  </thead>\n",
       "  <tbody>\n",
       "    <tr>\n",
       "      <th>200</th>\n",
       "      <td>0.00</td>\n",
       "      <td>1.00</td>\n",
       "      <td>0.00</td>\n",
       "      <td>1000.0</td>\n",
       "      <td>NaN</td>\n",
       "      <td>$adtaking_fraud_phase0_model_20210912_insightscore &gt; 1000.0</td>\n",
       "      <td>approve</td>\n",
       "    </tr>\n",
       "    <tr>\n",
       "      <th>193</th>\n",
       "      <td>0.01</td>\n",
       "      <td>0.19</td>\n",
       "      <td>0.59</td>\n",
       "      <td>965.0</td>\n",
       "      <td>1000.0</td>\n",
       "      <td>$adtaking_fraud_phase0_model_20210912_insightscore &gt; 965.0</td>\n",
       "      <td>approve</td>\n",
       "    </tr>\n",
       "    <tr>\n",
       "      <th>182</th>\n",
       "      <td>0.02</td>\n",
       "      <td>0.11</td>\n",
       "      <td>0.79</td>\n",
       "      <td>910.0</td>\n",
       "      <td>965.0</td>\n",
       "      <td>$adtaking_fraud_phase0_model_20210912_insightscore &gt; 910.0</td>\n",
       "      <td>approve</td>\n",
       "    </tr>\n",
       "    <tr>\n",
       "      <th>159</th>\n",
       "      <td>0.04</td>\n",
       "      <td>0.04</td>\n",
       "      <td>0.80</td>\n",
       "      <td>795.0</td>\n",
       "      <td>910.0</td>\n",
       "      <td>795.0 &lt;= $adtaking_fraud_phase0_model_20210912_insightscore  and $adtaking_fraud_phase0_model_20210912_insightscore &lt;= 910.0</td>\n",
       "      <td>approve</td>\n",
       "    </tr>\n",
       "    <tr>\n",
       "      <th>154</th>\n",
       "      <td>0.05</td>\n",
       "      <td>0.04</td>\n",
       "      <td>0.80</td>\n",
       "      <td>770.0</td>\n",
       "      <td>795.0</td>\n",
       "      <td>770.0 &lt;= $adtaking_fraud_phase0_model_20210912_insightscore  and $adtaking_fraud_phase0_model_20210912_insightscore &lt;= 795.0</td>\n",
       "      <td>approve</td>\n",
       "    </tr>\n",
       "  </tbody>\n",
       "</table>\n",
       "</div>"
      ],
      "text/plain": [
       "      fpr  precision   tpr  threshold  threshold_prev                                                                                                                          rule  outcome\n",
       "200  0.00       1.00  0.00     1000.0             NaN                                                                   $adtaking_fraud_phase0_model_20210912_insightscore > 1000.0  approve\n",
       "193  0.01       0.19  0.59      965.0          1000.0                                                                    $adtaking_fraud_phase0_model_20210912_insightscore > 965.0  approve\n",
       "182  0.02       0.11  0.79      910.0           965.0                                                                    $adtaking_fraud_phase0_model_20210912_insightscore > 910.0  approve\n",
       "159  0.04       0.04  0.80      795.0           910.0  795.0 <= $adtaking_fraud_phase0_model_20210912_insightscore  and $adtaking_fraud_phase0_model_20210912_insightscore <= 910.0  approve\n",
       "154  0.05       0.04  0.80      770.0           795.0  770.0 <= $adtaking_fraud_phase0_model_20210912_insightscore  and $adtaking_fraud_phase0_model_20210912_insightscore <= 795.0  approve"
      ]
     },
     "execution_count": 38,
     "metadata": {},
     "output_type": "execute_result"
    }
   ],
   "source": [
    "m['outcome'] = \"approve\"\n",
    "m.head(5)"
   ]
  },
  {
   "cell_type": "markdown",
   "metadata": {},
   "source": [
    "### (2) FPR (예: 0.03) 이하 기준으로 Outcome을 Fraud로 할당"
   ]
  },
  {
   "cell_type": "code",
   "execution_count": 39,
   "metadata": {},
   "outputs": [
    {
     "data": {
      "text/html": [
       "<div>\n",
       "<style scoped>\n",
       "    .dataframe tbody tr th:only-of-type {\n",
       "        vertical-align: middle;\n",
       "    }\n",
       "\n",
       "    .dataframe tbody tr th {\n",
       "        vertical-align: top;\n",
       "    }\n",
       "\n",
       "    .dataframe thead th {\n",
       "        text-align: right;\n",
       "    }\n",
       "</style>\n",
       "<table border=\"1\" class=\"dataframe\">\n",
       "  <thead>\n",
       "    <tr style=\"text-align: right;\">\n",
       "      <th></th>\n",
       "      <th>fpr</th>\n",
       "      <th>precision</th>\n",
       "      <th>tpr</th>\n",
       "      <th>threshold</th>\n",
       "      <th>threshold_prev</th>\n",
       "      <th>rule</th>\n",
       "      <th>outcome</th>\n",
       "    </tr>\n",
       "  </thead>\n",
       "  <tbody>\n",
       "    <tr>\n",
       "      <th>200</th>\n",
       "      <td>0.00</td>\n",
       "      <td>1.00</td>\n",
       "      <td>0.00</td>\n",
       "      <td>1000.0</td>\n",
       "      <td>NaN</td>\n",
       "      <td>$adtaking_fraud_phase0_model_20210912_insightscore &gt; 1000.0</td>\n",
       "      <td>fraud</td>\n",
       "    </tr>\n",
       "    <tr>\n",
       "      <th>193</th>\n",
       "      <td>0.01</td>\n",
       "      <td>0.19</td>\n",
       "      <td>0.59</td>\n",
       "      <td>965.0</td>\n",
       "      <td>1000.0</td>\n",
       "      <td>$adtaking_fraud_phase0_model_20210912_insightscore &gt; 965.0</td>\n",
       "      <td>fraud</td>\n",
       "    </tr>\n",
       "    <tr>\n",
       "      <th>182</th>\n",
       "      <td>0.02</td>\n",
       "      <td>0.11</td>\n",
       "      <td>0.79</td>\n",
       "      <td>910.0</td>\n",
       "      <td>965.0</td>\n",
       "      <td>$adtaking_fraud_phase0_model_20210912_insightscore &gt; 910.0</td>\n",
       "      <td>fraud</td>\n",
       "    </tr>\n",
       "    <tr>\n",
       "      <th>159</th>\n",
       "      <td>0.04</td>\n",
       "      <td>0.04</td>\n",
       "      <td>0.80</td>\n",
       "      <td>795.0</td>\n",
       "      <td>910.0</td>\n",
       "      <td>795.0 &lt;= $adtaking_fraud_phase0_model_20210912_insightscore  and $adtaking_fraud_phase0_model_20210912_insightscore &lt;= 910.0</td>\n",
       "      <td>approve</td>\n",
       "    </tr>\n",
       "    <tr>\n",
       "      <th>154</th>\n",
       "      <td>0.05</td>\n",
       "      <td>0.04</td>\n",
       "      <td>0.80</td>\n",
       "      <td>770.0</td>\n",
       "      <td>795.0</td>\n",
       "      <td>770.0 &lt;= $adtaking_fraud_phase0_model_20210912_insightscore  and $adtaking_fraud_phase0_model_20210912_insightscore &lt;= 795.0</td>\n",
       "      <td>approve</td>\n",
       "    </tr>\n",
       "    <tr>\n",
       "      <th>151</th>\n",
       "      <td>0.06</td>\n",
       "      <td>0.03</td>\n",
       "      <td>0.80</td>\n",
       "      <td>755.0</td>\n",
       "      <td>770.0</td>\n",
       "      <td>$adtaking_fraud_phase0_model_20210912_insightscore &lt; 770.0</td>\n",
       "      <td>approve</td>\n",
       "    </tr>\n",
       "    <tr>\n",
       "      <th>141</th>\n",
       "      <td>0.07</td>\n",
       "      <td>0.03</td>\n",
       "      <td>0.82</td>\n",
       "      <td>705.0</td>\n",
       "      <td>755.0</td>\n",
       "      <td>$adtaking_fraud_phase0_model_20210912_insightscore &lt; 755.0</td>\n",
       "      <td>approve</td>\n",
       "    </tr>\n",
       "    <tr>\n",
       "      <th>124</th>\n",
       "      <td>0.10</td>\n",
       "      <td>0.02</td>\n",
       "      <td>0.82</td>\n",
       "      <td>620.0</td>\n",
       "      <td>705.0</td>\n",
       "      <td>$adtaking_fraud_phase0_model_20210912_insightscore &lt; 705.0</td>\n",
       "      <td>approve</td>\n",
       "    </tr>\n",
       "    <tr>\n",
       "      <th>0</th>\n",
       "      <td>1.00</td>\n",
       "      <td>0.00</td>\n",
       "      <td>1.00</td>\n",
       "      <td>0.0</td>\n",
       "      <td>620.0</td>\n",
       "      <td>$adtaking_fraud_phase0_model_20210912_insightscore &lt; 620.0</td>\n",
       "      <td>approve</td>\n",
       "    </tr>\n",
       "  </tbody>\n",
       "</table>\n",
       "</div>"
      ],
      "text/plain": [
       "      fpr  precision   tpr  threshold  threshold_prev                                                                                                                          rule  outcome\n",
       "200  0.00       1.00  0.00     1000.0             NaN                                                                   $adtaking_fraud_phase0_model_20210912_insightscore > 1000.0    fraud\n",
       "193  0.01       0.19  0.59      965.0          1000.0                                                                    $adtaking_fraud_phase0_model_20210912_insightscore > 965.0    fraud\n",
       "182  0.02       0.11  0.79      910.0           965.0                                                                    $adtaking_fraud_phase0_model_20210912_insightscore > 910.0    fraud\n",
       "159  0.04       0.04  0.80      795.0           910.0  795.0 <= $adtaking_fraud_phase0_model_20210912_insightscore  and $adtaking_fraud_phase0_model_20210912_insightscore <= 910.0  approve\n",
       "154  0.05       0.04  0.80      770.0           795.0  770.0 <= $adtaking_fraud_phase0_model_20210912_insightscore  and $adtaking_fraud_phase0_model_20210912_insightscore <= 795.0  approve\n",
       "151  0.06       0.03  0.80      755.0           770.0                                                                    $adtaking_fraud_phase0_model_20210912_insightscore < 770.0  approve\n",
       "141  0.07       0.03  0.82      705.0           755.0                                                                    $adtaking_fraud_phase0_model_20210912_insightscore < 755.0  approve\n",
       "124  0.10       0.02  0.82      620.0           705.0                                                                    $adtaking_fraud_phase0_model_20210912_insightscore < 705.0  approve\n",
       "0    1.00       0.00  1.00        0.0           620.0                                                                    $adtaking_fraud_phase0_model_20210912_insightscore < 620.0  approve"
      ]
     },
     "execution_count": 39,
     "metadata": {},
     "output_type": "execute_result"
    }
   ],
   "source": [
    "m.loc[m['fpr'] <= fpr_fraud_threshold, \"outcome\"] = \"fraud\"\n",
    "m.head(10)"
   ]
  },
  {
   "cell_type": "markdown",
   "metadata": {},
   "source": [
    "### (3) FPR 특정 값(예: 0.03) 초과 및  특정 값 이하로 Outcome을 investigate  할당"
   ]
  },
  {
   "cell_type": "code",
   "execution_count": 40,
   "metadata": {},
   "outputs": [
    {
     "data": {
      "text/html": [
       "<div>\n",
       "<style scoped>\n",
       "    .dataframe tbody tr th:only-of-type {\n",
       "        vertical-align: middle;\n",
       "    }\n",
       "\n",
       "    .dataframe tbody tr th {\n",
       "        vertical-align: top;\n",
       "    }\n",
       "\n",
       "    .dataframe thead th {\n",
       "        text-align: right;\n",
       "    }\n",
       "</style>\n",
       "<table border=\"1\" class=\"dataframe\">\n",
       "  <thead>\n",
       "    <tr style=\"text-align: right;\">\n",
       "      <th></th>\n",
       "      <th>fpr</th>\n",
       "      <th>precision</th>\n",
       "      <th>tpr</th>\n",
       "      <th>threshold</th>\n",
       "      <th>threshold_prev</th>\n",
       "      <th>rule</th>\n",
       "      <th>outcome</th>\n",
       "    </tr>\n",
       "  </thead>\n",
       "  <tbody>\n",
       "    <tr>\n",
       "      <th>200</th>\n",
       "      <td>0.00</td>\n",
       "      <td>1.00</td>\n",
       "      <td>0.00</td>\n",
       "      <td>1000.0</td>\n",
       "      <td>NaN</td>\n",
       "      <td>$adtaking_fraud_phase0_model_20210912_insightscore &gt; 1000.0</td>\n",
       "      <td>fraud</td>\n",
       "    </tr>\n",
       "    <tr>\n",
       "      <th>193</th>\n",
       "      <td>0.01</td>\n",
       "      <td>0.19</td>\n",
       "      <td>0.59</td>\n",
       "      <td>965.0</td>\n",
       "      <td>1000.0</td>\n",
       "      <td>$adtaking_fraud_phase0_model_20210912_insightscore &gt; 965.0</td>\n",
       "      <td>fraud</td>\n",
       "    </tr>\n",
       "    <tr>\n",
       "      <th>182</th>\n",
       "      <td>0.02</td>\n",
       "      <td>0.11</td>\n",
       "      <td>0.79</td>\n",
       "      <td>910.0</td>\n",
       "      <td>965.0</td>\n",
       "      <td>$adtaking_fraud_phase0_model_20210912_insightscore &gt; 910.0</td>\n",
       "      <td>fraud</td>\n",
       "    </tr>\n",
       "    <tr>\n",
       "      <th>159</th>\n",
       "      <td>0.04</td>\n",
       "      <td>0.04</td>\n",
       "      <td>0.80</td>\n",
       "      <td>795.0</td>\n",
       "      <td>910.0</td>\n",
       "      <td>795.0 &lt;= $adtaking_fraud_phase0_model_20210912_insightscore  and $adtaking_fraud_phase0_model_20210912_insightscore &lt;= 910.0</td>\n",
       "      <td>investigate</td>\n",
       "    </tr>\n",
       "    <tr>\n",
       "      <th>154</th>\n",
       "      <td>0.05</td>\n",
       "      <td>0.04</td>\n",
       "      <td>0.80</td>\n",
       "      <td>770.0</td>\n",
       "      <td>795.0</td>\n",
       "      <td>770.0 &lt;= $adtaking_fraud_phase0_model_20210912_insightscore  and $adtaking_fraud_phase0_model_20210912_insightscore &lt;= 795.0</td>\n",
       "      <td>investigate</td>\n",
       "    </tr>\n",
       "    <tr>\n",
       "      <th>151</th>\n",
       "      <td>0.06</td>\n",
       "      <td>0.03</td>\n",
       "      <td>0.80</td>\n",
       "      <td>755.0</td>\n",
       "      <td>770.0</td>\n",
       "      <td>$adtaking_fraud_phase0_model_20210912_insightscore &lt; 770.0</td>\n",
       "      <td>approve</td>\n",
       "    </tr>\n",
       "    <tr>\n",
       "      <th>141</th>\n",
       "      <td>0.07</td>\n",
       "      <td>0.03</td>\n",
       "      <td>0.82</td>\n",
       "      <td>705.0</td>\n",
       "      <td>755.0</td>\n",
       "      <td>$adtaking_fraud_phase0_model_20210912_insightscore &lt; 755.0</td>\n",
       "      <td>approve</td>\n",
       "    </tr>\n",
       "    <tr>\n",
       "      <th>124</th>\n",
       "      <td>0.10</td>\n",
       "      <td>0.02</td>\n",
       "      <td>0.82</td>\n",
       "      <td>620.0</td>\n",
       "      <td>705.0</td>\n",
       "      <td>$adtaking_fraud_phase0_model_20210912_insightscore &lt; 705.0</td>\n",
       "      <td>approve</td>\n",
       "    </tr>\n",
       "    <tr>\n",
       "      <th>0</th>\n",
       "      <td>1.00</td>\n",
       "      <td>0.00</td>\n",
       "      <td>1.00</td>\n",
       "      <td>0.0</td>\n",
       "      <td>620.0</td>\n",
       "      <td>$adtaking_fraud_phase0_model_20210912_insightscore &lt; 620.0</td>\n",
       "      <td>approve</td>\n",
       "    </tr>\n",
       "  </tbody>\n",
       "</table>\n",
       "</div>"
      ],
      "text/plain": [
       "      fpr  precision   tpr  threshold  threshold_prev                                                                                                                          rule      outcome\n",
       "200  0.00       1.00  0.00     1000.0             NaN                                                                   $adtaking_fraud_phase0_model_20210912_insightscore > 1000.0        fraud\n",
       "193  0.01       0.19  0.59      965.0          1000.0                                                                    $adtaking_fraud_phase0_model_20210912_insightscore > 965.0        fraud\n",
       "182  0.02       0.11  0.79      910.0           965.0                                                                    $adtaking_fraud_phase0_model_20210912_insightscore > 910.0        fraud\n",
       "159  0.04       0.04  0.80      795.0           910.0  795.0 <= $adtaking_fraud_phase0_model_20210912_insightscore  and $adtaking_fraud_phase0_model_20210912_insightscore <= 910.0  investigate\n",
       "154  0.05       0.04  0.80      770.0           795.0  770.0 <= $adtaking_fraud_phase0_model_20210912_insightscore  and $adtaking_fraud_phase0_model_20210912_insightscore <= 795.0  investigate\n",
       "151  0.06       0.03  0.80      755.0           770.0                                                                    $adtaking_fraud_phase0_model_20210912_insightscore < 770.0      approve\n",
       "141  0.07       0.03  0.82      705.0           755.0                                                                    $adtaking_fraud_phase0_model_20210912_insightscore < 755.0      approve\n",
       "124  0.10       0.02  0.82      620.0           705.0                                                                    $adtaking_fraud_phase0_model_20210912_insightscore < 705.0      approve\n",
       "0    1.00       0.00  1.00        0.0           620.0                                                                    $adtaking_fraud_phase0_model_20210912_insightscore < 620.0      approve"
      ]
     },
     "execution_count": 40,
     "metadata": {},
     "output_type": "execute_result"
    }
   ],
   "source": [
    "m.loc[(m['fpr'] > fpr_fraud_threshold) & (m['fpr'] <= fpr_investigate_threshold), \"outcome\"] = \"investigate\"\n",
    "m.head(20)"
   ]
  },
  {
   "cell_type": "markdown",
   "metadata": {},
   "source": [
    "# 4. Outcome 오브젝트 생성"
   ]
  },
  {
   "cell_type": "code",
   "execution_count": 41,
   "metadata": {},
   "outputs": [
    {
     "name": "stdout",
     "output_type": "stream",
     "text": [
      "outcomes: \n",
      " ['fraud', 'investigate', 'approve']\n",
      "creating outcome variable: fraud \n",
      "creating outcome variable: investigate \n",
      "creating outcome variable: approve \n"
     ]
    }
   ],
   "source": [
    "# -- create outcomes -- \n",
    "def create_outcomes(outcomes):\n",
    "    \"\"\" create Fraud Detector Outcomes \n",
    "    \n",
    "    \"\"\"   \n",
    "    for outcome in outcomes:\n",
    "        print(\"creating outcome variable: {0} \".format(outcome))\n",
    "        response = client.put_outcome(\n",
    "                          name=outcome,\n",
    "                          description=outcome)\n",
    "\n",
    "# -- get distinct outcomes \n",
    "outcomes = m[\"outcome\"].unique().tolist()\n",
    "print(\"outcomes: \\n\", outcomes)\n",
    "\n",
    "create_outcomes(outcomes)"
   ]
  },
  {
   "cell_type": "markdown",
   "metadata": {},
   "source": [
    "# 5. Detector 생성"
   ]
  },
  {
   "cell_type": "code",
   "execution_count": 42,
   "metadata": {},
   "outputs": [
    {
     "name": "stdout",
     "output_type": "stream",
     "text": [
      "{'ResponseMetadata': {'RequestId': '348ba0fd-bfd1-46ba-9a08-526ca534d2a3', 'HTTPStatusCode': 200, 'HTTPHeaders': {'date': 'Sun, 12 Sep 2021 12:26:35 GMT', 'content-type': 'application/x-amz-json-1.1', 'content-length': '2', 'connection': 'keep-alive', 'x-amzn-requestid': '348ba0fd-bfd1-46ba-9a08-526ca534d2a3'}, 'RetryAttempts': 0}}\n"
     ]
    }
   ],
   "source": [
    "DETECTOR_NAME  = f\"{project_prefix}_detector_{sufx}\"\n",
    "DETECTOR_DESC  = \"detects synthetic fraud events created: {0}\".format(sufx) \n",
    "\n",
    "\n",
    "# -- initialize your detector -- \n",
    "response = client.put_detector(detectorId  = DETECTOR_NAME, \n",
    "                               description = DETECTOR_DESC, \n",
    "                               eventTypeName = EVENT_TYPE )\n",
    "\n",
    "print(response)"
   ]
  },
  {
   "cell_type": "markdown",
   "metadata": {},
   "source": [
    "# 6. Rule 생성"
   ]
  },
  {
   "cell_type": "code",
   "execution_count": 43,
   "metadata": {},
   "outputs": [
    {
     "data": {
      "text/plain": [
       "[{'outcome': 'fraud',\n",
       "  'rule': '$adtaking_fraud_phase0_model_20210912_insightscore > 910.0'},\n",
       " {'outcome': 'investigate',\n",
       "  'rule': '795.0 <= $adtaking_fraud_phase0_model_20210912_insightscore  and $adtaking_fraud_phase0_model_20210912_insightscore <= 910.0'},\n",
       " {'outcome': 'investigate',\n",
       "  'rule': '770.0 <= $adtaking_fraud_phase0_model_20210912_insightscore  and $adtaking_fraud_phase0_model_20210912_insightscore <= 795.0'},\n",
       " {'outcome': 'approve',\n",
       "  'rule': '$adtaking_fraud_phase0_model_20210912_insightscore < 770.0'}]"
      ]
     },
     "execution_count": 43,
     "metadata": {},
     "output_type": "execute_result"
    }
   ],
   "source": [
    "def create_rule_set(m, fpr_fraud_threshold, fpr_investigate_threshold, fpr_approve_threshold):\n",
    "    rule_set = []\n",
    "    fraud_exp = m[m['fpr'] == fpr_fraud_threshold][['outcome','rule']].to_dict('records')\n",
    "    invvestigate_exp = m[m['outcome'] == 'investigate'][['outcome','rule']].to_dict('records')\n",
    "    approve_exp = m[m['fpr'] == fpr_approve_threshold][['outcome','rule']].to_dict('records')\n",
    "\n",
    "#     print(fraud_exp[0])\n",
    "#     print(invvestigate_exp)\n",
    "#     print(approve_exp[0])    \n",
    "    rule_set.append(fraud_exp[0])\n",
    "    for rule_exp in invvestigate_exp:\n",
    "        rule_set.append(rule_exp)    \n",
    "    rule_set.append(approve_exp[0])        \n",
    "    \n",
    "    return rule_set\n",
    "\n",
    "rule_set = create_rule_set(m, fpr_fraud_threshold, fpr_investigate_threshold, fpr_approve_threshold)\n",
    "rule_set    "
   ]
  },
  {
   "cell_type": "code",
   "execution_count": 44,
   "metadata": {},
   "outputs": [
    {
     "name": "stdout",
     "output_type": "stream",
     "text": [
      "creating rule: rule0_adtaking_fraud_phase0_model_20210912: IF $adtaking_fraud_phase0_model_20210912_insightscore > 910.0 THEN fraud\n",
      "creating rule: rule1_adtaking_fraud_phase0_model_20210912: IF 795.0 <= $adtaking_fraud_phase0_model_20210912_insightscore  and $adtaking_fraud_phase0_model_20210912_insightscore <= 910.0 THEN investigate\n",
      "creating rule: rule2_adtaking_fraud_phase0_model_20210912: IF 770.0 <= $adtaking_fraud_phase0_model_20210912_insightscore  and $adtaking_fraud_phase0_model_20210912_insightscore <= 795.0 THEN investigate\n",
      "creating rule: rule3_adtaking_fraud_phase0_model_20210912: IF $adtaking_fraud_phase0_model_20210912_insightscore < 770.0 THEN approve\n"
     ]
    }
   ],
   "source": [
    "\n",
    "rule_list = []\n",
    "for i, rule in enumerate(rule_set):\n",
    "    ruleId = \"rule{0}_{1}\".format(i, MODEL_NAME)\n",
    "    rule_list.append({\"ruleId\": ruleId, \n",
    "                      \"ruleVersion\" : '1',\n",
    "                      \"detectorId\"  : DETECTOR_NAME\n",
    "        \n",
    "    })\n",
    "    print(\"creating rule: {0}: IF {1} THEN {2}\".format(ruleId, rule[\"rule\"], rule['outcome']))\n",
    "    try:\n",
    "        response = client.create_rule(\n",
    "            ruleId = ruleId,\n",
    "            detectorId = DETECTOR_NAME,\n",
    "            expression = rule['rule'],\n",
    "            language = 'DETECTORPL',\n",
    "            outcomes = [rule['outcome']]\n",
    "            )\n",
    "    except:\n",
    "        print(\"this rule already exists in this detector\")"
   ]
  },
  {
   "cell_type": "code",
   "execution_count": 45,
   "metadata": {},
   "outputs": [],
   "source": [
    "# 위에 Rule 삭제시 아래를 실행 하세요.\n",
    "# for rule in rule_list:\n",
    "#     response = client.delete_rule(\n",
    "#         rule= rule                \n",
    "#     )\n",
    "#     print(response)\n",
    "\n"
   ]
  },
  {
   "cell_type": "markdown",
   "metadata": {},
   "source": [
    "# 7. Detector Version 생성"
   ]
  },
  {
   "cell_type": "code",
   "execution_count": 47,
   "metadata": {},
   "outputs": [],
   "source": [
    "detector_version =\"1\""
   ]
  },
  {
   "cell_type": "code",
   "execution_count": 48,
   "metadata": {},
   "outputs": [
    {
     "name": "stdout",
     "output_type": "stream",
     "text": [
      "\n",
      " -- detector created -- \n",
      "{'rule': {'detectorId': 'adtaking_fraud_phase0_detector_20210912', 'ruleId': 'rule3_adtaking_fraud_phase0_model_20210912', 'ruleVersion': '1'}, 'ResponseMetadata': {'RequestId': 'a149aa46-5a70-4268-864b-a63ed6f39ab8', 'HTTPStatusCode': 200, 'HTTPHeaders': {'date': 'Sun, 12 Sep 2021 12:26:39 GMT', 'content-type': 'application/x-amz-json-1.1', 'content-length': '137', 'connection': 'keep-alive', 'x-amzn-requestid': 'a149aa46-5a70-4268-864b-a63ed6f39ab8'}, 'RetryAttempts': 0}}\n"
     ]
    }
   ],
   "source": [
    "client.create_detector_version(\n",
    "    detectorId = DETECTOR_NAME,\n",
    "    rules = rule_list,\n",
    "    modelVersions = [{\"modelId\":MODEL_NAME, \n",
    "                      \"modelType\" : \"ONLINE_FRAUD_INSIGHTS\",\n",
    "                      \"modelVersionNumber\" : modelVersionNumber}],\n",
    "    ruleExecutionMode = 'FIRST_MATCHED'\n",
    "    )\n",
    "\n",
    "print(\"\\n -- detector created -- \")\n",
    "print(response) \n"
   ]
  },
  {
   "cell_type": "markdown",
   "metadata": {},
   "source": [
    "# 8. Detector Version 을 Active 로 변경\n",
    "- 아래 업데이트는 Status 를 Draft --> Active 로 변환 함."
   ]
  },
  {
   "cell_type": "code",
   "execution_count": 49,
   "metadata": {},
   "outputs": [
    {
     "name": "stdout",
     "output_type": "stream",
     "text": [
      "\n",
      " -- detector activated -- \n",
      "{'ResponseMetadata': {'RequestId': '9faaf5c0-8dce-4969-8d02-a0b4ee8d6aee', 'HTTPStatusCode': 200, 'HTTPHeaders': {'date': 'Sun, 12 Sep 2021 12:26:53 GMT', 'content-type': 'application/x-amz-json-1.1', 'content-length': '2', 'connection': 'keep-alive', 'x-amzn-requestid': '9faaf5c0-8dce-4969-8d02-a0b4ee8d6aee'}, 'RetryAttempts': 0}}\n"
     ]
    }
   ],
   "source": [
    "response = client.update_detector_version_status(\n",
    "    detectorId= DETECTOR_NAME,\n",
    "    detectorVersionId= detector_version,\n",
    "    status='ACTIVE'\n",
    ")\n",
    "print(\"\\n -- detector activated -- \")\n",
    "print(response)"
   ]
  },
  {
   "cell_type": "markdown",
   "metadata": {},
   "source": [
    "## 변수 저장"
   ]
  },
  {
   "cell_type": "code",
   "execution_count": 52,
   "metadata": {},
   "outputs": [
    {
     "name": "stdout",
     "output_type": "stream",
     "text": [
      "Stored 'DETECTOR_NAME' (str)\n",
      "Stored 'EVENT_TYPE' (str)\n",
      "Stored 'rule_list' (list)\n",
      "Stored 'detector_version' (str)\n",
      "Stored 'score_fraud_threshold' (float64)\n",
      "Stored 'score_investigate_threshold' (float64)\n",
      "Stored 'score_approve_threshold' (float64)\n",
      "Stored 'outcomes' (list)\n"
     ]
    }
   ],
   "source": [
    "%store DETECTOR_NAME\n",
    "%store EVENT_TYPE\n",
    "%store rule_list\n",
    "%store detector_version\n",
    "\n",
    "%store score_fraud_threshold\n",
    "%store score_investigate_threshold\n",
    "%store score_approve_threshold\n",
    "%store outcomes"
   ]
  },
  {
   "cell_type": "code",
   "execution_count": null,
   "metadata": {},
   "outputs": [],
   "source": []
  },
  {
   "cell_type": "code",
   "execution_count": null,
   "metadata": {},
   "outputs": [],
   "source": []
  }
 ],
 "metadata": {
  "kernelspec": {
   "display_name": "conda_python3",
   "language": "python",
   "name": "conda_python3"
  },
  "language_info": {
   "codemirror_mode": {
    "name": "ipython",
    "version": 3
   },
   "file_extension": ".py",
   "mimetype": "text/x-python",
   "name": "python",
   "nbconvert_exporter": "python",
   "pygments_lexer": "ipython3",
   "version": "3.6.13"
  }
 },
 "nbformat": 4,
 "nbformat_minor": 4
}

{
 "cells": [
  {
   "cell_type": "markdown",
   "id": "ddfd60cf",
   "metadata": {},
   "source": [
    "# [모듈 7.1] 리소스 정리\n",
    "\n",
    "참조 : \n",
    "- [Boto3 API 가이드](https://boto3.amazonaws.com/v1/documentation/api/latest/reference/services/frauddetector.html#FraudDetector.Client.delete_label)"
   ]
  },
  {
   "cell_type": "markdown",
   "id": "2d9d8c43",
   "metadata": {},
   "source": [
    "# 0. 환경 셋업"
   ]
  },
  {
   "cell_type": "code",
   "execution_count": 1,
   "id": "91db4192",
   "metadata": {},
   "outputs": [],
   "source": [
    "# detectorId\n",
    "%store -r DETECTOR_NAME \n",
    "# eventTypeName\n",
    "%store -r EVENT_TYPE\n",
    "%store -r ENTITY_TYPE\n",
    "%store -r eventVariables\n",
    "%store -r rule_list\n",
    "%store -r detector_version\n",
    "\n",
    "%store -r MODEL_NAME\n",
    "%store -r modelVersionNumber\n",
    "%store -r outcomes"
   ]
  },
  {
   "cell_type": "code",
   "execution_count": 2,
   "id": "b9757e63",
   "metadata": {},
   "outputs": [],
   "source": [
    "import boto3\n",
    "client = boto3.client(\"frauddetector\")\n",
    "\n",
    "from IPython.display import display as dp"
   ]
  },
  {
   "cell_type": "markdown",
   "id": "854bce68",
   "metadata": {},
   "source": [
    "# 1. Detector 관련 리소스 제거"
   ]
  },
  {
   "cell_type": "markdown",
   "id": "f2e6915e",
   "metadata": {},
   "source": [
    "## Detector Version 을 Active 로 변경\n",
    "- 아래 업데이트는 Status 를 Draft --> Active 로 변환 함."
   ]
  },
  {
   "cell_type": "code",
   "execution_count": 3,
   "id": "faa054df",
   "metadata": {},
   "outputs": [
    {
     "name": "stdout",
     "output_type": "stream",
     "text": [
      "\n",
      " -- detector inactivated -- \n",
      "{'ResponseMetadata': {'RequestId': '7e411f0f-39e5-412d-be43-061a42af793b', 'HTTPStatusCode': 200, 'HTTPHeaders': {'date': 'Mon, 13 Sep 2021 14:14:32 GMT', 'content-type': 'application/x-amz-json-1.1', 'content-length': '2', 'connection': 'keep-alive', 'x-amzn-requestid': '7e411f0f-39e5-412d-be43-061a42af793b'}, 'RetryAttempts': 0}}\n"
     ]
    }
   ],
   "source": [
    "response = client.update_detector_version_status(\n",
    "    detectorId= DETECTOR_NAME,\n",
    "    detectorVersionId= detector_version,\n",
    "    status='INACTIVE'\n",
    ")\n",
    "print(\"\\n -- detector inactivated -- \")\n",
    "print(response)"
   ]
  },
  {
   "cell_type": "markdown",
   "id": "5c2f291c",
   "metadata": {},
   "source": [
    "## Detector Version 제거"
   ]
  },
  {
   "cell_type": "code",
   "execution_count": 4,
   "id": "28a82233",
   "metadata": {},
   "outputs": [],
   "source": [
    "response = client.delete_detector_version(\n",
    "    detectorId= DETECTOR_NAME,\n",
    "    detectorVersionId = detector_version\n",
    ")"
   ]
  },
  {
   "cell_type": "code",
   "execution_count": 5,
   "id": "894a3aac",
   "metadata": {},
   "outputs": [
    {
     "data": {
      "text/plain": [
       "{'ResponseMetadata': {'RequestId': '33060c68-37f6-4991-aa7f-d2eaae76e6d2',\n",
       "  'HTTPStatusCode': 200,\n",
       "  'HTTPHeaders': {'date': 'Mon, 13 Sep 2021 14:14:35 GMT',\n",
       "   'content-type': 'application/x-amz-json-1.1',\n",
       "   'content-length': '2',\n",
       "   'connection': 'keep-alive',\n",
       "   'x-amzn-requestid': '33060c68-37f6-4991-aa7f-d2eaae76e6d2'},\n",
       "  'RetryAttempts': 0}}"
      ]
     },
     "execution_count": 5,
     "metadata": {},
     "output_type": "execute_result"
    }
   ],
   "source": [
    "response"
   ]
  },
  {
   "cell_type": "markdown",
   "id": "b9dc7dcc",
   "metadata": {},
   "source": [
    "## Rule 제거"
   ]
  },
  {
   "cell_type": "code",
   "execution_count": 6,
   "id": "8b4f2139",
   "metadata": {},
   "outputs": [
    {
     "data": {
      "text/plain": [
       "[{'ruleId': 'rule0_adtaking_fraud_phase0_model_20210913',\n",
       "  'ruleVersion': '1',\n",
       "  'detectorId': 'adtaking_fraud_phase0_detector_20210913'},\n",
       " {'ruleId': 'rule1_adtaking_fraud_phase0_model_20210913',\n",
       "  'ruleVersion': '1',\n",
       "  'detectorId': 'adtaking_fraud_phase0_detector_20210913'},\n",
       " {'ruleId': 'rule2_adtaking_fraud_phase0_model_20210913',\n",
       "  'ruleVersion': '1',\n",
       "  'detectorId': 'adtaking_fraud_phase0_detector_20210913'},\n",
       " {'ruleId': 'rule3_adtaking_fraud_phase0_model_20210913',\n",
       "  'ruleVersion': '1',\n",
       "  'detectorId': 'adtaking_fraud_phase0_detector_20210913'},\n",
       " {'ruleId': 'rule4_adtaking_fraud_phase0_model_20210913',\n",
       "  'ruleVersion': '1',\n",
       "  'detectorId': 'adtaking_fraud_phase0_detector_20210913'},\n",
       " {'ruleId': 'rule5_adtaking_fraud_phase0_model_20210913',\n",
       "  'ruleVersion': '1',\n",
       "  'detectorId': 'adtaking_fraud_phase0_detector_20210913'},\n",
       " {'ruleId': 'rule6_adtaking_fraud_phase0_model_20210913',\n",
       "  'ruleVersion': '1',\n",
       "  'detectorId': 'adtaking_fraud_phase0_detector_20210913'},\n",
       " {'ruleId': 'rule7_adtaking_fraud_phase0_model_20210913',\n",
       "  'ruleVersion': '1',\n",
       "  'detectorId': 'adtaking_fraud_phase0_detector_20210913'},\n",
       " {'ruleId': 'rule8_adtaking_fraud_phase0_model_20210913',\n",
       "  'ruleVersion': '1',\n",
       "  'detectorId': 'adtaking_fraud_phase0_detector_20210913'}]"
      ]
     },
     "execution_count": 6,
     "metadata": {},
     "output_type": "execute_result"
    }
   ],
   "source": [
    "rule_list"
   ]
  },
  {
   "cell_type": "code",
   "execution_count": 7,
   "id": "5b3358d1",
   "metadata": {},
   "outputs": [
    {
     "name": "stdout",
     "output_type": "stream",
     "text": [
      "{'ResponseMetadata': {'RequestId': '79da5da8-c61d-475d-937e-78b25d4dc8d7', 'HTTPStatusCode': 200, 'HTTPHeaders': {'date': 'Mon, 13 Sep 2021 14:14:40 GMT', 'content-type': 'application/x-amz-json-1.1', 'content-length': '2', 'connection': 'keep-alive', 'x-amzn-requestid': '79da5da8-c61d-475d-937e-78b25d4dc8d7'}, 'RetryAttempts': 0}}\n",
      "{'ResponseMetadata': {'RequestId': '3678dd73-4930-4ba1-950a-216a2affbdda', 'HTTPStatusCode': 200, 'HTTPHeaders': {'date': 'Mon, 13 Sep 2021 14:14:40 GMT', 'content-type': 'application/x-amz-json-1.1', 'content-length': '2', 'connection': 'keep-alive', 'x-amzn-requestid': '3678dd73-4930-4ba1-950a-216a2affbdda'}, 'RetryAttempts': 0}}\n",
      "{'ResponseMetadata': {'RequestId': '1964c4c2-1208-4de9-a062-9e44ea4cc2de', 'HTTPStatusCode': 200, 'HTTPHeaders': {'date': 'Mon, 13 Sep 2021 14:14:40 GMT', 'content-type': 'application/x-amz-json-1.1', 'content-length': '2', 'connection': 'keep-alive', 'x-amzn-requestid': '1964c4c2-1208-4de9-a062-9e44ea4cc2de'}, 'RetryAttempts': 0}}\n",
      "{'ResponseMetadata': {'RequestId': '465cb556-d48b-42ec-a2cd-1fa38c38a311', 'HTTPStatusCode': 200, 'HTTPHeaders': {'date': 'Mon, 13 Sep 2021 14:14:40 GMT', 'content-type': 'application/x-amz-json-1.1', 'content-length': '2', 'connection': 'keep-alive', 'x-amzn-requestid': '465cb556-d48b-42ec-a2cd-1fa38c38a311'}, 'RetryAttempts': 0}}\n",
      "{'ResponseMetadata': {'RequestId': '7c07e655-1006-4199-8a9c-d320c67faf14', 'HTTPStatusCode': 200, 'HTTPHeaders': {'date': 'Mon, 13 Sep 2021 14:14:41 GMT', 'content-type': 'application/x-amz-json-1.1', 'content-length': '2', 'connection': 'keep-alive', 'x-amzn-requestid': '7c07e655-1006-4199-8a9c-d320c67faf14'}, 'RetryAttempts': 0}}\n",
      "{'ResponseMetadata': {'RequestId': '0f9fe548-8be3-4fdb-b870-102dc13cee4e', 'HTTPStatusCode': 200, 'HTTPHeaders': {'date': 'Mon, 13 Sep 2021 14:14:41 GMT', 'content-type': 'application/x-amz-json-1.1', 'content-length': '2', 'connection': 'keep-alive', 'x-amzn-requestid': '0f9fe548-8be3-4fdb-b870-102dc13cee4e'}, 'RetryAttempts': 0}}\n",
      "{'ResponseMetadata': {'RequestId': '370fe479-89ae-4a9e-9aed-eb239ca89143', 'HTTPStatusCode': 200, 'HTTPHeaders': {'date': 'Mon, 13 Sep 2021 14:14:41 GMT', 'content-type': 'application/x-amz-json-1.1', 'content-length': '2', 'connection': 'keep-alive', 'x-amzn-requestid': '370fe479-89ae-4a9e-9aed-eb239ca89143'}, 'RetryAttempts': 0}}\n",
      "{'ResponseMetadata': {'RequestId': 'a6fffe7c-804a-4080-a544-3e841dda822e', 'HTTPStatusCode': 200, 'HTTPHeaders': {'date': 'Mon, 13 Sep 2021 14:14:41 GMT', 'content-type': 'application/x-amz-json-1.1', 'content-length': '2', 'connection': 'keep-alive', 'x-amzn-requestid': 'a6fffe7c-804a-4080-a544-3e841dda822e'}, 'RetryAttempts': 0}}\n",
      "{'ResponseMetadata': {'RequestId': '434716e5-c9e2-45a7-8e33-8de617a811a7', 'HTTPStatusCode': 200, 'HTTPHeaders': {'date': 'Mon, 13 Sep 2021 14:14:41 GMT', 'content-type': 'application/x-amz-json-1.1', 'content-length': '2', 'connection': 'keep-alive', 'x-amzn-requestid': '434716e5-c9e2-45a7-8e33-8de617a811a7'}, 'RetryAttempts': 0}}\n"
     ]
    }
   ],
   "source": [
    "for rule in rule_list:\n",
    "    response = client.delete_rule(\n",
    "        rule= rule                \n",
    "    )\n",
    "    print(response)\n"
   ]
  },
  {
   "cell_type": "markdown",
   "id": "b6aca1fe",
   "metadata": {},
   "source": [
    "## Detector 제거"
   ]
  },
  {
   "cell_type": "code",
   "execution_count": 8,
   "id": "f22c627b",
   "metadata": {},
   "outputs": [
    {
     "data": {
      "text/plain": [
       "{'ResponseMetadata': {'RequestId': 'daf79def-b827-4eb5-aa4e-381b7b627219',\n",
       "  'HTTPStatusCode': 200,\n",
       "  'HTTPHeaders': {'date': 'Mon, 13 Sep 2021 14:14:50 GMT',\n",
       "   'content-type': 'application/x-amz-json-1.1',\n",
       "   'content-length': '2',\n",
       "   'connection': 'keep-alive',\n",
       "   'x-amzn-requestid': 'daf79def-b827-4eb5-aa4e-381b7b627219'},\n",
       "  'RetryAttempts': 0}}"
      ]
     },
     "execution_count": 8,
     "metadata": {},
     "output_type": "execute_result"
    }
   ],
   "source": [
    "response = client.delete_detector(\n",
    "    detectorId= DETECTOR_NAME\n",
    ")\n",
    "response"
   ]
  },
  {
   "cell_type": "markdown",
   "id": "9d45c43b",
   "metadata": {},
   "source": [
    "# 2. Model 제거"
   ]
  },
  {
   "cell_type": "markdown",
   "id": "a6986e5e",
   "metadata": {},
   "source": [
    "## Model Status 변경\n",
    "- `ACTIVE` -->  `INACTIVE` 로 변경"
   ]
  },
  {
   "cell_type": "code",
   "execution_count": 9,
   "id": "f71d5d5f",
   "metadata": {},
   "outputs": [
    {
     "name": "stdout",
     "output_type": "stream",
     "text": [
      "-- inactivating model --\n",
      "{'ResponseMetadata': {'RequestId': 'fc8ddb53-2328-42b0-99e5-734e8097e353', 'HTTPStatusCode': 200, 'HTTPHeaders': {'date': 'Mon, 13 Sep 2021 14:15:06 GMT', 'content-type': 'application/x-amz-json-1.1', 'content-length': '2', 'connection': 'keep-alive', 'x-amzn-requestid': 'fc8ddb53-2328-42b0-99e5-734e8097e353'}, 'RetryAttempts': 0}}\n"
     ]
    }
   ],
   "source": [
    "response = client.update_model_version_status (\n",
    "    modelId = MODEL_NAME,\n",
    "    modelType = 'ONLINE_FRAUD_INSIGHTS',\n",
    "    modelVersionNumber = modelVersionNumber,\n",
    "    status = 'INACTIVE'\n",
    ")\n",
    "print(\"-- inactivating model --\")\n",
    "print(response)\n",
    "\n"
   ]
  },
  {
   "cell_type": "code",
   "execution_count": 10,
   "id": "d22b8168",
   "metadata": {},
   "outputs": [
    {
     "name": "stdout",
     "output_type": "stream",
     "text": [
      "--- waiting until model status is inactive \n",
      "current progress: 0.00424 minutes\n",
      "current progress: 0.51 minutes\n",
      "current progress: 1.01 minutes\n",
      "current progress: 1.52 minutes\n",
      "current progress: 2.02 minutes\n",
      "current progress: 2.53 minutes\n",
      "current progress: 3.03 minutes\n",
      "Model status : TRAINING_COMPLETE\n",
      "Elapsed time : 212.05484414100647 seconds \n",
      "\n",
      "{'modelId': 'adtaking_fraud_phase0_model_20210913', 'modelType': 'ONLINE_FRAUD_INSIGHTS', 'modelVersionNumber': '1.0', 'trainingDataSource': 'EXTERNAL_EVENTS', 'trainingDataSchema': {'modelVariables': ['str_ip', 'str_app', 'str_device', 'str_os', 'str_channel'], 'labelSchema': {'labelMapper': {'FRAUD': ['1'], 'LEGIT': ['0']}}}, 'externalEventsDetail': {'dataLocation': 's3://sagemaker-us-east-1-189546603447/adtalking_fraud_phase0/train/train-180000.csv', 'dataAccessRoleArn': 'arn:aws:iam::189546603447:role/AFD-gsmoon'}, 'status': 'TRAINING_COMPLETE', 'arn': 'arn:aws:frauddetector:us-east-1:189546603447:model-version/ONLINE_FRAUD_INSIGHTS/adtaking_fraud_phase0_model_20210913/1.0', 'ResponseMetadata': {'RequestId': '39c0520f-7947-4ea9-a455-ec3189cc36e4', 'HTTPStatusCode': 200, 'HTTPHeaders': {'date': 'Mon, 13 Sep 2021 14:18:41 GMT', 'content-type': 'application/x-amz-json-1.1', 'content-length': '658', 'connection': 'keep-alive', 'x-amzn-requestid': '39c0520f-7947-4ea9-a455-ec3189cc36e4'}, 'RetryAttempts': 0}}\n"
     ]
    }
   ],
   "source": [
    "import time\n",
    "#-- wait until model is active \n",
    "print(\"--- waiting until model status is inactive \")\n",
    "stime = time.time()\n",
    "while True:\n",
    "    response = client.get_model_version(modelId=MODEL_NAME, \n",
    "                                        modelType = \"ONLINE_FRAUD_INSIGHTS\", modelVersionNumber = '1.0')\n",
    "    if response['status'] != 'TRAINING_COMPLETE':\n",
    "        print(f\"current progress: {(time.time() - stime)/60:{3}.{3}} minutes\")\n",
    "        time.sleep(30)  # sleep for #0s\n",
    "    if response['status'] == 'TRAINING_COMPLETE':\n",
    "        print(\"Model status : \" +  response['status'])\n",
    "        break\n",
    "        \n",
    "etime = time.time()\n",
    "print(\"Elapsed time : %s\" % (etime - stime) + \" seconds \\n\"  )\n",
    "print(response)"
   ]
  },
  {
   "cell_type": "markdown",
   "id": "9a89e3ec",
   "metadata": {},
   "source": [
    "## 모델 버전 제거"
   ]
  },
  {
   "cell_type": "code",
   "execution_count": 11,
   "id": "4c01b3ca",
   "metadata": {},
   "outputs": [
    {
     "data": {
      "text/plain": [
       "{'ResponseMetadata': {'RequestId': '350820a9-5fd8-4794-830b-83c01db441ab',\n",
       "  'HTTPStatusCode': 200,\n",
       "  'HTTPHeaders': {'date': 'Mon, 13 Sep 2021 14:19:00 GMT',\n",
       "   'content-type': 'application/x-amz-json-1.1',\n",
       "   'content-length': '2',\n",
       "   'connection': 'keep-alive',\n",
       "   'x-amzn-requestid': '350820a9-5fd8-4794-830b-83c01db441ab'},\n",
       "  'RetryAttempts': 0}}"
      ]
     },
     "execution_count": 11,
     "metadata": {},
     "output_type": "execute_result"
    }
   ],
   "source": [
    "response = client.delete_model_version(\n",
    "    modelId= MODEL_NAME, \n",
    "    modelType='ONLINE_FRAUD_INSIGHTS',\n",
    "    modelVersionNumber= modelVersionNumber,\n",
    ")\n",
    "response"
   ]
  },
  {
   "cell_type": "markdown",
   "id": "c3cc3f64",
   "metadata": {},
   "source": [
    "## 모델 제거"
   ]
  },
  {
   "cell_type": "code",
   "execution_count": 12,
   "id": "0c021794",
   "metadata": {},
   "outputs": [
    {
     "data": {
      "text/plain": [
       "{'ResponseMetadata': {'RequestId': '90a095a3-9b6d-45dc-9264-f0d6713b3cbb',\n",
       "  'HTTPStatusCode': 200,\n",
       "  'HTTPHeaders': {'date': 'Mon, 13 Sep 2021 14:19:06 GMT',\n",
       "   'content-type': 'application/x-amz-json-1.1',\n",
       "   'content-length': '2',\n",
       "   'connection': 'keep-alive',\n",
       "   'x-amzn-requestid': '90a095a3-9b6d-45dc-9264-f0d6713b3cbb'},\n",
       "  'RetryAttempts': 0}}"
      ]
     },
     "execution_count": 12,
     "metadata": {},
     "output_type": "execute_result"
    }
   ],
   "source": [
    "response = client.delete_model(\n",
    "    modelId= MODEL_NAME, \n",
    "    modelType='ONLINE_FRAUD_INSIGHTS'\n",
    ")\n",
    "response"
   ]
  },
  {
   "cell_type": "markdown",
   "id": "c006d691",
   "metadata": {},
   "source": [
    "# 3. 이벤트 타입 제거"
   ]
  },
  {
   "cell_type": "code",
   "execution_count": 13,
   "id": "9d2334e3",
   "metadata": {},
   "outputs": [
    {
     "data": {
      "text/plain": [
       "{'ResponseMetadata': {'RequestId': 'd54f0edd-59a6-4d27-b31b-6daadf9e3c8e',\n",
       "  'HTTPStatusCode': 200,\n",
       "  'HTTPHeaders': {'date': 'Mon, 13 Sep 2021 14:19:23 GMT',\n",
       "   'content-type': 'application/x-amz-json-1.1',\n",
       "   'content-length': '2',\n",
       "   'connection': 'keep-alive',\n",
       "   'x-amzn-requestid': 'd54f0edd-59a6-4d27-b31b-6daadf9e3c8e'},\n",
       "  'RetryAttempts': 0}}"
      ]
     },
     "execution_count": 13,
     "metadata": {},
     "output_type": "execute_result"
    }
   ],
   "source": [
    "response = client.delete_event_type(\n",
    "    name= EVENT_TYPE,\n",
    ")\n",
    "response"
   ]
  },
  {
   "cell_type": "markdown",
   "id": "d9c5ed4e",
   "metadata": {},
   "source": [
    "## 4.엔터티 타입 제거"
   ]
  },
  {
   "cell_type": "code",
   "execution_count": 14,
   "id": "d3e7203c",
   "metadata": {},
   "outputs": [
    {
     "data": {
      "text/plain": [
       "{'ResponseMetadata': {'RequestId': 'ae03d9f3-1bb0-4ab5-8b50-8f6851f4588c',\n",
       "  'HTTPStatusCode': 200,\n",
       "  'HTTPHeaders': {'date': 'Mon, 13 Sep 2021 14:19:25 GMT',\n",
       "   'content-type': 'application/x-amz-json-1.1',\n",
       "   'content-length': '2',\n",
       "   'connection': 'keep-alive',\n",
       "   'x-amzn-requestid': 'ae03d9f3-1bb0-4ab5-8b50-8f6851f4588c'},\n",
       "  'RetryAttempts': 0}}"
      ]
     },
     "execution_count": 14,
     "metadata": {},
     "output_type": "execute_result"
    }
   ],
   "source": [
    "response = client.delete_entity_type(\n",
    "    name = ENTITY_TYPE,\n",
    ")\n",
    "response"
   ]
  },
  {
   "cell_type": "markdown",
   "id": "79353f47",
   "metadata": {},
   "source": [
    "## 5. Outcome 제거"
   ]
  },
  {
   "cell_type": "code",
   "execution_count": 15,
   "id": "66998c7d",
   "metadata": {},
   "outputs": [
    {
     "name": "stdout",
     "output_type": "stream",
     "text": [
      "fraud\n"
     ]
    },
    {
     "data": {
      "text/plain": [
       "{'ResponseMetadata': {'RequestId': '6c24970b-b9e4-4aa4-beee-9262b43f7aee',\n",
       "  'HTTPStatusCode': 200,\n",
       "  'HTTPHeaders': {'date': 'Mon, 13 Sep 2021 14:19:31 GMT',\n",
       "   'content-type': 'application/x-amz-json-1.1',\n",
       "   'content-length': '2',\n",
       "   'connection': 'keep-alive',\n",
       "   'x-amzn-requestid': '6c24970b-b9e4-4aa4-beee-9262b43f7aee'},\n",
       "  'RetryAttempts': 0}}"
      ]
     },
     "metadata": {},
     "output_type": "display_data"
    },
    {
     "name": "stdout",
     "output_type": "stream",
     "text": [
      "investigate\n"
     ]
    },
    {
     "data": {
      "text/plain": [
       "{'ResponseMetadata': {'RequestId': 'c4c58c31-90d2-44f1-8b6d-67a4a822b409',\n",
       "  'HTTPStatusCode': 200,\n",
       "  'HTTPHeaders': {'date': 'Mon, 13 Sep 2021 14:19:31 GMT',\n",
       "   'content-type': 'application/x-amz-json-1.1',\n",
       "   'content-length': '2',\n",
       "   'connection': 'keep-alive',\n",
       "   'x-amzn-requestid': 'c4c58c31-90d2-44f1-8b6d-67a4a822b409'},\n",
       "  'RetryAttempts': 0}}"
      ]
     },
     "metadata": {},
     "output_type": "display_data"
    },
    {
     "name": "stdout",
     "output_type": "stream",
     "text": [
      "approve\n"
     ]
    },
    {
     "data": {
      "text/plain": [
       "{'ResponseMetadata': {'RequestId': '0306eb2d-4dcc-43be-975f-2f3d1463607a',\n",
       "  'HTTPStatusCode': 200,\n",
       "  'HTTPHeaders': {'date': 'Mon, 13 Sep 2021 14:19:31 GMT',\n",
       "   'content-type': 'application/x-amz-json-1.1',\n",
       "   'content-length': '2',\n",
       "   'connection': 'keep-alive',\n",
       "   'x-amzn-requestid': '0306eb2d-4dcc-43be-975f-2f3d1463607a'},\n",
       "  'RetryAttempts': 0}}"
      ]
     },
     "metadata": {},
     "output_type": "display_data"
    }
   ],
   "source": [
    "for outcome in outcomes:\n",
    "    print(outcome)\n",
    "    response = client.delete_outcome(\n",
    "        name= outcome\n",
    "    )    \n",
    "    dp(response)"
   ]
  },
  {
   "cell_type": "markdown",
   "id": "8dbef89c",
   "metadata": {},
   "source": [
    "## 6. Variables 제거"
   ]
  },
  {
   "cell_type": "code",
   "execution_count": 16,
   "id": "861327ba",
   "metadata": {},
   "outputs": [
    {
     "name": "stdout",
     "output_type": "stream",
     "text": [
      "str_ip\n"
     ]
    },
    {
     "data": {
      "text/plain": [
       "{'ResponseMetadata': {'RequestId': '98cca378-1a68-4488-a5f7-fea722747f88',\n",
       "  'HTTPStatusCode': 200,\n",
       "  'HTTPHeaders': {'date': 'Mon, 13 Sep 2021 14:19:36 GMT',\n",
       "   'content-type': 'application/x-amz-json-1.1',\n",
       "   'content-length': '2',\n",
       "   'connection': 'keep-alive',\n",
       "   'x-amzn-requestid': '98cca378-1a68-4488-a5f7-fea722747f88'},\n",
       "  'RetryAttempts': 0}}"
      ]
     },
     "metadata": {},
     "output_type": "display_data"
    },
    {
     "name": "stdout",
     "output_type": "stream",
     "text": [
      "str_app\n"
     ]
    },
    {
     "data": {
      "text/plain": [
       "{'ResponseMetadata': {'RequestId': 'e7c577bc-1148-4726-9ce8-10c1087b9b69',\n",
       "  'HTTPStatusCode': 200,\n",
       "  'HTTPHeaders': {'date': 'Mon, 13 Sep 2021 14:19:36 GMT',\n",
       "   'content-type': 'application/x-amz-json-1.1',\n",
       "   'content-length': '2',\n",
       "   'connection': 'keep-alive',\n",
       "   'x-amzn-requestid': 'e7c577bc-1148-4726-9ce8-10c1087b9b69'},\n",
       "  'RetryAttempts': 0}}"
      ]
     },
     "metadata": {},
     "output_type": "display_data"
    },
    {
     "name": "stdout",
     "output_type": "stream",
     "text": [
      "str_device\n"
     ]
    },
    {
     "data": {
      "text/plain": [
       "{'ResponseMetadata': {'RequestId': '1d9643cb-d8ef-4ab3-992d-617000307130',\n",
       "  'HTTPStatusCode': 200,\n",
       "  'HTTPHeaders': {'date': 'Mon, 13 Sep 2021 14:19:36 GMT',\n",
       "   'content-type': 'application/x-amz-json-1.1',\n",
       "   'content-length': '2',\n",
       "   'connection': 'keep-alive',\n",
       "   'x-amzn-requestid': '1d9643cb-d8ef-4ab3-992d-617000307130'},\n",
       "  'RetryAttempts': 0}}"
      ]
     },
     "metadata": {},
     "output_type": "display_data"
    },
    {
     "name": "stdout",
     "output_type": "stream",
     "text": [
      "str_os\n"
     ]
    },
    {
     "data": {
      "text/plain": [
       "{'ResponseMetadata': {'RequestId': '077f8e1b-ffec-4e34-bd96-a85762622dc6',\n",
       "  'HTTPStatusCode': 200,\n",
       "  'HTTPHeaders': {'date': 'Mon, 13 Sep 2021 14:19:36 GMT',\n",
       "   'content-type': 'application/x-amz-json-1.1',\n",
       "   'content-length': '2',\n",
       "   'connection': 'keep-alive',\n",
       "   'x-amzn-requestid': '077f8e1b-ffec-4e34-bd96-a85762622dc6'},\n",
       "  'RetryAttempts': 0}}"
      ]
     },
     "metadata": {},
     "output_type": "display_data"
    },
    {
     "name": "stdout",
     "output_type": "stream",
     "text": [
      "str_channel\n"
     ]
    },
    {
     "data": {
      "text/plain": [
       "{'ResponseMetadata': {'RequestId': '266c0772-b33f-42d8-8d59-9edd2f038457',\n",
       "  'HTTPStatusCode': 200,\n",
       "  'HTTPHeaders': {'date': 'Mon, 13 Sep 2021 14:19:36 GMT',\n",
       "   'content-type': 'application/x-amz-json-1.1',\n",
       "   'content-length': '2',\n",
       "   'connection': 'keep-alive',\n",
       "   'x-amzn-requestid': '266c0772-b33f-42d8-8d59-9edd2f038457'},\n",
       "  'RetryAttempts': 0}}"
      ]
     },
     "metadata": {},
     "output_type": "display_data"
    }
   ],
   "source": [
    "for var in eventVariables:\n",
    "    print(var)\n",
    "    response = client.delete_variable(\n",
    "        name='string'\n",
    "    )    \n",
    "    dp(response)"
   ]
  },
  {
   "cell_type": "markdown",
   "id": "b2bcebfc",
   "metadata": {},
   "source": [
    "# 7. 레이블 제거\n",
    "- UI 참조"
   ]
  },
  {
   "cell_type": "code",
   "execution_count": null,
   "id": "458e69c3",
   "metadata": {},
   "outputs": [],
   "source": [
    "# response = client.delete_label(\n",
    "#     name='string'\n",
    "# )"
   ]
  }
 ],
 "metadata": {
  "kernelspec": {
   "display_name": "conda_python3",
   "language": "python",
   "name": "conda_python3"
  },
  "language_info": {
   "codemirror_mode": {
    "name": "ipython",
    "version": 3
   },
   "file_extension": ".py",
   "mimetype": "text/x-python",
   "name": "python",
   "nbconvert_exporter": "python",
   "pygments_lexer": "ipython3",
   "version": "3.6.13"
  }
 },
 "nbformat": 4,
 "nbformat_minor": 5
}

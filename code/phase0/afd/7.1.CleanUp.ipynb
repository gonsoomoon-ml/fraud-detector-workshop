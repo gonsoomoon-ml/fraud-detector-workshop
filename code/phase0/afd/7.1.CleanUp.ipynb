{
 "cells": [
  {
   "cell_type": "markdown",
   "id": "d4796fe6",
   "metadata": {},
   "source": [
    "# [모듈 7.1] 리소스 정리"
   ]
  },
  {
   "cell_type": "markdown",
   "id": "18df86f1",
   "metadata": {},
   "source": [
    "# 0. 환경 셋업"
   ]
  },
  {
   "cell_type": "code",
   "execution_count": 1,
   "id": "2ef55153",
   "metadata": {},
   "outputs": [],
   "source": [
    "# detectorId\n",
    "%store -r DETECTOR_NAME \n",
    "# eventTypeName\n",
    "%store -r EVENT_TYPE\n",
    "%store -r rule_list\n",
    "%store -r detector_version"
   ]
  },
  {
   "cell_type": "code",
   "execution_count": 2,
   "id": "34c94a6c",
   "metadata": {},
   "outputs": [],
   "source": [
    "import boto3\n",
    "client = boto3.client(\"frauddetector\")\n"
   ]
  },
  {
   "cell_type": "markdown",
   "id": "3c578db2",
   "metadata": {},
   "source": [
    "# 1. Detector 관련 리소스 제거"
   ]
  },
  {
   "cell_type": "markdown",
   "id": "e220c632",
   "metadata": {},
   "source": [
    "## Detector Version 을 Active 로 변경\n",
    "- 아래 업데이트는 Status 를 Draft --> Active 로 변환 함."
   ]
  },
  {
   "cell_type": "code",
   "execution_count": 3,
   "id": "8050b764",
   "metadata": {},
   "outputs": [
    {
     "name": "stdout",
     "output_type": "stream",
     "text": [
      "\n",
      " -- detector inactivated -- \n",
      "{'ResponseMetadata': {'RequestId': '25c90e9c-809b-4914-9eb4-613e47a125ca', 'HTTPStatusCode': 200, 'HTTPHeaders': {'date': 'Sun, 12 Sep 2021 08:27:59 GMT', 'content-type': 'application/x-amz-json-1.1', 'content-length': '2', 'connection': 'keep-alive', 'x-amzn-requestid': '25c90e9c-809b-4914-9eb4-613e47a125ca'}, 'RetryAttempts': 0}}\n"
     ]
    }
   ],
   "source": [
    "response = client.update_detector_version_status(\n",
    "    detectorId= DETECTOR_NAME,\n",
    "    detectorVersionId= detector_version,\n",
    "    status='INACTIVE'\n",
    ")\n",
    "print(\"\\n -- detector inactivated -- \")\n",
    "print(response)"
   ]
  },
  {
   "cell_type": "markdown",
   "id": "09be57a7",
   "metadata": {},
   "source": [
    "## Detector Version 제거"
   ]
  },
  {
   "cell_type": "code",
   "execution_count": 4,
   "id": "d5a6f546",
   "metadata": {},
   "outputs": [],
   "source": [
    "response = client.delete_detector_version(\n",
    "    detectorId= DETECTOR_NAME,\n",
    "    detectorVersionId = detector_version\n",
    ")"
   ]
  },
  {
   "cell_type": "code",
   "execution_count": 5,
   "id": "a5b17036",
   "metadata": {},
   "outputs": [
    {
     "data": {
      "text/plain": [
       "{'ResponseMetadata': {'RequestId': '971cc1a4-7e14-4322-85e9-ac9ebb59c815',\n",
       "  'HTTPStatusCode': 200,\n",
       "  'HTTPHeaders': {'date': 'Sun, 12 Sep 2021 08:28:05 GMT',\n",
       "   'content-type': 'application/x-amz-json-1.1',\n",
       "   'content-length': '2',\n",
       "   'connection': 'keep-alive',\n",
       "   'x-amzn-requestid': '971cc1a4-7e14-4322-85e9-ac9ebb59c815'},\n",
       "  'RetryAttempts': 0}}"
      ]
     },
     "execution_count": 5,
     "metadata": {},
     "output_type": "execute_result"
    }
   ],
   "source": [
    "response"
   ]
  },
  {
   "cell_type": "markdown",
   "id": "e6302d42",
   "metadata": {},
   "source": [
    "## Rule 제거"
   ]
  },
  {
   "cell_type": "code",
   "execution_count": 8,
   "id": "a10ae413",
   "metadata": {},
   "outputs": [
    {
     "data": {
      "text/plain": [
       "[{'ruleId': 'rule0_adtalking_fraud_phase0_model_20210910',\n",
       "  'ruleVersion': '1',\n",
       "  'detectorId': 'afd-adtaking_detector_20210912'},\n",
       " {'ruleId': 'rule1_adtalking_fraud_phase0_model_20210910',\n",
       "  'ruleVersion': '1',\n",
       "  'detectorId': 'afd-adtaking_detector_20210912'},\n",
       " {'ruleId': 'rule2_adtalking_fraud_phase0_model_20210910',\n",
       "  'ruleVersion': '1',\n",
       "  'detectorId': 'afd-adtaking_detector_20210912'},\n",
       " {'ruleId': 'rule3_adtalking_fraud_phase0_model_20210910',\n",
       "  'ruleVersion': '1',\n",
       "  'detectorId': 'afd-adtaking_detector_20210912'},\n",
       " {'ruleId': 'rule4_adtalking_fraud_phase0_model_20210910',\n",
       "  'ruleVersion': '1',\n",
       "  'detectorId': 'afd-adtaking_detector_20210912'},\n",
       " {'ruleId': 'rule5_adtalking_fraud_phase0_model_20210910',\n",
       "  'ruleVersion': '1',\n",
       "  'detectorId': 'afd-adtaking_detector_20210912'},\n",
       " {'ruleId': 'rule6_adtalking_fraud_phase0_model_20210910',\n",
       "  'ruleVersion': '1',\n",
       "  'detectorId': 'afd-adtaking_detector_20210912'},\n",
       " {'ruleId': 'rule7_adtalking_fraud_phase0_model_20210910',\n",
       "  'ruleVersion': '1',\n",
       "  'detectorId': 'afd-adtaking_detector_20210912'}]"
      ]
     },
     "execution_count": 8,
     "metadata": {},
     "output_type": "execute_result"
    }
   ],
   "source": [
    "rule_list"
   ]
  },
  {
   "cell_type": "code",
   "execution_count": 9,
   "id": "978a14bf",
   "metadata": {},
   "outputs": [
    {
     "name": "stdout",
     "output_type": "stream",
     "text": [
      "{'ResponseMetadata': {'RequestId': '6fb415d7-28d0-4999-a251-ef97278b8f6f', 'HTTPStatusCode': 200, 'HTTPHeaders': {'date': 'Sun, 12 Sep 2021 08:30:11 GMT', 'content-type': 'application/x-amz-json-1.1', 'content-length': '2', 'connection': 'keep-alive', 'x-amzn-requestid': '6fb415d7-28d0-4999-a251-ef97278b8f6f'}, 'RetryAttempts': 0}}\n",
      "{'ResponseMetadata': {'RequestId': 'ad19a5a8-73c1-4c5a-82aa-5d6e035e6bb2', 'HTTPStatusCode': 200, 'HTTPHeaders': {'date': 'Sun, 12 Sep 2021 08:30:11 GMT', 'content-type': 'application/x-amz-json-1.1', 'content-length': '2', 'connection': 'keep-alive', 'x-amzn-requestid': 'ad19a5a8-73c1-4c5a-82aa-5d6e035e6bb2'}, 'RetryAttempts': 0}}\n",
      "{'ResponseMetadata': {'RequestId': 'f84470e2-81da-4332-9f24-943b72d5758d', 'HTTPStatusCode': 200, 'HTTPHeaders': {'date': 'Sun, 12 Sep 2021 08:30:11 GMT', 'content-type': 'application/x-amz-json-1.1', 'content-length': '2', 'connection': 'keep-alive', 'x-amzn-requestid': 'f84470e2-81da-4332-9f24-943b72d5758d'}, 'RetryAttempts': 0}}\n",
      "{'ResponseMetadata': {'RequestId': 'e19a950f-dbf9-47ce-b694-e010ce0c58fc', 'HTTPStatusCode': 200, 'HTTPHeaders': {'date': 'Sun, 12 Sep 2021 08:30:11 GMT', 'content-type': 'application/x-amz-json-1.1', 'content-length': '2', 'connection': 'keep-alive', 'x-amzn-requestid': 'e19a950f-dbf9-47ce-b694-e010ce0c58fc'}, 'RetryAttempts': 0}}\n",
      "{'ResponseMetadata': {'RequestId': '907ea961-0784-4efd-aec8-d12f3744bff1', 'HTTPStatusCode': 200, 'HTTPHeaders': {'date': 'Sun, 12 Sep 2021 08:30:11 GMT', 'content-type': 'application/x-amz-json-1.1', 'content-length': '2', 'connection': 'keep-alive', 'x-amzn-requestid': '907ea961-0784-4efd-aec8-d12f3744bff1'}, 'RetryAttempts': 0}}\n",
      "{'ResponseMetadata': {'RequestId': '2ceda234-22e7-4b05-8477-4214e0955273', 'HTTPStatusCode': 200, 'HTTPHeaders': {'date': 'Sun, 12 Sep 2021 08:30:11 GMT', 'content-type': 'application/x-amz-json-1.1', 'content-length': '2', 'connection': 'keep-alive', 'x-amzn-requestid': '2ceda234-22e7-4b05-8477-4214e0955273'}, 'RetryAttempts': 0}}\n",
      "{'ResponseMetadata': {'RequestId': 'e56fe33a-225a-4fb0-93be-c734fb1a29e4', 'HTTPStatusCode': 200, 'HTTPHeaders': {'date': 'Sun, 12 Sep 2021 08:30:11 GMT', 'content-type': 'application/x-amz-json-1.1', 'content-length': '2', 'connection': 'keep-alive', 'x-amzn-requestid': 'e56fe33a-225a-4fb0-93be-c734fb1a29e4'}, 'RetryAttempts': 0}}\n",
      "{'ResponseMetadata': {'RequestId': '1fe74eea-74c0-4e74-9e46-483c482ba1c6', 'HTTPStatusCode': 200, 'HTTPHeaders': {'date': 'Sun, 12 Sep 2021 08:30:11 GMT', 'content-type': 'application/x-amz-json-1.1', 'content-length': '2', 'connection': 'keep-alive', 'x-amzn-requestid': '1fe74eea-74c0-4e74-9e46-483c482ba1c6'}, 'RetryAttempts': 0}}\n"
     ]
    }
   ],
   "source": [
    "for rule in rule_list:\n",
    "    response = client.delete_rule(\n",
    "        rule= rule                \n",
    "    )\n",
    "    print(response)\n"
   ]
  },
  {
   "cell_type": "markdown",
   "id": "8962676c",
   "metadata": {},
   "source": [
    "## Detector 제거"
   ]
  },
  {
   "cell_type": "code",
   "execution_count": 10,
   "id": "f09f8829",
   "metadata": {},
   "outputs": [
    {
     "data": {
      "text/plain": [
       "{'ResponseMetadata': {'RequestId': '127a4711-9b0b-429f-b4cc-09ef8b315b5d',\n",
       "  'HTTPStatusCode': 200,\n",
       "  'HTTPHeaders': {'date': 'Sun, 12 Sep 2021 08:30:16 GMT',\n",
       "   'content-type': 'application/x-amz-json-1.1',\n",
       "   'content-length': '2',\n",
       "   'connection': 'keep-alive',\n",
       "   'x-amzn-requestid': '127a4711-9b0b-429f-b4cc-09ef8b315b5d'},\n",
       "  'RetryAttempts': 0}}"
      ]
     },
     "execution_count": 10,
     "metadata": {},
     "output_type": "execute_result"
    }
   ],
   "source": [
    "response = client.delete_detector(\n",
    "    detectorId= DETECTOR_NAME\n",
    ")\n",
    "response"
   ]
  },
  {
   "cell_type": "code",
   "execution_count": null,
   "id": "e39e94be",
   "metadata": {},
   "outputs": [],
   "source": []
  }
 ],
 "metadata": {
  "kernelspec": {
   "display_name": "conda_python3",
   "language": "python",
   "name": "conda_python3"
  },
  "language_info": {
   "codemirror_mode": {
    "name": "ipython",
    "version": 3
   },
   "file_extension": ".py",
   "mimetype": "text/x-python",
   "name": "python",
   "nbconvert_exporter": "python",
   "pygments_lexer": "ipython3",
   "version": "3.6.13"
  }
 },
 "nbformat": 4,
 "nbformat_minor": 5
}

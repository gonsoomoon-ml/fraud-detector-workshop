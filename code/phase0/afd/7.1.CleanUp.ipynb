{
 "cells": [
  {
   "cell_type": "markdown",
   "id": "eb49a60b",
   "metadata": {},
   "source": [
    "# [모듈 7.1] 리소스 정리\n",
    "\n",
    "참조 : \n",
    "- [Boto3 API 가이드](https://boto3.amazonaws.com/v1/documentation/api/latest/reference/services/frauddetector.html#FraudDetector.Client.delete_label)"
   ]
  },
  {
   "cell_type": "markdown",
   "id": "bffaf37f",
   "metadata": {},
   "source": [
    "# 0. 환경 셋업"
   ]
  },
  {
   "cell_type": "code",
   "execution_count": 37,
   "id": "da6a4604",
   "metadata": {},
   "outputs": [],
   "source": [
    "# detectorId\n",
    "%store -r DETECTOR_NAME \n",
    "# eventTypeName\n",
    "%store -r EVENT_TYPE\n",
    "%store -r ENTITY_TYPE\n",
    "%store -r eventVariables\n",
    "%store -r rule_list\n",
    "%store -r detector_version\n",
    "\n",
    "%store -r MODEL_NAME\n",
    "%store -r modelVersionNumber\n",
    "%store -r outcomes"
   ]
  },
  {
   "cell_type": "code",
   "execution_count": 35,
   "id": "efb0bb6a",
   "metadata": {},
   "outputs": [],
   "source": [
    "import boto3\n",
    "client = boto3.client(\"frauddetector\")\n",
    "\n",
    "from IPython.display import display as dp"
   ]
  },
  {
   "cell_type": "markdown",
   "id": "eb0aeddd",
   "metadata": {},
   "source": [
    "# 1. Detector 관련 리소스 제거"
   ]
  },
  {
   "cell_type": "markdown",
   "id": "80ef2500",
   "metadata": {},
   "source": [
    "## Detector Version 을 Active 로 변경\n",
    "- 아래 업데이트는 Status 를 Draft --> Active 로 변환 함."
   ]
  },
  {
   "cell_type": "code",
   "execution_count": 16,
   "id": "b34c31a2",
   "metadata": {},
   "outputs": [
    {
     "name": "stdout",
     "output_type": "stream",
     "text": [
      "\n",
      " -- detector inactivated -- \n",
      "{'ResponseMetadata': {'RequestId': '6cf9ba12-4e83-4f97-9518-4e02ba008211', 'HTTPStatusCode': 200, 'HTTPHeaders': {'date': 'Sun, 12 Sep 2021 23:31:06 GMT', 'content-type': 'application/x-amz-json-1.1', 'content-length': '2', 'connection': 'keep-alive', 'x-amzn-requestid': '6cf9ba12-4e83-4f97-9518-4e02ba008211'}, 'RetryAttempts': 0}}\n"
     ]
    }
   ],
   "source": [
    "response = client.update_detector_version_status(\n",
    "    detectorId= DETECTOR_NAME,\n",
    "    detectorVersionId= detector_version,\n",
    "    status='INACTIVE'\n",
    ")\n",
    "print(\"\\n -- detector inactivated -- \")\n",
    "print(response)"
   ]
  },
  {
   "cell_type": "markdown",
   "id": "0a0b91b4",
   "metadata": {},
   "source": [
    "## Detector Version 제거"
   ]
  },
  {
   "cell_type": "code",
   "execution_count": 17,
   "id": "de533353",
   "metadata": {},
   "outputs": [],
   "source": [
    "response = client.delete_detector_version(\n",
    "    detectorId= DETECTOR_NAME,\n",
    "    detectorVersionId = detector_version\n",
    ")"
   ]
  },
  {
   "cell_type": "code",
   "execution_count": 18,
   "id": "18f57a82",
   "metadata": {},
   "outputs": [
    {
     "data": {
      "text/plain": [
       "{'ResponseMetadata': {'RequestId': '7d9a930b-b500-48da-93f4-c7eea26c2d76',\n",
       "  'HTTPStatusCode': 200,\n",
       "  'HTTPHeaders': {'date': 'Sun, 12 Sep 2021 23:31:07 GMT',\n",
       "   'content-type': 'application/x-amz-json-1.1',\n",
       "   'content-length': '2',\n",
       "   'connection': 'keep-alive',\n",
       "   'x-amzn-requestid': '7d9a930b-b500-48da-93f4-c7eea26c2d76'},\n",
       "  'RetryAttempts': 0}}"
      ]
     },
     "execution_count": 18,
     "metadata": {},
     "output_type": "execute_result"
    }
   ],
   "source": [
    "response"
   ]
  },
  {
   "cell_type": "markdown",
   "id": "e8077e02",
   "metadata": {},
   "source": [
    "## Rule 제거"
   ]
  },
  {
   "cell_type": "code",
   "execution_count": 19,
   "id": "4c5e5e29",
   "metadata": {},
   "outputs": [
    {
     "data": {
      "text/plain": [
       "[{'ruleId': 'rule0_adtaking_fraud_phase0_model_20210912',\n",
       "  'ruleVersion': '1',\n",
       "  'detectorId': 'adtaking_fraud_phase0_detector_20210912'},\n",
       " {'ruleId': 'rule1_adtaking_fraud_phase0_model_20210912',\n",
       "  'ruleVersion': '1',\n",
       "  'detectorId': 'adtaking_fraud_phase0_detector_20210912'},\n",
       " {'ruleId': 'rule2_adtaking_fraud_phase0_model_20210912',\n",
       "  'ruleVersion': '1',\n",
       "  'detectorId': 'adtaking_fraud_phase0_detector_20210912'},\n",
       " {'ruleId': 'rule3_adtaking_fraud_phase0_model_20210912',\n",
       "  'ruleVersion': '1',\n",
       "  'detectorId': 'adtaking_fraud_phase0_detector_20210912'}]"
      ]
     },
     "execution_count": 19,
     "metadata": {},
     "output_type": "execute_result"
    }
   ],
   "source": [
    "rule_list"
   ]
  },
  {
   "cell_type": "code",
   "execution_count": 20,
   "id": "361aa7a8",
   "metadata": {},
   "outputs": [
    {
     "name": "stdout",
     "output_type": "stream",
     "text": [
      "{'ResponseMetadata': {'RequestId': 'e7a939e8-aba9-4969-9371-faa5ec7d4043', 'HTTPStatusCode': 200, 'HTTPHeaders': {'date': 'Sun, 12 Sep 2021 23:31:10 GMT', 'content-type': 'application/x-amz-json-1.1', 'content-length': '2', 'connection': 'keep-alive', 'x-amzn-requestid': 'e7a939e8-aba9-4969-9371-faa5ec7d4043'}, 'RetryAttempts': 0}}\n",
      "{'ResponseMetadata': {'RequestId': 'f8bd5703-88ab-4d5d-ab10-71bd1c077d93', 'HTTPStatusCode': 200, 'HTTPHeaders': {'date': 'Sun, 12 Sep 2021 23:31:11 GMT', 'content-type': 'application/x-amz-json-1.1', 'content-length': '2', 'connection': 'keep-alive', 'x-amzn-requestid': 'f8bd5703-88ab-4d5d-ab10-71bd1c077d93'}, 'RetryAttempts': 0}}\n",
      "{'ResponseMetadata': {'RequestId': 'c3f28f32-31c1-4d8f-a506-367d924ee11e', 'HTTPStatusCode': 200, 'HTTPHeaders': {'date': 'Sun, 12 Sep 2021 23:31:11 GMT', 'content-type': 'application/x-amz-json-1.1', 'content-length': '2', 'connection': 'keep-alive', 'x-amzn-requestid': 'c3f28f32-31c1-4d8f-a506-367d924ee11e'}, 'RetryAttempts': 0}}\n",
      "{'ResponseMetadata': {'RequestId': 'd486de51-98f5-4e72-9c94-46bce434ae67', 'HTTPStatusCode': 200, 'HTTPHeaders': {'date': 'Sun, 12 Sep 2021 23:31:11 GMT', 'content-type': 'application/x-amz-json-1.1', 'content-length': '2', 'connection': 'keep-alive', 'x-amzn-requestid': 'd486de51-98f5-4e72-9c94-46bce434ae67'}, 'RetryAttempts': 0}}\n"
     ]
    }
   ],
   "source": [
    "for rule in rule_list:\n",
    "    response = client.delete_rule(\n",
    "        rule= rule                \n",
    "    )\n",
    "    print(response)\n"
   ]
  },
  {
   "cell_type": "markdown",
   "id": "12b25a58",
   "metadata": {},
   "source": [
    "## Detector 제거"
   ]
  },
  {
   "cell_type": "code",
   "execution_count": 21,
   "id": "811cb8c0",
   "metadata": {},
   "outputs": [
    {
     "data": {
      "text/plain": [
       "{'ResponseMetadata': {'RequestId': '311a9022-9a6f-4d15-ad10-ac3bfcaa21d2',\n",
       "  'HTTPStatusCode': 200,\n",
       "  'HTTPHeaders': {'date': 'Sun, 12 Sep 2021 23:31:13 GMT',\n",
       "   'content-type': 'application/x-amz-json-1.1',\n",
       "   'content-length': '2',\n",
       "   'connection': 'keep-alive',\n",
       "   'x-amzn-requestid': '311a9022-9a6f-4d15-ad10-ac3bfcaa21d2'},\n",
       "  'RetryAttempts': 0}}"
      ]
     },
     "execution_count": 21,
     "metadata": {},
     "output_type": "execute_result"
    }
   ],
   "source": [
    "response = client.delete_detector(\n",
    "    detectorId= DETECTOR_NAME\n",
    ")\n",
    "response"
   ]
  },
  {
   "cell_type": "markdown",
   "id": "0bbcff4b",
   "metadata": {},
   "source": [
    "# 2. Model 제거"
   ]
  },
  {
   "cell_type": "markdown",
   "id": "7c2173c9",
   "metadata": {},
   "source": [
    "## Model Status 변경\n",
    "- `ACTIVE` -->  `INACTIVE` 로 변경"
   ]
  },
  {
   "cell_type": "code",
   "execution_count": 22,
   "id": "47ad2917",
   "metadata": {},
   "outputs": [
    {
     "name": "stdout",
     "output_type": "stream",
     "text": [
      "-- activating model --\n",
      "{'ResponseMetadata': {'RequestId': '8e7708fb-39e8-4520-99cf-f05c27f22ea9', 'HTTPStatusCode': 200, 'HTTPHeaders': {'date': 'Sun, 12 Sep 2021 23:31:36 GMT', 'content-type': 'application/x-amz-json-1.1', 'content-length': '2', 'connection': 'keep-alive', 'x-amzn-requestid': '8e7708fb-39e8-4520-99cf-f05c27f22ea9'}, 'RetryAttempts': 0}}\n"
     ]
    }
   ],
   "source": [
    "response = client.update_model_version_status (\n",
    "    modelId = MODEL_NAME,\n",
    "    modelType = 'ONLINE_FRAUD_INSIGHTS',\n",
    "    modelVersionNumber = modelVersionNumber,\n",
    "    status = 'INACTIVE'\n",
    ")\n",
    "print(\"-- inactivating model --\")\n",
    "print(response)\n",
    "\n"
   ]
  },
  {
   "cell_type": "code",
   "execution_count": 26,
   "id": "96ceeb78",
   "metadata": {},
   "outputs": [
    {
     "name": "stdout",
     "output_type": "stream",
     "text": [
      "--- waiting until model status is inactive \n",
      "Model status : TRAINING_COMPLETE\n",
      "Elapsed time : 0.22902369499206543 seconds \n",
      "\n",
      "{'modelId': 'adtaking_fraud_phase0_model_20210912', 'modelType': 'ONLINE_FRAUD_INSIGHTS', 'modelVersionNumber': '1.0', 'trainingDataSource': 'EXTERNAL_EVENTS', 'trainingDataSchema': {'modelVariables': ['str_ip', 'str_app', 'str_device', 'str_os', 'str_channel'], 'labelSchema': {'labelMapper': {'FRAUD': ['1'], 'LEGIT': ['0']}}}, 'externalEventsDetail': {'dataLocation': 's3://sagemaker-us-east-1-057716757052/adtalking_fraud_phase0/train/train-180000.csv', 'dataAccessRoleArn': 'arn:aws:iam::057716757052:role/AFD-gsmoon'}, 'status': 'TRAINING_COMPLETE', 'arn': 'arn:aws:frauddetector:us-east-1:057716757052:model-version/ONLINE_FRAUD_INSIGHTS/adtaking_fraud_phase0_model_20210912/1.0', 'ResponseMetadata': {'RequestId': '37799abb-10cb-4f7b-94a8-7d5235eaf1b9', 'HTTPStatusCode': 200, 'HTTPHeaders': {'date': 'Mon, 13 Sep 2021 01:03:21 GMT', 'content-type': 'application/x-amz-json-1.1', 'content-length': '658', 'connection': 'keep-alive', 'x-amzn-requestid': '37799abb-10cb-4f7b-94a8-7d5235eaf1b9'}, 'RetryAttempts': 0}}\n"
     ]
    }
   ],
   "source": [
    "import time\n",
    "#-- wait until model is active \n",
    "print(\"--- waiting until model status is inactive \")\n",
    "stime = time.time()\n",
    "while True:\n",
    "    response = client.get_model_version(modelId=MODEL_NAME, \n",
    "                                        modelType = \"ONLINE_FRAUD_INSIGHTS\", modelVersionNumber = '1.0')\n",
    "    if response['status'] != 'TRAINING_COMPLETE':\n",
    "        print(f\"current progress: {(time.time() - stime)/60:{3}.{3}} minutes\")\n",
    "        time.sleep(30)  # sleep for #0s\n",
    "    if response['status'] == 'TRAINING_COMPLETE':\n",
    "        print(\"Model status : \" +  response['status'])\n",
    "        break\n",
    "        \n",
    "etime = time.time()\n",
    "print(\"Elapsed time : %s\" % (etime - stime) + \" seconds \\n\"  )\n",
    "print(response)"
   ]
  },
  {
   "cell_type": "markdown",
   "id": "2abb3228",
   "metadata": {},
   "source": [
    "## 모델 버전 제거"
   ]
  },
  {
   "cell_type": "code",
   "execution_count": 27,
   "id": "2afbb6fe",
   "metadata": {},
   "outputs": [
    {
     "data": {
      "text/plain": [
       "{'ResponseMetadata': {'RequestId': 'd4c87620-3abe-404d-945e-62c10856c4da',\n",
       "  'HTTPStatusCode': 200,\n",
       "  'HTTPHeaders': {'date': 'Mon, 13 Sep 2021 01:13:47 GMT',\n",
       "   'content-type': 'application/x-amz-json-1.1',\n",
       "   'content-length': '2',\n",
       "   'connection': 'keep-alive',\n",
       "   'x-amzn-requestid': 'd4c87620-3abe-404d-945e-62c10856c4da'},\n",
       "  'RetryAttempts': 0}}"
      ]
     },
     "execution_count": 27,
     "metadata": {},
     "output_type": "execute_result"
    }
   ],
   "source": [
    "response = client.delete_model_version(\n",
    "    modelId= MODEL_NAME, \n",
    "    modelType='ONLINE_FRAUD_INSIGHTS',\n",
    "    modelVersionNumber= modelVersionNumber,\n",
    ")\n",
    "response"
   ]
  },
  {
   "cell_type": "markdown",
   "id": "fad8c8b5",
   "metadata": {},
   "source": [
    "## 모델 제거"
   ]
  },
  {
   "cell_type": "code",
   "execution_count": 28,
   "id": "65716e0f",
   "metadata": {},
   "outputs": [
    {
     "data": {
      "text/plain": [
       "{'ResponseMetadata': {'RequestId': '9d4f0ae0-3a77-4dd7-ae78-dc4236a7cf52',\n",
       "  'HTTPStatusCode': 200,\n",
       "  'HTTPHeaders': {'date': 'Mon, 13 Sep 2021 01:15:26 GMT',\n",
       "   'content-type': 'application/x-amz-json-1.1',\n",
       "   'content-length': '2',\n",
       "   'connection': 'keep-alive',\n",
       "   'x-amzn-requestid': '9d4f0ae0-3a77-4dd7-ae78-dc4236a7cf52'},\n",
       "  'RetryAttempts': 0}}"
      ]
     },
     "execution_count": 28,
     "metadata": {},
     "output_type": "execute_result"
    }
   ],
   "source": [
    "response = client.delete_model(\n",
    "    modelId= MODEL_NAME, \n",
    "    modelType='ONLINE_FRAUD_INSIGHTS'\n",
    ")\n",
    "response"
   ]
  },
  {
   "cell_type": "markdown",
   "id": "402c3c31",
   "metadata": {},
   "source": [
    "# 3. 이벤트 타입 제거"
   ]
  },
  {
   "cell_type": "code",
   "execution_count": 29,
   "id": "ff953321",
   "metadata": {},
   "outputs": [
    {
     "data": {
      "text/plain": [
       "{'ResponseMetadata': {'RequestId': '45f0af60-9005-459e-b74b-1e85a275c010',\n",
       "  'HTTPStatusCode': 200,\n",
       "  'HTTPHeaders': {'date': 'Mon, 13 Sep 2021 01:21:09 GMT',\n",
       "   'content-type': 'application/x-amz-json-1.1',\n",
       "   'content-length': '2',\n",
       "   'connection': 'keep-alive',\n",
       "   'x-amzn-requestid': '45f0af60-9005-459e-b74b-1e85a275c010'},\n",
       "  'RetryAttempts': 0}}"
      ]
     },
     "execution_count": 29,
     "metadata": {},
     "output_type": "execute_result"
    }
   ],
   "source": [
    "response = client.delete_event_type(\n",
    "    name= EVENT_TYPE,\n",
    ")\n",
    "response"
   ]
  },
  {
   "cell_type": "markdown",
   "id": "14177dfa",
   "metadata": {},
   "source": [
    "## 4.엔터티 타입 제거"
   ]
  },
  {
   "cell_type": "code",
   "execution_count": 32,
   "id": "c1c7e3b4",
   "metadata": {},
   "outputs": [
    {
     "data": {
      "text/plain": [
       "{'ResponseMetadata': {'RequestId': '640e683b-6f1a-484b-87d1-473d3ef09995',\n",
       "  'HTTPStatusCode': 200,\n",
       "  'HTTPHeaders': {'date': 'Mon, 13 Sep 2021 01:24:08 GMT',\n",
       "   'content-type': 'application/x-amz-json-1.1',\n",
       "   'content-length': '2',\n",
       "   'connection': 'keep-alive',\n",
       "   'x-amzn-requestid': '640e683b-6f1a-484b-87d1-473d3ef09995'},\n",
       "  'RetryAttempts': 0}}"
      ]
     },
     "execution_count": 32,
     "metadata": {},
     "output_type": "execute_result"
    }
   ],
   "source": [
    "response = client.delete_entity_type(\n",
    "    name = ENTITY_TYPE,\n",
    ")\n",
    "response"
   ]
  },
  {
   "cell_type": "markdown",
   "id": "0bb887ad",
   "metadata": {},
   "source": [
    "## 5. Outcome 제거"
   ]
  },
  {
   "cell_type": "code",
   "execution_count": 36,
   "id": "d72691b7",
   "metadata": {},
   "outputs": [
    {
     "name": "stdout",
     "output_type": "stream",
     "text": [
      "fraud\n"
     ]
    },
    {
     "ename": "ConflictException",
     "evalue": "An error occurred (ConflictException) when calling the DeleteOutcome operation: You cannot remove this outcome because it is currently in use by at least one rule.",
     "output_type": "error",
     "traceback": [
      "\u001b[0;31m---------------------------------------------------------------------------\u001b[0m",
      "\u001b[0;31mConflictException\u001b[0m                         Traceback (most recent call last)",
      "\u001b[0;32m<ipython-input-36-43c3183d2570>\u001b[0m in \u001b[0;36m<module>\u001b[0;34m\u001b[0m\n\u001b[1;32m      2\u001b[0m     \u001b[0mprint\u001b[0m\u001b[0;34m(\u001b[0m\u001b[0moutcome\u001b[0m\u001b[0;34m)\u001b[0m\u001b[0;34m\u001b[0m\u001b[0;34m\u001b[0m\u001b[0m\n\u001b[1;32m      3\u001b[0m     response = client.delete_outcome(\n\u001b[0;32m----> 4\u001b[0;31m         \u001b[0mname\u001b[0m\u001b[0;34m=\u001b[0m \u001b[0moutcome\u001b[0m\u001b[0;34m\u001b[0m\u001b[0;34m\u001b[0m\u001b[0m\n\u001b[0m\u001b[1;32m      5\u001b[0m     )    \n\u001b[1;32m      6\u001b[0m     \u001b[0mdp\u001b[0m\u001b[0;34m(\u001b[0m\u001b[0mresponse\u001b[0m\u001b[0;34m)\u001b[0m\u001b[0;34m\u001b[0m\u001b[0;34m\u001b[0m\u001b[0m\n",
      "\u001b[0;32m~/anaconda3/envs/python3/lib/python3.6/site-packages/botocore/client.py\u001b[0m in \u001b[0;36m_api_call\u001b[0;34m(self, *args, **kwargs)\u001b[0m\n\u001b[1;32m    384\u001b[0m                     \"%s() only accepts keyword arguments.\" % py_operation_name)\n\u001b[1;32m    385\u001b[0m             \u001b[0;31m# The \"self\" in this scope is referring to the BaseClient.\u001b[0m\u001b[0;34m\u001b[0m\u001b[0;34m\u001b[0m\u001b[0;34m\u001b[0m\u001b[0m\n\u001b[0;32m--> 386\u001b[0;31m             \u001b[0;32mreturn\u001b[0m \u001b[0mself\u001b[0m\u001b[0;34m.\u001b[0m\u001b[0m_make_api_call\u001b[0m\u001b[0;34m(\u001b[0m\u001b[0moperation_name\u001b[0m\u001b[0;34m,\u001b[0m \u001b[0mkwargs\u001b[0m\u001b[0;34m)\u001b[0m\u001b[0;34m\u001b[0m\u001b[0;34m\u001b[0m\u001b[0m\n\u001b[0m\u001b[1;32m    387\u001b[0m \u001b[0;34m\u001b[0m\u001b[0m\n\u001b[1;32m    388\u001b[0m         \u001b[0m_api_call\u001b[0m\u001b[0;34m.\u001b[0m\u001b[0m__name__\u001b[0m \u001b[0;34m=\u001b[0m \u001b[0mstr\u001b[0m\u001b[0;34m(\u001b[0m\u001b[0mpy_operation_name\u001b[0m\u001b[0;34m)\u001b[0m\u001b[0;34m\u001b[0m\u001b[0;34m\u001b[0m\u001b[0m\n",
      "\u001b[0;32m~/anaconda3/envs/python3/lib/python3.6/site-packages/botocore/client.py\u001b[0m in \u001b[0;36m_make_api_call\u001b[0;34m(self, operation_name, api_params)\u001b[0m\n\u001b[1;32m    703\u001b[0m             \u001b[0merror_code\u001b[0m \u001b[0;34m=\u001b[0m \u001b[0mparsed_response\u001b[0m\u001b[0;34m.\u001b[0m\u001b[0mget\u001b[0m\u001b[0;34m(\u001b[0m\u001b[0;34m\"Error\"\u001b[0m\u001b[0;34m,\u001b[0m \u001b[0;34m{\u001b[0m\u001b[0;34m}\u001b[0m\u001b[0;34m)\u001b[0m\u001b[0;34m.\u001b[0m\u001b[0mget\u001b[0m\u001b[0;34m(\u001b[0m\u001b[0;34m\"Code\"\u001b[0m\u001b[0;34m)\u001b[0m\u001b[0;34m\u001b[0m\u001b[0;34m\u001b[0m\u001b[0m\n\u001b[1;32m    704\u001b[0m             \u001b[0merror_class\u001b[0m \u001b[0;34m=\u001b[0m \u001b[0mself\u001b[0m\u001b[0;34m.\u001b[0m\u001b[0mexceptions\u001b[0m\u001b[0;34m.\u001b[0m\u001b[0mfrom_code\u001b[0m\u001b[0;34m(\u001b[0m\u001b[0merror_code\u001b[0m\u001b[0;34m)\u001b[0m\u001b[0;34m\u001b[0m\u001b[0;34m\u001b[0m\u001b[0m\n\u001b[0;32m--> 705\u001b[0;31m             \u001b[0;32mraise\u001b[0m \u001b[0merror_class\u001b[0m\u001b[0;34m(\u001b[0m\u001b[0mparsed_response\u001b[0m\u001b[0;34m,\u001b[0m \u001b[0moperation_name\u001b[0m\u001b[0;34m)\u001b[0m\u001b[0;34m\u001b[0m\u001b[0;34m\u001b[0m\u001b[0m\n\u001b[0m\u001b[1;32m    706\u001b[0m         \u001b[0;32melse\u001b[0m\u001b[0;34m:\u001b[0m\u001b[0;34m\u001b[0m\u001b[0;34m\u001b[0m\u001b[0m\n\u001b[1;32m    707\u001b[0m             \u001b[0;32mreturn\u001b[0m \u001b[0mparsed_response\u001b[0m\u001b[0;34m\u001b[0m\u001b[0;34m\u001b[0m\u001b[0m\n",
      "\u001b[0;31mConflictException\u001b[0m: An error occurred (ConflictException) when calling the DeleteOutcome operation: You cannot remove this outcome because it is currently in use by at least one rule."
     ]
    }
   ],
   "source": [
    "for outcome in outcomes:\n",
    "    print(outcome)\n",
    "    response = client.delete_outcome(\n",
    "        name= outcome\n",
    "    )    \n",
    "    dp(response)"
   ]
  },
  {
   "cell_type": "markdown",
   "id": "4a4a5b9f",
   "metadata": {},
   "source": [
    "## 6. Variables 제거"
   ]
  },
  {
   "cell_type": "code",
   "execution_count": 39,
   "id": "ffd6e8c0",
   "metadata": {},
   "outputs": [
    {
     "name": "stdout",
     "output_type": "stream",
     "text": [
      "str_ip\n"
     ]
    },
    {
     "data": {
      "text/plain": [
       "{'ResponseMetadata': {'RequestId': '9059f132-b687-47de-a54c-f33e4078bd02',\n",
       "  'HTTPStatusCode': 200,\n",
       "  'HTTPHeaders': {'date': 'Mon, 13 Sep 2021 01:35:37 GMT',\n",
       "   'content-type': 'application/x-amz-json-1.1',\n",
       "   'content-length': '2',\n",
       "   'connection': 'keep-alive',\n",
       "   'x-amzn-requestid': '9059f132-b687-47de-a54c-f33e4078bd02'},\n",
       "  'RetryAttempts': 0}}"
      ]
     },
     "metadata": {},
     "output_type": "display_data"
    },
    {
     "name": "stdout",
     "output_type": "stream",
     "text": [
      "str_app\n"
     ]
    },
    {
     "data": {
      "text/plain": [
       "{'ResponseMetadata': {'RequestId': 'f4e3b6c7-6e78-4a45-9265-ac7b1c4a03c5',\n",
       "  'HTTPStatusCode': 200,\n",
       "  'HTTPHeaders': {'date': 'Mon, 13 Sep 2021 01:35:38 GMT',\n",
       "   'content-type': 'application/x-amz-json-1.1',\n",
       "   'content-length': '2',\n",
       "   'connection': 'keep-alive',\n",
       "   'x-amzn-requestid': 'f4e3b6c7-6e78-4a45-9265-ac7b1c4a03c5'},\n",
       "  'RetryAttempts': 0}}"
      ]
     },
     "metadata": {},
     "output_type": "display_data"
    },
    {
     "name": "stdout",
     "output_type": "stream",
     "text": [
      "str_device\n"
     ]
    },
    {
     "data": {
      "text/plain": [
       "{'ResponseMetadata': {'RequestId': 'd4e8b339-9fee-4845-87c5-bc5eb98fe659',\n",
       "  'HTTPStatusCode': 200,\n",
       "  'HTTPHeaders': {'date': 'Mon, 13 Sep 2021 01:35:38 GMT',\n",
       "   'content-type': 'application/x-amz-json-1.1',\n",
       "   'content-length': '2',\n",
       "   'connection': 'keep-alive',\n",
       "   'x-amzn-requestid': 'd4e8b339-9fee-4845-87c5-bc5eb98fe659'},\n",
       "  'RetryAttempts': 0}}"
      ]
     },
     "metadata": {},
     "output_type": "display_data"
    },
    {
     "name": "stdout",
     "output_type": "stream",
     "text": [
      "str_os\n"
     ]
    },
    {
     "data": {
      "text/plain": [
       "{'ResponseMetadata': {'RequestId': 'f5a9a9c8-1b70-40aa-9b54-ee443f106c53',\n",
       "  'HTTPStatusCode': 200,\n",
       "  'HTTPHeaders': {'date': 'Mon, 13 Sep 2021 01:35:38 GMT',\n",
       "   'content-type': 'application/x-amz-json-1.1',\n",
       "   'content-length': '2',\n",
       "   'connection': 'keep-alive',\n",
       "   'x-amzn-requestid': 'f5a9a9c8-1b70-40aa-9b54-ee443f106c53'},\n",
       "  'RetryAttempts': 0}}"
      ]
     },
     "metadata": {},
     "output_type": "display_data"
    },
    {
     "name": "stdout",
     "output_type": "stream",
     "text": [
      "str_channel\n"
     ]
    },
    {
     "data": {
      "text/plain": [
       "{'ResponseMetadata': {'RequestId': '54975787-effc-4794-8bbc-fbbd805ee057',\n",
       "  'HTTPStatusCode': 200,\n",
       "  'HTTPHeaders': {'date': 'Mon, 13 Sep 2021 01:35:38 GMT',\n",
       "   'content-type': 'application/x-amz-json-1.1',\n",
       "   'content-length': '2',\n",
       "   'connection': 'keep-alive',\n",
       "   'x-amzn-requestid': '54975787-effc-4794-8bbc-fbbd805ee057'},\n",
       "  'RetryAttempts': 0}}"
      ]
     },
     "metadata": {},
     "output_type": "display_data"
    }
   ],
   "source": [
    "for var in eventVariables:\n",
    "    print(var)\n",
    "    response = client.delete_variable(\n",
    "        name='string'\n",
    "    )    \n",
    "    dp(response)"
   ]
  },
  {
   "cell_type": "markdown",
   "id": "739d937d",
   "metadata": {},
   "source": [
    "# 7. 레이블 제거\n",
    "- UI 참조"
   ]
  },
  {
   "cell_type": "code",
   "execution_count": null,
   "id": "7529fe0e",
   "metadata": {},
   "outputs": [],
   "source": [
    "# response = client.delete_label(\n",
    "#     name='string'\n",
    "# )"
   ]
  }
 ],
 "metadata": {
  "kernelspec": {
   "display_name": "conda_python3",
   "language": "python",
   "name": "conda_python3"
  },
  "language_info": {
   "codemirror_mode": {
    "name": "ipython",
    "version": 3
   },
   "file_extension": ".py",
   "mimetype": "text/x-python",
   "name": "python",
   "nbconvert_exporter": "python",
   "pygments_lexer": "ipython3",
   "version": "3.6.13"
  }
 },
 "nbformat": 4,
 "nbformat_minor": 5
}

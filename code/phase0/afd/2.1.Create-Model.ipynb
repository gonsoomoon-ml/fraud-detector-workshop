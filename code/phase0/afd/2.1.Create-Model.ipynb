{
 "cells": [
  {
   "cell_type": "markdown",
   "metadata": {},
   "source": [
    "#  [모듈 2.1] Model 생성\n",
    "\n",
    "\n"
   ]
  },
  {
   "cell_type": "markdown",
   "metadata": {},
   "source": [
    "\n",
    "이 노트북은 아래의 원본 노트북의 내용을 기반으로 하였습니다.\n",
    "\n",
    "- An Introduction to the Amazon Fraud Detector API  \n",
    "- https://github.com/aws-samples/aws-fraud-detector-samples/blob/master/Fraud_Detector_End_to_End.ipynb\n",
    "\n",
    "이 노트북은 원본과 다음 부분이 다릅니다.\n"
   ]
  },
  {
   "cell_type": "markdown",
   "metadata": {},
   "source": [
    "# 0. 개념: Model 의 의존성"
   ]
  },
  {
   "cell_type": "markdown",
   "metadata": {},
   "source": [
    "![model_dependencies.png](img/model_dependencies.png)"
   ]
  },
  {
   "cell_type": "markdown",
   "metadata": {},
   "source": [
    "- Event를 생성하기 위해서는 Entity, Label, Variables 가 필요하다"
   ]
  },
  {
   "cell_type": "markdown",
   "metadata": {},
   "source": [
    "# 1. 환경 셋업"
   ]
  },
  {
   "cell_type": "code",
   "execution_count": 1,
   "metadata": {},
   "outputs": [],
   "source": [
    "# 아래는 파이썬 캐키지를 임포트할때에 캐싱된 것을 사용하지 않고, 매번 리로딩 하는 세팅 입니다.\n",
    "\n",
    "%load_ext autoreload\n",
    "%autoreload 2"
   ]
  },
  {
   "cell_type": "markdown",
   "metadata": {},
   "source": [
    "기존 노트북의 변수를 로딩 합니다."
   ]
  },
  {
   "cell_type": "code",
   "execution_count": 2,
   "metadata": {},
   "outputs": [],
   "source": [
    "%store -r "
   ]
  },
  {
   "cell_type": "code",
   "execution_count": 3,
   "metadata": {},
   "outputs": [
    {
     "name": "stdout",
     "output_type": "stream",
     "text": [
      "sufx:  20210913\n"
     ]
    }
   ],
   "source": [
    "import boto3\n",
    "import sagemaker\n",
    "from datetime import datetime\n",
    "import pandas as pd\n",
    "\n",
    "client = boto3.client('frauddetector')\n",
    "role = sagemaker.get_execution_role()\n",
    "# -- suffix is appended to detector and model name for uniqueness  \n",
    "sufx   = datetime.now().strftime(\"%Y%m%d\")\n",
    "\n",
    "# sufx='20210910'\n",
    "print(\"sufx: \", sufx)"
   ]
  },
  {
   "cell_type": "markdown",
   "metadata": {},
   "source": [
    "# 2. 오브젝트 이름 정의"
   ]
  },
  {
   "cell_type": "code",
   "execution_count": 4,
   "metadata": {},
   "outputs": [],
   "source": [
    "project_prefix = 'adtaking_fraud_phase0'"
   ]
  },
  {
   "cell_type": "code",
   "execution_count": 5,
   "metadata": {},
   "outputs": [],
   "source": [
    "# -- This is all you need to fill out. Once complete simply interactively run each code cell. --  \n",
    "\n",
    "ENTITY_TYPE    = f\"cf_customer_{sufx}\"\n",
    "ENTITY_DESC    = \"entity description: {0}\".format(sufx) \n",
    "\n",
    "EVENT_TYPE     = f\"{project_prefix}_{sufx}\"\n",
    "EVENT_DESC     = \"example event description: {0}\".format(sufx) \n",
    "\n",
    "MODEL_NAME     = f\"{project_prefix}_model_{sufx}\"\n",
    "MODEL_DESC     = \"model trained on: {0}\".format(sufx) \n",
    "\n",
    "ARN_ROLE       = role\n",
    "S3_FILE_LOC    = s3_train_data_uri\n"
   ]
  },
  {
   "cell_type": "code",
   "execution_count": 6,
   "metadata": {},
   "outputs": [
    {
     "name": "stdout",
     "output_type": "stream",
     "text": [
      "project_prefix:  adtaking_fraud_phase0\n",
      "ENTITY_TYPE:  cf_customer_20210913\n",
      "EVENT_TYPE:  adtaking_fraud_phase0_20210913\n",
      "MODEL_NAME:  adtaking_fraud_phase0_model_20210913\n",
      "ARN_ROLE:  arn:aws:iam::189546603447:role/AFD-gsmoon\n",
      "S3_FILE_LOC:  s3://sagemaker-us-east-1-189546603447/adtalking_fraud_phase0/train/train-180000.csv\n"
     ]
    }
   ],
   "source": [
    "print(\"project_prefix: \", project_prefix)\n",
    "print(\"ENTITY_TYPE: \", ENTITY_TYPE)\n",
    "print(\"EVENT_TYPE: \", EVENT_TYPE)\n",
    "print(\"MODEL_NAME: \", MODEL_NAME)\n",
    "print(\"ARN_ROLE: \", ARN_ROLE)\n",
    "print(\"S3_FILE_LOC: \", S3_FILE_LOC)"
   ]
  },
  {
   "cell_type": "markdown",
   "metadata": {},
   "source": [
    "# 3. 훈련 데이터 로딩 및 기본 프로파일링\n",
    "-----\n"
   ]
  },
  {
   "cell_type": "code",
   "execution_count": 7,
   "metadata": {},
   "outputs": [
    {
     "name": "stdout",
     "output_type": "stream",
     "text": [
      "--- summary stats ---\n",
      "      feature_name   dtype   count  nunique  null  not_null  null_pct  \\\n",
      "0      EVENT_LABEL  object  180000        2     0    180000       0.0   \n",
      "1           str_ip  object  180000    44650     0    180000       0.0   \n",
      "2          str_app  object  180000      184     0    180000       0.0   \n",
      "3       str_device  object  180000      143     0    180000       0.0   \n",
      "4           str_os  object  180000      143     0    180000       0.0   \n",
      "5      str_channel  object  180000      157     0    180000       0.0   \n",
      "6  EVENT_TIMESTAMP  object  180000   110099     0    180000       0.0   \n",
      "\n",
      "   nunique_pct     feature_type feature_warning  \n",
      "0       0.0000           TARGET      NO WARNING  \n",
      "1       0.2481         CATEGORY      NO WARNING  \n",
      "2       0.0010         CATEGORY      NO WARNING  \n",
      "3       0.0008         CATEGORY      NO WARNING  \n",
      "4       0.0008         CATEGORY      NO WARNING  \n",
      "5       0.0009         CATEGORY      NO WARNING  \n",
      "6       0.6117  EVENT_TIMESTAMP      NO WARNING  \n",
      "\n",
      "\n",
      "--- event variables ---\n",
      "['str_ip', 'str_app', 'str_device', 'str_os', 'str_channel']\n",
      "\n",
      "\n",
      "--- event labels ---\n",
      "['0', '1']\n",
      "\n",
      "\n",
      "--- training data schema ---\n",
      "{'modelVariables': ['str_ip', 'str_app', 'str_device', 'str_os', 'str_channel'], 'labelSchema': {'labelMapper': {'FRAUD': ['1'], 'LEGIT': ['0']}}}\n",
      "\n",
      "\n"
     ]
    }
   ],
   "source": [
    "from src.p_utils import summary_stats\n",
    "\n",
    "df   = pd.read_csv(s3_train_data_uri)\n",
    "df_stats, trainingDataSchema, eventVariables, eventLabels = summary_stats(df)\n"
   ]
  },
  {
   "cell_type": "markdown",
   "metadata": {},
   "source": [
    "# 4. Entity, Label, Variables, Event 생성\n",
    "-----\n",
    "\n",
    "#### IP, EMail_Address 확인\n",
    "- 현재 데이터 셋은 존재 하지 않음"
   ]
  },
  {
   "cell_type": "code",
   "execution_count": 8,
   "metadata": {},
   "outputs": [
    {
     "data": {
      "text/html": [
       "<div>\n",
       "<style scoped>\n",
       "    .dataframe tbody tr th:only-of-type {\n",
       "        vertical-align: middle;\n",
       "    }\n",
       "\n",
       "    .dataframe tbody tr th {\n",
       "        vertical-align: top;\n",
       "    }\n",
       "\n",
       "    .dataframe thead th {\n",
       "        text-align: right;\n",
       "    }\n",
       "</style>\n",
       "<table border=\"1\" class=\"dataframe\">\n",
       "  <thead>\n",
       "    <tr style=\"text-align: right;\">\n",
       "      <th></th>\n",
       "      <th>feature_name</th>\n",
       "      <th>dtype</th>\n",
       "      <th>count</th>\n",
       "      <th>nunique</th>\n",
       "      <th>null</th>\n",
       "      <th>not_null</th>\n",
       "      <th>null_pct</th>\n",
       "      <th>nunique_pct</th>\n",
       "      <th>feature_type</th>\n",
       "      <th>feature_warning</th>\n",
       "    </tr>\n",
       "  </thead>\n",
       "  <tbody>\n",
       "  </tbody>\n",
       "</table>\n",
       "</div>"
      ],
      "text/plain": [
       "Empty DataFrame\n",
       "Columns: [feature_name, dtype, count, nunique, null, not_null, null_pct, nunique_pct, feature_type, feature_warning]\n",
       "Index: []"
      ]
     },
     "execution_count": 8,
     "metadata": {},
     "output_type": "execute_result"
    }
   ],
   "source": [
    "df_stats.loc[(df_stats['feature_type'].isin(['IP_ADDRESS', 'EMAIL_ADDRESS']))]"
   ]
  },
  {
   "cell_type": "markdown",
   "metadata": {},
   "source": [
    "## (1) Varables 와 Labels 생성"
   ]
  },
  {
   "cell_type": "code",
   "execution_count": 9,
   "metadata": {},
   "outputs": [
    {
     "name": "stderr",
     "output_type": "stream",
     "text": [
      "/home/ec2-user/anaconda3/envs/python3/lib/python3.6/site-packages/pandas/core/frame.py:1490: FutureWarning: Using short name for 'orient' is deprecated. Only the options: ('dict', list, 'series', 'split', 'records', 'index') will be used in a future version. Use one of the above to silence this warning.\n",
      "  FutureWarning,\n"
     ]
    },
    {
     "name": "stdout",
     "output_type": "stream",
     "text": [
      "\n",
      " --- model variable dict --\n",
      "[{'name': 'str_ip'}, {'name': 'str_app'}, {'name': 'str_device'}, {'name': 'str_os'}, {'name': 'str_channel'}]\n",
      "\n",
      " --- model label schema dict --\n",
      "{'labelKey': 'EVENT_LABEL', 'labelMapper': {'FRAUD': ['1'], 'LEGIT': ['0']}}\n"
     ]
    }
   ],
   "source": [
    "from src.p_utils import create_variables, create_label\n",
    "# --- no changes just run this code block ---\n",
    "\n",
    "model_variables = create_variables(df_stats, MODEL_NAME)\n",
    "print(\"\\n --- model variable dict --\")\n",
    "print(model_variables)\n",
    "\n",
    "\n",
    "model_label = create_label(df, \"EVENT_LABEL\")\n",
    "print(\"\\n --- model label schema dict --\")\n",
    "print(model_label)"
   ]
  },
  {
   "cell_type": "markdown",
   "metadata": {},
   "source": [
    "## (2) Entity and Event Types 생성\n",
    "-----\n",
    "\n",
    "- 이벤트 유형:  이벤트 유형은 Amazon FraFraud Detector 로 전송되는 개별 이벤트의 구조를 정의합니다. 일단 정의되면 특정 이벤트 유형에 대한 위험을 평가하는 모델 및 탐지기를 작성할 수 있습니다. (예: biling online transaction)\n",
    "- 엔터티 유형: 이벤트를 수행 중인 사용자를 분류합니다. 예측 중에 엔터티 유형과 엔터티 ID를 지정하여 이벤트를 수행한 사람을 정의합니다.\n",
    "    - 예: custoemr, account\n",
    "- [관련 개발자 가이드](https://docs.aws.amazon.com/ko_kr/frauddetector/latest/ug/create-event-type.html)\n"
   ]
  },
  {
   "cell_type": "code",
   "execution_count": 10,
   "metadata": {},
   "outputs": [
    {
     "name": "stdout",
     "output_type": "stream",
     "text": [
      "-- create entity --\n",
      "{'ResponseMetadata': {'RequestId': 'a157644e-5ced-4a63-8639-f3ddbf34af8c', 'HTTPStatusCode': 200, 'HTTPHeaders': {'date': 'Mon, 13 Sep 2021 12:37:03 GMT', 'content-type': 'application/x-amz-json-1.1', 'content-length': '2', 'connection': 'keep-alive', 'x-amzn-requestid': 'a157644e-5ced-4a63-8639-f3ddbf34af8c'}, 'RetryAttempts': 0}}\n"
     ]
    }
   ],
   "source": [
    "# --- no changes just run this code block ---\n",
    "response = client.put_entity_type(\n",
    "    name        = ENTITY_TYPE,\n",
    "    description = ENTITY_DESC\n",
    ")\n",
    "print(\"-- create entity --\")\n",
    "print(response)\n",
    "\n"
   ]
  },
  {
   "cell_type": "code",
   "execution_count": 11,
   "metadata": {},
   "outputs": [
    {
     "name": "stdout",
     "output_type": "stream",
     "text": [
      "-- create event type --\n",
      "{'ResponseMetadata': {'RequestId': '48d2d91e-3fe8-44f8-bd98-bdb335026fd0', 'HTTPStatusCode': 200, 'HTTPHeaders': {'date': 'Mon, 13 Sep 2021 12:37:04 GMT', 'content-type': 'application/x-amz-json-1.1', 'content-length': '2', 'connection': 'keep-alive', 'x-amzn-requestid': '48d2d91e-3fe8-44f8-bd98-bdb335026fd0'}, 'RetryAttempts': 0}}\n"
     ]
    }
   ],
   "source": [
    "\n",
    "response = client.put_event_type (\n",
    "    name           = EVENT_TYPE,\n",
    "    eventVariables = eventVariables,\n",
    "    labels         = eventLabels,\n",
    "    entityTypes    = [ENTITY_TYPE])\n",
    "print(\"-- create event type --\")\n",
    "print(response)"
   ]
  },
  {
   "cell_type": "markdown",
   "metadata": {},
   "source": [
    "# 5. 모델 및 모델 버전 생성 (모델 훈련)\n",
    "-----\n",
    "아래는 소요 시간이 약 1시간 걸림.\n",
    "    \n",
    "- 모델을 생성\n",
    "- 모델을 생성한 후에 모델 버전을 생성 함."
   ]
  },
  {
   "cell_type": "markdown",
   "metadata": {},
   "source": [
    "## 모델 생성"
   ]
  },
  {
   "cell_type": "code",
   "execution_count": 12,
   "metadata": {},
   "outputs": [
    {
     "name": "stdout",
     "output_type": "stream",
     "text": [
      "-- initalize model --\n",
      "{'ResponseMetadata': {'RequestId': 'af3aeb17-6f80-403d-b5b9-7e28c664e02b', 'HTTPStatusCode': 200, 'HTTPHeaders': {'date': 'Mon, 13 Sep 2021 12:37:06 GMT', 'content-type': 'application/x-amz-json-1.1', 'content-length': '2', 'connection': 'keep-alive', 'x-amzn-requestid': 'af3aeb17-6f80-403d-b5b9-7e28c664e02b'}, 'RetryAttempts': 0}}\n"
     ]
    }
   ],
   "source": [
    "# --- no changes; just run this code block. ---\n",
    "\n",
    "# -- create our model --\n",
    "response = client.create_model(\n",
    "   description   =  MODEL_DESC,\n",
    "   eventTypeName = EVENT_TYPE,\n",
    "   modelId       = MODEL_NAME,\n",
    "   modelType   = 'ONLINE_FRAUD_INSIGHTS')\n",
    "\n",
    "print(\"-- initalize model --\")\n",
    "print(response)\n",
    "\n"
   ]
  },
  {
   "cell_type": "markdown",
   "metadata": {},
   "source": [
    "## 모델 버전 생성"
   ]
  },
  {
   "cell_type": "code",
   "execution_count": 14,
   "metadata": {},
   "outputs": [
    {
     "name": "stdout",
     "output_type": "stream",
     "text": [
      "-- model training --\n",
      "{'modelId': 'adtaking_fraud_phase0_model_20210913', 'modelType': 'ONLINE_FRAUD_INSIGHTS', 'modelVersionNumber': '1.0', 'status': 'TRAINING_IN_PROGRESS', 'ResponseMetadata': {'RequestId': '6a4079d4-e886-4c9d-ad55-170ed483dfb5', 'HTTPStatusCode': 200, 'HTTPHeaders': {'date': 'Mon, 13 Sep 2021 12:37:15 GMT', 'content-type': 'application/x-amz-json-1.1', 'content-length': '145', 'connection': 'keep-alive', 'x-amzn-requestid': '6a4079d4-e886-4c9d-ad55-170ed483dfb5'}, 'RetryAttempts': 0}}\n"
     ]
    }
   ],
   "source": [
    "\n",
    "# -- initializes the model, it's now ready to train -- \n",
    "response = client.create_model_version(\n",
    "    modelId     = MODEL_NAME,\n",
    "    modelType   = 'ONLINE_FRAUD_INSIGHTS',\n",
    "    trainingDataSource = 'EXTERNAL_EVENTS',\n",
    "    trainingDataSchema = trainingDataSchema,\n",
    "    externalEventsDetail = {\n",
    "        'dataLocation'     : S3_FILE_LOC,\n",
    "        'dataAccessRoleArn': ARN_ROLE\n",
    "    }\n",
    ")\n",
    "print(\"-- model training --\")\n",
    "print(response)\n"
   ]
  },
  {
   "cell_type": "code",
   "execution_count": 16,
   "metadata": {},
   "outputs": [
    {
     "name": "stdout",
     "output_type": "stream",
     "text": [
      "-- wait for model training to complete --\n",
      "Model status : TRAINING_COMPLETE\n",
      "\n",
      " --- model training complete  --\n",
      "Elapsed time : 0.2484264373779297 seconds \n",
      "\n",
      "{'modelId': 'adtaking_fraud_phase0_model_20210913', 'modelType': 'ONLINE_FRAUD_INSIGHTS', 'modelVersionNumber': '1.0', 'trainingDataSource': 'EXTERNAL_EVENTS', 'trainingDataSchema': {'modelVariables': ['str_ip', 'str_app', 'str_device', 'str_os', 'str_channel'], 'labelSchema': {'labelMapper': {'FRAUD': ['1'], 'LEGIT': ['0']}}}, 'externalEventsDetail': {'dataLocation': 's3://sagemaker-us-east-1-189546603447/adtalking_fraud_phase0/train/train-180000.csv', 'dataAccessRoleArn': 'arn:aws:iam::189546603447:role/AFD-gsmoon'}, 'status': 'TRAINING_COMPLETE', 'arn': 'arn:aws:frauddetector:us-east-1:189546603447:model-version/ONLINE_FRAUD_INSIGHTS/adtaking_fraud_phase0_model_20210913/1.0', 'ResponseMetadata': {'RequestId': '1f9d1417-c38e-4041-b388-8da1fe70ad8c', 'HTTPStatusCode': 200, 'HTTPHeaders': {'date': 'Mon, 13 Sep 2021 13:35:40 GMT', 'content-type': 'application/x-amz-json-1.1', 'content-length': '658', 'connection': 'keep-alive', 'x-amzn-requestid': '1f9d1417-c38e-4041-b388-8da1fe70ad8c'}, 'RetryAttempts': 0}}\n"
     ]
    }
   ],
   "source": [
    "import time\n",
    "\n",
    "# -- model training takes time, we'll loop until it's complete  -- \n",
    "print(\"-- wait for model training to complete --\")\n",
    "stime = time.time()\n",
    "while True:\n",
    "    response = client.get_model_version(modelId=MODEL_NAME, modelType = \"ONLINE_FRAUD_INSIGHTS\", modelVersionNumber = '1.0')\n",
    "    if response['status'] == 'TRAINING_IN_PROGRESS':\n",
    "        print(f\"current progress: {(time.time() - stime)/60:{3}.{3}} minutes\")\n",
    "        time.sleep(60)  # -- sleep for 60 seconds \n",
    "    if response['status'] != 'TRAINING_IN_PROGRESS':\n",
    "        print(\"Model status : \" +  response['status'])\n",
    "        break\n",
    "        \n",
    "etime = time.time()\n",
    "\n",
    "# -- summarize -- \n",
    "print(\"\\n --- model training complete  --\")\n",
    "print(\"Elapsed time : %s\" % (etime - stime) + \" seconds \\n\"  )\n",
    "print(response)\n",
    "\n"
   ]
  },
  {
   "cell_type": "code",
   "execution_count": 17,
   "metadata": {},
   "outputs": [
    {
     "data": {
      "text/plain": [
       "'1.0'"
      ]
     },
     "execution_count": 17,
     "metadata": {},
     "output_type": "execute_result"
    }
   ],
   "source": [
    "\n",
    "modelVersionNumber = response['modelVersionNumber']\n",
    "modelVersionNumber"
   ]
  },
  {
   "cell_type": "markdown",
   "metadata": {},
   "source": [
    "## 모델 성능 결과\n",
    "\n",
    "- 아래의 자세한 결과는 AFD 콘솔에서 학인 하세요"
   ]
  },
  {
   "cell_type": "markdown",
   "metadata": {},
   "source": [
    "![score_dist.png](img/score_dist.png)"
   ]
  },
  {
   "cell_type": "markdown",
   "metadata": {},
   "source": [
    "## 모델 피쳐 중요성\n",
    "\n",
    "![model_var_imp.png](img/model_var_imp.png)"
   ]
  },
  {
   "cell_type": "markdown",
   "metadata": {},
   "source": [
    "# 6. 모델 배포\n",
    "아래는 소요시간이 약 10분 걸림\n",
    "\n",
    "- Model Version 이  Ready to deploy 임. \n",
    "- update_model_version_status() 을 통해서 배포함."
   ]
  },
  {
   "cell_type": "code",
   "execution_count": null,
   "metadata": {},
   "outputs": [
    {
     "name": "stdout",
     "output_type": "stream",
     "text": [
      "-- activating model --\n",
      "{'ResponseMetadata': {'RequestId': '94161c24-ed04-4e93-9049-5fe4c496bacc', 'HTTPStatusCode': 200, 'HTTPHeaders': {'date': 'Mon, 13 Sep 2021 13:43:35 GMT', 'content-type': 'application/x-amz-json-1.1', 'content-length': '2', 'connection': 'keep-alive', 'x-amzn-requestid': '94161c24-ed04-4e93-9049-5fe4c496bacc'}, 'RetryAttempts': 0}}\n",
      "--- waiting until model status is active \n",
      "current progress: 0.00336 minutes\n",
      "current progress: 1.01 minutes\n",
      "current progress: 2.01 minutes\n",
      "current progress: 3.02 minutes\n",
      "current progress: 4.02 minutes\n",
      "current progress: 5.03 minutes\n",
      "current progress: 6.03 minutes\n",
      "current progress: 7.04 minutes\n",
      "current progress: 8.04 minutes\n",
      "current progress: 9.05 minutes\n"
     ]
    }
   ],
   "source": [
    "response = client.update_model_version_status (\n",
    "    modelId = MODEL_NAME,\n",
    "    modelType = 'ONLINE_FRAUD_INSIGHTS',\n",
    "    modelVersionNumber = modelVersionNumber,\n",
    "    status = 'ACTIVE'\n",
    ")\n",
    "print(\"-- activating model --\")\n",
    "print(response)\n",
    "\n",
    "#-- wait until model is active \n",
    "print(\"--- waiting until model status is active \")\n",
    "stime = time.time()\n",
    "while True:\n",
    "    response = client.get_model_version(modelId=MODEL_NAME, modelType = \"ONLINE_FRAUD_INSIGHTS\", modelVersionNumber = '1.0')\n",
    "    if response['status'] != 'ACTIVE':\n",
    "        print(f\"current progress: {(time.time() - stime)/60:{3}.{3}} minutes\")\n",
    "        time.sleep(60)  # sleep for 1 minute \n",
    "    if response['status'] == 'ACTIVE':\n",
    "        print(\"Model status : \" +  response['status'])\n",
    "        break\n",
    "        \n",
    "etime = time.time()\n",
    "print(\"Elapsed time : %s\" % (etime - stime) + \" seconds \\n\"  )\n",
    "print(response)"
   ]
  },
  {
   "cell_type": "markdown",
   "metadata": {},
   "source": [
    "## 변수 저장"
   ]
  },
  {
   "cell_type": "code",
   "execution_count": null,
   "metadata": {},
   "outputs": [],
   "source": [
    "%store project_prefix\n",
    "%store ENTITY_TYPE\n",
    "%store EVENT_TYPE\n",
    "%store eventVariables\n",
    "%store MODEL_NAME\n",
    "%store modelVersionNumber\n",
    "%store ARN_ROLE\n"
   ]
  },
  {
   "cell_type": "code",
   "execution_count": null,
   "metadata": {},
   "outputs": [],
   "source": []
  },
  {
   "cell_type": "code",
   "execution_count": null,
   "metadata": {},
   "outputs": [],
   "source": []
  }
 ],
 "metadata": {
  "kernelspec": {
   "display_name": "conda_python3",
   "language": "python",
   "name": "conda_python3"
  },
  "language_info": {
   "codemirror_mode": {
    "name": "ipython",
    "version": 3
   },
   "file_extension": ".py",
   "mimetype": "text/x-python",
   "name": "python",
   "nbconvert_exporter": "python",
   "pygments_lexer": "ipython3",
   "version": "3.6.13"
  }
 },
 "nbformat": 4,
 "nbformat_minor": 4
}

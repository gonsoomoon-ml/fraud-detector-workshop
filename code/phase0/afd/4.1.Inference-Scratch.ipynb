{
 "cells": [
  {
   "cell_type": "markdown",
   "metadata": {},
   "source": [
    "#  [모듈 4.1] 훈련된 모델로 부터 추론 (예측)\n",
    "-------\n"
   ]
  },
  {
   "cell_type": "markdown",
   "metadata": {},
   "source": [
    "# 0. 환경 셋업"
   ]
  },
  {
   "cell_type": "code",
   "execution_count": 1,
   "metadata": {},
   "outputs": [],
   "source": [
    "%store -r "
   ]
  },
  {
   "cell_type": "code",
   "execution_count": 2,
   "metadata": {},
   "outputs": [],
   "source": [
    "# -- initialize the AFD client \n",
    "import boto3\n",
    "client = boto3.client('frauddetector')\n",
    "\n",
    "import uuid\n",
    "import numpy as np"
   ]
  },
  {
   "cell_type": "markdown",
   "metadata": {},
   "source": [
    "# 1. 테스트 데이터 세트 준비"
   ]
  },
  {
   "cell_type": "markdown",
   "metadata": {},
   "source": [
    "## 추론 샘플 사이즈"
   ]
  },
  {
   "cell_type": "code",
   "execution_count": 3,
   "metadata": {},
   "outputs": [],
   "source": [
    "sample_size = 200"
   ]
  },
  {
   "cell_type": "markdown",
   "metadata": {},
   "source": [
    "## 테스트 데이터 로딩 및 샘플링\n",
    "\n",
    "EVENT_TIMESTAMP를 FD 에서 요구하는 ISO-8601 Datetime format으로 변경 합니다."
   ]
  },
  {
   "cell_type": "code",
   "execution_count": 4,
   "metadata": {},
   "outputs": [
    {
     "name": "stdout",
     "output_type": "stream",
     "text": [
      "test_df :  (20000, 7)\n",
      "Sample Size :  (200, 7)\n"
     ]
    },
    {
     "data": {
      "text/html": [
       "<div>\n",
       "<style scoped>\n",
       "    .dataframe tbody tr th:only-of-type {\n",
       "        vertical-align: middle;\n",
       "    }\n",
       "\n",
       "    .dataframe tbody tr th {\n",
       "        vertical-align: top;\n",
       "    }\n",
       "\n",
       "    .dataframe thead th {\n",
       "        text-align: right;\n",
       "    }\n",
       "</style>\n",
       "<table border=\"1\" class=\"dataframe\">\n",
       "  <thead>\n",
       "    <tr style=\"text-align: right;\">\n",
       "      <th></th>\n",
       "      <th>EVENT_LABEL</th>\n",
       "      <th>str_ip</th>\n",
       "      <th>str_app</th>\n",
       "      <th>str_device</th>\n",
       "      <th>str_os</th>\n",
       "      <th>str_channel</th>\n",
       "      <th>EVENT_TIMESTAMP</th>\n",
       "    </tr>\n",
       "  </thead>\n",
       "  <tbody>\n",
       "    <tr>\n",
       "      <th>2917</th>\n",
       "      <td>0</td>\n",
       "      <td>str_93021</td>\n",
       "      <td>str_3</td>\n",
       "      <td>str_1</td>\n",
       "      <td>str_8</td>\n",
       "      <td>str_280</td>\n",
       "      <td>2017-11-09 00:08:26</td>\n",
       "    </tr>\n",
       "    <tr>\n",
       "      <th>2234</th>\n",
       "      <td>0</td>\n",
       "      <td>str_16464</td>\n",
       "      <td>str_15</td>\n",
       "      <td>str_1</td>\n",
       "      <td>str_15</td>\n",
       "      <td>str_386</td>\n",
       "      <td>2017-11-09 08:58:44</td>\n",
       "    </tr>\n",
       "  </tbody>\n",
       "</table>\n",
       "</div>"
      ],
      "text/plain": [
       "      EVENT_LABEL     str_ip str_app str_device  str_os str_channel  \\\n",
       "2917            0  str_93021   str_3      str_1   str_8     str_280   \n",
       "2234            0  str_16464  str_15      str_1  str_15     str_386   \n",
       "\n",
       "         EVENT_TIMESTAMP  \n",
       "2917 2017-11-09 00:08:26  \n",
       "2234 2017-11-09 08:58:44  "
      ]
     },
     "execution_count": 4,
     "metadata": {},
     "output_type": "execute_result"
    }
   ],
   "source": [
    "import pandas as pd\n",
    "\n",
    "date_cols = ['EVENT_TIMESTAMP']\n",
    "test_df = pd.read_csv(s3_test_data_uri, parse_dates = date_cols)\n",
    "print(\"test_df : \", test_df.shape)\n",
    "test_df = test_df.sample(n=sample_size, random_state=100)\n",
    "print(\"Sample Size : \", test_df.shape)\n",
    "test_df.head(2)"
   ]
  },
  {
   "cell_type": "markdown",
   "metadata": {},
   "source": [
    "## 추론 입력 포맷(Payload) 로 변경"
   ]
  },
  {
   "cell_type": "code",
   "execution_count": 5,
   "metadata": {},
   "outputs": [
    {
     "name": "stdout",
     "output_type": "stream",
     "text": [
      "record_count:  200\n"
     ]
    },
    {
     "data": {
      "text/plain": [
       "[{'str_ip': 'str_93021',\n",
       "  'str_app': 'str_3',\n",
       "  'str_device': 'str_1',\n",
       "  'str_os': 'str_8',\n",
       "  'str_channel': 'str_280'},\n",
       " {'str_ip': 'str_16464',\n",
       "  'str_app': 'str_15',\n",
       "  'str_device': 'str_1',\n",
       "  'str_os': 'str_15',\n",
       "  'str_channel': 'str_386'}]"
      ]
     },
     "execution_count": 5,
     "metadata": {},
     "output_type": "execute_result"
    }
   ],
   "source": [
    "\n",
    "timestampStr_list = test_df['EVENT_TIMESTAMP'].apply(lambda x: x.strftime('%Y-%m-%dT%H:%M:%SZ'))\n",
    "record_count = test_df.shape[0]\n",
    "print(\"record_count: \", record_count)\n",
    "pred_data = test_df[eventVariables].head(record_count).astype(str).to_dict(orient='records')\n",
    "pred_data[0:2]"
   ]
  },
  {
   "cell_type": "markdown",
   "metadata": {},
   "source": [
    "# 2. 추론"
   ]
  },
  {
   "cell_type": "code",
   "execution_count": 6,
   "metadata": {},
   "outputs": [
    {
     "name": "stdout",
     "output_type": "stream",
     "text": [
      "CPU times: user 324 ms, sys: 18.3 ms, total: 342 ms\n",
      "Wall time: 35.4 s\n"
     ]
    }
   ],
   "source": [
    "%%time \n",
    "# -- this will apply your detector to the first 10 records of your trainig dataset. -- \n",
    "predicted_dat = []\n",
    "for rec , timestampStr in zip(pred_data, timestampStr_list):\n",
    "    # print(timestampStr)\n",
    "    eventId = uuid.uuid1()\n",
    "    pred = client.get_event_prediction(detectorId=DETECTOR_NAME, \n",
    "                                       detectorVersionId='1',\n",
    "                                       eventId = str(eventId),\n",
    "                                       eventTypeName = EVENT_TYPE,\n",
    "                                       eventTimestamp = timestampStr, \n",
    "                                       entities = [{'entityType': ENTITY_TYPE, \n",
    "                                                    'entityId':str(eventId.int)}],\n",
    "                                       eventVariables=rec) \n",
    "\n",
    "\n",
    "    \n",
    "    rec[\"score\"]   = pred['modelScores'][0]['scores'][\"{0}_insightscore\".format(MODEL_NAME)]\n",
    "    rec[\"outcome\"] = pred['ruleResults'][0]['outcomes'][0]\n",
    "    predicted_dat.append(rec)\n",
    " \n",
    "\n"
   ]
  },
  {
   "cell_type": "code",
   "execution_count": 7,
   "metadata": {},
   "outputs": [
    {
     "data": {
      "text/html": [
       "<div>\n",
       "<style scoped>\n",
       "    .dataframe tbody tr th:only-of-type {\n",
       "        vertical-align: middle;\n",
       "    }\n",
       "\n",
       "    .dataframe tbody tr th {\n",
       "        vertical-align: top;\n",
       "    }\n",
       "\n",
       "    .dataframe thead th {\n",
       "        text-align: right;\n",
       "    }\n",
       "</style>\n",
       "<table border=\"1\" class=\"dataframe\">\n",
       "  <thead>\n",
       "    <tr style=\"text-align: right;\">\n",
       "      <th></th>\n",
       "      <th>str_ip</th>\n",
       "      <th>str_app</th>\n",
       "      <th>str_device</th>\n",
       "      <th>str_os</th>\n",
       "      <th>str_channel</th>\n",
       "      <th>score</th>\n",
       "      <th>outcome</th>\n",
       "    </tr>\n",
       "  </thead>\n",
       "  <tbody>\n",
       "    <tr>\n",
       "      <th>0</th>\n",
       "      <td>str_93021</td>\n",
       "      <td>str_3</td>\n",
       "      <td>str_1</td>\n",
       "      <td>str_8</td>\n",
       "      <td>str_280</td>\n",
       "      <td>1.0</td>\n",
       "      <td>approve</td>\n",
       "    </tr>\n",
       "    <tr>\n",
       "      <th>1</th>\n",
       "      <td>str_16464</td>\n",
       "      <td>str_15</td>\n",
       "      <td>str_1</td>\n",
       "      <td>str_15</td>\n",
       "      <td>str_386</td>\n",
       "      <td>1.0</td>\n",
       "      <td>approve</td>\n",
       "    </tr>\n",
       "    <tr>\n",
       "      <th>2</th>\n",
       "      <td>str_99519</td>\n",
       "      <td>str_2</td>\n",
       "      <td>str_1</td>\n",
       "      <td>str_22</td>\n",
       "      <td>str_435</td>\n",
       "      <td>1.0</td>\n",
       "      <td>approve</td>\n",
       "    </tr>\n",
       "    <tr>\n",
       "      <th>3</th>\n",
       "      <td>str_15643</td>\n",
       "      <td>str_9</td>\n",
       "      <td>str_1</td>\n",
       "      <td>str_19</td>\n",
       "      <td>str_466</td>\n",
       "      <td>1.0</td>\n",
       "      <td>approve</td>\n",
       "    </tr>\n",
       "    <tr>\n",
       "      <th>4</th>\n",
       "      <td>str_62916</td>\n",
       "      <td>str_3</td>\n",
       "      <td>str_1</td>\n",
       "      <td>str_19</td>\n",
       "      <td>str_280</td>\n",
       "      <td>1.0</td>\n",
       "      <td>approve</td>\n",
       "    </tr>\n",
       "    <tr>\n",
       "      <th>5</th>\n",
       "      <td>str_103203</td>\n",
       "      <td>str_2</td>\n",
       "      <td>str_1</td>\n",
       "      <td>str_19</td>\n",
       "      <td>str_219</td>\n",
       "      <td>1.0</td>\n",
       "      <td>approve</td>\n",
       "    </tr>\n",
       "    <tr>\n",
       "      <th>6</th>\n",
       "      <td>str_18446</td>\n",
       "      <td>str_20</td>\n",
       "      <td>str_1</td>\n",
       "      <td>str_25</td>\n",
       "      <td>str_478</td>\n",
       "      <td>771.0</td>\n",
       "      <td>investigate</td>\n",
       "    </tr>\n",
       "    <tr>\n",
       "      <th>7</th>\n",
       "      <td>str_241697</td>\n",
       "      <td>str_14</td>\n",
       "      <td>str_1</td>\n",
       "      <td>str_6</td>\n",
       "      <td>str_446</td>\n",
       "      <td>798.0</td>\n",
       "      <td>investigate</td>\n",
       "    </tr>\n",
       "    <tr>\n",
       "      <th>8</th>\n",
       "      <td>str_66218</td>\n",
       "      <td>str_12</td>\n",
       "      <td>str_1</td>\n",
       "      <td>str_19</td>\n",
       "      <td>str_497</td>\n",
       "      <td>1.0</td>\n",
       "      <td>approve</td>\n",
       "    </tr>\n",
       "    <tr>\n",
       "      <th>9</th>\n",
       "      <td>str_10760</td>\n",
       "      <td>str_3</td>\n",
       "      <td>str_1</td>\n",
       "      <td>str_13</td>\n",
       "      <td>str_115</td>\n",
       "      <td>1.0</td>\n",
       "      <td>approve</td>\n",
       "    </tr>\n",
       "  </tbody>\n",
       "</table>\n",
       "</div>"
      ],
      "text/plain": [
       "       str_ip str_app str_device  str_os str_channel  score      outcome\n",
       "0   str_93021   str_3      str_1   str_8     str_280    1.0      approve\n",
       "1   str_16464  str_15      str_1  str_15     str_386    1.0      approve\n",
       "2   str_99519   str_2      str_1  str_22     str_435    1.0      approve\n",
       "3   str_15643   str_9      str_1  str_19     str_466    1.0      approve\n",
       "4   str_62916   str_3      str_1  str_19     str_280    1.0      approve\n",
       "5  str_103203   str_2      str_1  str_19     str_219    1.0      approve\n",
       "6   str_18446  str_20      str_1  str_25     str_478  771.0  investigate\n",
       "7  str_241697  str_14      str_1   str_6     str_446  798.0  investigate\n",
       "8   str_66218  str_12      str_1  str_19     str_497    1.0      approve\n",
       "9   str_10760   str_3      str_1  str_13     str_115    1.0      approve"
      ]
     },
     "execution_count": 7,
     "metadata": {},
     "output_type": "execute_result"
    }
   ],
   "source": [
    "# -- review your predictons -- \n",
    "predictions = pd.DataFrame(predicted_dat)\n",
    "predictions.head(10)"
   ]
  },
  {
   "cell_type": "markdown",
   "metadata": {},
   "source": [
    "# 3. 추론 예측 결과 값 분석\n"
   ]
  },
  {
   "cell_type": "markdown",
   "metadata": {},
   "source": [
    "## 추론 예측 스코어 분포 확인"
   ]
  },
  {
   "cell_type": "code",
   "execution_count": 8,
   "metadata": {},
   "outputs": [
    {
     "name": "stderr",
     "output_type": "stream",
     "text": [
      "/home/ec2-user/anaconda3/envs/python3/lib/python3.6/site-packages/ipykernel/__main__.py:12: MatplotlibDeprecationWarning: Case-insensitive properties were deprecated in 3.3 and support will be removed two minor releases later\n"
     ]
    },
    {
     "data": {
      "image/png": "[encoded data removed]",
      "text/plain": [
       "<Figure size 1440x720 with 1 Axes>"
      ]
     },
     "metadata": {
      "needs_background": "light"
     },
     "output_type": "display_data"
    }
   ],
   "source": [
    "import matplotlib.pyplot as plt\n",
    "import seaborn as sns\n",
    "\n",
    "predictions['score_bin'] = pd.cut(predictions['score'],100 ,labels= list(range(0,1000,10)))\n",
    "predictions.loc[predictions['score'] >= score_fraud_threshold, 'score_outcome'] = 'predicted_fraud'\n",
    "predictions.loc[predictions['score'] < score_fraud_threshold, 'score_outcome'] = 'predicted_legit'\n",
    "ctab = pd.crosstab(predictions['score_bin'], predictions['score_outcome']).reset_index()\n",
    "# print(predictions.head(100))\n",
    "plt.figure(figsize=(20,10))\n",
    "plt.bar(ctab['score_bin'], ctab['predicted_fraud'], width=7, color='red')\n",
    "plt.bar(ctab['score_bin'], ctab['predicted_legit'], width=7, color='blue')\n",
    "plt.axvline(x=score_fraud_threshold, ls='--', C='red')\n",
    "plt.title(\"Sample Data, Score Distribution\")\n",
    "#plt.text( 955, 700, 'score >= 985')\n",
    "plt.xlabel('Score')\n",
    "plt.ylabel('Frequency')\n",
    "plt.show()"
   ]
  },
  {
   "cell_type": "markdown",
   "metadata": {},
   "source": [
    "## 평가 지표 생성\n",
    "- F1, Precsion, Recall, Accuracy를 확인 \n",
    "- Confusion Matrixa 확인"
   ]
  },
  {
   "cell_type": "code",
   "execution_count": 9,
   "metadata": {},
   "outputs": [],
   "source": [
    "#predictions['pred_label'] = np.where(predictions['outcome'] == '[approve]',0,1)\n",
    "predictions['pred_label'] = np.where(predictions['outcome'] == 'fraud',1,0)"
   ]
  },
  {
   "cell_type": "code",
   "execution_count": 10,
   "metadata": {},
   "outputs": [
    {
     "name": "stdout",
     "output_type": "stream",
     "text": [
      "              precision    recall  f1-score   support\n",
      "\n",
      "           0       0.97      1.00      0.98       193\n",
      "           1       1.00      0.14      0.25         7\n",
      "\n",
      "    accuracy                           0.97       200\n",
      "   macro avg       0.98      0.57      0.62       200\n",
      "weighted avg       0.97      0.97      0.96       200\n",
      "\n",
      "[[193   6]\n",
      " [  0   1]]\n"
     ]
    },
    {
     "data": {
      "text/plain": [
       "<Figure size 432x288 with 0 Axes>"
      ]
     },
     "metadata": {},
     "output_type": "display_data"
    },
    {
     "data": {
      "image/png": "[encoded data removed]",
      "text/plain": [
       "<Figure size 720x360 with 2 Axes>"
      ]
     },
     "metadata": {
      "image/png": {
       "height": 351,
       "width": 411
      },
      "needs_background": "light"
     },
     "output_type": "display_data"
    }
   ],
   "source": [
    "from sklearn.metrics import classification_report, roc_auc_score\n",
    "from IPython.display import display as dp\n",
    "from sklearn.metrics import confusion_matrix\n",
    "import matplotlib.pyplot as plt\n",
    "from src.p_utils import plot_conf_mat     \n",
    "\n",
    "%matplotlib inline\n",
    "%config InlineBackend.figure_format='retina'\n",
    "\n",
    "\n",
    "def compute_f1(pred, test_df, true_label_col, pred_label_col):\n",
    "    test = test_df.copy()\n",
    "    test= test.reset_index(drop=True)\n",
    "    print(classification_report(pred[pred_label_col], test[true_label_col]))\n",
    "    \n",
    "    cm = confusion_matrix(y_true= test[true_label_col], y_pred= pred[pred_label_col])\n",
    "    plt.figure()\n",
    "    fig, ax = plt.subplots(figsize=(10,5))\n",
    "    plot_conf_mat(cm, \n",
    "                  classes=['legit', 'fraud'], \n",
    "                  title='Confusion Matrix')\n",
    "    plt.show()    \n",
    "\n",
    "\n",
    "\n",
    "compute_f1(predictions, test_df, \n",
    "           true_label_col='EVENT_LABEL',\n",
    "           pred_label_col='pred_label'           \n",
    "          )"
   ]
  },
  {
   "cell_type": "code",
   "execution_count": null,
   "metadata": {},
   "outputs": [],
   "source": []
  },
  {
   "cell_type": "code",
   "execution_count": null,
   "metadata": {},
   "outputs": [],
   "source": []
  },
  {
   "cell_type": "code",
   "execution_count": null,
   "metadata": {},
   "outputs": [],
   "source": []
  },
  {
   "cell_type": "code",
   "execution_count": null,
   "metadata": {},
   "outputs": [],
   "source": []
  }
 ],
 "metadata": {
  "kernelspec": {
   "display_name": "conda_python3",
   "language": "python",
   "name": "conda_python3"
  },
  "language_info": {
   "codemirror_mode": {
    "name": "ipython",
    "version": 3
   },
   "file_extension": ".py",
   "mimetype": "text/x-python",
   "name": "python",
   "nbconvert_exporter": "python",
   "pygments_lexer": "ipython3",
   "version": "3.6.13"
  }
 },
 "nbformat": 4,
 "nbformat_minor": 4
}

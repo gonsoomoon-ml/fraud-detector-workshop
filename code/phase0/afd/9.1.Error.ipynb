{
 "cells": [
  {
   "cell_type": "markdown",
   "id": "cdab3fba",
   "metadata": {},
   "source": [
    "## 에러 케이스\n",
    "\n",
    "- AFD 에서 제공하는 데이터 세트 조건에 어긋날 경우"
   ]
  },
  {
   "cell_type": "markdown",
   "id": "331dc5a7",
   "metadata": {},
   "source": [
    "![less_than_400_fraud.png](img/less_than_400_fraud.png)"
   ]
  },
  {
   "cell_type": "code",
   "execution_count": null,
   "id": "55ca043f",
   "metadata": {},
   "outputs": [],
   "source": []
  }
 ],
 "metadata": {
  "kernelspec": {
   "display_name": "conda_python3",
   "language": "python",
   "name": "conda_python3"
  },
  "language_info": {
   "codemirror_mode": {
    "name": "ipython",
    "version": 3
   },
   "file_extension": ".py",
   "mimetype": "text/x-python",
   "name": "python",
   "nbconvert_exporter": "python",
   "pygments_lexer": "ipython3",
   "version": "3.6.13"
  }
 },
 "nbformat": 4,
 "nbformat_minor": 5
}

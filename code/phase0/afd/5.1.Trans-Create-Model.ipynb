{
 "cells": [
  {
   "cell_type": "markdown",
   "metadata": {},
   "source": [
    "#  [모듈 5.1] TRANSACTION_FRAUD_INSIGHTS 모델 타입으로 Model 생성\n",
    "\n",
    "\n"
   ]
  },
  {
   "cell_type": "markdown",
   "metadata": {},
   "source": [
    "\n",
    "이 노트북은 아래의 원본 노트북의 내용을 기반으로 하였습니다.\n",
    "\n",
    "- Transaction fraud insights 모델 타입을 위한 개발자 가이드 \n",
    "    - [ransaction fraud insights](https://docs.aws.amazon.com/frauddetector/latest/ug/transaction-fraud-insights.html)\n",
    "    - [공식 AFD 샘플 코드 예시](https://github.com/aws-samples/aws-fraud-detector-samples)\n",
    "        - 아래는 위 리파지토리 하위에 있는 TRANSACTION_FRAUD_INSIGHTS 의 예시 입니다.\n",
    "        - https://github.com/aws-samples/aws-fraud-detector-samples/blob/master/Fraud_Detector_End_to_End_Stored_Data.ipynb\n",
    "\n",
    "이 노트북은 원본과 다음 부분이 다릅니다.\n",
    "    "
   ]
  },
  {
   "cell_type": "markdown",
   "metadata": {},
   "source": [
    "# 0. 개념: Model 의 의존성"
   ]
  },
  {
   "cell_type": "markdown",
   "metadata": {},
   "source": [
    "![model_dependencies.png](img/model_dependencies.png)"
   ]
  },
  {
   "cell_type": "markdown",
   "metadata": {},
   "source": [
    "- Event를 생성하기 위해서는 Entity, Label, Variables 가 필요하다"
   ]
  },
  {
   "cell_type": "markdown",
   "metadata": {},
   "source": [
    "# 1. 환경 셋업"
   ]
  },
  {
   "cell_type": "code",
   "execution_count": 45,
   "metadata": {},
   "outputs": [
    {
     "name": "stdout",
     "output_type": "stream",
     "text": [
      "The autoreload extension is already loaded. To reload it, use:\n",
      "  %reload_ext autoreload\n"
     ]
    }
   ],
   "source": [
    "# 아래는 파이썬 캐키지를 임포트할때에 캐싱된 것을 사용하지 않고, 매번 리로딩 하는 세팅 입니다.\n",
    "\n",
    "%load_ext autoreload\n",
    "%autoreload 2"
   ]
  },
  {
   "cell_type": "markdown",
   "metadata": {},
   "source": [
    "기존 노트북의 변수를 로딩 합니다."
   ]
  },
  {
   "cell_type": "code",
   "execution_count": 46,
   "metadata": {},
   "outputs": [],
   "source": [
    "%store -r "
   ]
  },
  {
   "cell_type": "code",
   "execution_count": 47,
   "metadata": {},
   "outputs": [
    {
     "name": "stdout",
     "output_type": "stream",
     "text": [
      "sufx:  20211030\n"
     ]
    }
   ],
   "source": [
    "import boto3\n",
    "import sagemaker\n",
    "from datetime import datetime\n",
    "import pandas as pd\n",
    "\n",
    "client = boto3.client('frauddetector')\n",
    "role = sagemaker.get_execution_role()\n",
    "# -- suffix is appended to detector and model name for uniqueness  \n",
    "sufx   = datetime.now().strftime(\"%Y%m%d\")\n",
    "\n",
    "# sufx='20210910'\n",
    "print(\"sufx: \", sufx)"
   ]
  },
  {
   "cell_type": "markdown",
   "metadata": {},
   "source": [
    "# 2. 오브젝트 이름 정의"
   ]
  },
  {
   "cell_type": "code",
   "execution_count": 59,
   "metadata": {},
   "outputs": [],
   "source": [
    "project_prefix = 'adtaking_fraud_phase0_tran'"
   ]
  },
  {
   "cell_type": "code",
   "execution_count": 49,
   "metadata": {},
   "outputs": [],
   "source": [
    "# -- This is all you need to fill out. Once complete simply interactively run each code cell. --  \n",
    "\n",
    "# ENTITY_TYPE    = f\"cf_customer_{sufx}\"\n",
    "ENTITY_TYPE    = f\"customer\"\n",
    "ENTITY_DESC    = \"entity description: {0}\".format(sufx) \n",
    "\n",
    "EVENT_TYPE     = f\"{project_prefix}_{sufx}\"\n",
    "EVENT_DESC     = \"example event description: {0}\".format(sufx) \n",
    "\n",
    "MODEL_NAME     = f\"{project_prefix}_model_{sufx}\"\n",
    "MODEL_DESC     = \"model trained on: {0}\".format(sufx) \n",
    "\n",
    "ARN_ROLE       = role\n",
    "S3_FILE_LOC    = s3_train_data_uri\n",
    "\n",
    "VARIABLES_MAP = {\n",
    "    \"IP_ADDRESS\": \"\",       # e.g. ip_address\n",
    "    \"EMAIL_ADDRESS\": \"\"     # e.g. customer_email\n",
    "}\n",
    "\n",
    "# -- percentage of data used in model training (by default: 100%). \n",
    "TRAINING_PERC = 1.0"
   ]
  },
  {
   "cell_type": "code",
   "execution_count": 50,
   "metadata": {},
   "outputs": [
    {
     "name": "stdout",
     "output_type": "stream",
     "text": [
      "project_prefix:  adtaking_fraud_phase0_tran\n",
      "ENTITY_TYPE:  customer\n",
      "EVENT_TYPE:  adtaking_fraud_phase0_tran_20211030\n",
      "MODEL_NAME:  adtaking_fraud_phase0_tran_model_20211030\n",
      "ARN_ROLE:  arn:aws:iam::057716757052:role/AFD-gsmoon\n",
      "S3_FILE_LOC:  s3://sagemaker-us-east-1-057716757052/adtalking_fraud_phase0/train/train-180000.csv\n"
     ]
    }
   ],
   "source": [
    "print(\"project_prefix: \", project_prefix)\n",
    "print(\"ENTITY_TYPE: \", ENTITY_TYPE)\n",
    "print(\"EVENT_TYPE: \", EVENT_TYPE)\n",
    "print(\"MODEL_NAME: \", MODEL_NAME)\n",
    "print(\"ARN_ROLE: \", ARN_ROLE)\n",
    "print(\"S3_FILE_LOC: \", S3_FILE_LOC)"
   ]
  },
  {
   "cell_type": "markdown",
   "metadata": {},
   "source": [
    "# 3. 훈련 데이터 로딩 및 기본 프로파일링\n",
    "-----\n"
   ]
  },
  {
   "cell_type": "code",
   "execution_count": 51,
   "metadata": {},
   "outputs": [],
   "source": [
    "from src.transaction_utils import profiling\n",
    "\n",
    "df   = pd.read_csv(s3_train_afd_tran_data_uri)"
   ]
  },
  {
   "cell_type": "code",
   "execution_count": 52,
   "metadata": {},
   "outputs": [
    {
     "name": "stdout",
     "output_type": "stream",
     "text": [
      "--- summary stats ---\n",
      "      feature_name   dtype   count  nunique  null  not_null  null_pct  \\\n",
      "0      EVENT_LABEL   int64  180000        2     0    180000       0.0   \n",
      "1        ENTITY_ID  object  180000    44650     0    180000       0.0   \n",
      "2          str_app  object  180000      184     0    180000       0.0   \n",
      "3       str_device  object  180000      143     0    180000       0.0   \n",
      "4           str_os  object  180000      143     0    180000       0.0   \n",
      "5      str_channel  object  180000      157     0    180000       0.0   \n",
      "6  EVENT_TIMESTAMP  object  180000   110099     0    180000       0.0   \n",
      "7      ENTITY_TYPE  object  180000        1     0    180000       0.0   \n",
      "8         EVENT_ID  object  180000   180000     0    180000       0.0   \n",
      "9  LABEL_TIMESTAMP  object  180000   110099     0    180000       0.0   \n",
      "\n",
      "   nunique_pct     feature_type feature_warning  \n",
      "0       0.0000      EVENT_LABEL      NO WARNING  \n",
      "1       0.2481        ENTITY_ID      NO WARNING  \n",
      "2       0.0010      CATEGORICAL      NO WARNING  \n",
      "3       0.0008      CATEGORICAL      NO WARNING  \n",
      "4       0.0008      CATEGORICAL      NO WARNING  \n",
      "5       0.0009      CATEGORICAL      NO WARNING  \n",
      "6       0.6117  EVENT_TIMESTAMP      NO WARNING  \n",
      "7       0.0000      ENTITY_TYPE      NO WARNING  \n",
      "8       1.0000         EVENT_ID      NO WARNING  \n",
      "9       0.6117  LABEL_TIMESTAMP      NO WARNING  \n",
      "\n",
      "\n",
      "--- event variables ---\n",
      "['str_app', 'str_device', 'str_os', 'str_channel']\n",
      "\n",
      "\n",
      "--- event labels ---\n",
      "['0', '1']\n",
      "\n",
      "\n",
      "--- training data schema ---\n",
      "{'modelVariables': ['str_app', 'str_device', 'str_os', 'str_channel'], 'labelSchema': {'labelMapper': {'FRAUD': ['1'], 'LEGIT': ['0']}, 'unlabeledEventsTreatment': 'IGNORE'}}\n"
     ]
    }
   ],
   "source": [
    "df_stats, trainingDataSchema, eventVariables, eventLabels = profiling(df, VARIABLES_MAP)\n"
   ]
  },
  {
   "cell_type": "markdown",
   "metadata": {},
   "source": [
    "# 4. Entity, Label, Variables, Event 생성\n",
    "-----\n"
   ]
  },
  {
   "cell_type": "markdown",
   "metadata": {},
   "source": [
    "## (1) Varables 와 Labels 생성"
   ]
  },
  {
   "cell_type": "markdown",
   "metadata": {},
   "source": [
    "### Variables 생성"
   ]
  },
  {
   "cell_type": "code",
   "execution_count": 53,
   "metadata": {},
   "outputs": [
    {
     "name": "stdout",
     "output_type": "stream",
     "text": [
      "\n",
      " --- model variable dict --\n",
      "features_dict:  {'str_app': 'CATEGORICAL', 'str_device': 'CATEGORICAL', 'str_os': 'CATEGORICAL', 'str_channel': 'CATEGORICAL'}\n",
      "str_app has been defined, data type: STRING\n",
      "str_device has been defined, data type: STRING\n",
      "str_os has been defined, data type: STRING\n",
      "str_channel has been defined, data type: STRING\n",
      "\n",
      "\n",
      "{'str_app': 'STRING', 'str_device': 'STRING', 'str_os': 'STRING', 'str_channel': 'STRING'}\n"
     ]
    }
   ],
   "source": [
    "from src.transaction_utils import create_variables, create_label\n",
    "# --- no changes just run this code block ---\n",
    "\n",
    "# model_variables = create_variables_transaction(df_stats, MODEL_NAME)\n",
    "# print(\"\\n --- model variable dict --\")\n",
    "# print(model_variables)\n",
    "\n",
    "exclude_list = ['ENTITY_TYPE','ENTITY_ID','EVENT_ID','EVENT_TIMESTAMP','EVENT_LABEL','LABEL_TIMESTAMP','UNKNOWN']\n",
    "features_dict = df_stats.loc[(~df_stats['feature_type'].isin(exclude_list))].set_index('feature_name')['feature_type'].to_dict()\n",
    "print(\"\\n --- model variable dict --\")\n",
    "print(\"features_dict: \", features_dict)\n",
    "features_dict = create_variables(features_dict)\n",
    "print(\"\\n\")\n",
    "print(features_dict)\n",
    "\n"
   ]
  },
  {
   "cell_type": "markdown",
   "metadata": {},
   "source": [
    "### Label 생성"
   ]
  },
  {
   "cell_type": "code",
   "execution_count": 54,
   "metadata": {},
   "outputs": [
    {
     "name": "stdout",
     "output_type": "stream",
     "text": [
      "\n",
      " --- model label schema dict --\n",
      "{'FRAUD': ['1'], 'LEGIT': ['0']}\n"
     ]
    }
   ],
   "source": [
    "label_mapper = trainingDataSchema['labelSchema']['labelMapper']\n",
    "print(\"\\n --- model label schema dict --\")\n",
    "print(label_mapper)\n",
    "model_label = create_label(label_mapper)\n",
    "\n"
   ]
  },
  {
   "cell_type": "markdown",
   "metadata": {},
   "source": [
    "## (2) Entity and Event Types 생성\n",
    "-----\n",
    "\n",
    "- 이벤트 유형:  이벤트 유형은 Amazon FraFraud Detector 로 전송되는 개별 이벤트의 구조를 정의합니다. 일단 정의되면 특정 이벤트 유형에 대한 위험을 평가하는 모델 및 탐지기를 작성할 수 있습니다. (예: biling online transaction)\n",
    "    - 옵션 추가: eventIngestion = 'ENABLED', 추가\n",
    "- 엔터티 유형: 이벤트를 수행 중인 사용자를 분류합니다. 예측 중에 엔터티 유형과 엔터티 ID를 지정하여 이벤트를 수행한 사람을 정의합니다.\n",
    "    - 예: custoemr, account\n",
    "- [관련 개발자 가이드](https://docs.aws.amazon.com/ko_kr/frauddetector/latest/ug/create-event-type.html)\n"
   ]
  },
  {
   "cell_type": "code",
   "execution_count": 55,
   "metadata": {},
   "outputs": [
    {
     "name": "stdout",
     "output_type": "stream",
     "text": [
      "-- create entity --\n",
      "{'ResponseMetadata': {'RequestId': '30f32061-91bc-47ee-a9f1-a6441251e381', 'HTTPStatusCode': 200, 'HTTPHeaders': {'date': 'Sat, 30 Oct 2021 10:11:31 GMT', 'content-type': 'application/x-amz-json-1.1', 'content-length': '2', 'connection': 'keep-alive', 'x-amzn-requestid': '30f32061-91bc-47ee-a9f1-a6441251e381'}, 'RetryAttempts': 0}}\n"
     ]
    }
   ],
   "source": [
    "# --- no changes just run this code block ---\n",
    "response = client.put_entity_type(\n",
    "    name        = ENTITY_TYPE,\n",
    "    description = ENTITY_DESC\n",
    ")\n",
    "print(\"-- create entity --\")\n",
    "print(response)\n",
    "\n"
   ]
  },
  {
   "cell_type": "code",
   "execution_count": 56,
   "metadata": {},
   "outputs": [
    {
     "name": "stdout",
     "output_type": "stream",
     "text": [
      "-- create event type --\n",
      "{'ResponseMetadata': {'RequestId': '41d2f2a8-1f52-4d54-9e56-d8f35f880a01', 'HTTPStatusCode': 200, 'HTTPHeaders': {'date': 'Sat, 30 Oct 2021 10:11:32 GMT', 'content-type': 'application/x-amz-json-1.1', 'content-length': '2', 'connection': 'keep-alive', 'x-amzn-requestid': '41d2f2a8-1f52-4d54-9e56-d8f35f880a01'}, 'RetryAttempts': 0}}\n"
     ]
    }
   ],
   "source": [
    "\n",
    "response = client.put_event_type (\n",
    "    name           = EVENT_TYPE,\n",
    "    eventVariables = eventVariables,\n",
    "    labels         = eventLabels,\n",
    "    eventIngestion = 'ENABLED',    \n",
    "    entityTypes    = [ENTITY_TYPE])\n",
    "print(\"-- create event type --\")\n",
    "print(response)"
   ]
  },
  {
   "cell_type": "markdown",
   "metadata": {},
   "source": [
    "# 5. 배치 임포트 (인제스쳔)\n",
    "\n",
    "이 기능은 AFD 내부로 S3 의 데이터 세트를 가공하여 입력하는 작업 입니다. TRANSACTION_FRAUD_INSIGHTS 모델 타입 추가와 함께 신규 추가 기능 입니다."
   ]
  },
  {
   "cell_type": "code",
   "execution_count": 57,
   "metadata": {},
   "outputs": [
    {
     "data": {
      "text/plain": [
       "{'ResponseMetadata': {'RequestId': '1c5fe7f5-3003-4b3c-842d-33483547f878',\n",
       "  'HTTPStatusCode': 200,\n",
       "  'HTTPHeaders': {'date': 'Sat, 30 Oct 2021 10:11:33 GMT',\n",
       "   'content-type': 'application/x-amz-json-1.1',\n",
       "   'content-length': '2',\n",
       "   'connection': 'keep-alive',\n",
       "   'x-amzn-requestid': '1c5fe7f5-3003-4b3c-842d-33483547f878'},\n",
       "  'RetryAttempts': 0}}"
      ]
     },
     "execution_count": 57,
     "metadata": {},
     "output_type": "execute_result"
    }
   ],
   "source": [
    "## -- create batch import job --\n",
    "client.create_batch_import_job(\n",
    "    jobId = f'batch_import_{EVENT_TYPE}',\n",
    "#     inputPath = f's3://{S3_BUCKET}/{S3_FILE}',\n",
    "    inputPath = s3_train_afd_tran_data_uri, \n",
    "    outputPath = f's3://{bucket}',\n",
    "    eventTypeName = EVENT_TYPE,\n",
    "    iamRoleArn = role\n",
    ")"
   ]
  },
  {
   "cell_type": "code",
   "execution_count": 60,
   "metadata": {},
   "outputs": [
    {
     "name": "stdout",
     "output_type": "stream",
     "text": [
      "-- wait for model training to complete --\n",
      "Model status : COMPLETE\n",
      "\n",
      " --- batch import complete  --\n",
      "Elapsed time : 0.1257936954498291 seconds \n",
      "\n",
      "{'batchImports': [{'jobId': 'batch_import_adtaking_fraud_phase0_tran_20211030', 'status': 'COMPLETE', 'startTime': '2021-10-30T10:11:33Z', 'completionTime': '2021-10-30T10:28:41Z', 'inputPath': 's3://sagemaker-us-east-1-057716757052/adtalking_fraud_phase0/train/train-afd-tran-180000.csv', 'outputPath': 's3://sagemaker-us-east-1-057716757052', 'eventTypeName': 'adtaking_fraud_phase0_tran_20211030', 'iamRoleArn': 'arn:aws:iam::057716757052:role/AFD-gsmoon', 'arn': 'arn:aws:frauddetector:us-east-1:057716757052:batch-import/batch_import_adtaking_fraud_phase0_tran_20211030', 'processedRecordsCount': 180000, 'failedRecordsCount': 18, 'totalRecordsCount': 180000}], 'ResponseMetadata': {'RequestId': '03365f5b-4b95-422e-993c-1bfff99eb879', 'HTTPStatusCode': 200, 'HTTPHeaders': {'date': 'Sat, 30 Oct 2021 11:34:10 GMT', 'content-type': 'application/x-amz-json-1.1', 'content-length': '642', 'connection': 'keep-alive', 'x-amzn-requestid': '03365f5b-4b95-422e-993c-1bfff99eb879'}, 'RetryAttempts': 0}}\n"
     ]
    }
   ],
   "source": [
    "import time\n",
    "# -- takes sometime to import all data into AFD  -- \n",
    "print(\"-- wait for model training to complete --\") \n",
    "stime = time.time()\n",
    "while True:\n",
    "    response = client.get_batch_import_jobs(jobId = f'batch_import_{EVENT_TYPE}')\n",
    "    status = response['batchImports'][0]['status']\n",
    "    if status in ['IN_PROGRESS', 'IN_PROGRESS_INITIALIZING']:\n",
    "        print(f\"current progress: {(time.time() - stime)/60:{3}.{3}} minutes\")\n",
    "        time.sleep(60)  # -- sleep for 60 seconds \n",
    "    else:\n",
    "        print(f\"Model status : {status}\")\n",
    "        break\n",
    "etime = time.time()\n",
    "\n",
    "# -- summarize --\n",
    "print(\"\\n --- batch import complete  --\")\n",
    "print(\"Elapsed time : %s\" % (etime - stime) + \" seconds \\n\"  )\n",
    "print(response)"
   ]
  },
  {
   "cell_type": "markdown",
   "metadata": {},
   "source": [
    "# 6. 모델 및 모델 버전 생성 (모델 훈련)\n",
    "-----\n",
    "아래는 소요 시간이 약 1시간 걸림.\n",
    "    \n",
    "- 모델을 생성\n",
    "- 모델을 생성한 후에 모델 버전을 생성 함."
   ]
  },
  {
   "cell_type": "markdown",
   "metadata": {},
   "source": [
    "## 모델 생성\n",
    "- 모델 타입에 TRANSACTION_FRAUD_INSIGHTS 지정"
   ]
  },
  {
   "cell_type": "code",
   "execution_count": 62,
   "metadata": {},
   "outputs": [
    {
     "name": "stdout",
     "output_type": "stream",
     "text": [
      "-- initalize model --\n",
      "{'ResponseMetadata': {'RequestId': '4d6e0cdd-e2c6-48fc-aa0b-c960547d2808', 'HTTPStatusCode': 200, 'HTTPHeaders': {'date': 'Sat, 30 Oct 2021 11:35:24 GMT', 'content-type': 'application/x-amz-json-1.1', 'content-length': '2', 'connection': 'keep-alive', 'x-amzn-requestid': '4d6e0cdd-e2c6-48fc-aa0b-c960547d2808'}, 'RetryAttempts': 0}}\n"
     ]
    }
   ],
   "source": [
    "# --- no changes; just run this code block. ---\n",
    "\n",
    "# -- create our model --\n",
    "response = client.create_model(\n",
    "   description   =  MODEL_DESC,\n",
    "   eventTypeName = EVENT_TYPE,\n",
    "   modelId       = MODEL_NAME,\n",
    "   modelType   = 'TRANSACTION_FRAUD_INSIGHTS')\n",
    "\n",
    "print(\"-- initalize model --\")\n",
    "print(response)\n",
    "\n"
   ]
  },
  {
   "cell_type": "markdown",
   "metadata": {},
   "source": [
    "## 모델 버전 생성\n",
    "- TRANSACTION_FRAUD_INSIGHTS 에 따라 인자들 변경이 됨 \n",
    "\n"
   ]
  },
  {
   "cell_type": "code",
   "execution_count": 63,
   "metadata": {},
   "outputs": [
    {
     "name": "stdout",
     "output_type": "stream",
     "text": [
      "2020-11-06T15:08:24Z\n",
      "2020-11-08T23:58:58Z\n",
      "<class 'pandas.core.frame.DataFrame'>\n",
      "RangeIndex: 180000 entries, 0 to 179999\n",
      "Data columns (total 10 columns):\n",
      " #   Column           Non-Null Count   Dtype \n",
      "---  ------           --------------   ----- \n",
      " 0   EVENT_LABEL      180000 non-null  int64 \n",
      " 1   ENTITY_ID        180000 non-null  object\n",
      " 2   str_app          180000 non-null  object\n",
      " 3   str_device       180000 non-null  object\n",
      " 4   str_os           180000 non-null  object\n",
      " 5   str_channel      180000 non-null  object\n",
      " 6   EVENT_TIMESTAMP  180000 non-null  object\n",
      " 7   ENTITY_TYPE      180000 non-null  object\n",
      " 8   EVENT_ID         180000 non-null  object\n",
      " 9   LABEL_TIMESTAMP  180000 non-null  object\n",
      "dtypes: int64(1), object(9)\n",
      "memory usage: 13.7+ MB\n"
     ]
    }
   ],
   "source": [
    "print(df['EVENT_TIMESTAMP'].min())\n",
    "print(df['EVENT_TIMESTAMP'].max())\n",
    "df.info()"
   ]
  },
  {
   "cell_type": "code",
   "execution_count": 64,
   "metadata": {},
   "outputs": [
    {
     "name": "stdout",
     "output_type": "stream",
     "text": [
      "-- model training --\n",
      "{'modelId': 'adtaking_fraud_phase0_tran_model_20211030', 'modelType': 'TRANSACTION_FRAUD_INSIGHTS', 'modelVersionNumber': '1.0', 'status': 'TRAINING_IN_PROGRESS', 'ResponseMetadata': {'RequestId': '80f7c898-5051-474a-9eb8-0c8e1bf87f4b', 'HTTPStatusCode': 200, 'HTTPHeaders': {'date': 'Sat, 30 Oct 2021 11:35:33 GMT', 'content-type': 'application/x-amz-json-1.1', 'content-length': '155', 'connection': 'keep-alive', 'x-amzn-requestid': '80f7c898-5051-474a-9eb8-0c8e1bf87f4b'}, 'RetryAttempts': 0}}\n"
     ]
    }
   ],
   "source": [
    "\n",
    "# -- initializes the model, it's now ready to train -- \n",
    "response = client.create_model_version(\n",
    "    modelId     = MODEL_NAME,\n",
    "    modelType   = 'TRANSACTION_FRAUD_INSIGHTS',\n",
    "    trainingDataSource = 'INGESTED_EVENTS',\n",
    "    trainingDataSchema = trainingDataSchema,\n",
    "    ingestedEventsDetail={\n",
    "          'ingestedEventsTimeWindow': {\n",
    "              'startTime': df['EVENT_TIMESTAMP'].min(),\n",
    "              'endTime': df['EVENT_TIMESTAMP'].max()\n",
    "          }\n",
    "    }\n",
    ")\n",
    "model_version = response['modelVersionNumber']\n",
    "print(\"-- model training --\")\n",
    "print(response)\n",
    "\n"
   ]
  },
  {
   "cell_type": "code",
   "execution_count": 67,
   "metadata": {},
   "outputs": [
    {
     "name": "stdout",
     "output_type": "stream",
     "text": [
      "-- wait for model training to complete --\n",
      "Model status : TRAINING_COMPLETE\n",
      "\n",
      " --- model training complete  --\n",
      "Elapsed time : 0.2544558048248291 seconds \n",
      "\n",
      "{'modelId': 'adtaking_fraud_phase0_tran_model_20211030', 'modelType': 'TRANSACTION_FRAUD_INSIGHTS', 'modelVersionNumber': '1.0', 'trainingDataSource': 'INGESTED_EVENTS', 'trainingDataSchema': {'modelVariables': ['str_app', 'str_device', 'str_os', 'str_channel'], 'labelSchema': {'labelMapper': {'FRAUD': ['1'], 'LEGIT': ['0']}, 'unlabeledEventsTreatment': 'IGNORE'}}, 'ingestedEventsDetail': {'ingestedEventsTimeWindow': {'startTime': '2020-11-06T15:08:24Z', 'endTime': '2020-11-08T23:58:58Z'}}, 'status': 'TRAINING_COMPLETE', 'arn': 'arn:aws:frauddetector:us-east-1:057716757052:model-version/TRANSACTION_FRAUD_INSIGHTS/adtaking_fraud_phase0_tran_model_20211030/1.0', 'ResponseMetadata': {'RequestId': '6382a73d-dbf4-4c1e-b165-3377a3040dd3', 'HTTPStatusCode': 200, 'HTTPHeaders': {'date': 'Sat, 30 Oct 2021 13:46:38 GMT', 'content-type': 'application/x-amz-json-1.1', 'content-length': '637', 'connection': 'keep-alive', 'x-amzn-requestid': '6382a73d-dbf4-4c1e-b165-3377a3040dd3'}, 'RetryAttempts': 0}}\n"
     ]
    }
   ],
   "source": [
    "import time\n",
    "\n",
    "# -- model training takes time, we'll loop until it's complete  -- \n",
    "print(\"-- wait for model training to complete --\")\n",
    "stime = time.time()\n",
    "while True:\n",
    "    response = client.get_model_version(modelId=MODEL_NAME, modelType = \"TRANSACTION_FRAUD_INSIGHTS\", modelVersionNumber = '1.0')\n",
    "    if response['status'] == 'TRAINING_IN_PROGRESS':\n",
    "        print(f\"current progress: {(time.time() - stime)/60:{3}.{3}} minutes\")\n",
    "        time.sleep(60)  # -- sleep for 60 seconds \n",
    "    if response['status'] != 'TRAINING_IN_PROGRESS':\n",
    "        print(\"Model status : \" +  response['status'])\n",
    "        break\n",
    "        \n",
    "etime = time.time()\n",
    "\n",
    "# -- summarize -- \n",
    "print(\"\\n --- model training complete  --\")\n",
    "print(\"Elapsed time : %s\" % (etime - stime) + \" seconds \\n\"  )\n",
    "print(response)\n",
    "\n"
   ]
  },
  {
   "cell_type": "code",
   "execution_count": 68,
   "metadata": {},
   "outputs": [
    {
     "data": {
      "text/plain": [
       "'1.0'"
      ]
     },
     "execution_count": 68,
     "metadata": {},
     "output_type": "execute_result"
    }
   ],
   "source": [
    "\n",
    "modelVersionNumber = response['modelVersionNumber']\n",
    "modelVersionNumber"
   ]
  },
  {
   "cell_type": "markdown",
   "metadata": {},
   "source": [
    "## 모델 성능 결과\n",
    "\n",
    "- 아래의 자세한 결과는 AFD 콘솔에서 학인 하세요"
   ]
  },
  {
   "cell_type": "markdown",
   "metadata": {},
   "source": [
    "![score_dist.png](img/score_dist.png)"
   ]
  },
  {
   "cell_type": "markdown",
   "metadata": {},
   "source": [
    "## 모델 피쳐 중요성\n",
    "\n",
    "![model_var_imp.png](img/model_var_imp.png)"
   ]
  },
  {
   "cell_type": "markdown",
   "metadata": {},
   "source": [
    "# 6. 모델 배포\n",
    "아래는 소요시간이 약 10분 걸림\n",
    "\n",
    "- Model Version 이  Ready to deploy 임. \n",
    "- update_model_version_status() 을 통해서 배포함."
   ]
  },
  {
   "cell_type": "code",
   "execution_count": 71,
   "metadata": {
    "collapsed": true,
    "jupyter": {
     "outputs_hidden": true
    }
   },
   "outputs": [
    {
     "ename": "ValidationException",
     "evalue": "An error occurred (ValidationException) when calling the UpdateModelVersionStatus operation: You may only update Model Version status to 'ACTIVE' if the current status is 'TRAINING_COMPLETE', to 'INACTIVE' if it is 'ACTIVE', and to 'TRAINING_CANCELLED' if it is 'TRAINING_IN_PROGRESS'.",
     "output_type": "error",
     "traceback": [
      "\u001b[0;31m---------------------------------------------------------------------------\u001b[0m",
      "\u001b[0;31mValidationException\u001b[0m                       Traceback (most recent call last)",
      "\u001b[0;32m<ipython-input-71-4faa834b9151>\u001b[0m in \u001b[0;36m<module>\u001b[0;34m\u001b[0m\n\u001b[1;32m      3\u001b[0m     \u001b[0mmodelType\u001b[0m \u001b[0;34m=\u001b[0m \u001b[0;34m'TRANSACTION_FRAUD_INSIGHTS'\u001b[0m\u001b[0;34m,\u001b[0m\u001b[0;34m\u001b[0m\u001b[0;34m\u001b[0m\u001b[0m\n\u001b[1;32m      4\u001b[0m     \u001b[0mmodelVersionNumber\u001b[0m \u001b[0;34m=\u001b[0m \u001b[0mmodelVersionNumber\u001b[0m\u001b[0;34m,\u001b[0m\u001b[0;34m\u001b[0m\u001b[0;34m\u001b[0m\u001b[0m\n\u001b[0;32m----> 5\u001b[0;31m     \u001b[0mstatus\u001b[0m \u001b[0;34m=\u001b[0m \u001b[0;34m'ACTIVE'\u001b[0m\u001b[0;34m\u001b[0m\u001b[0;34m\u001b[0m\u001b[0m\n\u001b[0m\u001b[1;32m      6\u001b[0m )\n\u001b[1;32m      7\u001b[0m \u001b[0mprint\u001b[0m\u001b[0;34m(\u001b[0m\u001b[0;34m\"-- activating model --\"\u001b[0m\u001b[0;34m)\u001b[0m\u001b[0;34m\u001b[0m\u001b[0;34m\u001b[0m\u001b[0m\n",
      "\u001b[0;32m~/anaconda3/envs/python3/lib/python3.6/site-packages/botocore/client.py\u001b[0m in \u001b[0;36m_api_call\u001b[0;34m(self, *args, **kwargs)\u001b[0m\n\u001b[1;32m    386\u001b[0m                     \"%s() only accepts keyword arguments.\" % py_operation_name)\n\u001b[1;32m    387\u001b[0m             \u001b[0;31m# The \"self\" in this scope is referring to the BaseClient.\u001b[0m\u001b[0;34m\u001b[0m\u001b[0;34m\u001b[0m\u001b[0;34m\u001b[0m\u001b[0m\n\u001b[0;32m--> 388\u001b[0;31m             \u001b[0;32mreturn\u001b[0m \u001b[0mself\u001b[0m\u001b[0;34m.\u001b[0m\u001b[0m_make_api_call\u001b[0m\u001b[0;34m(\u001b[0m\u001b[0moperation_name\u001b[0m\u001b[0;34m,\u001b[0m \u001b[0mkwargs\u001b[0m\u001b[0;34m)\u001b[0m\u001b[0;34m\u001b[0m\u001b[0;34m\u001b[0m\u001b[0m\n\u001b[0m\u001b[1;32m    389\u001b[0m \u001b[0;34m\u001b[0m\u001b[0m\n\u001b[1;32m    390\u001b[0m         \u001b[0m_api_call\u001b[0m\u001b[0;34m.\u001b[0m\u001b[0m__name__\u001b[0m \u001b[0;34m=\u001b[0m \u001b[0mstr\u001b[0m\u001b[0;34m(\u001b[0m\u001b[0mpy_operation_name\u001b[0m\u001b[0;34m)\u001b[0m\u001b[0;34m\u001b[0m\u001b[0;34m\u001b[0m\u001b[0m\n",
      "\u001b[0;32m~/anaconda3/envs/python3/lib/python3.6/site-packages/botocore/client.py\u001b[0m in \u001b[0;36m_make_api_call\u001b[0;34m(self, operation_name, api_params)\u001b[0m\n\u001b[1;32m    706\u001b[0m             \u001b[0merror_code\u001b[0m \u001b[0;34m=\u001b[0m \u001b[0mparsed_response\u001b[0m\u001b[0;34m.\u001b[0m\u001b[0mget\u001b[0m\u001b[0;34m(\u001b[0m\u001b[0;34m\"Error\"\u001b[0m\u001b[0;34m,\u001b[0m \u001b[0;34m{\u001b[0m\u001b[0;34m}\u001b[0m\u001b[0;34m)\u001b[0m\u001b[0;34m.\u001b[0m\u001b[0mget\u001b[0m\u001b[0;34m(\u001b[0m\u001b[0;34m\"Code\"\u001b[0m\u001b[0;34m)\u001b[0m\u001b[0;34m\u001b[0m\u001b[0;34m\u001b[0m\u001b[0m\n\u001b[1;32m    707\u001b[0m             \u001b[0merror_class\u001b[0m \u001b[0;34m=\u001b[0m \u001b[0mself\u001b[0m\u001b[0;34m.\u001b[0m\u001b[0mexceptions\u001b[0m\u001b[0;34m.\u001b[0m\u001b[0mfrom_code\u001b[0m\u001b[0;34m(\u001b[0m\u001b[0merror_code\u001b[0m\u001b[0;34m)\u001b[0m\u001b[0;34m\u001b[0m\u001b[0;34m\u001b[0m\u001b[0m\n\u001b[0;32m--> 708\u001b[0;31m             \u001b[0;32mraise\u001b[0m \u001b[0merror_class\u001b[0m\u001b[0;34m(\u001b[0m\u001b[0mparsed_response\u001b[0m\u001b[0;34m,\u001b[0m \u001b[0moperation_name\u001b[0m\u001b[0;34m)\u001b[0m\u001b[0;34m\u001b[0m\u001b[0;34m\u001b[0m\u001b[0m\n\u001b[0m\u001b[1;32m    709\u001b[0m         \u001b[0;32melse\u001b[0m\u001b[0;34m:\u001b[0m\u001b[0;34m\u001b[0m\u001b[0;34m\u001b[0m\u001b[0m\n\u001b[1;32m    710\u001b[0m             \u001b[0;32mreturn\u001b[0m \u001b[0mparsed_response\u001b[0m\u001b[0;34m\u001b[0m\u001b[0;34m\u001b[0m\u001b[0m\n",
      "\u001b[0;31mValidationException\u001b[0m: An error occurred (ValidationException) when calling the UpdateModelVersionStatus operation: You may only update Model Version status to 'ACTIVE' if the current status is 'TRAINING_COMPLETE', to 'INACTIVE' if it is 'ACTIVE', and to 'TRAINING_CANCELLED' if it is 'TRAINING_IN_PROGRESS'."
     ]
    }
   ],
   "source": [
    "response = client.update_model_version_status (\n",
    "    modelId = MODEL_NAME,\n",
    "    modelType = 'TRANSACTION_FRAUD_INSIGHTS',\n",
    "    modelVersionNumber = modelVersionNumber,\n",
    "    status = 'ACTIVE'\n",
    ")\n",
    "print(\"-- activating model --\")\n",
    "print(response)\n",
    "\n"
   ]
  },
  {
   "cell_type": "code",
   "execution_count": 78,
   "metadata": {},
   "outputs": [
    {
     "name": "stdout",
     "output_type": "stream",
     "text": [
      "--- waiting until model status is active \n",
      "Model status : ACTIVE\n",
      "Elapsed time : 0.3952972888946533 seconds \n",
      "\n",
      "{'modelId': 'adtaking_fraud_phase0_tran_model_20211030', 'modelType': 'TRANSACTION_FRAUD_INSIGHTS', 'modelVersionNumber': '1.0', 'trainingDataSource': 'INGESTED_EVENTS', 'trainingDataSchema': {'modelVariables': ['str_app', 'str_device', 'str_os', 'str_channel'], 'labelSchema': {'labelMapper': {'FRAUD': ['1'], 'LEGIT': ['0']}, 'unlabeledEventsTreatment': 'IGNORE'}}, 'ingestedEventsDetail': {'ingestedEventsTimeWindow': {'startTime': '2020-11-06T15:08:24Z', 'endTime': '2020-11-08T23:58:58Z'}}, 'status': 'ACTIVE', 'arn': 'arn:aws:frauddetector:us-east-1:057716757052:model-version/TRANSACTION_FRAUD_INSIGHTS/adtaking_fraud_phase0_tran_model_20211030/1.0', 'ResponseMetadata': {'RequestId': '69785512-e1c3-4d1d-84a5-7452ded09c80', 'HTTPStatusCode': 200, 'HTTPHeaders': {'date': 'Sat, 30 Oct 2021 23:16:44 GMT', 'content-type': 'application/x-amz-json-1.1', 'content-length': '626', 'connection': 'keep-alive', 'x-amzn-requestid': '69785512-e1c3-4d1d-84a5-7452ded09c80'}, 'RetryAttempts': 0}}\n"
     ]
    }
   ],
   "source": [
    "#-- wait until model is active \n",
    "print(\"--- waiting until model status is active \")\n",
    "stime = time.time()\n",
    "while True:\n",
    "    response = client.get_model_version(modelId=MODEL_NAME, modelType = \"TRANSACTION_FRAUD_INSIGHTS\", modelVersionNumber = '1.0')\n",
    "    if response['status'] != 'ACTIVE':\n",
    "        print(f\"current progress: {(time.time() - stime)/60:{3}.{3}} minutes\")\n",
    "        time.sleep(60)  # sleep for 1 minute \n",
    "    if response['status'] == 'ACTIVE':\n",
    "        print(\"Model status : \" +  response['status'])\n",
    "        break\n",
    "        \n",
    "etime = time.time()\n",
    "print(\"Elapsed time : %s\" % (etime - stime) + \" seconds \\n\"  )\n",
    "print(response)"
   ]
  },
  {
   "cell_type": "markdown",
   "metadata": {},
   "source": [
    "## 변수 저장"
   ]
  },
  {
   "cell_type": "code",
   "execution_count": 81,
   "metadata": {},
   "outputs": [
    {
     "name": "stdout",
     "output_type": "stream",
     "text": [
      "Stored 'project_prefix' (str)\n",
      "Stored 'ENTITY_TYPE' (str)\n",
      "Stored 'EVENT_TYPE' (str)\n",
      "Stored 'eventVariables' (list)\n",
      "Stored 'MODEL_NAME' (str)\n",
      "Stored 'modelVersionNumber' (str)\n",
      "Stored 'ARN_ROLE' (str)\n"
     ]
    }
   ],
   "source": [
    "%store project_prefix\n",
    "%store ENTITY_TYPE\n",
    "%store EVENT_TYPE\n",
    "%store eventVariables\n",
    "%store MODEL_NAME\n",
    "%store modelVersionNumber\n",
    "%store ARN_ROLE\n"
   ]
  },
  {
   "cell_type": "code",
   "execution_count": null,
   "metadata": {},
   "outputs": [],
   "source": []
  },
  {
   "cell_type": "code",
   "execution_count": null,
   "metadata": {},
   "outputs": [],
   "source": []
  }
 ],
 "metadata": {
  "kernelspec": {
   "display_name": "conda_python3",
   "language": "python",
   "name": "conda_python3"
  },
  "language_info": {
   "codemirror_mode": {
    "name": "ipython",
    "version": 3
   },
   "file_extension": ".py",
   "mimetype": "text/x-python",
   "name": "python",
   "nbconvert_exporter": "python",
   "pygments_lexer": "ipython3",
   "version": "3.6.13"
  }
 },
 "nbformat": 4,
 "nbformat_minor": 4
}

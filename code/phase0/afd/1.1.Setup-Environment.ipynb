{
 "cells": [
  {
   "cell_type": "markdown",
   "metadata": {},
   "source": [
    "#  [모듈 1.1] 환경 셋업\n",
    "\n",
    "\n"
   ]
  },
  {
   "cell_type": "markdown",
   "metadata": {},
   "source": [
    "#  Amazon Fraud Detector 소개 노트북\n",
    "이 노트북은 아래의 원본 노트북의 내용을 기반으로 하였습니다.\n",
    "\n",
    "- An Introduction to the Amazon Fraud Detector API  \n",
    "- https://github.com/aws-samples/aws-fraud-detector-samples/blob/master/Fraud_Detector_End_to_End.ipynb\n",
    "\n"
   ]
  },
  {
   "cell_type": "markdown",
   "metadata": {},
   "source": [
    "참고: Amazon Fraud Detector를 사용하려면 Amazon Fraud Detector 콘솔 및 API 작업에 대한 액세스를 허용하는 권한을 설정해야 합니다. 또한 Amazon Fraud Detector가 사용자를 대신하여 작업을 수행하고 소유한 리소스에 액세스하도록 허용해야 합니다. 액세스가 제한된 AWS IAM(Identity and Access Management) 사용자를 생성하는 것이 좋습니다. Amazon Fraud Detector 작업 및 필요한 권한. 필요에 따라 다른 권한을 추가할 수 있습니다. 사용 설명서의 \"IAM 사용자 생성 및 필요한 권한 할당\"을 참조하십시오.\n",
    "\n",
    "- 아래를 실행하고, 해당되는 Role에 아래와 같은 정책을 추가 해주세요.\n",
    "\n",
    "![afd_iam_role.png](img/afd_iam_role.png)"
   ]
  },
  {
   "cell_type": "code",
   "execution_count": 1,
   "metadata": {},
   "outputs": [
    {
     "name": "stdout",
     "output_type": "stream",
     "text": [
      "role:  arn:aws:iam::057716757052:role/AFD-gsmoon\n"
     ]
    }
   ],
   "source": [
    "import sagemaker\n",
    "role = sagemaker.get_execution_role()\n",
    "print(\"role: \", role)"
   ]
  },
  {
   "cell_type": "code",
   "execution_count": null,
   "metadata": {},
   "outputs": [],
   "source": []
  },
  {
   "cell_type": "code",
   "execution_count": null,
   "metadata": {},
   "outputs": [],
   "source": []
  }
 ],
 "metadata": {
  "kernelspec": {
   "display_name": "conda_python3",
   "language": "python",
   "name": "conda_python3"
  },
  "language_info": {
   "codemirror_mode": {
    "name": "ipython",
    "version": 3
   },
   "file_extension": ".py",
   "mimetype": "text/x-python",
   "name": "python",
   "nbconvert_exporter": "python",
   "pygments_lexer": "ipython3",
   "version": "3.6.13"
  }
 },
 "nbformat": 4,
 "nbformat_minor": 4
}

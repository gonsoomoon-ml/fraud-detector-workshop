{
 "cells": [
  {
   "cell_type": "code",
   "execution_count": 101,
   "metadata": {},
   "outputs": [
    {
     "data": {
      "text/html": [
       "<style>.container { width:90% }</style>"
      ],
      "text/plain": [
       "<IPython.core.display.HTML object>"
      ]
     },
     "metadata": {},
     "output_type": "display_data"
    }
   ],
   "source": [
    "from IPython.core.display import display, HTML\n",
    "from IPython.display import clear_output\n",
    "display(HTML(\"<style>.container { width:90% }</style>\"))\n",
    "# ------------------------------------------------------------------\n",
    "\n",
    "import numpy as np\n",
    "import matplotlib.pyplot as plt\n",
    "import pandas as pd\n",
    "pd.set_option('display.max_rows', 500)\n",
    "pd.set_option('display.max_columns', 500)\n",
    "pd.set_option('display.width', 1000)\n",
    "\n",
    "import os\n",
    "import sys\n",
    "import time\n",
    "import json\n",
    "import uuid \n",
    "from datetime import datetime\n",
    "\n",
    "# -- AWS stuff -- \n",
    "import boto3\n",
    "import sagemaker\n",
    "\n",
    "# -- sklearn --\n",
    "from sklearn.metrics import roc_curve, roc_auc_score, auc, roc_auc_score\n",
    "%matplotlib inline "
   ]
  },
  {
   "cell_type": "code",
   "execution_count": 102,
   "metadata": {},
   "outputs": [],
   "source": [
    "# -- initialize the AFD client \n",
    "client = boto3.client('frauddetector')\n",
    "\n",
    "# -- suffix is appended to detector and model name for uniqueness  \n",
    "sufx   = datetime.now().strftime(\"%Y%m%d\")\n"
   ]
  },
  {
   "cell_type": "code",
   "execution_count": 103,
   "metadata": {},
   "outputs": [],
   "source": [
    "%store -r"
   ]
  },
  {
   "cell_type": "markdown",
   "metadata": {},
   "source": [
    "### 1. Setup \n",
    "-----\n",
    "\n",
    "***To get started ***  \n",
    "\n",
    "1. Name the major components of Fraud Detector.\n",
    "2. Plug in your ARN role \n",
    "3. Plug in your S3 Bucket and CSV File \n",
    "\n",
    "Then you can interactively exeucte the code cells in the notebook, no need to change anything unless you want to. \n",
    "\n",
    "\n",
    "<div class=\"alert alert-info\"> <strong> Fraud Detector Components </strong>\n",
    "Fraud Detector Components:  EVENT_TYPE is a business activity that you want evaluated for fraud risk. ENTITY_TYPE represents the \"what or who\" that is performing the event you want to evaluate. MODEL_NAME is the name of your supervised machine learning model that Fraud Detector trains on your behalf. DETECTOR_NAME is the name of the detector that contains the detection logic (model and rules) that you apply to events that you want to evaluate for fraud.\n",
    "\n",
    "</div>\n",
    "\n",
    "\n",
    "-----\n",
    "\n",
    "### Bucket, File, and ARN Role\n",
    "\n",
    "Bucket, ARN and Model Name Identify the following assets. S3_BUCKET is the name of the bucket where your file lives. S3_FILE is the URL to your s3 file. ARN_ROLE is the data access role \"ARN\" for the training data source.\n",
    "\n",
    "\n",
    "\n",
    "<div class=\"alert alert-info\"><strong> Bucket, ARN and Model Name </strong>\n",
    "\n",
    "Identify the following assets. S3_BUCKET is the name of the bucket where your file lives. S3_FILE is the URL to your s3 file. ARN_ROLE is the data access role \"ARN\" for the training data source.\n",
    "\n",
    "</div>\n",
    "\n",
    "```\n",
    "Note: To use Amazon Fraud Detector, you have to set up permissions that allow access to the Amazon Fraud Detector console and API operations. You also have to allow Amazon Fraud Detector to perform tasks on your behalf and to access resources that you own. We recommend creating an AWS Identify and Access Management (IAM) user with access restricted to. Amazon Fraud Detector operations and required permissions. You can add other permissions as needed. See \"Create an IAM User and Assign Required Permissions\" in the user's guide:\n",
    "```\n",
    "https://docs.aws.amazon.com/frauddetector/latest/ug/frauddetector.pdf\n"
   ]
  },
  {
   "cell_type": "code",
   "execution_count": 104,
   "metadata": {},
   "outputs": [],
   "source": [
    "import sagemaker\n",
    "role = sagemaker.get_execution_role()"
   ]
  },
  {
   "cell_type": "code",
   "execution_count": 105,
   "metadata": {},
   "outputs": [],
   "source": [
    "# -- This is all you need to fill out. Once complete simply interactively run each code cell. --  \n",
    "\n",
    "ENTITY_TYPE    = f\"cf_customer_{sufx}\"\n",
    "ENTITY_DESC    = \"entity description: {0}\".format(sufx) \n",
    "\n",
    "EVENT_TYPE     = f\"{project_prefix}_{sufx}\"\n",
    "EVENT_DESC     = \"example event description: {0}\".format(sufx) \n",
    "\n",
    "MODEL_NAME     = f\"{project_prefix}_model_{sufx}\"\n",
    "MODEL_DESC     = \"model trained on: {0}\".format(sufx) \n",
    "\n",
    "DETECTOR_NAME  = f\"{project_prefix}_detector_{sufx}\"\n",
    "DETECTOR_DESC  = \"detects synthetic fraud events created: {0}\".format(sufx) \n",
    "\n",
    "ARN_ROLE       = role\n",
    "S3_BUCKET      = bucket\n",
    "S3_FILE        = 'AdTalking-Fraud-Phase0/train/train-9000.csv' # s3_train_data_uri.split('/')[-1]\n",
    "S3_FILE_LOC    = s3_train_data_uri\n"
   ]
  },
  {
   "cell_type": "markdown",
   "metadata": {},
   "source": [
    "### 2. Profile Your Dataset \n",
    "-----\n",
    "\n",
    "    \n",
    "<div class=\"alert alert-info\"> 💡 <strong> Profiling </strong>\n",
    "\n",
    "The function below will: 1. profile your data, creating descriptive statistics, 2. perform basic data quality checks (nulls, unique variables, etc.), and 3. return summary statistics and the EVENT and MODEL schemas used to define your EVENT_TYPE and TRAIN your MODEL.\n",
    "\n",
    "\n",
    "</div>"
   ]
  },
  {
   "cell_type": "code",
   "execution_count": 106,
   "metadata": {},
   "outputs": [
    {
     "name": "stdout",
     "output_type": "stream",
     "text": [
      "--- summary stats ---\n",
      "      feature_name   dtype   count  nunique  null  not_null  null_pct  nunique_pct     feature_type feature_warning\n",
      "0      EVENT_LABEL  object  180000        2     0    180000       0.0       0.0000           TARGET      NO WARNING\n",
      "1           str_ip  object  180000    44650     0    180000       0.0       0.2481         CATEGORY      NO WARNING\n",
      "2          str_app  object  180000      184     0    180000       0.0       0.0010         CATEGORY      NO WARNING\n",
      "3       str_device  object  180000      143     0    180000       0.0       0.0008         CATEGORY      NO WARNING\n",
      "4           str_os  object  180000      143     0    180000       0.0       0.0008         CATEGORY      NO WARNING\n",
      "5      str_channel  object  180000      157     0    180000       0.0       0.0009         CATEGORY      NO WARNING\n",
      "6  EVENT_TIMESTAMP  object  180000   110099     0    180000       0.0       0.6117  EVENT_TIMESTAMP      NO WARNING\n",
      "\n",
      "\n",
      "--- event variables ---\n",
      "['str_ip', 'str_app', 'str_device', 'str_os', 'str_channel']\n",
      "\n",
      "\n",
      "--- event labels ---\n",
      "['0', '1']\n",
      "\n",
      "\n",
      "--- training data schema ---\n",
      "{'modelVariables': ['str_ip', 'str_app', 'str_device', 'str_os', 'str_channel'], 'labelSchema': {'labelMapper': {'FRAUD': ['1'], 'LEGIT': ['0']}}}\n",
      "\n",
      "\n"
     ]
    }
   ],
   "source": [
    "# --- no changes; just run this code block ---\n",
    "def summary_stats(df):\n",
    "    \"\"\" Generate summary statistics for a panda's data frame \n",
    "        Args:\n",
    "            df (DataFrame): panda's dataframe to create summary statistics for.\n",
    "        Returns:\n",
    "            DataFrame of summary statistics, training data schema, event variables and event lables \n",
    "    \"\"\"\n",
    "    df = df.copy()\n",
    "    rowcnt = len(df)\n",
    "    df['EVENT_LABEL'] = df['EVENT_LABEL'].astype('str', errors='ignore')\n",
    "    df_s1  = df.agg(['count', 'nunique']).transpose().reset_index().rename(columns={\"index\":\"feature_name\"})\n",
    "    df_s1[\"null\"] = (rowcnt - df_s1[\"count\"]).astype('int64')\n",
    "    df_s1[\"not_null\"] = rowcnt - df_s1[\"null\"]\n",
    "    df_s1[\"null_pct\"] = df_s1[\"null\"] / rowcnt\n",
    "    df_s1[\"nunique_pct\"] = df_s1['nunique']/ rowcnt\n",
    "    dt = pd.DataFrame(df.dtypes).reset_index().rename(columns={\"index\":\"feature_name\", 0:\"dtype\"})\n",
    "    df_stats = pd.merge(dt, df_s1, on='feature_name', how='inner').round(4)\n",
    "    df_stats['nunique'] = df_stats['nunique'].astype('int64')\n",
    "    df_stats['count'] = df_stats['count'].astype('int64')\n",
    "    \n",
    "    # -- variable type mapper --  \n",
    "    df_stats['feature_type'] = \"UNKOWN\"\n",
    "    df_stats.loc[df_stats[\"dtype\"] == object, 'feature_type'] = \"CATEGORY\"\n",
    "    df_stats.loc[(df_stats[\"dtype\"] == \"int64\") | (df_stats[\"dtype\"] == \"float64\"), 'feature_type'] = \"NUMERIC\"\n",
    "    df_stats.loc[df_stats[\"feature_name\"].str.contains(\"ipaddress|ip_address|ipaddr\"), 'feature_type'] = \"IP_ADDRESS\"\n",
    "    df_stats.loc[df_stats[\"feature_name\"].str.contains(\"email|email_address|emailaddr\"), 'feature_type'] = \"EMAIL_ADDRESS\"\n",
    "    df_stats.loc[df_stats[\"feature_name\"] == \"EVENT_LABEL\", 'feature_type'] = \"TARGET\"\n",
    "    df_stats.loc[df_stats[\"feature_name\"] == \"EVENT_TIMESTAMP\", 'feature_type'] = \"EVENT_TIMESTAMP\"\n",
    "    \n",
    "    # -- variable warnings -- \n",
    "    df_stats['feature_warning'] = \"NO WARNING\"\n",
    "    df_stats.loc[(df_stats[\"nunique\"] != 2) & (df_stats[\"feature_name\"] == \"EVENT_LABEL\"),'feature_warning' ] = \"LABEL WARNING, NON-BINARY EVENT LABEL\"\n",
    "    df_stats.loc[(df_stats[\"nunique_pct\"] > 0.9) & (df_stats['feature_type'] == \"CATEGORY\") ,'feature_warning' ] = \"EXCLUDE, GT 90% UNIQUE\"\n",
    "    df_stats.loc[(df_stats[\"null_pct\"] > 0.2) & (df_stats[\"null_pct\"] <= 0.5), 'feature_warning' ] = \"NULL WARNING, GT 20% MISSING\"\n",
    "    df_stats.loc[df_stats[\"null_pct\"] > 0.5,'feature_warning' ] = \"EXCLUDE, GT 50% MISSING\"\n",
    "    df_stats.loc[((df_stats['dtype'] == \"int64\" ) | (df_stats['dtype'] == \"float64\" ) ) & (df_stats['nunique'] < 0.2), 'feature_warning' ] = \"LIKELY CATEGORICAL, NUMERIC w. LOW CARDINALITY\"\n",
    "   \n",
    "    # -- target check -- \n",
    "    exclude_fields  = df_stats.loc[(df_stats['feature_warning'] != 'NO WARNING')]['feature_name'].to_list()\n",
    "    event_variables = df_stats.loc[(~df_stats['feature_name'].isin(['EVENT_LABEL', 'EVENT_TIMESTAMP']))]['feature_name'].to_list()\n",
    "    event_labels    = df[\"EVENT_LABEL\"].unique().tolist()\n",
    "    \n",
    "    trainingDataSchema = {\n",
    "        'modelVariables' : df_stats.loc[(df_stats['feature_type'].isin(['IP_ADDRESS', 'EMAIL_ADDRESS', 'CATEGORY', 'NUMERIC' ]))]['feature_name'].to_list(),\n",
    "        'labelSchema'    : {\n",
    "            'labelMapper' : {\n",
    "                'FRAUD' : [df[\"EVENT_LABEL\"].value_counts().idxmin()],\n",
    "                'LEGIT' : [df[\"EVENT_LABEL\"].value_counts().idxmax()]\n",
    "            }\n",
    "        }\n",
    "    }\n",
    "    \n",
    "    \n",
    "    model_variables = df_stats.loc[(df_stats['feature_type'].isin(['IP_ADDRESS', 'EMAIL_ADDRESS', 'CATEGORY', 'NUMERIC' ]))]['feature_name'].to_list()\n",
    "   \n",
    "    \n",
    "    # -- label schema -- \n",
    "    label_map = {\n",
    "        'FRAUD' : [df[\"EVENT_LABEL\"].value_counts().idxmin()],\n",
    "        'LEGIT' : [df[\"EVENT_LABEL\"].value_counts().idxmax()]\n",
    "    }\n",
    "    \n",
    "    \n",
    "    print(\"--- summary stats ---\")\n",
    "    print(df_stats)\n",
    "    print(\"\\n\")\n",
    "    print(\"--- event variables ---\")\n",
    "    print(event_variables)\n",
    "    print(\"\\n\")\n",
    "    print(\"--- event labels ---\")\n",
    "    print(event_labels)\n",
    "    print(\"\\n\")\n",
    "    print(\"--- training data schema ---\")\n",
    "    print(trainingDataSchema)\n",
    "    print(\"\\n\")\n",
    "    \n",
    "    return df_stats, trainingDataSchema, event_variables, event_labels\n",
    "\n",
    "# -- connect to S3, snag file, and convert to a panda's dataframe --\n",
    "# s3   = boto3.resource('s3')\n",
    "# obj  = s3.Object(S3_BUCKET, S3_FILE)\n",
    "# body = obj.get()['Body']\n",
    "# df   = pd.read_csv(body)\n",
    "\n",
    "df   = pd.read_csv(s3_train_data_uri)\n",
    "\n",
    "# -- call profiling function -- \n",
    "df_stats, trainingDataSchema, eventVariables, eventLabels = summary_stats(df)\n"
   ]
  },
  {
   "cell_type": "markdown",
   "metadata": {},
   "source": [
    "### 3. Create Variables\n",
    "-----\n",
    "\n",
    "<div class=\"alert alert-info\"> 💡 <strong> Create Variables. </strong>\n",
    "\n",
    "The following section will automatically create your modeling input variables and your model scoring variable for you. \n",
    "\n",
    "</div>"
   ]
  },
  {
   "cell_type": "code",
   "execution_count": 107,
   "metadata": {},
   "outputs": [
    {
     "data": {
      "text/html": [
       "<div>\n",
       "<style scoped>\n",
       "    .dataframe tbody tr th:only-of-type {\n",
       "        vertical-align: middle;\n",
       "    }\n",
       "\n",
       "    .dataframe tbody tr th {\n",
       "        vertical-align: top;\n",
       "    }\n",
       "\n",
       "    .dataframe thead th {\n",
       "        text-align: right;\n",
       "    }\n",
       "</style>\n",
       "<table border=\"1\" class=\"dataframe\">\n",
       "  <thead>\n",
       "    <tr style=\"text-align: right;\">\n",
       "      <th></th>\n",
       "      <th>feature_name</th>\n",
       "      <th>dtype</th>\n",
       "      <th>count</th>\n",
       "      <th>nunique</th>\n",
       "      <th>null</th>\n",
       "      <th>not_null</th>\n",
       "      <th>null_pct</th>\n",
       "      <th>nunique_pct</th>\n",
       "      <th>feature_type</th>\n",
       "      <th>feature_warning</th>\n",
       "    </tr>\n",
       "  </thead>\n",
       "  <tbody>\n",
       "  </tbody>\n",
       "</table>\n",
       "</div>"
      ],
      "text/plain": [
       "Empty DataFrame\n",
       "Columns: [feature_name, dtype, count, nunique, null, not_null, null_pct, nunique_pct, feature_type, feature_warning]\n",
       "Index: []"
      ]
     },
     "execution_count": 107,
     "metadata": {},
     "output_type": "execute_result"
    }
   ],
   "source": [
    "df_stats.loc[(df_stats['feature_type'].isin(['IP_ADDRESS', 'EMAIL_ADDRESS']))]"
   ]
  },
  {
   "cell_type": "code",
   "execution_count": 108,
   "metadata": {},
   "outputs": [
    {
     "name": "stderr",
     "output_type": "stream",
     "text": [
      "/home/ec2-user/anaconda3/envs/python3/lib/python3.6/site-packages/pandas/core/frame.py:1490: FutureWarning: Using short name for 'orient' is deprecated. Only the options: ('dict', list, 'series', 'split', 'records', 'index') will be used in a future version. Use one of the above to silence this warning.\n",
      "  FutureWarning,\n"
     ]
    },
    {
     "name": "stdout",
     "output_type": "stream",
     "text": [
      "\n",
      " --- model variable dict --\n",
      "[{'name': 'str_ip'}, {'name': 'str_app'}, {'name': 'str_device'}, {'name': 'str_os'}, {'name': 'str_channel'}]\n",
      "\n",
      " --- model label schema dict --\n",
      "{'labelKey': 'EVENT_LABEL', 'labelMapper': {'FRAUD': ['1'], 'LEGIT': ['0']}}\n"
     ]
    }
   ],
   "source": [
    "# --- no changes just run this code block ---\n",
    "def create_label(df, FRAUD_LABEL):\n",
    "    \"\"\"\n",
    "    Returns a dictionary for the model labelSchema, by identifying the rare event as fraud / and common as not-fraud \n",
    "    \n",
    "    Arguments:\n",
    "    df          -- input dataframe \n",
    "    FRAUD_LABEL -- the name of the field that contains fraud label  \n",
    "    \n",
    "    Returns:\n",
    "    labelSchema -- a dictionary containing labelKey & labelMapper \n",
    "    \"\"\"\n",
    "    label_summary = df[FRAUD_LABEL].value_counts()\n",
    "    labelSchema = {'labelKey': FRAUD_LABEL,\n",
    "                   \"labelMapper\" : { \"FRAUD\": [str(label_summary.idxmin())], \n",
    "                                     \"LEGIT\": [str(label_summary.idxmax())]}\n",
    "                  }\n",
    "    client.put_label(\n",
    "                name = str(label_summary.idxmin()),\n",
    "                description = 'FRAUD')\n",
    "    \n",
    "    client.put_label(\n",
    "                name = str(label_summary.idxmax()),\n",
    "                description = 'LEGIT')\n",
    "    return labelSchema\n",
    "    \n",
    "# -- function to create all your variables --- \n",
    "def create_variables(df_stats, MODEL_NAME):\n",
    "    \"\"\"\n",
    "    Returns a variable list of model input variables, checks to see if variable exists,\n",
    "    and, if not, then it adds the variable to Fraud Detector \n",
    "    \n",
    "    Arguments: \n",
    "    enrichment_features  -- dictionary of optional features, mapped to specific variable types enriched (CARD_BIN, USERAGENT)\n",
    "    numeric_features     -- optional list of numeric field names \n",
    "    categorical_features -- optional list of categorical features \n",
    "    \n",
    "    Returns:\n",
    "    variable_list -- a list of variable dictionaries \n",
    "    \n",
    "    \"\"\"\n",
    "    enrichment_features = df_stats.loc[(df_stats['feature_type'].isin(['IP_ADDRESS', 'EMAIL_ADDRESS']))].to_dict(orient=\"record\")\n",
    "    numeric_features = df_stats.loc[(df_stats['feature_type'].isin(['NUMERIC']))]['feature_name'].to_dict()\n",
    "    categorical_features = df_stats.loc[(df_stats['feature_type'].isin(['CATEGORY']))]['feature_name'].to_dict()\n",
    "    \n",
    "    variable_list = []\n",
    "    # -- first do the enrichment features\n",
    "    for feature in enrichment_features: \n",
    "        variable_list.append( {'name' : feature['feature_name']})\n",
    "        try:\n",
    "            resp = client.get_variables(name=feature['feature_name'])\n",
    "        except:\n",
    "            print(\"Creating variable: {0}\".format(feature['feature_name']))\n",
    "            resp = client.create_variable(\n",
    "                    name = feature['feature_name'],\n",
    "                    dataType = 'STRING',\n",
    "                    dataSource ='EVENT',\n",
    "                    defaultValue = '<unknown>', \n",
    "                    description = feature['feature_name'],\n",
    "                    variableType = feature['feature_type'] )\n",
    "                \n",
    "               \n",
    "    # -- check and update the numeric features \n",
    "    for feature in numeric_features: \n",
    "        variable_list.append( {'name' : numeric_features[feature]})\n",
    "        try:\n",
    "            resp = client.get_variables(name=numeric_features[feature])\n",
    "        except:\n",
    "            print(\"Creating variable: {0}\".format(numeric_features[feature]))\n",
    "            resp = client.create_variable(\n",
    "                    name = numeric_features[feature],\n",
    "                    dataType = 'FLOAT',\n",
    "                    dataSource ='EVENT',\n",
    "                    defaultValue = '0.0', \n",
    "                    description = numeric_features[feature],\n",
    "                    variableType = 'NUMERIC' )\n",
    "             \n",
    "    # -- check and update the categorical features \n",
    "    for feature in categorical_features: \n",
    "        variable_list.append( {'name' : categorical_features[feature]})\n",
    "        try:\n",
    "            resp = client.get_variables(name=categorical_features[feature])\n",
    "        except:\n",
    "            print(\"Creating variable: {0}\".format(categorical_features[feature]))\n",
    "            resp = client.create_variable(\n",
    "                    name = categorical_features[feature],\n",
    "                    dataType = 'STRING',\n",
    "                    dataSource ='EVENT',\n",
    "                    defaultValue = '<unknown>', \n",
    "                    description = categorical_features[feature],\n",
    "                    variableType = 'CATEGORICAL' )\n",
    "    \n",
    "    \n",
    "    return variable_list\n",
    "\n",
    "\n",
    "model_variables = create_variables(df_stats, MODEL_NAME)\n",
    "print(\"\\n --- model variable dict --\")\n",
    "print(model_variables)\n",
    "\n",
    "\n",
    "model_label = create_label(df, \"EVENT_LABEL\")\n",
    "print(\"\\n --- model label schema dict --\")\n",
    "print(model_label)"
   ]
  },
  {
   "cell_type": "markdown",
   "metadata": {},
   "source": [
    "### 4. Create Entity and Event Types\n",
    "-----\n",
    "    \n",
    "<div class=\"alert alert-info\"> 💡 <strong> Entity and Event. </strong>\n",
    "    \n",
    "The following code block will automatically create your entity and event types for you.\n",
    "\n",
    "</div>"
   ]
  },
  {
   "cell_type": "code",
   "execution_count": 109,
   "metadata": {},
   "outputs": [
    {
     "data": {
      "text/plain": [
       "['0', '1']"
      ]
     },
     "execution_count": 109,
     "metadata": {},
     "output_type": "execute_result"
    }
   ],
   "source": [
    "eventLabels\n",
    "\n"
   ]
  },
  {
   "cell_type": "code",
   "execution_count": 110,
   "metadata": {},
   "outputs": [
    {
     "name": "stdout",
     "output_type": "stream",
     "text": [
      "cf_customer_20210905\n",
      "adtalking_fraud_phase0_20210905\n"
     ]
    }
   ],
   "source": [
    "print(ENTITY_TYPE)\n",
    "print(EVENT_TYPE)"
   ]
  },
  {
   "cell_type": "code",
   "execution_count": 111,
   "metadata": {},
   "outputs": [
    {
     "name": "stdout",
     "output_type": "stream",
     "text": [
      "-- create entity --\n",
      "{'ResponseMetadata': {'RequestId': '58b837e0-8b86-4d1f-9e7b-4050d1f3a4b5', 'HTTPStatusCode': 200, 'HTTPHeaders': {'date': 'Sun, 05 Sep 2021 13:58:36 GMT', 'content-type': 'application/x-amz-json-1.1', 'content-length': '2', 'connection': 'keep-alive', 'x-amzn-requestid': '58b837e0-8b86-4d1f-9e7b-4050d1f3a4b5'}, 'RetryAttempts': 0}}\n",
      "-- create event type --\n",
      "{'ResponseMetadata': {'RequestId': '3a9d1f7b-84ad-417c-9162-3e99643fdc60', 'HTTPStatusCode': 200, 'HTTPHeaders': {'date': 'Sun, 05 Sep 2021 13:58:36 GMT', 'content-type': 'application/x-amz-json-1.1', 'content-length': '2', 'connection': 'keep-alive', 'x-amzn-requestid': '3a9d1f7b-84ad-417c-9162-3e99643fdc60'}, 'RetryAttempts': 0}}\n"
     ]
    }
   ],
   "source": [
    "# --- no changes just run this code block ---\n",
    "response = client.put_entity_type(\n",
    "    name        = ENTITY_TYPE,\n",
    "    description = ENTITY_DESC\n",
    ")\n",
    "print(\"-- create entity --\")\n",
    "print(response)\n",
    "\n",
    "\n",
    "response = client.put_event_type (\n",
    "    name           = EVENT_TYPE,\n",
    "    eventVariables = eventVariables,\n",
    "    labels         = eventLabels,\n",
    "    entityTypes    = [ENTITY_TYPE])\n",
    "print(\"-- create event type --\")\n",
    "print(response)"
   ]
  },
  {
   "cell_type": "markdown",
   "metadata": {},
   "source": [
    "### 5. Create & Train your Model\n",
    "-----\n",
    "    \n",
    "<div class=\"alert alert-info\"> 💡 <strong> Train Model. </strong>\n",
    "\n",
    "The following section will automatically train and activate your model for you. \n",
    "\n",
    "</div>"
   ]
  },
  {
   "cell_type": "code",
   "execution_count": null,
   "metadata": {},
   "outputs": [
    {
     "name": "stdout",
     "output_type": "stream",
     "text": [
      "current progress: 13.1 minutes\n"
     ]
    }
   ],
   "source": [
    "# --- no changes; just run this code block. ---\n",
    "\n",
    "# -- create our model --\n",
    "response = client.create_model(\n",
    "   description   =  MODEL_DESC,\n",
    "   eventTypeName = EVENT_TYPE,\n",
    "   modelId       = MODEL_NAME,\n",
    "   modelType   = 'ONLINE_FRAUD_INSIGHTS')\n",
    "\n",
    "print(\"-- initalize model --\")\n",
    "print(response)\n",
    "# -- initializes the model, it's now ready to train -- \n",
    "response = client.create_model_version(\n",
    "    modelId     = MODEL_NAME,\n",
    "    modelType   = 'ONLINE_FRAUD_INSIGHTS',\n",
    "    trainingDataSource = 'EXTERNAL_EVENTS',\n",
    "    trainingDataSchema = trainingDataSchema,\n",
    "    externalEventsDetail = {\n",
    "        'dataLocation'     : S3_FILE_LOC,\n",
    "        'dataAccessRoleArn': ARN_ROLE\n",
    "    }\n",
    ")\n",
    "print(\"-- model training --\")\n",
    "print(response)\n",
    "\n",
    "\n",
    "# -- model training takes time, we'll loop until it's complete  -- \n",
    "print(\"-- wait for model training to complete --\")\n",
    "stime = time.time()\n",
    "while True:\n",
    "    clear_output(wait=True)\n",
    "    response = client.get_model_version(modelId=MODEL_NAME, modelType = \"ONLINE_FRAUD_INSIGHTS\", modelVersionNumber = '1.0')\n",
    "    if response['status'] == 'TRAINING_IN_PROGRESS':\n",
    "        print(f\"current progress: {(time.time() - stime)/60:{3}.{3}} minutes\")\n",
    "        time.sleep(60)  # -- sleep for 60 seconds \n",
    "    if response['status'] != 'TRAINING_IN_PROGRESS':\n",
    "        print(\"Model status : \" +  response['status'])\n",
    "        break\n",
    "        \n",
    "etime = time.time()\n",
    "\n",
    "# -- summarize -- \n",
    "print(\"\\n --- model training complete  --\")\n",
    "print(\"Elapsed time : %s\" % (etime - stime) + \" seconds \\n\"  )\n",
    "print(response)\n"
   ]
  },
  {
   "cell_type": "code",
   "execution_count": null,
   "metadata": {},
   "outputs": [],
   "source": [
    "response = client.update_model_version_status (\n",
    "    modelId = MODEL_NAME,\n",
    "    modelType = 'ONLINE_FRAUD_INSIGHTS',\n",
    "    modelVersionNumber = '1.0',\n",
    "    status = 'ACTIVE'\n",
    ")\n",
    "print(\"-- activating model --\")\n",
    "print(response)\n",
    "\n",
    "#-- wait until model is active \n",
    "print(\"--- waiting until model status is active \")\n",
    "stime = time.time()\n",
    "while True:\n",
    "    clear_output(wait=True)\n",
    "    response = client.get_model_version(modelId=MODEL_NAME, modelType = \"ONLINE_FRAUD_INSIGHTS\", modelVersionNumber = '1.0')\n",
    "    if response['status'] != 'ACTIVE':\n",
    "        print(f\"current progress: {(time.time() - stime)/60:{3}.{3}} minutes\")\n",
    "        time.sleep(60)  # sleep for 1 minute \n",
    "    if response['status'] == 'ACTIVE':\n",
    "        print(\"Model status : \" +  response['status'])\n",
    "        break\n",
    "        \n",
    "etime = time.time()\n",
    "print(\"Elapsed time : %s\" % (etime - stime) + \" seconds \\n\"  )\n",
    "print(response)"
   ]
  },
  {
   "cell_type": "code",
   "execution_count": 116,
   "metadata": {},
   "outputs": [
    {
     "data": {
      "image/png": "[encoded data removed]",
      "text/plain": [
       "<Figure size 720x720 with 1 Axes>"
      ]
     },
     "metadata": {
      "needs_background": "light"
     },
     "output_type": "display_data"
    }
   ],
   "source": [
    "# -- model performance summary -- \n",
    "auc = client.describe_model_versions(\n",
    "    modelId= MODEL_NAME,\n",
    "    modelVersionNumber='1.0',\n",
    "    modelType='ONLINE_FRAUD_INSIGHTS',\n",
    "    maxResults=10\n",
    ")['modelVersionDetails'][0]['trainingResult']['trainingMetrics']['auc']\n",
    "\n",
    "\n",
    "df_model = pd.DataFrame(client.describe_model_versions(\n",
    "    modelId= MODEL_NAME,\n",
    "    modelVersionNumber='1.0',\n",
    "    modelType='ONLINE_FRAUD_INSIGHTS',\n",
    "    maxResults=10\n",
    ")['modelVersionDetails'][0]['trainingResult']['trainingMetrics']['metricDataPoints'])\n",
    "\n",
    "\n",
    "plt.figure(figsize=(10,10))\n",
    "plt.plot(df_model[\"fpr\"], df_model[\"tpr\"], color='darkorange',\n",
    "         lw=2, label='ROC curve (area = %0.3f)' % auc)\n",
    "plt.plot([0, 1], [0, 1], color='navy', lw=2, linestyle='--')\n",
    "plt.xlabel('False Positive Rate')\n",
    "plt.ylabel('True Positive Rate')\n",
    "plt.title( MODEL_NAME + ' ROC Chart')\n",
    "plt.legend(loc=\"lower right\",fontsize=12)\n",
    "plt.axvline(x = 0.02 ,linewidth=2, color='r')\n",
    "plt.axhline(y = 0.73 ,linewidth=2, color='r')\n",
    "plt.show()"
   ]
  },
  {
   "cell_type": "markdown",
   "metadata": {},
   "source": [
    "### 6. Create Detector, generate Rules and assemble your Detector\n",
    "\n",
    "-----\n",
    "    \n",
    "<div class=\"alert alert-info\"> 💡 <strong> Generate Rules, Create and Publish a Detector. </strong>\n",
    "    \n",
    "The following section will automatically generate a number of fraud, investigate and approve rules based on the false positive rate and score thresholds of your model. These are just example rules that you could create, it is recommended that you fine tune your rules specifically to your business use case.\n",
    "</div>"
   ]
  },
  {
   "cell_type": "code",
   "execution_count": 117,
   "metadata": {},
   "outputs": [
    {
     "name": "stdout",
     "output_type": "stream",
     "text": [
      "{'ResponseMetadata': {'RequestId': 'd215f4ff-201c-4e96-986f-b2874faa7e1a', 'HTTPStatusCode': 200, 'HTTPHeaders': {'date': 'Sun, 05 Sep 2021 23:16:30 GMT', 'content-type': 'application/x-amz-json-1.1', 'content-length': '2', 'connection': 'keep-alive', 'x-amzn-requestid': 'd215f4ff-201c-4e96-986f-b2874faa7e1a'}, 'RetryAttempts': 0}}\n"
     ]
    }
   ],
   "source": [
    "# -- initialize your detector -- \n",
    "response = client.put_detector(detectorId  = DETECTOR_NAME, \n",
    "                               description = DETECTOR_DESC, \n",
    "                               eventTypeName = EVENT_TYPE )\n",
    "\n",
    "print(response)"
   ]
  },
  {
   "cell_type": "code",
   "execution_count": 118,
   "metadata": {},
   "outputs": [
    {
     "name": "stdout",
     "output_type": "stream",
     "text": [
      " --- score thresholds 1% to 6% --- \n",
      "    fpr   tpr  threshold                                               rule outcome\n",
      "0  0.01  0.50      960.0  $adtalking_fraud_phase0_model_20210905_insight...   fraud\n",
      "1  0.02  0.74      915.0  $adtalking_fraud_phase0_model_20210905_insight...   fraud\n",
      "2  0.03  0.76      875.0  $adtalking_fraud_phase0_model_20210905_insight...   fraud\n"
     ]
    }
   ],
   "source": [
    "# -- make rules -- \n",
    "model_stat = df_model.round(decimals=2)  \n",
    "\n",
    "m = model_stat.loc[model_stat.groupby([\"fpr\"])[\"threshold\"].idxmax()] \n",
    "\n",
    "def make_rule(x):\n",
    "    rule = \"\"\n",
    "    if x['fpr'] <= 0.05: \n",
    "        rule = \"${0}_insightscore > {1}\".format(MODEL_NAME,x['threshold'])\n",
    "    if x['fpr'] == 0.06:\n",
    "        rule = \"${0}_insightscore <= {1}\".format(MODEL_NAME,x['threshold_prev'])\n",
    "    return rule\n",
    "    \n",
    "m[\"threshold_prev\"] = m['threshold'].shift(1)\n",
    "m['rule'] = m.apply(lambda x: make_rule(x), axis=1)\n",
    "\n",
    "m['outcome'] = \"approve\"\n",
    "m.loc[m['fpr'] <= 0.03, \"outcome\"] = \"fraud\"\n",
    "m.loc[(m['fpr'] > 0.03) & (m['fpr'] <= 0.05), \"outcome\"] = \"investigate\"\n",
    "\n",
    "print (\" --- score thresholds 1% to 6% --- \")\n",
    "print(m[[\"fpr\", \"tpr\", \"threshold\", \"rule\", \"outcome\"]].loc[(m['fpr'] > 0.0 ) & (m['fpr'] <= 0.06)].reset_index(drop=True))\n"
   ]
  },
  {
   "cell_type": "code",
   "execution_count": 119,
   "metadata": {},
   "outputs": [
    {
     "name": "stdout",
     "output_type": "stream",
     "text": [
      "creating outcome variable: fraud \n",
      "creating outcome variable: approve \n"
     ]
    }
   ],
   "source": [
    "# -- create outcomes -- \n",
    "def create_outcomes(outcomes):\n",
    "    \"\"\" create Fraud Detector Outcomes \n",
    "    \n",
    "    \"\"\"   \n",
    "    for outcome in outcomes:\n",
    "        print(\"creating outcome variable: {0} \".format(outcome))\n",
    "        response = client.put_outcome(\n",
    "                          name=outcome,\n",
    "                          description=outcome)\n",
    "\n",
    "# -- get distinct outcomes \n",
    "outcomes = m[\"outcome\"].unique().tolist()\n",
    "\n",
    "create_outcomes(outcomes)"
   ]
  },
  {
   "cell_type": "code",
   "execution_count": 120,
   "metadata": {},
   "outputs": [
    {
     "name": "stdout",
     "output_type": "stream",
     "text": [
      "creating rule: rule0_adtalking_fraud_phase0_model_20210905: IF $adtalking_fraud_phase0_model_20210905_insightscore > 960.0 THEN fraud\n",
      "creating rule: rule1_adtalking_fraud_phase0_model_20210905: IF $adtalking_fraud_phase0_model_20210905_insightscore > 915.0 THEN fraud\n",
      "creating rule: rule2_adtalking_fraud_phase0_model_20210905: IF $adtalking_fraud_phase0_model_20210905_insightscore > 875.0 THEN fraud\n"
     ]
    },
    {
     "data": {
      "text/plain": [
       "[{'ruleId': 'rule0_adtalking_fraud_phase0_model_20210905',\n",
       "  'ruleVersion': '1',\n",
       "  'detectorId': 'adtalking_fraud_phase0_detector_20210905'},\n",
       " {'ruleId': 'rule1_adtalking_fraud_phase0_model_20210905',\n",
       "  'ruleVersion': '1',\n",
       "  'detectorId': 'adtalking_fraud_phase0_detector_20210905'},\n",
       " {'ruleId': 'rule2_adtalking_fraud_phase0_model_20210905',\n",
       "  'ruleVersion': '1',\n",
       "  'detectorId': 'adtalking_fraud_phase0_detector_20210905'}]"
      ]
     },
     "execution_count": 120,
     "metadata": {},
     "output_type": "execute_result"
    }
   ],
   "source": [
    "rule_set = m[(m[\"fpr\"] > 0.0) & (m[\"fpr\"] <= 0.06)][[\"outcome\", \"rule\"]].to_dict('records')\n",
    "rule_list = []\n",
    "for i, rule in enumerate(rule_set):\n",
    "    ruleId = \"rule{0}_{1}\".format(i, MODEL_NAME)\n",
    "    rule_list.append({\"ruleId\": ruleId, \n",
    "                      \"ruleVersion\" : '1',\n",
    "                      \"detectorId\"  : DETECTOR_NAME\n",
    "        \n",
    "    })\n",
    "    print(\"creating rule: {0}: IF {1} THEN {2}\".format(ruleId, rule[\"rule\"], rule['outcome']))\n",
    "    try:\n",
    "        response = client.create_rule(\n",
    "            ruleId = ruleId,\n",
    "            detectorId = DETECTOR_NAME,\n",
    "            expression = rule['rule'],\n",
    "            language = 'DETECTORPL',\n",
    "            outcomes = [rule['outcome']]\n",
    "            )\n",
    "    except:\n",
    "        print(\"this rule already exists in this detector\")\n",
    "rule_list    "
   ]
  },
  {
   "cell_type": "code",
   "execution_count": 121,
   "metadata": {},
   "outputs": [
    {
     "name": "stdout",
     "output_type": "stream",
     "text": [
      "\n",
      " -- detector created -- \n",
      "{'rule': {'detectorId': 'adtalking_fraud_phase0_detector_20210905', 'ruleId': 'rule2_adtalking_fraud_phase0_model_20210905', 'ruleVersion': '1'}, 'ResponseMetadata': {'RequestId': 'df7dec3f-ac49-43c1-9c57-74d43dc25087', 'HTTPStatusCode': 200, 'HTTPHeaders': {'date': 'Sun, 05 Sep 2021 23:18:08 GMT', 'content-type': 'application/x-amz-json-1.1', 'content-length': '139', 'connection': 'keep-alive', 'x-amzn-requestid': 'df7dec3f-ac49-43c1-9c57-74d43dc25087'}, 'RetryAttempts': 0}}\n"
     ]
    }
   ],
   "source": [
    "client.create_detector_version(\n",
    "    detectorId = DETECTOR_NAME,\n",
    "    rules = rule_list,\n",
    "    modelVersions = [{\"modelId\":MODEL_NAME, \n",
    "                      \"modelType\" : \"ONLINE_FRAUD_INSIGHTS\",\n",
    "                      \"modelVersionNumber\" : \"1.0\"}],\n",
    "    ruleExecutionMode = 'FIRST_MATCHED'\n",
    "    )\n",
    "\n",
    "print(\"\\n -- detector created -- \")\n",
    "print(response) \n"
   ]
  },
  {
   "cell_type": "code",
   "execution_count": 122,
   "metadata": {},
   "outputs": [
    {
     "name": "stdout",
     "output_type": "stream",
     "text": [
      "\n",
      " -- detector activated -- \n",
      "{'ResponseMetadata': {'RequestId': '58fbc5fd-1d14-443f-b405-499f90914142', 'HTTPStatusCode': 200, 'HTTPHeaders': {'date': 'Sun, 05 Sep 2021 23:18:24 GMT', 'content-type': 'application/x-amz-json-1.1', 'content-length': '2', 'connection': 'keep-alive', 'x-amzn-requestid': '58fbc5fd-1d14-443f-b405-499f90914142'}, 'RetryAttempts': 0}}\n"
     ]
    }
   ],
   "source": [
    "response = client.update_detector_version_status(\n",
    "    detectorId= DETECTOR_NAME,\n",
    "    detectorVersionId='1',\n",
    "    status='ACTIVE'\n",
    ")\n",
    "print(\"\\n -- detector activated -- \")\n",
    "print(response)"
   ]
  },
  {
   "cell_type": "markdown",
   "metadata": {},
   "source": [
    "### 7. Make Predictions \n",
    "-----\n",
    "    \n",
    "<div class=\"alert alert-info\"> 💡 <strong> Make Predictions. </strong>\n",
    "    \n",
    "The following section will apply your detector to the first 10 records in your training dataset. To apply your detector to more simply change the record_count, alternatively you can specify the full training data with the following: \n",
    "\n",
    "</div>\n",
    "\n",
    "```python\n",
    "\n",
    "record_count = df.shape()[0]\n",
    "\n",
    "```"
   ]
  },
  {
   "cell_type": "markdown",
   "metadata": {},
   "source": [
    "### 테스트 데이터로 추론\n",
    "\n",
    "EVENT_TIMESTAMP를 FD 에서 요구하는 ISO-8601 Datetime format으로 변경 합니다."
   ]
  },
  {
   "cell_type": "code",
   "execution_count": 168,
   "metadata": {},
   "outputs": [
    {
     "name": "stdout",
     "output_type": "stream",
     "text": [
      "test_df :  (20000, 7)\n",
      "test_df columns :  Index(['EVENT_LABEL', 'str_ip', 'str_app', 'str_device', 'str_os', 'str_channel', 'EVENT_TIMESTAMP'], dtype='object')\n"
     ]
    },
    {
     "data": {
      "text/html": [
       "<div>\n",
       "<style scoped>\n",
       "    .dataframe tbody tr th:only-of-type {\n",
       "        vertical-align: middle;\n",
       "    }\n",
       "\n",
       "    .dataframe tbody tr th {\n",
       "        vertical-align: top;\n",
       "    }\n",
       "\n",
       "    .dataframe thead th {\n",
       "        text-align: right;\n",
       "    }\n",
       "</style>\n",
       "<table border=\"1\" class=\"dataframe\">\n",
       "  <thead>\n",
       "    <tr style=\"text-align: right;\">\n",
       "      <th></th>\n",
       "      <th>EVENT_LABEL</th>\n",
       "      <th>str_ip</th>\n",
       "      <th>str_app</th>\n",
       "      <th>str_device</th>\n",
       "      <th>str_os</th>\n",
       "      <th>str_channel</th>\n",
       "      <th>EVENT_TIMESTAMP</th>\n",
       "    </tr>\n",
       "  </thead>\n",
       "  <tbody>\n",
       "    <tr>\n",
       "      <th>2917</th>\n",
       "      <td>0</td>\n",
       "      <td>str_93021</td>\n",
       "      <td>str_3</td>\n",
       "      <td>str_1</td>\n",
       "      <td>str_8</td>\n",
       "      <td>str_280</td>\n",
       "      <td>2017-11-09 00:08:26</td>\n",
       "    </tr>\n",
       "    <tr>\n",
       "      <th>2234</th>\n",
       "      <td>0</td>\n",
       "      <td>str_16464</td>\n",
       "      <td>str_15</td>\n",
       "      <td>str_1</td>\n",
       "      <td>str_15</td>\n",
       "      <td>str_386</td>\n",
       "      <td>2017-11-09 08:58:44</td>\n",
       "    </tr>\n",
       "  </tbody>\n",
       "</table>\n",
       "</div>"
      ],
      "text/plain": [
       "      EVENT_LABEL     str_ip str_app str_device  str_os str_channel     EVENT_TIMESTAMP\n",
       "2917            0  str_93021   str_3      str_1   str_8     str_280 2017-11-09 00:08:26\n",
       "2234            0  str_16464  str_15      str_1  str_15     str_386 2017-11-09 08:58:44"
      ]
     },
     "execution_count": 168,
     "metadata": {},
     "output_type": "execute_result"
    }
   ],
   "source": [
    "import pandas as pd\n",
    "\n",
    "\n",
    "date_cols = ['EVENT_TIMESTAMP']\n",
    "test_df = pd.read_csv(test_local_path, parse_dates = date_cols)\n",
    "print(\"test_df : \", test_df.shape)\n",
    "print(\"test_df columns : \", test_df.columns)\n",
    "test_df = test_df.sample(n=100, random_state=100)\n",
    "test_df.head(2)"
   ]
  },
  {
   "cell_type": "code",
   "execution_count": 173,
   "metadata": {},
   "outputs": [
    {
     "name": "stdout",
     "output_type": "stream",
     "text": [
      "record_count:  100\n"
     ]
    }
   ],
   "source": [
    "# Convert to ISO-8601 Datetime format, # timestampStr = '2020-07-13T23:18:21Z'\n",
    "# timestampStr_list = test_df['EVENT_TIMESTAMP'].apply(lambda x: x.strftime('%Y-%m-%dT%H:%M:%SZ'))\n",
    "# record_count = test_df.shape[0]\n",
    "# print(\"record_count: \", record_count)\n",
    "# pred_data = test_df[eventVariables].head(record_count).astype(str).to_dict(orient='records')\n",
    "\n",
    "timestampStr_list = test_df['EVENT_TIMESTAMP'].apply(lambda x: x.strftime('%Y-%m-%dT%H:%M:%SZ'))\n",
    "record_count = test_df.shape[0]\n",
    "print(\"record_count: \", record_count)\n",
    "pred_data = test_df[eventVariables].head(record_count).astype(str).to_dict(orient='records')"
   ]
  },
  {
   "cell_type": "code",
   "execution_count": 174,
   "metadata": {},
   "outputs": [
    {
     "name": "stdout",
     "output_type": "stream",
     "text": [
      "CPU times: user 153 ms, sys: 19 ms, total: 172 ms\n",
      "Wall time: 16.1 s\n"
     ]
    }
   ],
   "source": [
    "%%time \n",
    "# -- this will apply your detector to the first 10 records of your trainig dataset. -- \n",
    "predicted_dat = []\n",
    "for rec , timestampStr in zip(pred_data, timestampStr_list):\n",
    "    # print(timestampStr)\n",
    "    eventId = uuid.uuid1()\n",
    "    pred = client.get_event_prediction(detectorId=DETECTOR_NAME, \n",
    "                                       detectorVersionId='1',\n",
    "                                       eventId = str(eventId),\n",
    "                                       eventTypeName = EVENT_TYPE,\n",
    "                                       eventTimestamp = timestampStr, \n",
    "                                       entities = [{'entityType': ENTITY_TYPE, \n",
    "                                                    'entityId':str(eventId.int)}],\n",
    "                                       eventVariables=rec) \n",
    "\n",
    "\n",
    "    \n",
    "    rec[\"score\"]   = pred['modelScores'][0]['scores'][\"{0}_insightscore\".format(MODEL_NAME)]\n",
    "#    rec[\"outcome\"] = pred['ruleResults'][0]['outcomes']\n",
    "    predicted_dat.append(rec)\n",
    " \n",
    "\n"
   ]
  },
  {
   "cell_type": "code",
   "execution_count": 177,
   "metadata": {},
   "outputs": [
    {
     "data": {
      "text/html": [
       "<div>\n",
       "<style scoped>\n",
       "    .dataframe tbody tr th:only-of-type {\n",
       "        vertical-align: middle;\n",
       "    }\n",
       "\n",
       "    .dataframe tbody tr th {\n",
       "        vertical-align: top;\n",
       "    }\n",
       "\n",
       "    .dataframe thead th {\n",
       "        text-align: right;\n",
       "    }\n",
       "</style>\n",
       "<table border=\"1\" class=\"dataframe\">\n",
       "  <thead>\n",
       "    <tr style=\"text-align: right;\">\n",
       "      <th></th>\n",
       "      <th>str_ip</th>\n",
       "      <th>str_app</th>\n",
       "      <th>str_device</th>\n",
       "      <th>str_os</th>\n",
       "      <th>str_channel</th>\n",
       "      <th>score</th>\n",
       "    </tr>\n",
       "  </thead>\n",
       "  <tbody>\n",
       "    <tr>\n",
       "      <th>0</th>\n",
       "      <td>str_93021</td>\n",
       "      <td>str_3</td>\n",
       "      <td>str_1</td>\n",
       "      <td>str_8</td>\n",
       "      <td>str_280</td>\n",
       "      <td>3.0</td>\n",
       "    </tr>\n",
       "    <tr>\n",
       "      <th>1</th>\n",
       "      <td>str_16464</td>\n",
       "      <td>str_15</td>\n",
       "      <td>str_1</td>\n",
       "      <td>str_15</td>\n",
       "      <td>str_386</td>\n",
       "      <td>61.0</td>\n",
       "    </tr>\n",
       "    <tr>\n",
       "      <th>2</th>\n",
       "      <td>str_99519</td>\n",
       "      <td>str_2</td>\n",
       "      <td>str_1</td>\n",
       "      <td>str_22</td>\n",
       "      <td>str_435</td>\n",
       "      <td>61.0</td>\n",
       "    </tr>\n",
       "    <tr>\n",
       "      <th>3</th>\n",
       "      <td>str_15643</td>\n",
       "      <td>str_9</td>\n",
       "      <td>str_1</td>\n",
       "      <td>str_19</td>\n",
       "      <td>str_466</td>\n",
       "      <td>235.0</td>\n",
       "    </tr>\n",
       "    <tr>\n",
       "      <th>4</th>\n",
       "      <td>str_62916</td>\n",
       "      <td>str_3</td>\n",
       "      <td>str_1</td>\n",
       "      <td>str_19</td>\n",
       "      <td>str_280</td>\n",
       "      <td>3.0</td>\n",
       "    </tr>\n",
       "  </tbody>\n",
       "</table>\n",
       "</div>"
      ],
      "text/plain": [
       "      str_ip str_app str_device  str_os str_channel  score\n",
       "0  str_93021   str_3      str_1   str_8     str_280    3.0\n",
       "1  str_16464  str_15      str_1  str_15     str_386   61.0\n",
       "2  str_99519   str_2      str_1  str_22     str_435   61.0\n",
       "3  str_15643   str_9      str_1  str_19     str_466  235.0\n",
       "4  str_62916   str_3      str_1  str_19     str_280    3.0"
      ]
     },
     "execution_count": 177,
     "metadata": {},
     "output_type": "execute_result"
    }
   ],
   "source": [
    "# -- review your predictons -- \n",
    "predictions = pd.DataFrame(predicted_dat)\n",
    "predictions.head()"
   ]
  },
  {
   "cell_type": "code",
   "execution_count": 178,
   "metadata": {},
   "outputs": [
    {
     "data": {
      "text/plain": [
       "array([[<AxesSubplot:title={'center':'score'}>]], dtype=object)"
      ]
     },
     "execution_count": 178,
     "metadata": {},
     "output_type": "execute_result"
    },
    {
     "data": {
      "image/png": "[encoded data removed]",
      "text/plain": [
       "<Figure size 432x288 with 1 Axes>"
      ]
     },
     "metadata": {
      "needs_background": "light"
     },
     "output_type": "display_data"
    }
   ],
   "source": [
    "# score의 분포 확인\n",
    "predictions.hist()"
   ]
  },
  {
   "cell_type": "code",
   "execution_count": 181,
   "metadata": {},
   "outputs": [
    {
     "name": "stdout",
     "output_type": "stream",
     "text": [
      "# of kinds: \n",
      " 0    88\n",
      "1    12\n",
      "Name: EVENT_LABEL, dtype: int64\n"
     ]
    }
   ],
   "source": [
    "import numpy as np\n",
    "\n",
    "def show_test_predictions(predictions, threshold):\n",
    "    pred = predictions.copy()    \n",
    "    pred['EVENT_LABEL'] = pred.score.apply(lambda x: np.where(x < threshold,0,1))\n",
    "    print(\"# of kinds: \\n\", pred.EVENT_LABEL.value_counts())    \n",
    "    \n",
    "    return pred\n",
    "\n",
    "pred = show_test_predictions(predictions, threshold= 500)\n"
   ]
  },
  {
   "cell_type": "markdown",
   "metadata": {},
   "source": [
    "## 평가 지표 생성\n",
    "- ROC-AUC \n",
    "    - 참값과 추론의 score (1000으로 나누어서 예측 확률값으로 변경) 를 사용하여 계산\n",
    "        - **훈련 데이터시에 0.96 이었고, 아래 테스트 테이터는 0.93 으로 비슷한 수치를 기록함\n",
    "- F1, Precsion, Recall, Accuracy를 확인 \n",
    "- Confusion Matrixa 확인"
   ]
  },
  {
   "cell_type": "code",
   "execution_count": 188,
   "metadata": {},
   "outputs": [
    {
     "name": "stdout",
     "output_type": "stream",
     "text": [
      " ### ROC_AUC SCORE ### \n",
      "0.98989898989899\n",
      "\n",
      " ### F1 SCORE ### \n",
      "              precision    recall  f1-score   support\n",
      "\n",
      "           0       0.89      1.00      0.94        88\n",
      "           1       1.00      0.08      0.15        12\n",
      "\n",
      "    accuracy                           0.89       100\n",
      "   macro avg       0.94      0.54      0.55       100\n",
      "weighted avg       0.90      0.89      0.85       100\n",
      "\n",
      "[[88 11]\n",
      " [ 0  1]]\n"
     ]
    },
    {
     "ename": "NameError",
     "evalue": "name 'np' is not defined",
     "output_type": "error",
     "traceback": [
      "\u001b[0;31m---------------------------------------------------------------------------\u001b[0m",
      "\u001b[0;31mNameError\u001b[0m                                 Traceback (most recent call last)",
      "\u001b[0;32m<ipython-input-188-f36f9ce3571a>\u001b[0m in \u001b[0;36m<module>\u001b[0;34m\u001b[0m\n\u001b[1;32m     29\u001b[0m \u001b[0;34m\u001b[0m\u001b[0m\n\u001b[1;32m     30\u001b[0m \u001b[0;34m\u001b[0m\u001b[0m\n\u001b[0;32m---> 31\u001b[0;31m \u001b[0mcompute_f1\u001b[0m\u001b[0;34m(\u001b[0m\u001b[0mpred\u001b[0m\u001b[0;34m,\u001b[0m \u001b[0mtest_df\u001b[0m\u001b[0;34m,\u001b[0m \u001b[0mlabel_col\u001b[0m\u001b[0;34m=\u001b[0m\u001b[0;34m'EVENT_LABEL'\u001b[0m\u001b[0;34m)\u001b[0m\u001b[0;34m\u001b[0m\u001b[0;34m\u001b[0m\u001b[0m\n\u001b[0m",
      "\u001b[0;32m<ipython-input-188-f36f9ce3571a>\u001b[0m in \u001b[0;36mcompute_f1\u001b[0;34m(pred, test_df, label_col)\u001b[0m\n\u001b[1;32m     24\u001b[0m     plot_conf_mat(cm, \n\u001b[1;32m     25\u001b[0m                   \u001b[0mclasses\u001b[0m\u001b[0;34m=\u001b[0m\u001b[0;34m[\u001b[0m\u001b[0;34m'fraud'\u001b[0m\u001b[0;34m,\u001b[0m\u001b[0;34m'legit'\u001b[0m\u001b[0;34m]\u001b[0m\u001b[0;34m,\u001b[0m\u001b[0;34m\u001b[0m\u001b[0;34m\u001b[0m\u001b[0m\n\u001b[0;32m---> 26\u001b[0;31m                   title='Confusion Matrix')\n\u001b[0m\u001b[1;32m     27\u001b[0m     \u001b[0mplt\u001b[0m\u001b[0;34m.\u001b[0m\u001b[0mshow\u001b[0m\u001b[0;34m(\u001b[0m\u001b[0;34m)\u001b[0m\u001b[0;34m\u001b[0m\u001b[0;34m\u001b[0m\u001b[0m\n\u001b[1;32m     28\u001b[0m     \u001b[0;32mreturn\u001b[0m \u001b[0mtest\u001b[0m\u001b[0;34m\u001b[0m\u001b[0;34m\u001b[0m\u001b[0m\n",
      "\u001b[0;32m~/SageMaker/Coupang-FD/code/phase0/AFD/src/p_utils.py\u001b[0m in \u001b[0;36mplot_conf_mat\u001b[0;34m(cm, classes, title, cmap)\u001b[0m\n\u001b[1;32m     49\u001b[0m     \u001b[0mplt\u001b[0m\u001b[0;34m.\u001b[0m\u001b[0mimshow\u001b[0m\u001b[0;34m(\u001b[0m\u001b[0mcm\u001b[0m\u001b[0;34m,\u001b[0m \u001b[0minterpolation\u001b[0m\u001b[0;34m=\u001b[0m\u001b[0;34m'nearest'\u001b[0m\u001b[0;34m,\u001b[0m \u001b[0mcmap\u001b[0m\u001b[0;34m=\u001b[0m\u001b[0mcmap\u001b[0m\u001b[0;34m)\u001b[0m\u001b[0;34m\u001b[0m\u001b[0;34m\u001b[0m\u001b[0m\n\u001b[1;32m     50\u001b[0m     \u001b[0mplt\u001b[0m\u001b[0;34m.\u001b[0m\u001b[0mtitle\u001b[0m\u001b[0;34m(\u001b[0m\u001b[0mtitle\u001b[0m\u001b[0;34m)\u001b[0m\u001b[0;34m\u001b[0m\u001b[0;34m\u001b[0m\u001b[0m\n\u001b[0;32m---> 51\u001b[0;31m     \u001b[0mplt\u001b[0m\u001b[0;34m.\u001b[0m\u001b[0mcolorbar\u001b[0m\u001b[0;34m(\u001b[0m\u001b[0;34m)\u001b[0m\u001b[0;34m\u001b[0m\u001b[0;34m\u001b[0m\u001b[0m\n\u001b[0m\u001b[1;32m     52\u001b[0m     \u001b[0mtick_marks\u001b[0m \u001b[0;34m=\u001b[0m \u001b[0mnp\u001b[0m\u001b[0;34m.\u001b[0m\u001b[0marange\u001b[0m\u001b[0;34m(\u001b[0m\u001b[0mlen\u001b[0m\u001b[0;34m(\u001b[0m\u001b[0mclasses\u001b[0m\u001b[0;34m)\u001b[0m\u001b[0;34m)\u001b[0m\u001b[0;34m\u001b[0m\u001b[0;34m\u001b[0m\u001b[0m\n\u001b[1;32m     53\u001b[0m     \u001b[0mplt\u001b[0m\u001b[0;34m.\u001b[0m\u001b[0mxticks\u001b[0m\u001b[0;34m(\u001b[0m\u001b[0mtick_marks\u001b[0m\u001b[0;34m,\u001b[0m \u001b[0mclasses\u001b[0m\u001b[0;34m,\u001b[0m \u001b[0mrotation\u001b[0m\u001b[0;34m=\u001b[0m\u001b[0;36m45\u001b[0m\u001b[0;34m)\u001b[0m\u001b[0;34m\u001b[0m\u001b[0;34m\u001b[0m\u001b[0m\n",
      "\u001b[0;31mNameError\u001b[0m: name 'np' is not defined"
     ]
    },
    {
     "data": {
      "text/plain": [
       "<Figure size 432x288 with 0 Axes>"
      ]
     },
     "metadata": {},
     "output_type": "display_data"
    },
    {
     "data": {
      "image/png": "[encoded data removed]",
      "text/plain": [
       "<Figure size 720x360 with 2 Axes>"
      ]
     },
     "metadata": {
      "image/png": {
       "height": 318,
       "width": 385
      },
      "needs_background": "light"
     },
     "output_type": "display_data"
    }
   ],
   "source": [
    "from sklearn.metrics import classification_report, roc_auc_score\n",
    "from IPython.display import display as dp\n",
    "from sklearn.metrics import confusion_matrix\n",
    "import matplotlib.pyplot as plt\n",
    "from src.p_utils import plot_conf_mat     \n",
    "%matplotlib inline\n",
    "%config InlineBackend.figure_format='retina'\n",
    "\n",
    "\n",
    "def compute_f1(pred, test_df, label_col):\n",
    "    test = test_df.copy()\n",
    "    test= test.reset_index(drop=True)\n",
    "    #test['label'] = test.EVENT_LABEL.apply(lambda x: np.where(x == 'fraud', 1,0))\n",
    "    \n",
    "    print(\" ### ROC_AUC SCORE ### \")\n",
    "    print(roc_auc_score(test[label_col], pred.score / 1000))\n",
    "    print(\"\\n ### F1 SCORE ### \")    \n",
    "    print(classification_report(pred[label_col], test[label_col]))\n",
    "    \n",
    "    cm = confusion_matrix(y_true= test[label_col], y_pred= pred[label_col])\n",
    "\n",
    "    plt.figure()\n",
    "    fig, ax = plt.subplots(figsize=(10,5))\n",
    "    plot_conf_mat(cm, \n",
    "                  classes=['fraud','legit'], \n",
    "                  title='Confusion Matrix')\n",
    "    plt.show()    \n",
    "    return test\n",
    "\n",
    "\n",
    "compute_f1(pred, test_df, label_col='EVENT_LABEL')"
   ]
  },
  {
   "cell_type": "code",
   "execution_count": null,
   "metadata": {},
   "outputs": [],
   "source": []
  }
 ],
 "metadata": {
  "kernelspec": {
   "display_name": "conda_python3",
   "language": "python",
   "name": "conda_python3"
  },
  "language_info": {
   "codemirror_mode": {
    "name": "ipython",
    "version": 3
   },
   "file_extension": ".py",
   "mimetype": "text/x-python",
   "name": "python",
   "nbconvert_exporter": "python",
   "pygments_lexer": "ipython3",
   "version": "3.6.13"
  }
 },
 "nbformat": 4,
 "nbformat_minor": 4
}
